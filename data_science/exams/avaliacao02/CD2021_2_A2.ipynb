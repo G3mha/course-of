{
 "cells": [
  {
   "cell_type": "markdown",
   "source": [
    "# A2 - Avaliação de Ciência dos dados \n",
    "\n",
    "## 2021 - 2o. semestre \n",
    "\n",
    "___\n"
   ],
   "metadata": {}
  },
  {
   "cell_type": "markdown",
   "source": [
    "# NOME: Enricco Gemha"
   ],
   "metadata": {}
  },
  {
   "cell_type": "markdown",
   "source": [
    "___\n",
    "## Instruções\n",
    "\n",
    "**Leia atentamente as instruções desta avaliação. Essas devem ser seguidas rigorosamente!**\n",
    "\n",
    "**Prezado(a) Aluno(a),**\n",
    "\n",
    "Dia da prova **dia 05/10** a partir das 8h55min.\n",
    "\n",
    "Estaremos no TEAMS a partir das 8h55 utilizando a equipe de Atendimento e Ninjas (canal PROVA) para receber instruções. **Não ingressar na reunião no Teams para poupar sua internet de todos, apenas esteja atento ao chat do canal geral.**\n",
    "\n",
    "\n",
    "Esta avaliação terá as seguintes etapas:\n",
    "\n",
    "**9h00 às 9h10**\n",
    "       \n",
    " * **(10 minutos) - PROCTORIO:** Entre no Blackboard e inicie o teste em `Conteúdos/Avaliações/Avaliação (A2)/A2 (Proctorio e Arquivos)`. Caso não ative esse teste em até 10 minutos do início da prova (ou seja, até às 9h10), não terá mais direito de entregar essa prova, obtendo falta na mesma.\n",
    "\n",
    "\n",
    "**9h10 às 11h10**  \n",
    "\n",
    " * **(120 minutos) - Desenvolvimento da prova:** Concentre-se em resolver o notebook.\n",
    " * ATENÇÃO: administre esse tempo da maneira que julgar mais adequada para você. **NÃO utilize o cronômetro do Proctorio como referência, mas sim o tempo 120 minutos de prova para realização da prova.**\n",
    "\n",
    "\n",
    "**11h10 às 11h20**  \n",
    " * **(10 minutos) - Entrega via Blackboard - Notebook:** O arquivo `.ipynb` deve ser entregue em `Conteúdos/Avaliações/Avaliação (A2)/Entrega da prova`. \n",
    " * ATENÇÃO: **finalize o proctorio APENAS após anexar a avaliação no Blackboard.**\n",
    "\n",
    "\n",
    "<br>\n",
    "\n",
    "Leia atentamente as instruções a seguir e as questões da prova antes de começar a resolvê-la."
   ],
   "metadata": {}
  },
  {
   "cell_type": "markdown",
   "source": [
    "#### Avisos GERAIS: \n",
    "\n",
    "1. Identifique-se no cabeçalho deste arquivo. Essa prova é INDIVIDUAL.\n",
    "1. Você terá 120 minutos a partir do início oficial da prova para concluir esta avaliação, administre bem o seu tempo. Leia atentamente as instruções a seguir e as questões da prova antes de começar a resolvê-la. \n",
    "\n",
    "1. Esta avaliação:\n",
    "  * **PERMITE consulta de material do Blackboard e material on-line (usar navegador para pesquisas no Google, por exemplo)**. \n",
    "  * **PERMITE UTILIZAR APENAS UM COMPUTADOR NO QUAL ESTARÁ REALIZANDO A PROVA.**\n",
    "  * **NÃO PERMITE consulta a colegas (presencial ou remotamente), ou seja, não é permitido ter alguém ao seu lado assim como não é permitido conversar pelo WhatsApp, enviar e-mail ou qualquer outro formato em que converse com outra pessoa**. \n",
    "  * **NÃO PERMITE utilizar CELULAR, TABLET, SEGUNDO COMPUTADOR (ou NOTEBOOK) ou qualquer outro aparelho eletrônico no momento da prova.**\n",
    "  * **Seu olhar deve estar sempre para tela do computador da prova. Evite olhar para baixo ou para os lados com frequência.**\n",
    "  * **A câmera deve estar bem centralizada ao seu rosto, sem filmar teto ou apenas parte do rosto para cima. Atenção em deixar a câmera regulada para dar prioridade em filmar seu rosto por inteiro em todo o momento da prova.** \n",
    "  * **O desrespeito as essas regras constituirá violação ao Código de Ética e de Conduta e acarretará sanções nele previstas. Faça o seu trabalho de maneira ética!** \n",
    "\n",
    "1. Sua prova utilizará o sistema de Proctoring.  Para instalar a extensão, acesse o site https://getproctorio.com/ pelo Google Chrome e siga os passos indicados. Caso tenha dúvidas ou dificuldades, avise seu professor pelo chat e entre em contato com o Help Desk por meio de abertura de chamado ou pelo telefone (11) 4504-2550.\n",
    "Para realizar a prova será necessário:\n",
    "  *\tUm desktop ou um notebook com qualquer sistema operacional (dispositivos móveis não serão aceitos)\n",
    "  *\tMicrofone (interno ou externo)\n",
    "  *\tWebcam (interna ou externa)\n",
    "  *\tNavegador Google Chrome (o sistema funciona somente nele)\n",
    "  *\tExtensão da plataforma instalada (sem ela o sistema não funcionará)\n",
    "\n",
    "1. **É proibido o uso de fones de ouvido durante toda a prova. Não leia as questões em voz alta. Não ouvir música.**\n",
    "1. Sempre que possível, busque criar redundâncias para a rede de internet. Uma forma de fazer isso é utilizar a rede 4G dos celulares.\n",
    "1. **ENTREGA DO ARQUIVO**: Antes de sair da prova, garanta que entregou a prova no link indicado. Verifique se arquivos das questões tiveram seu upload concluído (se necessário) e que fechou a prova ao final. Você é o responsável pela entrega adequada de todas as questões de sua prova. Avaliações entregues fora do prazo não serão aceitas para correção.\n",
    "1. Caso precise se ausentar da frente da câmera para ia ao banheiro, comunique no chat do Teams ao professor e/ou fale para sua câmera. Dessa forma sua ausência estará justificada pelo sistema de proctoring. Lembre-se de ser rápido e retornar prontamente à prova."
   ],
   "metadata": {}
  },
  {
   "cell_type": "markdown",
   "source": [
    "**USO DA CÂMERA DO PROCTORIO**:\n",
    "\n",
    "**IMPORTANTE**: durante a prova, a sua câmera deve filmar da altura da sua cabeça para baixo priorizando mostrar mais o tronco do que o teto do local em que faz a prova. Caso a filmagem do seu Proctorio priorize mostrar, por qualquer período de tempo, apenas parte do seu rosto e/ou apenas do pescoço para cima e/ou você não aparecer na filmagem, isso será considerado violação do código de ética. Nesse caso, o MultiInsper será acionado para prestar possíveis esclarecimentos.\n",
    " "
   ],
   "metadata": {}
  },
  {
   "cell_type": "markdown",
   "source": [
    "#### Avisos sobre desenvolvimento da prova:\n",
    "\n",
    "1. Esta avaliação é composta de 5 questões. Caso verifique a falta de alguma questão, entre em contato com seu professor imediatamente pelo Teams.\n",
    "1. Esta Avaliação consiste em responder um arquivo Jupyter que será anexado ao Blackboard ao final da prova.\n",
    "1. Leia atentamente as **Precauções de segurança** abaixo para evitar ter sua prova anulada.\n",
    "1. Você pode utilizar qualquer material individual para consulta – anotações, livros, etc. Mas não pode compartilhar este material com seus colegas presencial ou remotamente.\n",
    "1. Em caso de dúvida sobre alguma questão desta avaliação, redija um texto em uma nova célula deste Jupyter notebook explicitando-a para que o professor avalie a pertinência durante a correção.  \n",
    "1. Leia atentamente cada questão e responda o que for pedido. Erros conceituais serão penalizados, mesmo que o conceito não se relacione com o que foi pedido na questão.\n",
    "1. Caso em algum item você necessite do resultado de um item anterior que você não conseguiu fazer, admita um valor razoável para esse resultado e faça o item normalmente. Indique na questão, caso isso aconteça.\n",
    "1. Todos os resultados devem ser justificados. Números que apareçam sem uma explicação de como foram encontrados serão ignorados na correção.\n",
    "1. **A qualidade do código na resolução em cada item também será levada em consideração, ou seja, códigos complicados para soluções que podem ser simples serão penalizados.**\n",
    "1. Esta avaliação requer **entrega via Blackboard**. **Não serão consideradas entregas por outros meios** (ex: e-mail, MS Teams, etc.)."
   ],
   "metadata": {}
  },
  {
   "cell_type": "markdown",
   "source": [
    "#### Precauções de segurança:\n",
    "\n",
    "1.\tTodas as precauções abaixo podem ser resumidas da seguinte forma: consulte o material que quiser desde que não seja nenhuma pessoa e não compartilhe informações com ninguém. \n",
    "2.\tVocê não pode enviar nenhum tipo de mensagem durante a prova para qualquer pessoa dentro ou fora dela, com exceção do(a) professor(a). Por exemplo: e-mail, Skype, mensagens do Facebook, mensagens do WhatsApp, mensagens via Twitter, etc\n",
    "3.\tVocê não pode compartilhar nenhum tipo de informação em nenhum site, incluindo Pastebin, Codeshare, wikis, etc\n",
    "4.\tVocê não pode perguntar questões da prova no StackOverflow, StackExchange, MathExchange, etc. \n",
    "5.\tVocê pode procurar/tirar dúvida no Google.\n",
    "6.\tVocê pode consultar qualquer arquivo no seu computador.\n",
    "7.\tQualquer transgressão das normas acima pode zerar a nota da prova e implicar em infração ao código de ética do Insper."
   ],
   "metadata": {}
  },
  {
   "cell_type": "markdown",
   "source": [
    "___\n",
    "<div id=\"indice\"></div>\n",
    "\n",
    "## Índice\n",
    "\n",
    "- [ENGAJAMENTO](#enga)\n",
    "- [Enunciado](#enunciado1)\n",
    "- [PERGUNTA 1](#q1) **[2,25 pontos]**\n",
    "- [PERGUNTA 2](#q2) **[1,25 pontos]**\n",
    "- [PERGUNTA 3](#q3) **[1,50 pontos]**\n",
    "\n",
    "<br>\n",
    "\n",
    "- [TV SHOWS](#tv)\n",
    "- [Enunciado](#enunciado2)\n",
    "- [Dicionário das variáveis](#dic)\n",
    "- [PERGUNTA 4](#q4) **[3,00 pontos]**\n",
    "- [Base de dados](#df)\n",
    "- [PERGUNTA 5](#q5) **[2,00 pontos]**"
   ],
   "metadata": {}
  },
  {
   "cell_type": "code",
   "execution_count": 1,
   "source": [
    "# %matplotlib inline\n",
    "import math\n",
    "import os\n",
    "\n",
    "import matplotlib.pyplot as plt\n",
    "import numpy as np\n",
    "from numpy import arange\n",
    "import pandas as pd\n",
    "from scipy import stats\n",
    "\n",
    "from IPython.display import display  # Para ter melhor print."
   ],
   "outputs": [],
   "metadata": {}
  },
  {
   "cell_type": "markdown",
   "source": [
    "___\n",
    "<div id=\"tv\"></div>\n",
    "\n",
    "### ENGAJAMENTO\n",
    "<img src=\"img2.jpg\" >\n",
    "\n",
    "Fonte: extraído da internet"
   ],
   "metadata": {}
  },
  {
   "cell_type": "markdown",
   "source": [
    "___\n",
    "<div id=\"enunciado1\"></div>\n",
    "\n",
    "### Como o algoritmo do Instagram aproxima marcas e usuários? \n",
    "\n",
    "O algoritmo do Instagram deixa muito claro a intenção da rede em criar um ambiente propício a proximidade entre marcas e usuários.\n",
    "Basicamente, o maior impacto do algoritmo do Instagram para as marcas é que elas precisam esforçar-se para ser relevantes para sua audiência e, por consequência, aumentar o engajamento. \n",
    "*Fonte: texto acima foi extraído da internet*.\n",
    "\n",
    "\n",
    "Esse será o contexto discutido nas Perguntas [1](#q1), [2](#q2) e [3](#q3). *Observação:* Os resultados obtidos em uma pergunta não interferirá e nem serão utilizados em outra pergunta."
   ],
   "metadata": {}
  },
  {
   "cell_type": "markdown",
   "source": [
    "___\n",
    "<div id=\"q1\"></div>\n",
    "\n",
    "### PERGUNTA 1  (2,25 pontos)\n",
    "\n",
    "Nessa questão, considere que aqui foram avaliadas as variáveis: `Uso de hashtag` no *post* feito no Instagram (com as categorias Sim ou Não) e `Engajamento` do *post* (com categorias Sim ou Não).\n",
    "\n",
    "Avaliando os *posts* feitos no Instagram com relação a essas duas variáveis, os resultados foram que:\n",
    "  * $70,0\\%$ dos *posts* não geraram engajamento;\n",
    "  * dos *posts* que não geraram engajamento, $25,0\\%$ deles faziam uso de hashtag; e\n",
    "  * dos *posts* que geraram engajamento, $65,0\\%$ deles faziam uso de hashtag.\n"
   ],
   "metadata": {}
  },
  {
   "cell_type": "markdown",
   "source": [
    "**Responda:**"
   ],
   "metadata": {}
  },
  {
   "cell_type": "markdown",
   "source": [
    "**P1(a) (0,25 ponto)** \n",
    "De acordo com o enunciado, faça a definição dos eventos que serão utilizados para resolução desta questão.\n",
    "Ainda, escreva as probabilidade ditas no enunciado em função desses eventos."
   ],
   "metadata": {}
  },
  {
   "cell_type": "raw",
   "source": [
    "* ESCREVA AQUI: Os eventos e probabilidades definidas no enunciado:\n",
    "\n",
    "EVENTOS POSSÍVEIS\n",
    "- H: uso de # no post do Instagram\n",
    "- Hc: não uso de # no post do Instagram\n",
    "- E: post gerar engajamento\n",
    "- Ec: post não gerar engajamento\n",
    "\n",
    "PROBABILIDADES\n",
    "    P_Ec = 0.7\n",
    "    P_H_dado_Ec = 0.25\n",
    "    P_H_dado_E = 0.65"
   ],
   "metadata": {}
  },
  {
   "cell_type": "markdown",
   "source": [
    "**P1(b) (1,00 ponto)** \n",
    "Nesse contexto, qual a probabilidade de um *post* ser publicado fazendo uso de hashtag?"
   ],
   "metadata": {}
  },
  {
   "cell_type": "code",
   "execution_count": 2,
   "source": [
    "# ESCREVA SUA RESOLUÇÃO AQUI\n",
    "\n",
    "# incógnita: P_H\n",
    "\n",
    "P_Ec = 0.7\n",
    "P_H_dado_Ec = 0.25\n",
    "P_H_dado_E = 0.65\n",
    "\n",
    "P_E = 1 - P_Ec\n",
    "\n",
    "P_HeEc = P_Ec * P_H_dado_Ec\n",
    "P_HeE = P_E * P_H_dado_E\n",
    "\n",
    "P_H = P_HeE + P_HeEc\n",
    "P_H"
   ],
   "outputs": [
    {
     "output_type": "execute_result",
     "data": {
      "text/plain": [
       "0.37"
      ]
     },
     "metadata": {},
     "execution_count": 2
    }
   ],
   "metadata": {}
  },
  {
   "cell_type": "markdown",
   "source": [
    "**P1(c) (1,00 ponto)** \n",
    "Se um *post* não fizer uso de hashtag, qual a probabilidade desse *post* gerar engajamento?"
   ],
   "metadata": {}
  },
  {
   "cell_type": "code",
   "execution_count": 3,
   "source": [
    "# ESCREVA SUA RESOLUÇÃO AQUI\n",
    "\n",
    "# incógnita: P_E_dado_Hc\n",
    "\n",
    "P_Hc = 1 - P_H\n",
    "P_Hc_dado_Ec = 1-P_H_dado_Ec\n",
    "P_Hc_dado_E = 1-P_H_dado_E\n",
    "\n",
    "P_E_dado_Hc = P_E * P_Hc_dado_E / P_Hc\n",
    "P_E_dado_Hc"
   ],
   "outputs": [
    {
     "output_type": "execute_result",
     "data": {
      "text/plain": [
       "0.16666666666666669"
      ]
     },
     "metadata": {},
     "execution_count": 3
    }
   ],
   "metadata": {}
  },
  {
   "cell_type": "markdown",
   "source": [
    "[Volta ao Índice](#indice)"
   ],
   "metadata": {}
  },
  {
   "cell_type": "markdown",
   "source": [
    "___\n",
    "<div id=\"q2\"></div>\n",
    "\n",
    "### PERGUNTA 2  (1,25 pontos)\n",
    "\n",
    "Nessa questão, considere que aqui foram avaliadas as variáveis: `Horário` no *post* feito no Instagram (com as categorias Dia ou Noite) e `Engajamento` do *post* (com categorias Sim ou Não).\n",
    "\n",
    "Avaliando os *posts* feitos no Instagram com relação a essas duas variáveis, os resultados foram que:\n",
    "  * $70,0\\%$ dos *posts* não geraram engajamento;\n",
    "  * dos *posts* que não geraram engajamento, $30,0\\%$ deles foram publicados durante o dia; e\n",
    "  * dos *posts* publicados durante o dia, $56,25\\%$ deles geram engajamento.\n",
    " "
   ],
   "metadata": {}
  },
  {
   "cell_type": "markdown",
   "source": [
    "**Responda:**"
   ],
   "metadata": {}
  },
  {
   "cell_type": "markdown",
   "source": [
    "**P2(a) (0,25 ponto)** \n",
    "De acordo com o enunciado, faça a definição dos eventos que serão utilizados para resolução desta questão.\n",
    "Ainda, escreva as probabilidade ditas no enunciado em função desses eventos."
   ],
   "metadata": {}
  },
  {
   "cell_type": "raw",
   "source": [
    "* ESCREVA AQUI: Os eventos e probabilidades definidas no enunciado:\n",
    "\n",
    "EVENTOS\n",
    "- E: post gerar engajamento\n",
    "- Ec: post não gerar engajamento\n",
    "- D: post ser feito de dia\n",
    "- N: post ser feito de noite\n",
    "\n",
    "PROBABILIDADES\n",
    "    P_Ec = 0.7\n",
    "    P_D_dado_Ec = 0.3\n",
    "    P_E_dado_D = 0.5625"
   ],
   "metadata": {}
  },
  {
   "cell_type": "markdown",
   "source": [
    "**P2(b) (1,00 ponto)** \n",
    "Qual a probabilidade de um *post* ser publicado durante o dia?"
   ],
   "metadata": {}
  },
  {
   "cell_type": "code",
   "execution_count": 4,
   "source": [
    "# ESCREVA SUA RESOLUÇÃO AQUI\n",
    "\n",
    "# incógnita: P_D\n",
    "\n",
    "P_Ec = 0.7\n",
    "P_D_dado_Ec = 0.3\n",
    "P_E_dado_D = 0.5625\n",
    "\n",
    "P_E = 1 - P_Ec\n",
    "P_Ec_dado_D = 1 - P_E_dado_D\n",
    "\n",
    "P_D = P_Ec * P_D_dado_Ec / P_Ec_dado_D\n",
    "P_D"
   ],
   "outputs": [
    {
     "output_type": "execute_result",
     "data": {
      "text/plain": [
       "0.48"
      ]
     },
     "metadata": {},
     "execution_count": 4
    }
   ],
   "metadata": {}
  },
  {
   "cell_type": "markdown",
   "source": [
    "[Volta ao Índice](#indice)"
   ],
   "metadata": {}
  },
  {
   "cell_type": "markdown",
   "source": [
    "___\n",
    "<div id=\"q3\"></div>\n",
    "\n",
    "### PERGUNTA 3  (1,50 pontos)\n",
    "\n",
    "Nessa questão, considere que aqui foram avaliadas as variáveis: `Local` do *post* feito no Instagram (com as categorias *Stories* ou *Feed*) e `Engajamento` do *post* (com categorias Sim ou Não).\n",
    "\n",
    "Avaliando os *posts* feitos no Instagram agora com relação a essas duas variáveis, os resultados foram que:\n",
    "  * $70,0\\%$ dos *posts* não geraram engajamento;\n",
    "  * $60,7\\%$ dos *posts* foram publicados no *Feed*;\n",
    "  * dos *posts* que não geraram engajamento, $24,0\\%$ deles foram publicados nos *Stories*; e\n",
    "  * dos *posts* publicados no *Feed*, $87,65\\%$ deles não geram engajamento."
   ],
   "metadata": {}
  },
  {
   "cell_type": "markdown",
   "source": [
    "**Responda:**"
   ],
   "metadata": {}
  },
  {
   "cell_type": "markdown",
   "source": [
    "**P3(a) (0,25 ponto)** \n",
    "De acordo com o enunciado, faça a definição dos eventos que serão utilizados para resolução desta questão.\n",
    "Ainda, escreva as probabilidade ditas no enunciado em função desses eventos."
   ],
   "metadata": {}
  },
  {
   "cell_type": "raw",
   "source": [
    "* ESCREVA AQUI: Os eventos e probabilidades definidas no enunciado:\n",
    "\n",
    "EVENTOS\n",
    "- S: post ser feito no Stories\n",
    "- F: post ser feito no Feed\n",
    "- E: post gerar engajamento\n",
    "- Ec: post não gerar engajamento\n",
    "\n",
    "PROBABILIDADES\n",
    "    P_Ec = 0.7\n",
    "    P_F = 0.607\n",
    "    P_S_dado_Ec = 0.24\n",
    "    P_Ec_dado_F = 0.8765"
   ],
   "metadata": {}
  },
  {
   "cell_type": "markdown",
   "source": [
    "**P3(b) (1,25 ponto)** \n",
    "Se um *post* for publicado nos *Stories*, qual a probabilidade desse *post* gerar engajamento?"
   ],
   "metadata": {}
  },
  {
   "cell_type": "code",
   "execution_count": 5,
   "source": [
    "# ESCREVA SUA RESOLUÇÃO AQUI\n",
    "\n",
    "# incógnita: P_E_dado_S\n",
    "\n",
    "P_Ec = 0.7\n",
    "P_F = 0.607\n",
    "P_S_dado_Ec = 0.24\n",
    "P_Ec_dado_F = 0.8765\n",
    "\n",
    "P_E = 1 - P_Ec\n",
    "P_S = 1 - P_F\n",
    "\n",
    "\n",
    "P_SeEc = P_Ec*P_S_dado_Ec\n",
    "P_SeE = P_S - P_SeEc\n",
    "P_S_dado_E = P_SeE / P_E\n",
    "P_E_dado_S = P_E * P_S_dado_E / P_S\n",
    "P_E_dado_S"
   ],
   "outputs": [
    {
     "output_type": "execute_result",
     "data": {
      "text/plain": [
       "0.5725190839694657"
      ]
     },
     "metadata": {},
     "execution_count": 5
    }
   ],
   "metadata": {}
  },
  {
   "cell_type": "markdown",
   "source": [
    "[Volta ao Índice](#indice)"
   ],
   "metadata": {}
  },
  {
   "cell_type": "markdown",
   "source": [
    "___\n",
    "<div id=\"tv\"></div>\n",
    "\n",
    "### TV SHOWS\n",
    "<img src=\"img1.jpg\">\n",
    "\n",
    "Fonte: extraído da internet"
   ],
   "metadata": {}
  },
  {
   "cell_type": "markdown",
   "source": [
    "___\n",
    "<div id=\"enunciado2\"></div>\n",
    "\n",
    "**ENUNCIADO**\n",
    "\n",
    "Com a pandemia, o setor de *streaming* cresceu em 2020 por conta dos cinemas fechados e por não poder sair de casa. Logo, a saída foi recorrer à Netflix, Prime Video e companhia. [link](#https://super.abril.com.br/cultura/infografico-qual-o-streaming-com-mais-assinantes-no-mundo/).\n",
    "\n",
    "Entretanto, um outro desafio de usuários de *streamings* é procurar por recomendações de bons programas. Para isso, muitos recorrem às avaliações de críticos ou de outros usuários que já assistiram uma lista abrangente de programas de TV disponíveis em várias plataformas de streaming.\n",
    "\n",
    "Para explorar esse assunto, faremos uso de uma versão da base de dados extraída da plataforma [Kaggle](#https://www.kaggle.com/). \n"
   ],
   "metadata": {}
  },
  {
   "cell_type": "markdown",
   "source": [
    "___\n",
    "<div id=\"dic\"></div>\n",
    "\n",
    "**DICIONÁRIO DAS VARIÁVEIS**\n",
    "\n",
    "Algumas das variáveis (com nome em inglês) apresentadas na base de dados `A2.xlsx` são:\n",
    " * `ID`: número identificador do programa;\n",
    " * `Title`: título do programa;\n",
    " * `Year`: ano de lançamento do programa;\n",
    " * `Age`: faixa etária indicada do programa;\n",
    " * `IMDb`: nota de 1 a 10 dada por usuário registrado no [Internet Movie Database](#https://tecnoblog.net/368275/como-funcionam-as-notas-do-imdb/);\n",
    " * `RottenTomatoes`: nota de 0 a 100 dada pelo site [Rotten Tomatoes](#https://tecnoblog.net/371401/como-funcionam-as-notas-do-rotten-tomatoes-tomatometer/) que agrega críticos de filmes e séries de TV famosos na internet;\n",
    " * `Netflix`: indica que programa está disponibilizado nesse *streaming*, sendo 0 indicando não e 1 indicando sim;\n",
    " * `Hulu`: indica que programa está disponibilizado nesse *streaming*, sendo 0 indicando não e 1 indicando sim;\n",
    " * `Prime Video`: indica que programa está disponibilizado nesse *streaming*, sendo 0 indicando não e 1 indicando sim; e\n",
    " * `Disney+`: indica que programa está disponibilizado nesse *streaming*, sendo 0 indicando não e 1 indicando sim.\n",
    " \n",
    "<br>\n",
    "\n",
    "### IMPORTANTE:\n",
    " * A base de dados **não** será utilizada na Pergunta [4](#q4), mas o tema sim.\n",
    " * A base de dados e contexto serão utilizados na Pergunta [5](#q5).\n"
   ],
   "metadata": {}
  },
  {
   "cell_type": "markdown",
   "source": [
    "Como a base de dados não será utilizada na próxima pergunta, vamos carregá-la apenas antes da última pergunta desta avaliação para não gerar confusões.\n"
   ],
   "metadata": {}
  },
  {
   "cell_type": "markdown",
   "source": [
    "___\n",
    "<div id=\"q4\"></div>\n",
    "\n",
    "### PERGUNTA 4  (3,00 pontos)\n",
    "\n",
    "**P4(a) (0,75 ponto)** \n",
    "Considere que:\n",
    "* A probabilidade de um programa disponível na Netflix ter nota 60 ou mais no Rotten Tomatoes é da ordem de $34\\%$. \n",
    "* Assuma que serão selecionados, aleatoriamente, 20 programas contidos na Netflix.\n",
    "\n",
    "**Responda:**\n",
    "\n",
    "Qual a probabilidade de pelo menos 5 deles terem nota 60 ou mais no Rotten Tomatoes?"
   ],
   "metadata": {}
  },
  {
   "cell_type": "code",
   "execution_count": 7,
   "source": [
    "# ESCREVA SUA RESOLUÇÃO AQUI\n",
    "\n",
    "# incógnita: P_total\n",
    "\n",
    "P_total = 0\n",
    "# estabelecer a quantidade de sucessos inicial\n",
    "y = 5\n",
    "n = 20  # número de tentativas totais\n",
    "p = 0.34  # probabilidade de sucesso em cada tentativa\n",
    "\n",
    "# criar loop para somar as P_Y_y que se encaixam no y solicitado (5,6,7...18,19,20)\n",
    "while y <= 20:\n",
    "    P_Y_y = stats.binom.pmf(y,n,p)\n",
    "    P_total+=P_Y_y\n",
    "    y+=1\n",
    "\n",
    "P_total"
   ],
   "outputs": [
    {
     "output_type": "execute_result",
     "data": {
      "text/plain": [
       "0.86255405738331"
      ]
     },
     "metadata": {},
     "execution_count": 7
    }
   ],
   "metadata": {}
  },
  {
   "cell_type": "markdown",
   "source": [
    "**P4(b) (1,00 ponto)** \n",
    "Considere que:\n",
    "* A probabilidade de um programa disponível na Netflix ter nota 60 ou mais no Rotten Tomatoes é da ordem de $34\\%$. \n",
    "* Assuma que serão selecionados, aleatoriamente, 20 programas contidos na Netflix.\n",
    "\n",
    "**Responda:**\n",
    "\n",
    "Se pelo menos 5 desses programas selecionados tiverem nota 60 ou mais no Rotten Tomatoes, qual a probabilidade dessa quantidade de programas não ser superior a 7?"
   ],
   "metadata": {}
  },
  {
   "cell_type": "code",
   "execution_count": 8,
   "source": [
    "# ESCREVA SUA RESOLUÇÃO AQUI\n",
    "\n",
    "# incógnita: P_t\n",
    "\n",
    "# diminui-se a amostra para 15, pois 5 dos 20 já estão definidos como nota maior que 60\n",
    "# setando condições iniciais\n",
    "n = 15\n",
    "p = 0.34\n",
    "P_t = 0\n",
    "\n",
    "# dos restantes, desejamos que 0, 1 ou 2 seja o número de sucessos\n",
    "y = 0\n",
    "\n",
    "# criar loop para somar as P_Y_y que se encaixam no y solicitado (0,1,2)\n",
    "while y <= 2:\n",
    "    P_Y_y = stats.binom.pmf(y,n,p)\n",
    "    P_t+=P_Y_y\n",
    "    y+=1\n",
    "\n",
    "P_t"
   ],
   "outputs": [
    {
     "output_type": "execute_result",
     "data": {
      "text/plain": [
       "0.07187015487602488"
      ]
     },
     "metadata": {},
     "execution_count": 8
    }
   ],
   "metadata": {}
  },
  {
   "cell_type": "markdown",
   "source": [
    "**P4(c) (1,25 ponto)** \n",
    "Considere as seguintes informações para programas com lançamento a partir de 2010:\n",
    "* Dos programas de TV disponíveis em várias plataformas de *streaming*, $42\\%$ deles estão na Netflix;\n",
    "* O número de filmes lançados por ano na Netflix é, em média, igual a 150 filmes; \n",
    "* Já o número de filmes lançados por ano que não estão na Netflix é, em média, igual a 205 filmes; e\n",
    "* Assuma que a ocorrência de ter lançamento de filmes em um ano independe da ocorrência de ter lançamento de filmes em outro ano qualquer.  \n",
    "\n",
    "**Responda:**\n",
    "\n",
    "Qual a probabilidade de mais de 160 filmes serem lançados em um ano qualquer, não importando a plataforma de *streaming*?"
   ],
   "metadata": {}
  },
  {
   "cell_type": "code",
   "execution_count": null,
   "source": [
    "# ESCREVA SUA RESOLUÇÃO AQUI\n",
    "\n",
    "P_N = 0.42\n",
    "M_f_ano_N = 150\n",
    "M_f_ano_Nc = 205\n",
    "M_f_ano = M_f_ano_Nc + M_f_ano_N\n",
    "\n",
    "# incógnita: P_160mais_N_ou_Nc\n",
    "\n",
    "# calculando a probabilidade inversa\n",
    "while y <= 160:\n",
    "    P_160menos = stats.binom.cdf(y,n,p)\n"
   ],
   "outputs": [],
   "metadata": {}
  },
  {
   "cell_type": "code",
   "execution_count": null,
   "source": [],
   "outputs": [],
   "metadata": {}
  },
  {
   "cell_type": "code",
   "execution_count": null,
   "source": [],
   "outputs": [],
   "metadata": {}
  },
  {
   "cell_type": "markdown",
   "source": [
    "___\n",
    "<div id=\"df\"></div>\n",
    "\n",
    "**BASE DE DADOS**\n",
    "\n",
    "Para a Pergunta [5](#q5), vamos validar a seguir se a base de dados e a prova estão na mesma pasta dentro do seu computador:"
   ],
   "metadata": {}
  },
  {
   "cell_type": "code",
   "execution_count": 9,
   "source": [
    "print(\"Esperamos trabalhar no diretório\")\n",
    "print(os.getcwd())"
   ],
   "outputs": [
    {
     "output_type": "stream",
     "name": "stdout",
     "text": [
      "Esperamos trabalhar no diretório\n",
      "/Users/enriccogemha/Documents/GitHub/CD21-2/avaliacao02\n"
     ]
    }
   ],
   "metadata": {}
  },
  {
   "cell_type": "code",
   "execution_count": 10,
   "source": [
    "filename = 'A2.xlsx'\n",
    "\n",
    "if filename in os.listdir():\n",
    "    print(f'Parece que o arquivo {filename} está na mesma pasta do notebook da avaliação, yay!\\n')\n",
    "    \n",
    "else:\n",
    "    print(f'Não encontrei o arquivo {filename}.\\n'\n",
    "          f'O notebook e os arquivos de dados desta avaliação devem ser salvos dentro da mesma pasta no seu computador.\\n')"
   ],
   "outputs": [
    {
     "output_type": "stream",
     "name": "stdout",
     "text": [
      "Parece que o arquivo A2.xlsx está na mesma pasta do notebook da avaliação, yay!\n",
      "\n"
     ]
    }
   ],
   "metadata": {}
  },
  {
   "cell_type": "code",
   "execution_count": 11,
   "source": [
    "# Carregando os dados e guardando em um dataframe nomeado df\n",
    "df = pd.read_excel('A2.xlsx')"
   ],
   "outputs": [],
   "metadata": {
    "scrolled": true
   }
  },
  {
   "cell_type": "code",
   "execution_count": 25,
   "source": [
    "# Visualizando as primeiras linhas do dataframe\n",
    "df"
   ],
   "outputs": [
    {
     "output_type": "execute_result",
     "data": {
      "text/html": [
       "<div>\n",
       "<style scoped>\n",
       "    .dataframe tbody tr th:only-of-type {\n",
       "        vertical-align: middle;\n",
       "    }\n",
       "\n",
       "    .dataframe tbody tr th {\n",
       "        vertical-align: top;\n",
       "    }\n",
       "\n",
       "    .dataframe thead th {\n",
       "        text-align: right;\n",
       "    }\n",
       "</style>\n",
       "<table border=\"1\" class=\"dataframe\">\n",
       "  <thead>\n",
       "    <tr style=\"text-align: right;\">\n",
       "      <th></th>\n",
       "      <th>ID</th>\n",
       "      <th>Title</th>\n",
       "      <th>Year</th>\n",
       "      <th>IMDb</th>\n",
       "      <th>RottenTomatoes</th>\n",
       "      <th>Netflix</th>\n",
       "      <th>Hulu</th>\n",
       "      <th>Prime Video</th>\n",
       "      <th>Disney+</th>\n",
       "    </tr>\n",
       "  </thead>\n",
       "  <tbody>\n",
       "    <tr>\n",
       "      <th>1</th>\n",
       "      <td>5603</td>\n",
       "      <td>Marvel's Future Avengers</td>\n",
       "      <td>2017</td>\n",
       "      <td>5.7</td>\n",
       "      <td>44</td>\n",
       "      <td>0</td>\n",
       "      <td>0</td>\n",
       "      <td>0</td>\n",
       "      <td>1</td>\n",
       "    </tr>\n",
       "    <tr>\n",
       "      <th>2</th>\n",
       "      <td>521</td>\n",
       "      <td>Rotten</td>\n",
       "      <td>2018</td>\n",
       "      <td>7.2</td>\n",
       "      <td>63</td>\n",
       "      <td>1</td>\n",
       "      <td>0</td>\n",
       "      <td>0</td>\n",
       "      <td>0</td>\n",
       "    </tr>\n",
       "    <tr>\n",
       "      <th>3</th>\n",
       "      <td>296</td>\n",
       "      <td>Workin' Moms</td>\n",
       "      <td>2017</td>\n",
       "      <td>7.6</td>\n",
       "      <td>70</td>\n",
       "      <td>1</td>\n",
       "      <td>0</td>\n",
       "      <td>0</td>\n",
       "      <td>0</td>\n",
       "    </tr>\n",
       "    <tr>\n",
       "      <th>6</th>\n",
       "      <td>1121</td>\n",
       "      <td>Transformers: Rescue Bots</td>\n",
       "      <td>2012</td>\n",
       "      <td>6.5</td>\n",
       "      <td>50</td>\n",
       "      <td>1</td>\n",
       "      <td>0</td>\n",
       "      <td>1</td>\n",
       "      <td>0</td>\n",
       "    </tr>\n",
       "    <tr>\n",
       "      <th>7</th>\n",
       "      <td>3885</td>\n",
       "      <td>Dilbert</td>\n",
       "      <td>1999</td>\n",
       "      <td>7.3</td>\n",
       "      <td>58</td>\n",
       "      <td>0</td>\n",
       "      <td>0</td>\n",
       "      <td>1</td>\n",
       "      <td>0</td>\n",
       "    </tr>\n",
       "    <tr>\n",
       "      <th>...</th>\n",
       "      <td>...</td>\n",
       "      <td>...</td>\n",
       "      <td>...</td>\n",
       "      <td>...</td>\n",
       "      <td>...</td>\n",
       "      <td>...</td>\n",
       "      <td>...</td>\n",
       "      <td>...</td>\n",
       "      <td>...</td>\n",
       "    </tr>\n",
       "    <tr>\n",
       "      <th>5356</th>\n",
       "      <td>1147</td>\n",
       "      <td>Nevenka: Breaking the Silence</td>\n",
       "      <td>2021</td>\n",
       "      <td>7.0</td>\n",
       "      <td>49</td>\n",
       "      <td>1</td>\n",
       "      <td>0</td>\n",
       "      <td>0</td>\n",
       "      <td>0</td>\n",
       "    </tr>\n",
       "    <tr>\n",
       "      <th>5357</th>\n",
       "      <td>1858</td>\n",
       "      <td>Luna Petunia</td>\n",
       "      <td>2016</td>\n",
       "      <td>6.3</td>\n",
       "      <td>31</td>\n",
       "      <td>1</td>\n",
       "      <td>0</td>\n",
       "      <td>0</td>\n",
       "      <td>0</td>\n",
       "    </tr>\n",
       "    <tr>\n",
       "      <th>5358</th>\n",
       "      <td>2886</td>\n",
       "      <td>The Aliens</td>\n",
       "      <td>2016</td>\n",
       "      <td>6.1</td>\n",
       "      <td>51</td>\n",
       "      <td>0</td>\n",
       "      <td>1</td>\n",
       "      <td>0</td>\n",
       "      <td>0</td>\n",
       "    </tr>\n",
       "    <tr>\n",
       "      <th>5360</th>\n",
       "      <td>2727</td>\n",
       "      <td>Dragnet</td>\n",
       "      <td>1967</td>\n",
       "      <td>7.5</td>\n",
       "      <td>56</td>\n",
       "      <td>0</td>\n",
       "      <td>1</td>\n",
       "      <td>0</td>\n",
       "      <td>0</td>\n",
       "    </tr>\n",
       "    <tr>\n",
       "      <th>5362</th>\n",
       "      <td>1427</td>\n",
       "      <td>Fartsa</td>\n",
       "      <td>2015</td>\n",
       "      <td>6.7</td>\n",
       "      <td>44</td>\n",
       "      <td>1</td>\n",
       "      <td>0</td>\n",
       "      <td>0</td>\n",
       "      <td>0</td>\n",
       "    </tr>\n",
       "  </tbody>\n",
       "</table>\n",
       "<p>4404 rows × 9 columns</p>\n",
       "</div>"
      ],
      "text/plain": [
       "        ID                          Title  Year  IMDb  RottenTomatoes  \\\n",
       "1     5603       Marvel's Future Avengers  2017   5.7              44   \n",
       "2      521                         Rotten  2018   7.2              63   \n",
       "3      296                   Workin' Moms  2017   7.6              70   \n",
       "6     1121      Transformers: Rescue Bots  2012   6.5              50   \n",
       "7     3885                        Dilbert  1999   7.3              58   \n",
       "...    ...                            ...   ...   ...             ...   \n",
       "5356  1147  Nevenka: Breaking the Silence  2021   7.0              49   \n",
       "5357  1858                   Luna Petunia  2016   6.3              31   \n",
       "5358  2886                     The Aliens  2016   6.1              51   \n",
       "5360  2727                        Dragnet  1967   7.5              56   \n",
       "5362  1427                         Fartsa  2015   6.7              44   \n",
       "\n",
       "      Netflix  Hulu  Prime Video  Disney+  \n",
       "1           0     0            0        1  \n",
       "2           1     0            0        0  \n",
       "3           1     0            0        0  \n",
       "6           1     0            1        0  \n",
       "7           0     0            1        0  \n",
       "...       ...   ...          ...      ...  \n",
       "5356        1     0            0        0  \n",
       "5357        1     0            0        0  \n",
       "5358        0     1            0        0  \n",
       "5360        0     1            0        0  \n",
       "5362        1     0            0        0  \n",
       "\n",
       "[4404 rows x 9 columns]"
      ]
     },
     "metadata": {},
     "execution_count": 25
    }
   ],
   "metadata": {
    "scrolled": false
   }
  },
  {
   "cell_type": "markdown",
   "source": [
    "___\n",
    "<div id=\"q5\"></div>\n",
    "\n",
    "### PERGUNTA 5  (2,00 pontos)\n",
    "\n",
    "Considerando a **construção de um gráfico adequado** e também o **cálculo de uma medida numérica adequada**, use-**os** para validar ou refutar a seguinte afirmação:\n",
    "\n",
    "**Afirmação:**\n",
    "> \" A associação entre as notas `IMDb` e `RottenTomatoes` dadas aos programas é a mesma, não importando se o programa está na plataforma Netflix ou não\".\n"
   ],
   "metadata": {}
  },
  {
   "cell_type": "markdown",
   "source": [
    "**Após suas análises, sinalize abaixo com X na sua escolha:** \n",
    "  * ( .. ) Afirmação é válida após análises feitas a seguir\n",
    "  * ( X ) Afirmação **NÃO** é válida após  análises feitas a seguir"
   ],
   "metadata": {}
  },
  {
   "cell_type": "markdown",
   "source": [
    "**A seguir, faça suas análises adequadas a seguir e JUSTIFIQUE sua decisão sua validade ou não da afirmação:**"
   ],
   "metadata": {}
  },
  {
   "cell_type": "code",
   "execution_count": 24,
   "source": [
    "# ESCREVA SUA RESOLUÇÃO AQUI\n",
    "df.drop('Age', axis=1, inplace=True)\n",
    "df.dropna(axis=0, inplace=True)\n",
    "df"
   ],
   "outputs": [
    {
     "output_type": "execute_result",
     "data": {
      "text/html": [
       "<div>\n",
       "<style scoped>\n",
       "    .dataframe tbody tr th:only-of-type {\n",
       "        vertical-align: middle;\n",
       "    }\n",
       "\n",
       "    .dataframe tbody tr th {\n",
       "        vertical-align: top;\n",
       "    }\n",
       "\n",
       "    .dataframe thead th {\n",
       "        text-align: right;\n",
       "    }\n",
       "</style>\n",
       "<table border=\"1\" class=\"dataframe\">\n",
       "  <thead>\n",
       "    <tr style=\"text-align: right;\">\n",
       "      <th></th>\n",
       "      <th>ID</th>\n",
       "      <th>Title</th>\n",
       "      <th>Year</th>\n",
       "      <th>IMDb</th>\n",
       "      <th>RottenTomatoes</th>\n",
       "      <th>Netflix</th>\n",
       "      <th>Hulu</th>\n",
       "      <th>Prime Video</th>\n",
       "      <th>Disney+</th>\n",
       "    </tr>\n",
       "  </thead>\n",
       "  <tbody>\n",
       "    <tr>\n",
       "      <th>1</th>\n",
       "      <td>5603</td>\n",
       "      <td>Marvel's Future Avengers</td>\n",
       "      <td>2017</td>\n",
       "      <td>5.7</td>\n",
       "      <td>44</td>\n",
       "      <td>0</td>\n",
       "      <td>0</td>\n",
       "      <td>0</td>\n",
       "      <td>1</td>\n",
       "    </tr>\n",
       "    <tr>\n",
       "      <th>2</th>\n",
       "      <td>521</td>\n",
       "      <td>Rotten</td>\n",
       "      <td>2018</td>\n",
       "      <td>7.2</td>\n",
       "      <td>63</td>\n",
       "      <td>1</td>\n",
       "      <td>0</td>\n",
       "      <td>0</td>\n",
       "      <td>0</td>\n",
       "    </tr>\n",
       "    <tr>\n",
       "      <th>3</th>\n",
       "      <td>296</td>\n",
       "      <td>Workin' Moms</td>\n",
       "      <td>2017</td>\n",
       "      <td>7.6</td>\n",
       "      <td>70</td>\n",
       "      <td>1</td>\n",
       "      <td>0</td>\n",
       "      <td>0</td>\n",
       "      <td>0</td>\n",
       "    </tr>\n",
       "    <tr>\n",
       "      <th>6</th>\n",
       "      <td>1121</td>\n",
       "      <td>Transformers: Rescue Bots</td>\n",
       "      <td>2012</td>\n",
       "      <td>6.5</td>\n",
       "      <td>50</td>\n",
       "      <td>1</td>\n",
       "      <td>0</td>\n",
       "      <td>1</td>\n",
       "      <td>0</td>\n",
       "    </tr>\n",
       "    <tr>\n",
       "      <th>7</th>\n",
       "      <td>3885</td>\n",
       "      <td>Dilbert</td>\n",
       "      <td>1999</td>\n",
       "      <td>7.3</td>\n",
       "      <td>58</td>\n",
       "      <td>0</td>\n",
       "      <td>0</td>\n",
       "      <td>1</td>\n",
       "      <td>0</td>\n",
       "    </tr>\n",
       "    <tr>\n",
       "      <th>...</th>\n",
       "      <td>...</td>\n",
       "      <td>...</td>\n",
       "      <td>...</td>\n",
       "      <td>...</td>\n",
       "      <td>...</td>\n",
       "      <td>...</td>\n",
       "      <td>...</td>\n",
       "      <td>...</td>\n",
       "      <td>...</td>\n",
       "    </tr>\n",
       "    <tr>\n",
       "      <th>5356</th>\n",
       "      <td>1147</td>\n",
       "      <td>Nevenka: Breaking the Silence</td>\n",
       "      <td>2021</td>\n",
       "      <td>7.0</td>\n",
       "      <td>49</td>\n",
       "      <td>1</td>\n",
       "      <td>0</td>\n",
       "      <td>0</td>\n",
       "      <td>0</td>\n",
       "    </tr>\n",
       "    <tr>\n",
       "      <th>5357</th>\n",
       "      <td>1858</td>\n",
       "      <td>Luna Petunia</td>\n",
       "      <td>2016</td>\n",
       "      <td>6.3</td>\n",
       "      <td>31</td>\n",
       "      <td>1</td>\n",
       "      <td>0</td>\n",
       "      <td>0</td>\n",
       "      <td>0</td>\n",
       "    </tr>\n",
       "    <tr>\n",
       "      <th>5358</th>\n",
       "      <td>2886</td>\n",
       "      <td>The Aliens</td>\n",
       "      <td>2016</td>\n",
       "      <td>6.1</td>\n",
       "      <td>51</td>\n",
       "      <td>0</td>\n",
       "      <td>1</td>\n",
       "      <td>0</td>\n",
       "      <td>0</td>\n",
       "    </tr>\n",
       "    <tr>\n",
       "      <th>5360</th>\n",
       "      <td>2727</td>\n",
       "      <td>Dragnet</td>\n",
       "      <td>1967</td>\n",
       "      <td>7.5</td>\n",
       "      <td>56</td>\n",
       "      <td>0</td>\n",
       "      <td>1</td>\n",
       "      <td>0</td>\n",
       "      <td>0</td>\n",
       "    </tr>\n",
       "    <tr>\n",
       "      <th>5362</th>\n",
       "      <td>1427</td>\n",
       "      <td>Fartsa</td>\n",
       "      <td>2015</td>\n",
       "      <td>6.7</td>\n",
       "      <td>44</td>\n",
       "      <td>1</td>\n",
       "      <td>0</td>\n",
       "      <td>0</td>\n",
       "      <td>0</td>\n",
       "    </tr>\n",
       "  </tbody>\n",
       "</table>\n",
       "<p>4404 rows × 9 columns</p>\n",
       "</div>"
      ],
      "text/plain": [
       "        ID                          Title  Year  IMDb  RottenTomatoes  \\\n",
       "1     5603       Marvel's Future Avengers  2017   5.7              44   \n",
       "2      521                         Rotten  2018   7.2              63   \n",
       "3      296                   Workin' Moms  2017   7.6              70   \n",
       "6     1121      Transformers: Rescue Bots  2012   6.5              50   \n",
       "7     3885                        Dilbert  1999   7.3              58   \n",
       "...    ...                            ...   ...   ...             ...   \n",
       "5356  1147  Nevenka: Breaking the Silence  2021   7.0              49   \n",
       "5357  1858                   Luna Petunia  2016   6.3              31   \n",
       "5358  2886                     The Aliens  2016   6.1              51   \n",
       "5360  2727                        Dragnet  1967   7.5              56   \n",
       "5362  1427                         Fartsa  2015   6.7              44   \n",
       "\n",
       "      Netflix  Hulu  Prime Video  Disney+  \n",
       "1           0     0            0        1  \n",
       "2           1     0            0        0  \n",
       "3           1     0            0        0  \n",
       "6           1     0            1        0  \n",
       "7           0     0            1        0  \n",
       "...       ...   ...          ...      ...  \n",
       "5356        1     0            0        0  \n",
       "5357        1     0            0        0  \n",
       "5358        0     1            0        0  \n",
       "5360        0     1            0        0  \n",
       "5362        1     0            0        0  \n",
       "\n",
       "[4404 rows x 9 columns]"
      ]
     },
     "metadata": {},
     "execution_count": 24
    }
   ],
   "metadata": {}
  },
  {
   "cell_type": "code",
   "execution_count": null,
   "source": [],
   "outputs": [],
   "metadata": {}
  },
  {
   "cell_type": "code",
   "execution_count": null,
   "source": [],
   "outputs": [],
   "metadata": {}
  },
  {
   "cell_type": "code",
   "execution_count": null,
   "source": [],
   "outputs": [],
   "metadata": {}
  },
  {
   "cell_type": "markdown",
   "source": [
    "[Volta ao Índice](#indice)"
   ],
   "metadata": {}
  }
 ],
 "metadata": {
  "kernelspec": {
   "name": "python3",
   "display_name": "Python 3.8.8 64-bit ('base': conda)"
  },
  "language_info": {
   "codemirror_mode": {
    "name": "ipython",
    "version": 3
   },
   "file_extension": ".py",
   "mimetype": "text/x-python",
   "name": "python",
   "nbconvert_exporter": "python",
   "pygments_lexer": "ipython3",
   "version": "3.8.8"
  },
  "interpreter": {
   "hash": "dca0ade3e726a953b501b15e8e990130d2b7799f14cfd9f4271676035ebe5511"
  }
 },
 "nbformat": 4,
 "nbformat_minor": 4
}