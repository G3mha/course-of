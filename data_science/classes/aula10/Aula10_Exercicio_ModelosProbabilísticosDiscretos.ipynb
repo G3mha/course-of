{
 "cells": [
  {
   "cell_type": "markdown",
   "metadata": {},
   "source": [
    "___\n",
    "# Exercício: Modelos probabilísticos discretos\n",
    "___\n",
    "\n",
    "## Aula 10"
   ]
  },
  {
   "cell_type": "markdown",
   "metadata": {},
   "source": [
    "<div id=\"indice\"></div>\n",
    "\n",
    "## Índice\n",
    "\n",
    "- [Microempresas](#microempresas)\n",
    "    - [Exercício 1](#ex1) **- APS6 disponível no Blackboard**\n",
    "    - [Exercício 2](#ex2) **- APS6 disponível no Blackboard**\n",
    "    - [Exercício 3](#ex3) **- APS6 disponível no Blackboard**\n",
    "    - [Exercício 4](#ex4) **- APS6 disponível no Blackboard**"
   ]
  },
  {
   "cell_type": "markdown",
   "metadata": {},
   "source": [
    "___\n",
    "\n",
    "<div id=\"microempresas\"></div>\n",
    "\n",
    "# <font color='blue'>Microempresas</font> \n",
    "\n",
    "A mortalidade de microempresas no primeiro ano de funcionamento é da ordem de 0,55. Deseja-se avaliar as causas da mortalidade. Para os exercícios a seguir, considere uma amostra de 10 empresas."
   ]
  },
  {
   "cell_type": "markdown",
   "metadata": {},
   "source": [
    "<div id=\"ex1\"></div>\n",
    "\n",
    "### EXERCÍCIO 1\n",
    "\n",
    "Qual é a probabilidade de exatamente 5 empresas terem falido ao final do primeiro ano?"
   ]
  },
  {
   "cell_type": "code",
   "execution_count": 1,
   "metadata": {},
   "outputs": [],
   "source": [
    "%matplotlib inline\n",
    "import pandas as pd\n",
    "import matplotlib.pyplot as plt\n",
    "import numpy as np\n",
    "from scipy import stats #importa apenas as funções de estatísticas da biblioteca SciPy."
   ]
  },
  {
   "cell_type": "code",
   "execution_count": 2,
   "metadata": {},
   "outputs": [
    {
     "data": {
      "text/plain": [
       "0.2340327075925782"
      ]
     },
     "execution_count": 2,
     "metadata": {},
     "output_type": "execute_result"
    }
   ],
   "source": [
    "# ESCREVA SUA RESPOSTA AQUI\n",
    "n=10 #amostra de 10 empresas\n",
    "p=0.55 #prob de sucesso\n",
    "stats.binom.pmf(5,n,p)"
   ]
  },
  {
   "cell_type": "markdown",
   "metadata": {},
   "source": [
    "<div id=\"ex2\"></div>\n",
    "\n",
    "### EXERCÍCIO 2\n",
    "\n",
    "Qual é a probabilidade de pelo menos 3 empresas virem a falir no primeiro ano?"
   ]
  },
  {
   "cell_type": "code",
   "execution_count": 3,
   "metadata": {},
   "outputs": [
    {
     "data": {
      "text/plain": [
       "0.9726081607386718"
      ]
     },
     "execution_count": 3,
     "metadata": {},
     "output_type": "execute_result"
    }
   ],
   "source": [
    "# ESCREVA SUA RESPOSTA AQUI\n",
    "1-stats.binom.cdf(2,n,p)"
   ]
  },
  {
   "cell_type": "markdown",
   "metadata": {},
   "source": [
    "<div id=\"ex3\"></div>\n",
    "\n",
    "### EXERCÍCIO 3\n",
    "\n",
    "Sabe-se que pelo menos 3 empresas faliram no primeiro ano. Qual é a probabilidade de no máximo 5 terem falido?"
   ]
  },
  {
   "cell_type": "code",
   "execution_count": 9,
   "metadata": {},
   "outputs": [
    {
     "data": {
      "text/plain": [
       "0.48138971888756643"
      ]
     },
     "execution_count": 9,
     "metadata": {},
     "output_type": "execute_result"
    }
   ],
   "source": [
    "# ESCREVA SUA RESPOSTA AQUI\n",
    "(stats.binom.cdf(5,n,p) - stats.binom.cdf(2,n,p))/(1-stats.binom.cdf(2,n,p))"
   ]
  },
  {
   "cell_type": "markdown",
   "metadata": {},
   "source": [
    "<div id=\"ex4\"></div>\n",
    "\n",
    "### EXERCÍCIO 4\n",
    "\n",
    "Qual o número esperado de empresas que irão à falência no primeiro ano na amostra? E o desvio padrão?"
   ]
  },
  {
   "cell_type": "code",
   "execution_count": 4,
   "metadata": {},
   "outputs": [
    {
     "name": "stdout",
     "output_type": "stream",
     "text": [
      "E_F =  5.5\n",
      "DP_F =  1.5732132722552272\n"
     ]
    }
   ],
   "source": [
    "# ESCREVA SUA RESPOSTA AQUI\n",
    "print('E_F = ',stats.binom.mean(n,p))\n",
    "print('DP_F = ',stats.binom.std(n,p))"
   ]
  }
 ],
 "metadata": {
  "anaconda-cloud": {},
  "interpreter": {
   "hash": "e9fd6c6be56567dc879efe7db14b5e3ce588c472dd9c12b78c63f32e96bcc071"
  },
  "kernelspec": {
   "display_name": "Python 3.8.8 64-bit ('base': conda)",
   "name": "python3"
  },
  "language_info": {
   "codemirror_mode": {
    "name": "ipython",
    "version": 3
   },
   "file_extension": ".py",
   "mimetype": "text/x-python",
   "name": "python",
   "nbconvert_exporter": "python",
   "pygments_lexer": "ipython3",
   "version": "3.8.8"
  }
 },
 "nbformat": 4,
 "nbformat_minor": 1
}
