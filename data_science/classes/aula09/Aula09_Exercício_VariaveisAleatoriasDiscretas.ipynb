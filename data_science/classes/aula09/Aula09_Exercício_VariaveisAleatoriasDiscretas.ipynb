{
 "cells": [
  {
   "cell_type": "markdown",
   "metadata": {},
   "source": [
    "___\n",
    "# Exercício: Variáveis aleatórias discretas\n",
    "___\n",
    "\n",
    "## Aula 09"
   ]
  },
  {
   "cell_type": "markdown",
   "metadata": {},
   "source": [
    "<div id=\"indice\"></div>\n",
    "\n",
    "## Índice\n",
    "\n",
    "  - [Exercício 1](#ex1) **- APS5 disponível no Blackboard**\n",
    "  - [Exercício 2](#ex2)\n",
    "  - [Exercício 3](#ex3) **- APS5 disponível no Blackboard**"
   ]
  },
  {
   "cell_type": "markdown",
   "metadata": {},
   "source": [
    "___\n",
    "<div id=\"ex1\"></div>\n",
    "\n",
    "### EXERCÍCIO 1\n",
    "\n",
    "Um rapaz está pensando em convidar sua namorada para sair. O problema é que as despesas correm por sua conta. \n",
    "\n",
    "Eles podem ir ao cinema ou ao teatro. 70% das vezes ela prefere ir ao cinema, nesse caso, ele gasta 70.00 com os ingressos. \n",
    "Quando eles vão ao teatro, o gasto fica em 190.00. \n",
    "\n",
    "Se eles forem ao cinema, ele sabe que em 80% das vezes ela pede para ir jantar, a despesa adicional do jantar fica em 130.00; 20% das vezes, eles vão direto para casa. \n",
    "\n",
    "Levando a namorada ao teatro, em 40% das vezes ela pede para ir jantar e 60% das vezes eles vão direto para casa. \n",
    "\n",
    "a) Qual a distribuição de probabilidades do gasto que o rapaz tem com a namorada? Use a letra $G$ para variável gasto do rapaz com a namorada."
   ]
  },
  {
   "cell_type": "code",
   "execution_count": 1,
   "metadata": {},
   "outputs": [],
   "source": [
    "# ESCREVA SEU CÓDIGO AQUI\n",
    "# Gastos\n",
    "# cinema 70\n",
    "# teatro 190\n",
    "# cinema + jantar 200\n",
    "# teatro + jantar 320\n",
    "\n",
    "# Possíveis combinações\n",
    "# C,Jc\n",
    "# C,J\n",
    "# T,Jc\n",
    "# T,J\n",
    "\n",
    "# Probabilidades\n",
    "P_C=0.7\n",
    "P_T=0.3\n",
    "P_J_dado_C=0.8\n",
    "P_Jc_dado_C=0.2\n",
    "P_J_dado_T=0.4\n",
    "P_Jc_dado_T=0.6\n",
    "\n",
    "P_G_70=P_C*P_Jc_dado_C\n",
    "P_G_190=P_T*P_Jc_dado_T\n",
    "P_G_200=P_C*P_J_dado_C\n",
    "P_G_320=P_T*P_J_dado_T"
   ]
  },
  {
   "cell_type": "markdown",
   "metadata": {},
   "source": [
    "b) Qual o gasto médio? E o seu desvio-padrão?\n",
    "\n",
    "*Resposta esperada para média e desvio padrão respectivamente: 194.4 ; 63.87988728856681*"
   ]
  },
  {
   "cell_type": "code",
   "execution_count": 2,
   "metadata": {},
   "outputs": [
    {
     "data": {
      "text/plain": [
       "194.39999999999998"
      ]
     },
     "execution_count": 2,
     "metadata": {},
     "output_type": "execute_result"
    }
   ],
   "source": [
    "# ESCREVA SEU CÓDIGO AQUI\n",
    "E_G = P_G_70*70 + P_G_190*190 + P_G_200*200 + P_G_320*320\n",
    "E_G"
   ]
  },
  {
   "cell_type": "code",
   "execution_count": 3,
   "metadata": {},
   "outputs": [
    {
     "data": {
      "text/plain": [
       "63.87988728856681"
      ]
     },
     "execution_count": 3,
     "metadata": {},
     "output_type": "execute_result"
    }
   ],
   "source": [
    "Var_G = ((70-E_G)**2 * P_G_70) + ((190-E_G)**2 * P_G_190) + ((200-E_G)**2 * P_G_200) + ((320-E_G)**2 * P_G_320)\n",
    "DP_G = (Var_G)**0.5\n",
    "DP_G"
   ]
  },
  {
   "cell_type": "markdown",
   "metadata": {},
   "source": [
    "c) Com a inflação deste ano, o gasto total aumentou até agora 9.00, mas com a crise geral, o casal resolveu reduzir esse novo gasto total em 15%. Calcule o novo gasto médio e respectivo desvio padrão. Chame o novo gasto de $Y$.\n"
   ]
  },
  {
   "cell_type": "code",
   "execution_count": 4,
   "metadata": {},
   "outputs": [
    {
     "data": {
      "text/plain": [
       "166.3"
      ]
     },
     "execution_count": 4,
     "metadata": {},
     "output_type": "execute_result"
    }
   ],
   "source": [
    "# ESCREVA SEU CÓDIGO AQUI\n",
    "E_G_new = P_G_70*67.15 + P_G_190*161.5 + P_G_200*170 + P_G_320*272\n",
    "round(E_G_new,1)"
   ]
  },
  {
   "cell_type": "code",
   "execution_count": 5,
   "metadata": {},
   "outputs": [
    {
     "data": {
      "text/plain": [
       "59.3"
      ]
     },
     "execution_count": 5,
     "metadata": {},
     "output_type": "execute_result"
    }
   ],
   "source": [
    "Var_G_new = ((67.15-E_G)**2 * P_G_70) + ((161.5-E_G)**2 * P_G_190) + ((170-E_G)**2 * P_G_200) + ((272-E_G)**2 * P_G_320)\n",
    "DP_G_new = (Var_G_new)**0.5\n",
    "round(DP_G_new,1)"
   ]
  },
  {
   "cell_type": "markdown",
   "metadata": {},
   "source": [
    "___\n",
    "<div id=\"ex2\"></div>\n",
    "\n",
    "### EXERCÍCIO 2 - extraído de Montgomery e Runger\n",
    "\n",
    "*Exercício 3-33*\n",
    "\n",
    "Um arranjo consiste em três componentes mecânicos.\n",
    "\n",
    "Suponha que as probabilidades de o primeiro, o segundo e o terceiro componentes satisfazerem as especificações sejam iguais a 0,95; 0,98 e 0,99.\n",
    "\n",
    "Considere que os componentes sejam independentes.\n",
    "\n",
    "Construa a distribuição de probabilidades do número de componentes no arranjo que satisfazem as especificações.\n"
   ]
  },
  {
   "cell_type": "code",
   "execution_count": 7,
   "metadata": {},
   "outputs": [
    {
     "data": {
      "text/plain": [
       "0.9216899999999999"
      ]
     },
     "execution_count": 7,
     "metadata": {},
     "output_type": "execute_result"
    }
   ],
   "source": [
    "# ESCREVA SEU CÓDIGO AQUI\n",
    "P_S_1 = 0.95\n",
    "P_S_2 = 0.98\n",
    "P_S_3 = 0.99\n",
    "# componentes independentes\n",
    "P_S = P_S_1*P_S_2*P_S_3\n",
    "P_S"
   ]
  },
  {
   "cell_type": "markdown",
   "metadata": {},
   "source": [
    "___\n",
    "<div id=\"ex3\"></div>\n",
    "\n",
    "### EXERCÍCIO 3 - extraído de Montgomery e Runger\n",
    "\n",
    "*Exercício 3-67*\n",
    "\n",
    "O sistema de controle aéreo, chamado PASS (Primary Avionics Software Set), do ônibus espacial uso quatro computadores independentes trabalhando em paralelo. \n",
    "\n",
    "Em cada etapa crítica, os computadores “votam” para determinar a etapa apropriada. A probabilidade de o computador pedir para manobrar para a esquerda quando uma manobra para a direita seria apropriada é de 0,0001. \n",
    "\n",
    "Seja X o número de computadores que votam em uma manobra para a esquerda quando uma manobra para a direita seria apropriada. \n",
    "\n",
    "Construa a distribuição de probabilidades de X. Calcule média e desvio padrão.\n"
   ]
  },
  {
   "cell_type": "markdown",
   "metadata": {},
   "source": [
    "Qual média de X? E o seu desvio-padrão?"
   ]
  },
  {
   "cell_type": "code",
   "execution_count": 16,
   "metadata": {},
   "outputs": [
    {
     "data": {
      "text/plain": [
       "0.01999899997499875"
      ]
     },
     "execution_count": 16,
     "metadata": {},
     "output_type": "execute_result"
    }
   ],
   "source": [
    "# ESCREVA SEU CÓDIGO AQUI\n",
    "# C é movimento correto\n",
    "# X é movimento incorreto\n",
    "# 4 computadores\n",
    "\n",
    "P_X=0.0001\n",
    "P_C=1-P_X\n",
    "P_0=P_C**4\n",
    "P_1=(P_C**3)*P_X\n",
    "P_2=(P_C**2)*(P_X**2)\n",
    "P_3=(P_X**3)*P_C\n",
    "P_4=P_X**4\n",
    "\n",
    "\n",
    "E_X = P_0*0 + P_1*1 + P_2*2 + P_3*3 + P_4*4\n",
    "a=0.00040\n",
    "b=(0.00039996)**0.5"
   ]
  }
 ],
 "metadata": {
  "interpreter": {
   "hash": "e9fd6c6be56567dc879efe7db14b5e3ce588c472dd9c12b78c63f32e96bcc071"
  },
  "kernelspec": {
   "display_name": "Python 3.8.8 64-bit ('base': conda)",
   "name": "python3"
  },
  "language_info": {
   "codemirror_mode": {
    "name": "ipython",
    "version": 3
   },
   "file_extension": ".py",
   "mimetype": "text/x-python",
   "name": "python",
   "nbconvert_exporter": "python",
   "pygments_lexer": "ipython3",
   "version": "3.8.8"
  }
 },
 "nbformat": 4,
 "nbformat_minor": 4
}
