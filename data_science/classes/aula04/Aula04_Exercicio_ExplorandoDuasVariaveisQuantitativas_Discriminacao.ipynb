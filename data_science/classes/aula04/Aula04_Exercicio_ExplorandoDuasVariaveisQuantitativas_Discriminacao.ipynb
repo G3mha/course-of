{
 "cells": [
  {
   "cell_type": "markdown",
   "metadata": {},
   "source": [
    "___\n",
    "# Exercício: Duas variáveis quantitativas com Discriminação Salarial\n",
    "___\n",
    "\n",
    "## Aula 04\n",
    "\n",
    "<div id=\"indice\"></div>\n",
    "\n",
    "## Índice\n",
    "\n",
    "- [Discriminação Salarial](#discriminacao-salarial)\n",
    "    - [Exercício 1](#ex1) **- APS2 disponível no Blackboard**\n",
    "    - [Exercício 2](#ex2) \n",
    "    - [Exercício 3](#ex3) **- APS2 disponível no Blackboard**\n",
    "    - [Exercício 4](#ex4) **- APS2 disponível no Blackboard**\n",
    "    - [Exercício 5](#ex5) **- APS2 disponível no Blackboard**\n",
    "    - [Exercício 6](#ex6) **- APS2 disponível no Blackboard**\n",
    "    - [Exercício 7](#ex7)\n",
    "    - [Exercício 8](#ex8)\n",
    "    - [Exercício 9 [EXTRA]](#ex9)\n",
    "    - [Exercício 10 [EXTRA]](#ex10)\n",
    "    - [Exercício 11 [EXTRA]](#ex11)"
   ]
  },
  {
   "cell_type": "markdown",
   "metadata": {},
   "source": [
    "<div id=\"discriminacao-salarial\"></div>\n",
    "\n",
    "## <font color='blue'>Discriminação Salarial</font>\n",
    "\n",
    "Uma empresa está sendo **acusada de pagar um salário maior para os homens do que para as mulheres**. \n",
    "Para justificar a acusação, apresentou-se uma lista de salários de uma amostra de funcionários. \n",
    "**Essa empresa tem motivos para se preocupar?**\n",
    "\n",
    "A base de dados `Discriminação.xlsx` apresenta, para cada funcionário, as variáveis:\n",
    "\n",
    "1. Sexo (`'fem'` ou `'masc'`);\n",
    "2. Anos (anos no emprego); e \n",
    "3. Salario (salário mensal, em milhares de reais). \n",
    "___"
   ]
  },
  {
   "cell_type": "code",
   "execution_count": 1,
   "metadata": {},
   "outputs": [
    {
     "name": "stdout",
     "output_type": "stream",
     "text": [
      "Esperamos trabalhar no diretório\n",
      "/Users/enriccogemha/Documents/GitHub/CD21-2/aula04\n"
     ]
    }
   ],
   "source": [
    "%matplotlib inline\n",
    "import pandas as pd\n",
    "import matplotlib.pyplot as plt\n",
    "import numpy as np\n",
    "import os\n",
    "\n",
    "print('Esperamos trabalhar no diretório')\n",
    "print(os.getcwd())"
   ]
  },
  {
   "cell_type": "code",
   "execution_count": 2,
   "metadata": {},
   "outputs": [],
   "source": [
    "dados = pd.read_excel('Discriminacao.xlsx')"
   ]
  },
  {
   "cell_type": "code",
   "execution_count": 3,
   "metadata": {},
   "outputs": [
    {
     "data": {
      "text/html": [
       "<div>\n",
       "<style scoped>\n",
       "    .dataframe tbody tr th:only-of-type {\n",
       "        vertical-align: middle;\n",
       "    }\n",
       "\n",
       "    .dataframe tbody tr th {\n",
       "        vertical-align: top;\n",
       "    }\n",
       "\n",
       "    .dataframe thead th {\n",
       "        text-align: right;\n",
       "    }\n",
       "</style>\n",
       "<table border=\"1\" class=\"dataframe\">\n",
       "  <thead>\n",
       "    <tr style=\"text-align: right;\">\n",
       "      <th></th>\n",
       "      <th>Sexo</th>\n",
       "      <th>Anos</th>\n",
       "      <th>Salario</th>\n",
       "    </tr>\n",
       "  </thead>\n",
       "  <tbody>\n",
       "    <tr>\n",
       "      <th>0</th>\n",
       "      <td>fem</td>\n",
       "      <td>9</td>\n",
       "      <td>39</td>\n",
       "    </tr>\n",
       "    <tr>\n",
       "      <th>1</th>\n",
       "      <td>fem</td>\n",
       "      <td>6</td>\n",
       "      <td>36</td>\n",
       "    </tr>\n",
       "    <tr>\n",
       "      <th>2</th>\n",
       "      <td>fem</td>\n",
       "      <td>10</td>\n",
       "      <td>40</td>\n",
       "    </tr>\n",
       "    <tr>\n",
       "      <th>3</th>\n",
       "      <td>fem</td>\n",
       "      <td>0</td>\n",
       "      <td>24</td>\n",
       "    </tr>\n",
       "    <tr>\n",
       "      <th>4</th>\n",
       "      <td>fem</td>\n",
       "      <td>9</td>\n",
       "      <td>36</td>\n",
       "    </tr>\n",
       "  </tbody>\n",
       "</table>\n",
       "</div>"
      ],
      "text/plain": [
       "  Sexo  Anos  Salario\n",
       "0  fem     9       39\n",
       "1  fem     6       36\n",
       "2  fem    10       40\n",
       "3  fem     0       24\n",
       "4  fem     9       36"
      ]
     },
     "execution_count": 3,
     "metadata": {},
     "output_type": "execute_result"
    }
   ],
   "source": [
    "dados.head()"
   ]
  },
  {
   "cell_type": "markdown",
   "metadata": {},
   "source": [
    "___\n",
    "\n",
    "<div id=\"ex1\"></div>\n",
    "\n",
    "### EXERCÍCIO 1:\n",
    "\n",
    "Vamos começar com uma análise descritiva utilizando as ferramentas estatísticas e computacionais que vimos até o momento. Faça essa análise com olhar na preocupação da empresa. Imprima as medidas resumo de posição (média, quartis, máximo, mínimo) e de dispersão (desvio padrão) para o `Salario` dos seguintes grupos:\n",
    "\n",
    "1. Conjunto de dados inteiro\n",
    "2. Somente mulheres\n",
    "3. Somente homens\n",
    "\n",
    "**Preencha os valores das 3 médias na questão 1 da APS2, no Blackboard**."
   ]
  },
  {
   "cell_type": "code",
   "execution_count": 12,
   "metadata": {},
   "outputs": [
    {
     "name": "stdout",
     "output_type": "stream",
     "text": [
      "A média de salário da base de dados completa é: 38.343\n",
      "A média de salário das mulheres é: 35.469\n",
      "A média de salário dos homens é: 40.971\n"
     ]
    }
   ],
   "source": [
    "# Escreva seu código aqui\n",
    "media_sal_all = round((dados.mean())['Salario'], 3)\n",
    "\n",
    "\n",
    "filtr_masc = dados['Sexo']=='masc'\n",
    "filtr_fem = dados['Sexo']=='fem'\n",
    "dados_masc = dados[filtr_masc]\n",
    "dados_fem = dados[filtr_fem]\n",
    "\n",
    "media_sal_masc = round((dados_masc.mean())['Salario'], 3)\n",
    "media_sal_fem = round((dados_fem.mean())['Salario'], 3)\n",
    "\n",
    "\n",
    "\n",
    "\n",
    "print('A média de salário da base de dados completa é: {0}'.format(media_sal_all))\n",
    "print('A média de salário das mulheres é: {0}'.format(media_sal_fem))\n",
    "print('A média de salário dos homens é: {0}'.format(media_sal_masc))"
   ]
  },
  {
   "cell_type": "markdown",
   "metadata": {},
   "source": [
    "<div id=\"ex2\"></div>\n",
    "\n",
    "### EXERCÍCIO 2:\n",
    "\n",
    "Baseando-se nos resultados acima, que hipóteses você pode formular quanto a suspeita de que a empresa está pagando salários mais baixos às mulheres?"
   ]
  },
  {
   "cell_type": "raw",
   "metadata": {},
   "source": [
    "ESCREVA AQUI SUA RESPOSTA\n",
    "Pode-se formular que sim, eles estão pagando uma média salarial mais baixa às mulheres que a média dos homens."
   ]
  },
  {
   "cell_type": "markdown",
   "metadata": {},
   "source": [
    "<div id=\"ex3\"></div>\n",
    "\n",
    "### EXERCÍCIO 3:\n",
    "\n",
    "Calcule os coeficientes de covariância entre as variáveis `Anos` e `Salario` para as mulheres e para os homens, separadamente. **Preencha os dois valores na questão 2 da APS2, no Blackboard**."
   ]
  },
  {
   "cell_type": "code",
   "execution_count": 14,
   "metadata": {},
   "outputs": [
    {
     "name": "stdout",
     "output_type": "stream",
     "text": [
      "O coeficiente de covariância entre as variáveis Anos e Salário das mulheres é: 28.933\n",
      "O coeficiente de covariância entre as variáveis Anos e Salário dos homens é: 61.478\n"
     ]
    }
   ],
   "source": [
    "# Escreva seu código aqui\n",
    "cov_fem = round(dados_fem.Anos.cov(dados_fem.Salario), 3)\n",
    "cov_masc = round(dados_masc.Anos.cov(dados_masc.Salario), 3)\n",
    "\n",
    "print('O coeficiente de covariância entre as variáveis Anos e Salário das mulheres é: {0}'.format(cov_fem))\n",
    "print('O coeficiente de covariância entre as variáveis Anos e Salário dos homens é: {0}'.format(cov_masc))"
   ]
  },
  {
   "cell_type": "markdown",
   "metadata": {},
   "source": [
    "<div id=\"ex4\"></div>\n",
    "\n",
    "### EXERCÍCIO 4:\n",
    "\n",
    "Baseando-se nos **coeficientes de covariância** acima, você pode concluir que (indique todas as opções corretas):\n",
    "\n",
    "<ol style=\"list-style-type: upper-alpha;\">\n",
    "    <li>Existe uma associação linear <b>negativa</b> entre os <code>Anos</code> na empresa e o <code>Salario</code> das mulheres</li>\n",
    "    <li>Existe uma associação linear <b>negativa</b> entre os <code>Anos</code> na empresa e o <code>Salario</code> dos homens</li>\n",
    "    <li>Existe uma associação linear <b>positiva</b> entre os <code>Anos</code> na empresa e o <code>Salario</code> das mulheres</li>\n",
    "    <li>Existe uma associação linear <b>positiva</b> entre os <code>Anos</code> na empresa e o <code>Salario</code> dos homens</li>\n",
    "    <li>Existe uma associação linear <b>fraca</b> entre os <code>Anos</code> na empresa e o <code>Salario</code> das mulheres</li>\n",
    "    <li>Existe uma associação linear <b>fraca</b> entre os <code>Anos</code> na empresa e o <code>Salario</code> dos homens</li>\n",
    "    <li>Existe uma associação linear <b>moderada/forte</b> entre os <code>Anos</code> na empresa e o <code>Salario</code> das mulheres</li>\n",
    "    <li>Existe uma associação linear <b>moderada/forte</b> entre os <code>Anos</code> na empresa e o <code>Salario</code> dos homens</li>\n",
    "</ol>\n",
    "\n",
    "**Indique sua resposta na questão 3 da APS2, no Blackboard.**"
   ]
  },
  {
   "cell_type": "raw",
   "metadata": {},
   "source": [
    "ESCREVA SUA RESPOSTA AQUI\n",
    "As alternativas corretas são:\n",
    " \tC.\t\n",
    "Existe uma associação  linear  positiva entre os Anos na empresa e o Salario das mulheres\n",
    " \tD.\t\n",
    "Existe uma associação  linear  positiva entre os Anos na empresa e o Salario dos homens"
   ]
  },
  {
   "cell_type": "markdown",
   "metadata": {},
   "source": [
    "<div id=\"ex5\"></div>\n",
    "\n",
    "### EXERCÍCIO 5:\n",
    "\n",
    "Calcule os coeficientes de correlação linear entre as variáveis `Anos` e `Salario` para as mulheres e para os homens, separadamente. **Preencha os dois valores na questão 4 da APS2, no Blackboard**."
   ]
  },
  {
   "cell_type": "code",
   "execution_count": 15,
   "metadata": {},
   "outputs": [
    {
     "name": "stdout",
     "output_type": "stream",
     "text": [
      "O coeficiente de correlação linear entre as variáveis Anos e Salário das mulheres é: 0.802\n",
      "O coeficiente de correlação linear entre as variáveis Anos e Salário dos homens é: 0.674\n"
     ]
    }
   ],
   "source": [
    "# Escreva seu código aqui\n",
    "corr_fem = round(dados_fem.Anos.corr(dados_fem.Salario), 3)\n",
    "corr_masc = round(dados_masc.Anos.corr(dados_masc.Salario), 3)\n",
    "\n",
    "print('O coeficiente de correlação linear entre as variáveis Anos e Salário das mulheres é: {0}'.format(corr_fem))\n",
    "print('O coeficiente de correlação linear entre as variáveis Anos e Salário dos homens é: {0}'.format(corr_masc))"
   ]
  },
  {
   "cell_type": "markdown",
   "metadata": {},
   "source": [
    "<div id=\"ex6\"></div>\n",
    "\n",
    "### EXERCÍCIO 6:\n",
    "\n",
    "Baseando-se nos **coeficientes de correlação linear** acima, você pode concluir que (indique todas as opções corretas):\n",
    "\n",
    "<ol style=\"list-style-type: upper-alpha;\">\n",
    "    <li>Existe uma associação linear <b>negativa</b> entre os <code>Anos</code> na empresa e o <code>Salario</code> das mulheres</li>\n",
    "    <li>Existe uma associação linear <b>negativa</b> entre os <code>Anos</code> na empresa e o <code>Salario</code> dos homens</li>\n",
    "    <li>Existe uma associação linear <b>positiva</b> entre os <code>Anos</code> na empresa e o <code>Salario</code> das mulheres</li>\n",
    "    <li>Existe uma associação linear <b>positiva</b> entre os <code>Anos</code> na empresa e o <code>Salario</code> dos homens</li>\n",
    "    <li>Existe uma associação linear <b>fraca</b> entre os <code>Anos</code> na empresa e o <code>Salario</code> das mulheres</li>\n",
    "    <li>Existe uma associação linear <b>fraca</b> entre os <code>Anos</code> na empresa e o <code>Salario</code> dos homens</li>\n",
    "    <li>Existe uma associação linear <b>moderada/forte</b> entre os <code>Anos</code> na empresa e o <code>Salario</code> das mulheres</li>\n",
    "    <li>Existe uma associação linear <b>moderada/forte</b> entre os <code>Anos</code> na empresa e o <code>Salario</code> dos homens</li>\n",
    "</ol>\n",
    "\n",
    "**Indique sua resposta na questão 5 da APS2, no Blackboard.**"
   ]
  },
  {
   "cell_type": "raw",
   "metadata": {},
   "source": [
    "ESCREVA SUA RESPOSTA AQUI\n",
    " \tC.\t\n",
    "Existe uma associação  linear  positiva entre os Anos na empresa e o Salario das mulheres\n",
    " \tD.\t\n",
    "Existe uma associação  linear  positiva entre os Anos na empresa e o Salario dos homens\n",
    " \tG.\t\n",
    "Existe uma associação  linear  moderada/ forte entre os Anos na empresa e o Salario das mulheres\n",
    " \tH.\t\n",
    "Existe uma associação  linear  moderada/ forte entre os Anos na empresa e o Salario dos homens"
   ]
  },
  {
   "cell_type": "markdown",
   "metadata": {},
   "source": [
    "<div id=\"ex7\"></div>\n",
    "\n",
    "### EXERCÍCIO 7:\n",
    "\n",
    "Gere os gráficos de dispersão de anos na empresa versus salário mensal para as mulheres e para os homens. Utilize cores diferentes para cada grupo e gere o gráfico em uma figura única."
   ]
  },
  {
   "cell_type": "code",
   "execution_count": 17,
   "metadata": {},
   "outputs": [
    {
     "data": {
      "image/png": "[encoded data removed]",
      "text/plain": [
       "<Figure size 432x288 with 2 Axes>"
      ]
     },
     "metadata": {
      "needs_background": "light"
     },
     "output_type": "display_data"
    },
    {
     "name": "stdout",
     "output_type": "stream",
     "text": [
      "O gráfico em rosa, representa: Anos na empresa X Salário mensal para as mulheres\n",
      "\n",
      "O gráfico em azul, representa: Anos na empresa X Salário mensal para os homens\n"
     ]
    }
   ],
   "source": [
    "# Escreva seu código aqui\n",
    "plt.subplot(1,2,1)\n",
    "plt.scatter(dados_fem.Anos, dados_fem.Salario, c='pink', alpha=0.4)\n",
    "plt.subplot(1,2,2)\n",
    "plt.scatter(dados_masc.Anos, dados_masc.Salario, c='blue', alpha=0.4)\n",
    "plt.show()\n",
    "\n",
    "print('O gráfico em rosa, representa: Anos na empresa X Salário mensal para as mulheres\\n')\n",
    "print('O gráfico em azul, representa: Anos na empresa X Salário mensal para os homens')"
   ]
  },
  {
   "cell_type": "markdown",
   "metadata": {},
   "source": [
    "<div id=\"ex8\"></div>\n",
    "\n",
    "### EXERCÍCIO 8:\n",
    "\n",
    "Como as informações do gráfico acima se relacionam às suas hipóteses no [exercício 2](#ex2)? Você mudaria a sua opinião quanto à suspeita de discriminação salarial? Explique."
   ]
  },
  {
   "cell_type": "raw",
   "metadata": {},
   "source": [
    "ESCREVA AQUI SUA RESPOSTA\n",
    "Ainda não mudaria pois é visível a diferença salarial entre homens e mulheres."
   ]
  },
  {
   "cell_type": "markdown",
   "metadata": {},
   "source": [
    "<div id=\"ex9\"></div>\n",
    "\n",
    "### EXERCÍCIO 9 [EXTRA]:\n",
    "\n",
    "Vamos analisar os dados divididos por faixas de anos na empresa. Crie uma nova coluna `'Faixa'` em `dados` contendo as faixas de anos na empresa. Divida a variável `Anos` em tantas faixas necessárias necessárias para iniciar em 0 (inclusive) e terminar em 30 (exclusive) com amplitude das faixas de 3 anos. *Dica: use a função `pd.cut` e altere alguns argumentos dessa função*.\n"
   ]
  },
  {
   "cell_type": "code",
   "execution_count": null,
   "metadata": {},
   "outputs": [],
   "source": [
    "# Escreva seu código aqui\n"
   ]
  },
  {
   "cell_type": "markdown",
   "metadata": {},
   "source": [
    "<div id=\"ex10\"></div>\n",
    "\n",
    "### EXERCÍCIO 10 &#x2605;&#x2605;&#x2605; [EXTRA]:\n",
    "\n",
    "Imprima as mesmas estatísticas do [exercício 1](#ex1) (salários de todas as pessoas da base de dados, salários das mulheres e salários dos homens), mas agora agrupando por `Faixa`. *Dica: use a função `.groupby` de um `DataFrame`.*"
   ]
  },
  {
   "cell_type": "code",
   "execution_count": null,
   "metadata": {},
   "outputs": [],
   "source": [
    "# Escreva seu código aqui\n"
   ]
  },
  {
   "cell_type": "markdown",
   "metadata": {},
   "source": [
    "<div id=\"ex11\"></div>\n",
    "\n",
    "### EXERCÍCIO 11 [EXTRA]:\n",
    "\n",
    "O resultado acima dá indícios para confirmar ou rejeitar a sua hipótese do [exercício 8](#ex8)?"
   ]
  },
  {
   "cell_type": "raw",
   "metadata": {},
   "source": [
    "ESCREVA AQUI SUA RESPOSTA"
   ]
  }
 ],
 "metadata": {
  "anaconda-cloud": {},
  "kernelspec": {
   "display_name": "Python 3",
   "language": "python",
   "name": "python3"
  },
  "language_info": {
   "codemirror_mode": {
    "name": "ipython",
    "version": 3
   },
   "file_extension": ".py",
   "mimetype": "text/x-python",
   "name": "python",
   "nbconvert_exporter": "python",
   "pygments_lexer": "ipython3",
   "version": "3.8.8"
  }
 },
 "nbformat": 4,
 "nbformat_minor": 2
}
