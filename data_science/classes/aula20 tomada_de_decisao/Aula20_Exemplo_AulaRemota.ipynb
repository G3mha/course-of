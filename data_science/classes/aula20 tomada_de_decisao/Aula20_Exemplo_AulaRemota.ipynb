{
 "cells": [
  {
   "cell_type": "markdown",
   "metadata": {},
   "source": [
    "___\n",
    "# Exemplo: Teste de hipóteses\n",
    "\n",
    "___\n",
    "## Aula 20\n"
   ]
  },
  {
   "cell_type": "code",
   "execution_count": 1,
   "metadata": {},
   "outputs": [],
   "source": [
    "from scipy import stats\n",
    "from math import sqrt"
   ]
  },
  {
   "cell_type": "markdown",
   "metadata": {},
   "source": [
    "___\n",
    "## Problema - Aulas remotas\n",
    "\n",
    "Nas épocas de aulas presenciais, a distribuição de probabilidades das notas em determinada prova historicamente se comportava como uma normal com média igual a 6 e desvio padrão igual a 0,8. \n",
    "\n",
    "Devido ao novo formato de alunas remotas, alguns especialistas desconfiam que a nota média nessa prova tenha aumentado. Ainda, segundo esses especialistas, não existem razões para acreditar em alterações no valor do desvio padrão, na distribuição de probabilidades da variável de interesse e nem que a média tenha diminuído.\n",
    "\n",
    "Como verificar se os especialistas estão certos?\n"
   ]
  },
  {
   "cell_type": "code",
   "execution_count": 2,
   "metadata": {},
   "outputs": [],
   "source": [
    "# Escreva suas hipóteses aqui\n",
    "'''\n",
    "X: nota de cada aluno no momento esperado\n",
    "E(X) = mu: verdadeira média populacional PROBLEMA\n",
    "Var(X) = sigma**2\n",
    "\n",
    "X ~ Normal\n",
    "\n",
    "Xbarra ~ N(mu, sigma**2/n) variância da média ESTIMADOR\n",
    "H0: mu = 6 - presencial\n",
    "H1: mu < 6 PERGUNTA - remoto\n",
    "'''\n",
    "mu = 6 #Sob H0\n",
    "sigma = 0.8"
   ]
  },
  {
   "cell_type": "markdown",
   "metadata": {},
   "source": [
    "**Continuação...**\n",
    "\n",
    "Supondo 𝐻_0 verdadeira, ou seja, 𝜇=6 e selecionando uma amostra aleatória de 𝑛=36 provas.\n",
    "Encontre 𝑐 tal que 𝛼 seja igual a 5%."
   ]
  },
  {
   "cell_type": "code",
   "execution_count": 3,
   "metadata": {},
   "outputs": [],
   "source": [
    "# Escreva seu código aqui\n",
    "n = 36\n",
    "mu_Xbarra = mu #Sob H0\n",
    "sigma_Xbarra = sigma/n**0.5"
   ]
  },
  {
   "cell_type": "markdown",
   "metadata": {},
   "source": [
    "**Continuação...**\n",
    "\n",
    "Fato: Uma amostra aleatória de 𝑛=36 provas foi selecionada no momento com as aulas remotas e foi observada uma média amostral igual a 6,5 (**estimativa**). Qual sua conclusão com relação ao problema?\n"
   ]
  },
  {
   "cell_type": "code",
   "execution_count": 4,
   "metadata": {},
   "outputs": [
    {
     "name": "stdout",
     "output_type": "stream",
     "text": [
      "Regra de decisão: se a média amostral for superior ao valor 6.219313816926863, então rejeitamos H0\n",
      "Ou seja, aula remota tem nota média superior ao das aulas presenciais\n"
     ]
    }
   ],
   "source": [
    "# Escreva seu código aqui\n",
    "alpha = 0.05 #nível de significância ou  P(erro I) = P(rejeitar H0 dado H0 é verdadeiro)\n",
    "c = stats.norm.ppf(1-alpha, loc=mu_Xbarra, scale=sigma_Xbarra) #ponto de corte\n",
    "print(f'Regra de decisão: se a média amostral for superior ao valor {c}, então rejeitamos H0')\n",
    "print(f'Ou seja, aula remota tem nota média superior ao das aulas presenciais')"
   ]
  }
 ],
 "metadata": {
  "kernelspec": {
   "display_name": "Python 3",
   "language": "python",
   "name": "python3"
  },
  "language_info": {
   "codemirror_mode": {
    "name": "ipython",
    "version": 3
   },
   "file_extension": ".py",
   "mimetype": "text/x-python",
   "name": "python",
   "nbconvert_exporter": "python",
   "pygments_lexer": "ipython3",
   "version": "3.8.8"
  }
 },
 "nbformat": 4,
 "nbformat_minor": 2
}
