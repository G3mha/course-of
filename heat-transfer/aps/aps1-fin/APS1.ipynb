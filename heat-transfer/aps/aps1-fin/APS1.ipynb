{
 "cells": [
  {
   "attachments": {},
   "cell_type": "markdown",
   "metadata": {},
   "source": [
    "# APS 1 - Aletas"
   ]
  },
  {
   "attachments": {},
   "cell_type": "markdown",
   "metadata": {},
   "source": [
    "### Realizando os imports"
   ]
  },
  {
   "cell_type": "code",
   "execution_count": 1,
   "metadata": {},
   "outputs": [],
   "source": [
    "from math import *\n",
    "import matplotlib.pyplot as plt\n",
    "import numpy as np"
   ]
  },
  {
   "attachments": {},
   "cell_type": "markdown",
   "metadata": {},
   "source": [
    "### Definindo parâmetros"
   ]
  },
  {
   "attachments": {},
   "cell_type": "markdown",
   "metadata": {},
   "source": [
    "Seleciona-se a secção transversal da aleta retangular, bem como os parâmetros de cálculo."
   ]
  },
  {
   "cell_type": "code",
   "execution_count": 2,
   "metadata": {},
   "outputs": [],
   "source": [
    "L = 0.2 # Comprimento da aleta [m]\n",
    "t = 20e-3 # Espessura da aleta [m]\n",
    "w = 0.24 # Largura da aleta [m]\n",
    "\n",
    "P = 2*(t+w) # Perímetro da seção transversal [m]\n",
    "\n",
    "h = 20 # Coeficiente de convecção em [W/(m^2 * K)]\n",
    "\n",
    "A_Lt = L * t # Área lateral [m^2]\n",
    "A_wt = w * t # Área frontal [m^2]\n",
    "A_Lw = L * w # Área da base [m^2]\n",
    "A_ext = (2 * A_Lt) + A_wt + (2 * A_Lw) # Área da superfície externa [m^2]\n",
    "\n",
    "k_al = 240 # Condutividade do material em [W/(m * K)]\n",
    "T_inf = 25+273 # Temperatura do ambiente [K]\n",
    "T_b = 100+273 # temperatura da base [K]\n",
    "x = L # Condição de contorno na extremidade da aleta [m]\n",
    "\n",
    "\n",
    "\n",
    "m = sqrt((h*P)/(k_al*A_wt))\n",
    "M = sqrt(((h*P)/(k_al*A_wt))) * (T_b - T_inf)"
   ]
  },
  {
   "attachments": {},
   "cell_type": "markdown",
   "metadata": {},
   "source": [
    "### Questão I.1 \n",
    "Qual a temperatura na extremidade da aleta (```T_al```)? Apresente um gráfico da distribuição de temperatura (```T_analitica```) ao longo do comprimento da aleta. Use legenda, identifique os eixos e as unidades usadas."
   ]
  },
  {
   "cell_type": "code",
   "execution_count": 3,
   "metadata": {},
   "outputs": [],
   "source": [
    "def calcula_temperatura_pontual_aleta(h, k, L, x, m, T_b, T_inf):\n",
    "    hmk = h / (m * k) # abstração de valor repetido\n",
    "    numerador = cosh(m * (L - x)) + hmk * sinh(m * (L - x))\n",
    "    denominador = cosh(m * L) + hmk * sinh(m * L)\n",
    "    distribuicao_de_temperaturas = numerador / denominador\n",
    "    T_al = (distribuicao_de_temperaturas * (T_b - T_inf)) + T_inf\n",
    "    return T_al"
   ]
  },
  {
   "cell_type": "code",
   "execution_count": 4,
   "metadata": {},
   "outputs": [
    {
     "name": "stdout",
     "output_type": "stream",
     "text": [
      "Temperatura na extremidade da aleta: 360.306 K\n"
     ]
    },
    {
     "data": {
      "image/png": "[encoded data removed]",
      "text/plain": [
       "<Figure size 432x288 with 1 Axes>"
      ]
     },
     "metadata": {
      "needs_background": "light"
     },
     "output_type": "display_data"
    }
   ],
   "source": [
    "# Gráfico da distribuição de temperaturas ao longo do comprimento da aleta\n",
    "\n",
    "l_aleta_dist_temp = []\n",
    "step=0.001; l_aleta_x = np.arange(0, L+step, step)\n",
    "\n",
    "for x in l_aleta_x:\n",
    "    T_al = (calcula_temperatura_pontual_aleta(h, k_al, L, x, m, T_b, T_inf))\n",
    "    l_aleta_dist_temp.append(T_al)\n",
    "print(f\"Temperatura na extremidade da aleta: {round(l_aleta_dist_temp[-1], 3)} K\")\n",
    "\n",
    "\n",
    "# plote o gráfico com eixo x sendo ``l_aleta_x`` e eixo y sendo ``l_aleta_dist_temp``\n",
    "plt.plot(l_aleta_x, l_aleta_dist_temp)\n",
    "plt.xlabel(\"Comprimento da aleta [m]\")\n",
    "plt.ylabel(\"Temperatura [K]\")\n",
    "plt.title(\"Distribuição de temperaturas ao longo do comprimento da aleta\")\n",
    "plt.show()"
   ]
  },
  {
   "attachments": {},
   "cell_type": "markdown",
   "metadata": {},
   "source": [
    "### Questão I.2\n",
    "Determine a taxa de transferência de calor."
   ]
  },
  {
   "cell_type": "code",
   "execution_count": 5,
   "metadata": {},
   "outputs": [
    {
     "name": "stdout",
     "output_type": "stream",
     "text": [
      "Taxa de transferência de calor: 125.548 W\n"
     ]
    }
   ],
   "source": [
    "\n",
    "def calcula_transferencia_de_calor(h, P, k, A, L, x, T_inf, T_b):\n",
    "    \"\"\"\n",
    "    Output: taxa de transferência de calor por convecção\n",
    "    \"\"\"\n",
    "    M = sqrt(((h*P)/(k*A))) * (T_b - T_inf)\n",
    "    m = sqrt(((h*P)/(k*A)))\n",
    "    # calcula_M\n",
    "    # calcula_m())\n",
    "    hmk = h / (m * k)\n",
    "    numerador = sinh(m * L) + hmk * cosh(m * L)\n",
    "    denominador = cosh(m * L) + hmk * sinh(m * L)\n",
    "    taxa_transferencia_de_calor = M * (numerador / denominador)\n",
    "    return taxa_transferencia_de_calor\n",
    "\n",
    "taxa_transferencia_de_calor = calcula_transferencia_de_calor(h, P, k_al, A_wt, L, x, T_inf, T_b)\n",
    "\n",
    "print(f\"Taxa de transferência de calor: {round(taxa_transferencia_de_calor,3)} W\")\n"
   ]
  },
  {
   "attachments": {},
   "cell_type": "markdown",
   "metadata": {},
   "source": [
    "### Questão I.3\n",
    "Determine a eficiência da aleta."
   ]
  },
  {
   "cell_type": "code",
   "execution_count": 6,
   "metadata": {},
   "outputs": [
    {
     "name": "stdout",
     "output_type": "stream",
     "text": [
      "Eficiênica da aleta: 0.769\n"
     ]
    }
   ],
   "source": [
    "eficiencia = taxa_transferencia_de_calor/(h * A_ext * (T_b - T_inf))\n",
    "print(f\"Eficiênica da aleta: {round(eficiencia,3)}\")"
   ]
  },
  {
   "attachments": {},
   "cell_type": "markdown",
   "metadata": {},
   "source": [
    "### Questão I.4\n",
    "Determine a efetividade da aleta."
   ]
  },
  {
   "cell_type": "code",
   "execution_count": 7,
   "metadata": {},
   "outputs": [
    {
     "name": "stdout",
     "output_type": "stream",
     "text": [
      "Efetividade: 17.437\n"
     ]
    }
   ],
   "source": [
    "efetividade = taxa_transferencia_de_calor/(h * A_wt * (T_b - T_inf))\n",
    "print(f\"Efetividade: {round(efetividade,3)}\")"
   ]
  },
  {
   "attachments": {},
   "cell_type": "markdown",
   "metadata": {},
   "source": [
    "### Questão I.5\n",
    "Assumindo a hipótese de aleta infinita, determine a taxa de transferência de calor."
   ]
  },
  {
   "cell_type": "code",
   "execution_count": 8,
   "metadata": {},
   "outputs": [
    {
     "name": "stdout",
     "output_type": "stream",
     "text": [
      "Taxa de transferência de calor: 225.347 W, considerando a aleta infinita\n"
     ]
    }
   ],
   "source": [
    "# taxa_transferencia_de_calor_aleta_infinita = (np.exp(-m*x) * (T_b - T_inf)) + T_inf\n",
    "print(f\"Taxa de transferência de calor: {round(M,3)} W, considerando a aleta infinita\")"
   ]
  },
  {
   "attachments": {},
   "cell_type": "markdown",
   "metadata": {},
   "source": [
    "### Questão I.6\n",
    "Compare o resultado obtido no item 2 com o resultado do item 5, assumindo que foram \n",
    "obtidos com modelos diferentes."
   ]
  },
  {
   "cell_type": "code",
   "execution_count": 9,
   "metadata": {},
   "outputs": [
    {
     "name": "stdout",
     "output_type": "stream",
     "text": [
      "O resultado obtido em I.5 foi 1.79 vezes maior que em I.2, sendo:\n",
      "\n",
      " - a taxa de transferência de calor da aleta finita: 125.548 W;\n",
      " - e da aleta infinita 225.347 W;\n",
      "\n",
      "Com isso, conlui-se que o ganho com a aleta infinita não é justificável,\n",
      "dado sua complexidade teorética de implementação.\n"
     ]
    }
   ],
   "source": [
    "print(f\"O resultado obtido em I.5 foi {round(M/taxa_transferencia_de_calor,2)} vezes maior que em I.2, sendo:\\n\\n - a taxa de transferência de calor da aleta finita: {round(taxa_transferencia_de_calor,3)} W;\\n - e da aleta infinita {round(M,3)} W;\\n\\nCom isso, conlui-se que o ganho com a aleta infinita não é justificável,\\ndado sua complexidade teorética de implementação.\")"
   ]
  },
  {
   "attachments": {},
   "cell_type": "markdown",
   "metadata": {},
   "source": [
    "### Questão I.7\n",
    "Apresente o desenvolvimento matemático para determinar qual deveria ser o comprimento da aleta para que a hipótese de aleta infinita forneça uma medida precisa para a taxa de transferência de calor."
   ]
  },
  {
   "attachments": {},
   "cell_type": "markdown",
   "metadata": {},
   "source": [
    "Para uma aleta infinita, temos que: \n",
    "\n",
    "$\\theta_L = 0$;\n",
    "\n",
    "$T(L) = T_{amb}$.\n",
    "\n",
    "Portanto, podemos considerar uma condição adiabática na extremidade da aleta. Com isso, concluímos que:\n",
    "\n",
    "$M \\approx M \\cdot \\tanh(m \\cdot L)$\n",
    "\n",
    "$\\tanh(m \\cdot L) \\geq 0.99$\n"
   ]
  },
  {
   "cell_type": "code",
   "execution_count": 10,
   "metadata": {},
   "outputs": [
    {
     "name": "stdout",
     "output_type": "stream",
     "text": [
      "O comprimento mínimo que a aleta deve adotar é: 4.343 m.\n"
     ]
    }
   ],
   "source": [
    "L = 0\n",
    "THRESHOLD = 1e-4\n",
    "\n",
    "def distribuicao_temperatura_aleta_infinita(m, x, T_b, T_inf):\n",
    "    return (np.exp(-m*x) * (T_b - T_inf)) + T_inf\n",
    "\n",
    "T_aleta_infinita = distribuicao_temperatura_aleta_infinita(m, l_aleta_x[-1], T_b, T_inf)\n",
    "\n",
    "is_temp_aleta_infinita = True\n",
    "while (is_temp_aleta_infinita):\n",
    "    area_superficie_infinita = A_wt + P*L\n",
    "    m = sqrt((h*P)/(k_al*area_superficie_infinita))\n",
    "    temp = distribuicao_temperatura_aleta_infinita(m, L, T_b, T_inf)\n",
    "    is_temp_aleta_infinita = not(temp - T_aleta_infinita < THRESHOLD)\n",
    "    L += THRESHOLD\n",
    "\n",
    "print(f\"O comprimento mínimo que a aleta deve adotar é: {round(L,3)} m.\")"
   ]
  }
 ],
 "metadata": {
  "kernelspec": {
   "display_name": "Python 3",
   "language": "python",
   "name": "python3"
  },
  "language_info": {
   "codemirror_mode": {
    "name": "ipython",
    "version": 3
   },
   "file_extension": ".py",
   "mimetype": "text/x-python",
   "name": "python",
   "nbconvert_exporter": "python",
   "pygments_lexer": "ipython3",
   "version": "3.9.14"
  },
  "orig_nbformat": 4,
  "vscode": {
   "interpreter": {
    "hash": "b0fa6594d8f4cbf19f97940f81e996739fb7646882a419484c72d19e05852a7e"
   }
  }
 },
 "nbformat": 4,
 "nbformat_minor": 2
}
