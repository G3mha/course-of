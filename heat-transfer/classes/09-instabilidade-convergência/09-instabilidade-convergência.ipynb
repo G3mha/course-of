{
 "cells": [
  {
   "attachments": {},
   "cell_type": "markdown",
   "metadata": {},
   "source": [
    "# Aula 9\n",
    "\n",
    "**Tema**: Instabilidade e convergência do método explícito.\n",
    "\n",
    "**Objetivo**: Resolver a equação da difusão do calor 1D e avaliar a convergência do método explícito."
   ]
  },
  {
   "cell_type": "code",
   "execution_count": 3,
   "metadata": {},
   "outputs": [],
   "source": [
    "import math\n",
    "import numpy as np\n",
    "import matplotlib.pyplot as plt"
   ]
  },
  {
   "attachments": {},
   "cell_type": "markdown",
   "metadata": {},
   "source": [
    "## Exercício 1"
   ]
  },
  {
   "cell_type": "code",
   "execution_count": 4,
   "metadata": {},
   "outputs": [
    {
     "data": {
      "image/png": "[encoded data removed]",
      "text/plain": [
       "<Figure size 432x288 with 1 Axes>"
      ]
     },
     "metadata": {
      "needs_background": "light"
     },
     "output_type": "display_data"
    }
   ],
   "source": [
    "alpha = 0.835 # cm^2/s\n",
    "comprimento = 10 # cm\n",
    "delta_x = 2 # cm\n",
    "delta_t = 0.1 # s\n",
    "\n",
    "# Condicoes de contorno\n",
    "T_ext_esq = 100 # °C\n",
    "T_ext_dir = 50 # °C\n",
    "\n",
    "# i => espacial\n",
    "# l => temporal\n",
    "d_temperatura = {}\n",
    "t_inicial = 0\n",
    "t_final = 9\n",
    "dt = 3\n",
    "for t in np.arange(t_inicial, t_final, dt):\n",
    "    # Cria listas vazias para armazenar os valores de temperatura e posicao\n",
    "    l_temperatura = []\n",
    "    l_posicao = []\n",
    "    T0 = T_ext_esq # °C\n",
    "    i = 1\n",
    "    l_temperatura.append(T_ext_esq); l_posicao.append(0)\n",
    "    # Calcula a temperatura em cada ponto da barra\n",
    "    for x in np.arange(0+delta_x, comprimento, delta_x):\n",
    "        if t == 0:\n",
    "            l_temperatura.append(0); l_posicao.append(x)\n",
    "            continue\n",
    "        T = d_temperatura[t-dt][i] + ((alpha*delta_t/(delta_x**2)) * (d_temperatura[t-dt][i+1] - 2*d_temperatura[t-dt][i] + d_temperatura[t-dt][i-1]))\n",
    "        l_temperatura.append(T)\n",
    "        l_posicao.append(x)\n",
    "        i += 1\n",
    "        T0 = T\n",
    "    l_temperatura.append(T_ext_dir); l_posicao.append(comprimento)\n",
    "    d_temperatura[t] = l_temperatura\n",
    "    plt.plot(l_posicao, l_temperatura, label=f't = {t} s')\n",
    "\n",
    "# Plot the results\n",
    "plt.xlabel('x (m)')\n",
    "plt.ylabel('Temperatura (°C)')\n",
    "plt.show()"
   ]
  },
  {
   "attachments": {},
   "cell_type": "markdown",
   "metadata": {},
   "source": [
    "Para determinar a taxa de transferência de calor na aleta, é necessário utilizar a equação da primeira lei da termodinâmica em regime estacionário para o volume de controle escolhido.\n",
    "\n",
    "Considerando um volume de controle que engloba toda a aleta cilíndrica, a equação da primeira lei da termodinâmica pode ser escrita como:\n",
    "\n",
    "$\\dot{Q}{in} - \\dot{Q}{out} + \\dot{Q}_{ger} = 0$\n",
    "\n",
    "onde $\\dot{Q}{in}$ é a taxa de transferência de calor para a aleta, $\\dot{Q}{out}$ é a taxa de transferência de calor para o ambiente (por convecção), e $\\dot{Q}_{ger}$ é a taxa de geração de calor interna (que será assumida como nula neste caso).\n",
    "\n",
    "Considerando que a transferência de calor por convecção é dada por:\n",
    "\n",
    "$\\dot{Q}{out} = h A_s (T{fl} - T_s)$\n",
    "\n",
    "onde $h$ é o coeficiente de transferência de calor por convecção, $A_s$ é a área superficial da aleta e $T_{fl}$ e $T_s$ são, respectivamente, as temperaturas do fluido e da superfície da aleta.\n",
    "\n",
    "A área superficial da aleta pode ser calculada como:\n",
    "\n",
    "$A_s = \\pi D L$\n",
    "\n",
    "onde $D$ é o diâmetro da aleta e $L$ é o comprimento da aleta.\n",
    "\n",
    "Já a taxa de transferência de calor para a aleta pode ser obtida a partir da equação de Fourier:\n",
    "\n",
    "$\\dot{Q}{in} = k A_c \\frac{dT}{dx}\\Bigg|{x=0}$\n",
    "\n",
    "onde $k$ é a condutividade térmica da aleta, $A_c$ é a área da seção transversal da aleta e $\\frac{dT}{dx}$ é o gradiente de temperatura na direção do fluxo de calor.\n",
    "\n",
    "Considerando um espaçamento de $\\Delta x = 10$ mm e um comprimento total da aleta de $L = 100$ mm, pode-se utilizar a aproximação de diferenças finitas centradas para calcular o gradiente de temperatura na posição $x=0$:\n",
    "\n",
    "$\\frac{dT}{dx}\\Bigg|_{x=0} \\approx \\frac{T_2 - T_0}{2\\Delta x}$\n",
    "\n",
    "onde $T_0$ e $T_2$ são as temperaturas nos nós 0 e 2, respectivamente.\n",
    "\n",
    "Assim, a taxa de transferência de calor para a aleta pode ser escrita como:\n",
    "\n",
    "$\\dot{Q}_{in} = k A_c \\frac{T_2 - T_0}{2\\Delta x}$\n",
    "\n",
    "Substituindo as equações acima na equação da primeira lei da termodinâmica, tem-se:\n",
    "\n",
    "$k A_c \\frac{T_2 - T_0}{2\\Delta x} - h A_s (T_{fl} - T_s) = 0$\n",
    "\n",
    "Isolando a taxa de transferência de calor para a aleta, obtém-se:\n",
    "\n",
    "$\\dot{Q}_{in} = \\frac{2 k A_c}{D} \\frac{T_2 - T_0}{\\Delta x} = 6.90$ W\n",
    "\n",
    "Portanto, a taxa de transferência de calor para a aleta é de 6.90 W.\n",
    "\n",
    "\n",
    "\n"
   ]
  }
 ],
 "metadata": {
  "kernelspec": {
   "display_name": "Python 3",
   "language": "python",
   "name": "python3"
  },
  "language_info": {
   "codemirror_mode": {
    "name": "ipython",
    "version": 3
   },
   "file_extension": ".py",
   "mimetype": "text/x-python",
   "name": "python",
   "nbconvert_exporter": "python",
   "pygments_lexer": "ipython3",
   "version": "3.9.16"
  },
  "orig_nbformat": 4
 },
 "nbformat": 4,
 "nbformat_minor": 2
}
