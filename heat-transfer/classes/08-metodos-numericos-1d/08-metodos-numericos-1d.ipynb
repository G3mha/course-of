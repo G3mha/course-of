{
 "cells": [
  {
   "attachments": {},
   "cell_type": "markdown",
   "metadata": {},
   "source": [
    "# Aula 8 \n",
    "\n",
    "- **Objetivo**: Resolver a equação da difusão do calor 1D usando o método numérico das diferenças finitas."
   ]
  },
  {
   "cell_type": "code",
   "execution_count": 7,
   "metadata": {},
   "outputs": [],
   "source": [
    "import math\n",
    "import numpy as np\n",
    "import matplotlib.pyplot as plt"
   ]
  },
  {
   "attachments": {},
   "cell_type": "markdown",
   "metadata": {},
   "source": [
    "## Exercise 1\n",
    "Desenvolva um programa em Python para obter um gráfico de _velocidade x tempo_ para a velocidade de queda do paraquedista. Use um passo de 2 segundos no tempo e considere que o coeficiente de arrasto $c=12,5 kg/s$, a massa do paraquedista é $68,1 kg$ e $g = 9,81 m/s^2$ (O paraquedista parte do repouso em $t = 0$)."
   ]
  },
  {
   "cell_type": "code",
   "execution_count": 8,
   "metadata": {},
   "outputs": [
    {
     "data": {
      "image/png": "[encoded data removed]",
      "text/plain": [
       "<Figure size 432x288 with 1 Axes>"
      ]
     },
     "metadata": {
      "needs_background": "light"
     },
     "output_type": "display_data"
    }
   ],
   "source": [
    "# Initial parameters\n",
    "step = 2 # seconds\n",
    "c = 12.5 # kg/s\n",
    "m = 68.1 # kg\n",
    "g = 9.81 # m/s^2\n",
    "\n",
    "# Initial conditions\n",
    "v0 = 0 # m/s\n",
    "t0 = 0 # s\n",
    "\n",
    "# Create empty lists to store the results\n",
    "velocity_list = [v0]\n",
    "time_list = [t0]\n",
    "\n",
    "t = t0\n",
    "v = v0\n",
    "while t < 12:\n",
    "    # Update the time and velocity\n",
    "    dv_dt = g - (c*v/m)\n",
    "    v += dv_dt * step\n",
    "    t += step\n",
    "    # Append the time and velocity to the list\n",
    "    time_list.append(t)\n",
    "    velocity_list.append(v)\n",
    "\n",
    "# Plot the results\n",
    "plt.plot(time_list, velocity_list)\n",
    "plt.xlabel('Time (s)')\n",
    "plt.ylabel('Velocity (m/s)')\n",
    "plt.legend(['Numerical solution'])\n",
    "plt.show()"
   ]
  },
  {
   "attachments": {},
   "cell_type": "markdown",
   "metadata": {},
   "source": [
    "## Taylor Series\n",
    "\n",
    "It gives a way to discover the value of a function in a point, in terms of the function value and its derivatives in another point, if $f$ and its $n+1$ derivatives are continuous in an interval containing $x_{i}$ and $x_{i+a}$."
   ]
  },
  {
   "attachments": {},
   "cell_type": "markdown",
   "metadata": {},
   "source": [
    "### Approximating numerical derivatives\n",
    "\n",
    "- First derivative by progressive subtraction: $f'(x_i)\\approx \\frac{f(x_{i+1})-f(x_{i})}{h}$\n",
    "\n",
    "- First derivative by regressive subtraction: $f'(x_i)\\approx \\frac{f(x_{i})-f(x_{i-1})}{h}$\n",
    "\n",
    "- First derivative by centered subtraction: $f'(x_i)\\approx \\frac{f(x_{i+1})-f(x_{i-1})}{2h}$\n",
    "\n",
    "- Second derivative by centered subtraction: $f''(x_i)\\approx \\frac{f(x_{i+1})-2f(x_{i})+f(x_{i-1})}{h^2}$"
   ]
  },
  {
   "attachments": {},
   "cell_type": "markdown",
   "metadata": {},
   "source": [
    "## Finite Differences Method\n",
    "\n",
    "The finite differences method is a numerical method to solve differential equations. It is based on the Taylor series expansion of a function $f(x)$ around a point $x_{i}$, which is a linear approximation of the function in the neighborhood of $x_{i}$."
   ]
  },
  {
   "attachments": {},
   "cell_type": "markdown",
   "metadata": {},
   "source": [
    "The equation for the a one-dimensioned heat equation is:\n",
    "\n",
    "$$T^{l+1}_i = \\frac{\\alpha \\Delta t}{\\Delta x^2} (T^{l+1}_i - 2T^{l}_i + T^{l-1}_i) + T^{l}_i$$"
   ]
  },
  {
   "attachments": {},
   "cell_type": "markdown",
   "metadata": {},
   "source": [
    "## Exercise 2\n",
    "Uma barra de alumínio com 50 cm de comprimento (e dimensões desprezíveis em relação ao eixo y e z) foi isolada termicamente em ambos os lados de modo a não trocar calor com o ambiente externo. Inicialmente, essa barra foi mantida a uma temperatura constante de 20ºC e suas extremidades foram mantidas a 0ºC, como ilustra a figura. Sabendo que o alumínio possui difusividade térmica $\\alpha = 1 cm^2/s$, desenvolva um programa em Python e construa um gráfico _Temperatura x Posição_ após 500 segundos.\n",
    "\n",
    "- Condições inicias: $T(x,0) = 20$ para $0 < x < 50cm$\n",
    "\n",
    "- Condições de contorno: $T(0,t) = 0$ e $T(L,t) = 0$ para $t > 0$\n",
    "\n",
    "- Use uma malha uniforme com espaçamento de 5cm no comprimento da barra $\\Delta x$ e 5s no tempo $\\Delta t$, de modo que $\\alpha \\frac{\\Delta t}{\\Delta x^2} = 0,2$\n",
    "\n",
    "\n",
    "![model](/Users/enriccogemha/Developer/Heat-Transfer/classes/08-numerical-methods/img/class08_ex2.png)"
   ]
  },
  {
   "cell_type": "code",
   "execution_count": 10,
   "metadata": {},
   "outputs": [
    {
     "data": {
      "image/png": "[encoded data removed]",
      "text/plain": [
       "<Figure size 432x288 with 1 Axes>"
      ]
     },
     "metadata": {
      "needs_background": "light"
     },
     "output_type": "display_data"
    }
   ],
   "source": [
    "T0 = 20 # °C\n",
    "T_ext = 0 # °C\n",
    "alpha = 0.0001 # 1/°C\n",
    "\n",
    "\n",
    "# Create empty lists to store the results\n",
    "temperature_list = [T0]\n",
    "time_list = [t0]\n",
    "\n",
    "t = t0\n",
    "T = T0\n",
    "while t < 500:\n",
    "    # Update the time and temperature\n",
    "    dT_dt = alpha * (T_ext - T)\n",
    "    T += dT_dt * step\n",
    "    t += step\n",
    "    # Append the time and temperature to the list\n",
    "    time_list.append(t)\n",
    "    temperature_list.append(T)\n",
    "\n",
    "# Plot the results\n",
    "plt.plot(time_list, temperature_list)\n",
    "plt.xlabel('Time (s)')\n",
    "plt.ylabel('Temperature (°C)')\n",
    "plt.legend(['Numerical solution'])\n",
    "plt.show() ## nao sei se precisa corrigir"
   ]
  }
 ],
 "metadata": {
  "kernelspec": {
   "display_name": "Python 3",
   "language": "python",
   "name": "python3"
  },
  "language_info": {
   "codemirror_mode": {
    "name": "ipython",
    "version": 3
   },
   "file_extension": ".py",
   "mimetype": "text/x-python",
   "name": "python",
   "nbconvert_exporter": "python",
   "pygments_lexer": "ipython3",
   "version": "3.9.16"
  },
  "orig_nbformat": 4
 },
 "nbformat": 4,
 "nbformat_minor": 2
}
