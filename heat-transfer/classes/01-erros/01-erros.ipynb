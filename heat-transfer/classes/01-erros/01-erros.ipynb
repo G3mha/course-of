{
 "cells": [
  {
   "attachments": {},
   "cell_type": "markdown",
   "metadata": {},
   "source": [
    "# Aula 1\n",
    "\n",
    "- **Objetivo**: Avaliar o erro na solução usando procedimentos iterativos."
   ]
  },
  {
   "cell_type": "code",
   "execution_count": 1,
   "metadata": {},
   "outputs": [],
   "source": [
    "import math\n",
    "import numpy as np\n",
    "import matplotlib.pyplot as plt"
   ]
  },
  {
   "attachments": {},
   "cell_type": "markdown",
   "metadata": {},
   "source": [
    "## Aproximações e fontes de erro\n",
    "\n",
    "- **Modelo matemático**: Erros de aproximação do modelo\n",
    "\n",
    "- **Parâmetros e dados**: Erros de representação de dados\n",
    "- **Modelo numérico**: Erros de truncamento (aproximações para representar modelos matemáticos)\n",
    "- **Operações e cálculo da solução**: Erros de arredondamento (aproximações para representar operações numéricas)"
   ]
  },
  {
   "attachments": {},
   "cell_type": "markdown",
   "metadata": {},
   "source": [
    "## Definição de erro\n",
    "\n",
    "$$valor_{verdadeiro} = valor_{aproximado} + erro$$\n",
    "$$erro_{absoluto} = valor_{verdadeiro} - valor_{aproximado}$$\n",
    "$$erro_{relativo} = \\frac{erro_{absoluto}}{valor_{verdadeiro}}$$\n",
    "\n",
    "__Erro absoluto__: não leva em consideração a grandeza do valor examinado."
   ]
  },
  {
   "attachments": {},
   "cell_type": "markdown",
   "metadata": {},
   "source": [
    "### Exercício 1\n",
    "Suponha que você tenha a tarefa de medir os comprimentos de uma ponte e de um rebite.\n",
    "Para a medida da ponte você obteve 9.999 cm. Já para a medida do rebite você obteve 9 cm.\n",
    "Se os valores verdadeiros forem 10.000 e 10 cm, para a ponte e o rebite, calcule:\n",
    "\n",
    "- (a) O erro absoluto;\n",
    "\n",
    "- (b) O erro relativo em %;"
   ]
  },
  {
   "cell_type": "code",
   "execution_count": 2,
   "metadata": {},
   "outputs": [
    {
     "name": "stdout",
     "output_type": "stream",
     "text": [
      "a1) Erro absoluto da ponte: 1 cm\n",
      "a2) Erro absoluto do rebite: 1 cm\n",
      "b1) Erro relativo da ponte: 0.01 %\n",
      "b2) Erro relativo do rebite: 10.0 %\n"
     ]
    }
   ],
   "source": [
    "ponte_erro_absoluto = 10000-9999\n",
    "rebite_erro_absoluto = 10-9\n",
    "\n",
    "print(f'a1) Erro absoluto da ponte: {ponte_erro_absoluto} cm')\n",
    "print(f'a2) Erro absoluto do rebite: {rebite_erro_absoluto} cm')\n",
    "\n",
    "ponte_erro_relativo = 100 * ponte_erro_absoluto/10000\n",
    "rebite_erro_relativo = 100 * rebite_erro_absoluto/10\n",
    "\n",
    "print(f'b1) Erro relativo da ponte: {ponte_erro_relativo} %')\n",
    "print(f'b2) Erro relativo do rebite: {rebite_erro_relativo} %')"
   ]
  },
  {
   "attachments": {},
   "cell_type": "markdown",
   "metadata": {},
   "source": [
    "### Exercício 2\n",
    "A função exponencial pode ser calculada usando-se a expansão em série de Maclaurin.\n",
    "\n",
    "$$e^x = 1+x+\\frac{x^2}{2}+\\frac{x^3}{3!}+...+\\frac{x^n}{n!}$$\n",
    "\n",
    "Desenvolva um algoritmo para determinar o valor de $e^{0.5}$. Determine o erro relativo aproximado após a operação em que cada termo for adicionado. Adicione os termos até que $erro_{aprox} < 0.0005$.\n",
    "\n",
    "A primeira estimativa é igual a $e^x = 1$. A segunda estimativa é gerada somando-se o segundo termo $e^x = 1 + x$.\n",
    "\n",
    "O erro relativo aproximado na segunda estimativa é:\n",
    "\n",
    "$$erro_{aprox} = \\frac{1.5-1}{1.5} = 0.333$$"
   ]
  },
  {
   "cell_type": "code",
   "execution_count": 3,
   "metadata": {},
   "outputs": [
    {
     "name": "stdout",
     "output_type": "stream",
     "text": [
      "2) O valor do erro é aproximadamente 0.015795293002684303 % com 6 iterações.\n"
     ]
    }
   ],
   "source": [
    "e_x = 0\n",
    "x = 0.5\n",
    "i = 0\n",
    "ultima_estimativa = 0\n",
    "erro_aproximado = 1\n",
    "while erro_aproximado > 0.0005:\n",
    "    e_x += (x**i)/math.factorial(i)\n",
    "    erro_aproximado = (e_x-ultima_estimativa)/e_x\n",
    "    ultima_estimativa = e_x\n",
    "    i += 1\n",
    "print(f'2) O valor do erro é aproximadamente {erro_aproximado*100} % com {i} iterações.')"
   ]
  },
  {
   "attachments": {},
   "cell_type": "markdown",
   "metadata": {},
   "source": [
    "### Exercício 3\n",
    "A função seno pode ser calculada pela seguinte série infinita:\n",
    "\n",
    "$$\\sin(x) = x -\\frac{x^3}{3!}+\\frac{x^5}{5!}-\\frac{x^7}{7!}+...$$\n",
    "\n",
    "Escreva um algoritmo para imprimir os valores de $\\sin(\\pi/3)$ assim que cada termo da série for acrescentado. Para cada valor especificado, calcule e mostre o erro relativo (%). Adicione os termos até que $erro_{aprox}<5\\cdot 10^{-6}$."
   ]
  },
  {
   "cell_type": "code",
   "execution_count": 4,
   "metadata": {},
   "outputs": [
    {
     "name": "stdout",
     "output_type": "stream",
     "text": [
      "2) O valor do erro é aproximadamente -22.364640668059156 % com 2 iterações.\n"
     ]
    }
   ],
   "source": [
    "x = math.pi/3\n",
    "sin_x = 0\n",
    "\n",
    "i = 0\n",
    "ultima_estimativa = 0\n",
    "erro_aproximado = 1\n",
    "while erro_aproximado > 5e-6:\n",
    "    expoente = 2*i + 1\n",
    "    sinal = (-1)**i\n",
    "    sin_x += sinal*(x**expoente)/math.factorial(expoente)\n",
    "    erro_aproximado = (sin_x-ultima_estimativa)/sin_x\n",
    "    ultima_estimativa = sin_x\n",
    "    i += 1\n",
    "print(f'2) O valor do erro é aproximadamente {erro_aproximado*100} % com {i} iterações.')"
   ]
  }
 ],
 "metadata": {
  "kernelspec": {
   "display_name": "Python 3",
   "language": "python",
   "name": "python3"
  },
  "language_info": {
   "codemirror_mode": {
    "name": "ipython",
    "version": 3
   },
   "file_extension": ".py",
   "mimetype": "text/x-python",
   "name": "python",
   "nbconvert_exporter": "python",
   "pygments_lexer": "ipython3",
   "version": "3.9.16"
  },
  "orig_nbformat": 4
 },
 "nbformat": 4,
 "nbformat_minor": 2
}
