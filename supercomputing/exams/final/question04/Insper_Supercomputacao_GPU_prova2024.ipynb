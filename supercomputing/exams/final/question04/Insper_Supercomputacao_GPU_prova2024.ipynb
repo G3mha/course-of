{
  "cells": [
    {
      "cell_type": "markdown",
      "metadata": {
        "id": "SQ2vjAmpAAqB"
      },
      "source": [
        "# Insper - Supercomputação - Prova final\n",
        "\n",
        "Questão sobre GPU / THRUST.\n",
        "\n",
        "\n",
        "**Questão 4: Normalização de Vetor com Thrust em CUDA**\n",
        "\n",
        "Na análise de dados e no processamento de sinais, normalizar um vetor é uma operação comum que ajusta a escala dos elementos para que o vetor tenha uma norma unitária (ou seja, a soma dos quadrados dos elementos é igual a 1). Essa tarefa se torna computacionalmente intensiva para vetores de grande dimensão, fazendo com que a paralelização em GPU seja uma solução atrativa.\n",
        "\n",
        "**Objetivo**:\n",
        "\n",
        "Complemente o código abaixo usando a biblioteca Thrust para normalizar um vetor grande. O código inicial cria um vetor com valores aleatórios. Você deve implementar as etapas para:\n",
        "\n",
        "1. calcular a norma L2 do vetor,\n",
        "2. dividir cada elemento do vetor por essa norma e\n",
        "3. imprimir o resultado final.\n",
        "\n",
        "**Código Pré-Pronto**:\n",
        "\n",
        "Complete o código com a sua solução."
      ]
    },
    {
      "cell_type": "code",
      "source": [
        "%%writefile gpu.cu\n",
        "// *************************************************************************\n",
        "//\n",
        "//         AQUI SERÁ NECESSÁRIO COMPLETAR COM OS IMPORTS DA THRUST\n",
        "//\n",
        "// *************************************************************************\n",
        "\n",
        "#include <thrust/iterator/constant_iterator.h>\n",
        "#include <thrust/iterator/counting_iterator.h>\n",
        "#include <thrust/functional.h>\n",
        "#include <thrust/random.h>\n",
        "#include <thrust/copy.h>\n",
        "#include <thrust/host_vector.h>\n",
        "#include <thrust/device_vector.h>\n",
        "#include <thrust/transform_reduce.h>\n",
        "#include <thrust/transform.h>\n",
        "#include <iostream>\n",
        "#include <cmath>\n",
        "\n",
        "\n",
        "// Função para gerar números aleatórios\n",
        "struct prg\n",
        "{\n",
        "    float a, b;\n",
        "\n",
        "    __host__ __device__\n",
        "    prg(float _a=0.f, float _b=1.f) : a(_a), b(_b) {};\n",
        "\n",
        "    __host__ __device__\n",
        "        float operator()(const unsigned int n) const\n",
        "        {\n",
        "            thrust::default_random_engine rng;\n",
        "            thrust::uniform_real_distribution<float> dist(a, b);\n",
        "            rng.discard(n);\n",
        "\n",
        "            return dist(rng);\n",
        "        }\n",
        "};\n",
        "\n",
        "float square() {\n",
        "\n",
        "};\n",
        "\n",
        "int main() {\n",
        "    const int N = 1000000; // Tamanho do vetor\n",
        "    thrust::counting_iterator<unsigned int> index_sequence_begin(0);\n",
        "    thrust::host_vector<float> h_vec(N);\n",
        "\n",
        "    // Preencher o vetor com números aleatórios entre 1.0 e 2.0\n",
        "    thrust::transform(index_sequence_begin,\n",
        "            index_sequence_begin + N,\n",
        "            h_vec.begin(),\n",
        "            prg(1.f,2.f));\n",
        "\n",
        "    // Imprime alguns valores do vetor criado para verificação\n",
        "    for(int i = 0; i < 20; i++) {\n",
        "        std::cout << \"Elemento original \" << i << \": \" << h_vec[i] << std::endl;\n",
        "    }\n",
        "\n",
        "    // Copia o vetor do host para o dispositivo\n",
        "    thrust::device_vector<float> d_vec(N);\n",
        "    thrust::copy(h_vec.begin(), h_vec.end(), d_vec.begin());\n",
        "\n",
        "    // [COMPLETAR] Calcule a norma L2 do vetor\n",
        "    float norm = thrust::transform_reduce(d_vec.begin(), d_vec.end(), square(), 0, thrust::plus<int>());\n",
        "\n",
        "    // Imprime a norma calculada\n",
        "    std::cout << \"Norma calculada : \"  << norm << std::endl;\n",
        "\n",
        "    // [COMPLETAR] Normalize o vetor dividindo cada elemento pela norma L2\n",
        "    thrust::transform(vec1.begin(), vec1.end(), vec2.begin(), result.begin(), thrust::plus<int>());\n",
        "\n",
        "    // Imprime alguns valores do vetor normalizado para verificação\n",
        "    for(int i = 0; i < 20; i++) {\n",
        "        std::cout << \"Elemento normalizado \" << i << \": \" << d_vec[i] << std::endl;\n",
        "    }\n",
        "    return 0;\n",
        "}"
      ],
      "metadata": {
        "colab": {
          "base_uri": "https://localhost:8080/"
        },
        "id": "3e-yWwD8LITG",
        "outputId": "a1b4755f-347e-4bc0-8b75-7e7f8a304082"
      },
      "execution_count": null,
      "outputs": [
        {
          "output_type": "stream",
          "name": "stdout",
          "text": [
            "Overwriting gpu.cu\n"
          ]
        }
      ]
    },
    {
      "cell_type": "markdown",
      "source": [
        "Compilando o código"
      ],
      "metadata": {
        "id": "ArC24yXgKpon"
      }
    },
    {
      "cell_type": "code",
      "source": [
        "!nvcc -arch=sm_75 -std=c++14 gpu.cu -o gpu"
      ],
      "metadata": {
        "id": "8bwfjLxDLqoX"
      },
      "execution_count": null,
      "outputs": []
    },
    {
      "cell_type": "markdown",
      "source": [
        "Exemplo de execução:"
      ],
      "metadata": {
        "id": "xZNFIBWgKs5B"
      }
    },
    {
      "cell_type": "code",
      "source": [
        "%%time\n",
        "!./gpu"
      ],
      "metadata": {
        "id": "IcrtojzSLs3e"
      },
      "execution_count": null,
      "outputs": []
    },
    {
      "cell_type": "code",
      "source": [],
      "metadata": {
        "id": "SWipD6AWqgUC"
      },
      "execution_count": null,
      "outputs": []
    }
  ],
  "metadata": {
    "accelerator": "GPU",
    "colab": {
      "provenance": []
    },
    "kernelspec": {
      "display_name": "Python 3",
      "name": "python3"
    },
    "language_info": {
      "name": "python"
    }
  },
  "nbformat": 4,
  "nbformat_minor": 0
}