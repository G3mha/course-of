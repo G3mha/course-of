{
 "cells": [
  {
   "cell_type": "markdown",
   "metadata": {},
   "source": [
    "# Prevendo o score de um video-game na IGN\n",
    "\n",
    "**Autor: Enricco Gemha**\n",
    "\n",
    "## Problema de Regressão\n",
    "\n",
    "Trataremos de um problema de regressão, um tipo de problema de aprendizado supervisionado.\n",
    "\n",
    "A medida de performance que será usada para este problema é o RMSE (*Root Mean Square Error*). Vale lembrar que o RMSE é dado por:\n",
    "\n",
    "\n",
    "$$RMSE(\\mathbf{X}, \\mathbf{y}, h) = \n",
    "\\sqrt{\\frac{1}{m} \\sum_{i=1}^{m}\\left(h(\\mathbf{x}_i) - \\mathbf{y}_i\\right)^{2}}$$\n",
    "\n",
    "\n",
    "*Obs: Escolhi este dataset para treinar para minha prova de Machine Learning na faculdade.*"
   ]
  },
  {
   "cell_type": "markdown",
   "metadata": {},
   "source": [
    "## Importando as bibliotecas"
   ]
  },
  {
   "cell_type": "code",
   "execution_count": 1,
   "metadata": {},
   "outputs": [],
   "source": [
    "import numpy as np\n",
    "import pandas as pd\n",
    "\n",
    "%matplotlib inline\n",
    "import matplotlib.pyplot as plt\n",
    "\n",
    "import os\n",
    "\n",
    "FILEPATH = os.path.join('ign.csv')"
   ]
  },
  {
   "cell_type": "markdown",
   "metadata": {},
   "source": [
    "Vamos fixar a semente do gerador de números aleatórios, para ter reproducibilidade neste notebook."
   ]
  },
  {
   "cell_type": "code",
   "execution_count": 2,
   "metadata": {},
   "outputs": [],
   "source": [
    "RANDOM_SEED = 42\n",
    "np.random.seed(RANDOM_SEED)"
   ]
  },
  {
   "cell_type": "markdown",
   "metadata": {},
   "source": [
    "## Análise exploratória"
   ]
  },
  {
   "cell_type": "markdown",
   "metadata": {},
   "source": [
    "### Carregando os dados"
   ]
  },
  {
   "cell_type": "code",
   "execution_count": 3,
   "metadata": {},
   "outputs": [
    {
     "data": {
      "text/plain": [
       "pandas.core.frame.DataFrame"
      ]
     },
     "execution_count": 3,
     "metadata": {},
     "output_type": "execute_result"
    }
   ],
   "source": [
    "def load_ign_data(ign_file=FILEPATH):\n",
    "    return pd.read_csv(ign_file)\n",
    "\n",
    "ign = load_ign_data()\n",
    "type(ign)"
   ]
  },
  {
   "cell_type": "markdown",
   "metadata": {},
   "source": [
    "### Entendendo os dados\n",
    "\n",
    "Segundo a descrição da *database*, cada linha representa um título de video-game lançado."
   ]
  },
  {
   "cell_type": "code",
   "execution_count": 4,
   "metadata": {},
   "outputs": [],
   "source": [
    "# Dropa as colunas que não serão utilizadas\n",
    "ign = ign.drop(['Unnamed: 0', 'url', 'title'], axis=1)"
   ]
  },
  {
   "cell_type": "code",
   "execution_count": 5,
   "metadata": {},
   "outputs": [
    {
     "name": "stdout",
     "output_type": "stream",
     "text": [
      "<class 'pandas.core.frame.DataFrame'>\n",
      "RangeIndex: 18625 entries, 0 to 18624\n",
      "Data columns (total 8 columns):\n",
      " #   Column          Non-Null Count  Dtype  \n",
      "---  ------          --------------  -----  \n",
      " 0   score_phrase    18625 non-null  object \n",
      " 1   platform        18625 non-null  object \n",
      " 2   score           18625 non-null  float64\n",
      " 3   genre           18589 non-null  object \n",
      " 4   editors_choice  18625 non-null  object \n",
      " 5   release_year    18625 non-null  int64  \n",
      " 6   release_month   18625 non-null  int64  \n",
      " 7   release_day     18625 non-null  int64  \n",
      "dtypes: float64(1), int64(3), object(4)\n",
      "memory usage: 1.1+ MB\n"
     ]
    }
   ],
   "source": [
    "ign.info()"
   ]
  },
  {
   "cell_type": "code",
   "execution_count": 6,
   "metadata": {},
   "outputs": [
    {
     "data": {
      "text/html": [
       "<div>\n",
       "<style scoped>\n",
       "    .dataframe tbody tr th:only-of-type {\n",
       "        vertical-align: middle;\n",
       "    }\n",
       "\n",
       "    .dataframe tbody tr th {\n",
       "        vertical-align: top;\n",
       "    }\n",
       "\n",
       "    .dataframe thead th {\n",
       "        text-align: right;\n",
       "    }\n",
       "</style>\n",
       "<table border=\"1\" class=\"dataframe\">\n",
       "  <thead>\n",
       "    <tr style=\"text-align: right;\">\n",
       "      <th></th>\n",
       "      <th>score_phrase</th>\n",
       "      <th>platform</th>\n",
       "      <th>score</th>\n",
       "      <th>genre</th>\n",
       "      <th>editors_choice</th>\n",
       "      <th>release_year</th>\n",
       "      <th>release_month</th>\n",
       "      <th>release_day</th>\n",
       "    </tr>\n",
       "  </thead>\n",
       "  <tbody>\n",
       "    <tr>\n",
       "      <th>0</th>\n",
       "      <td>Amazing</td>\n",
       "      <td>PlayStation Vita</td>\n",
       "      <td>9.0</td>\n",
       "      <td>Platformer</td>\n",
       "      <td>Y</td>\n",
       "      <td>2012</td>\n",
       "      <td>9</td>\n",
       "      <td>12</td>\n",
       "    </tr>\n",
       "    <tr>\n",
       "      <th>1</th>\n",
       "      <td>Amazing</td>\n",
       "      <td>PlayStation Vita</td>\n",
       "      <td>9.0</td>\n",
       "      <td>Platformer</td>\n",
       "      <td>Y</td>\n",
       "      <td>2012</td>\n",
       "      <td>9</td>\n",
       "      <td>12</td>\n",
       "    </tr>\n",
       "    <tr>\n",
       "      <th>2</th>\n",
       "      <td>Great</td>\n",
       "      <td>iPad</td>\n",
       "      <td>8.5</td>\n",
       "      <td>Puzzle</td>\n",
       "      <td>N</td>\n",
       "      <td>2012</td>\n",
       "      <td>9</td>\n",
       "      <td>12</td>\n",
       "    </tr>\n",
       "    <tr>\n",
       "      <th>3</th>\n",
       "      <td>Great</td>\n",
       "      <td>Xbox 360</td>\n",
       "      <td>8.5</td>\n",
       "      <td>Sports</td>\n",
       "      <td>N</td>\n",
       "      <td>2012</td>\n",
       "      <td>9</td>\n",
       "      <td>11</td>\n",
       "    </tr>\n",
       "    <tr>\n",
       "      <th>4</th>\n",
       "      <td>Great</td>\n",
       "      <td>PlayStation 3</td>\n",
       "      <td>8.5</td>\n",
       "      <td>Sports</td>\n",
       "      <td>N</td>\n",
       "      <td>2012</td>\n",
       "      <td>9</td>\n",
       "      <td>11</td>\n",
       "    </tr>\n",
       "    <tr>\n",
       "      <th>...</th>\n",
       "      <td>...</td>\n",
       "      <td>...</td>\n",
       "      <td>...</td>\n",
       "      <td>...</td>\n",
       "      <td>...</td>\n",
       "      <td>...</td>\n",
       "      <td>...</td>\n",
       "      <td>...</td>\n",
       "    </tr>\n",
       "    <tr>\n",
       "      <th>18620</th>\n",
       "      <td>Good</td>\n",
       "      <td>Wii U</td>\n",
       "      <td>7.6</td>\n",
       "      <td>RPG</td>\n",
       "      <td>N</td>\n",
       "      <td>2016</td>\n",
       "      <td>6</td>\n",
       "      <td>29</td>\n",
       "    </tr>\n",
       "    <tr>\n",
       "      <th>18621</th>\n",
       "      <td>Amazing</td>\n",
       "      <td>PlayStation 4</td>\n",
       "      <td>9.0</td>\n",
       "      <td>Action, Adventure</td>\n",
       "      <td>Y</td>\n",
       "      <td>2016</td>\n",
       "      <td>6</td>\n",
       "      <td>29</td>\n",
       "    </tr>\n",
       "    <tr>\n",
       "      <th>18622</th>\n",
       "      <td>Mediocre</td>\n",
       "      <td>PlayStation 4</td>\n",
       "      <td>5.8</td>\n",
       "      <td>RPG</td>\n",
       "      <td>N</td>\n",
       "      <td>2016</td>\n",
       "      <td>6</td>\n",
       "      <td>28</td>\n",
       "    </tr>\n",
       "    <tr>\n",
       "      <th>18623</th>\n",
       "      <td>Masterpiece</td>\n",
       "      <td>Xbox One</td>\n",
       "      <td>10.0</td>\n",
       "      <td>Adventure</td>\n",
       "      <td>Y</td>\n",
       "      <td>2016</td>\n",
       "      <td>6</td>\n",
       "      <td>28</td>\n",
       "    </tr>\n",
       "    <tr>\n",
       "      <th>18624</th>\n",
       "      <td>Masterpiece</td>\n",
       "      <td>PC</td>\n",
       "      <td>10.0</td>\n",
       "      <td>Adventure</td>\n",
       "      <td>Y</td>\n",
       "      <td>2016</td>\n",
       "      <td>6</td>\n",
       "      <td>28</td>\n",
       "    </tr>\n",
       "  </tbody>\n",
       "</table>\n",
       "<p>18625 rows × 8 columns</p>\n",
       "</div>"
      ],
      "text/plain": [
       "      score_phrase          platform  score              genre editors_choice  \\\n",
       "0          Amazing  PlayStation Vita    9.0         Platformer              Y   \n",
       "1          Amazing  PlayStation Vita    9.0         Platformer              Y   \n",
       "2            Great              iPad    8.5             Puzzle              N   \n",
       "3            Great          Xbox 360    8.5             Sports              N   \n",
       "4            Great     PlayStation 3    8.5             Sports              N   \n",
       "...            ...               ...    ...                ...            ...   \n",
       "18620         Good             Wii U    7.6                RPG              N   \n",
       "18621      Amazing     PlayStation 4    9.0  Action, Adventure              Y   \n",
       "18622     Mediocre     PlayStation 4    5.8                RPG              N   \n",
       "18623  Masterpiece          Xbox One   10.0          Adventure              Y   \n",
       "18624  Masterpiece                PC   10.0          Adventure              Y   \n",
       "\n",
       "       release_year  release_month  release_day  \n",
       "0              2012              9           12  \n",
       "1              2012              9           12  \n",
       "2              2012              9           12  \n",
       "3              2012              9           11  \n",
       "4              2012              9           11  \n",
       "...             ...            ...          ...  \n",
       "18620          2016              6           29  \n",
       "18621          2016              6           29  \n",
       "18622          2016              6           28  \n",
       "18623          2016              6           28  \n",
       "18624          2016              6           28  \n",
       "\n",
       "[18625 rows x 8 columns]"
      ]
     },
     "execution_count": 6,
     "metadata": {},
     "output_type": "execute_result"
    }
   ],
   "source": [
    "ign"
   ]
  },
  {
   "cell_type": "code",
   "execution_count": 7,
   "metadata": {},
   "outputs": [
    {
     "data": {
      "text/html": [
       "<div>\n",
       "<style scoped>\n",
       "    .dataframe tbody tr th:only-of-type {\n",
       "        vertical-align: middle;\n",
       "    }\n",
       "\n",
       "    .dataframe tbody tr th {\n",
       "        vertical-align: top;\n",
       "    }\n",
       "\n",
       "    .dataframe thead th {\n",
       "        text-align: right;\n",
       "    }\n",
       "</style>\n",
       "<table border=\"1\" class=\"dataframe\">\n",
       "  <thead>\n",
       "    <tr style=\"text-align: right;\">\n",
       "      <th></th>\n",
       "      <th>score</th>\n",
       "      <th>release_year</th>\n",
       "      <th>release_month</th>\n",
       "      <th>release_day</th>\n",
       "    </tr>\n",
       "  </thead>\n",
       "  <tbody>\n",
       "    <tr>\n",
       "      <th>count</th>\n",
       "      <td>18625.000000</td>\n",
       "      <td>18625.000000</td>\n",
       "      <td>18625.00000</td>\n",
       "      <td>18625.000000</td>\n",
       "    </tr>\n",
       "    <tr>\n",
       "      <th>mean</th>\n",
       "      <td>6.950459</td>\n",
       "      <td>2006.515329</td>\n",
       "      <td>7.13847</td>\n",
       "      <td>15.603866</td>\n",
       "    </tr>\n",
       "    <tr>\n",
       "      <th>std</th>\n",
       "      <td>1.711736</td>\n",
       "      <td>4.587529</td>\n",
       "      <td>3.47671</td>\n",
       "      <td>8.690128</td>\n",
       "    </tr>\n",
       "    <tr>\n",
       "      <th>min</th>\n",
       "      <td>0.500000</td>\n",
       "      <td>1970.000000</td>\n",
       "      <td>1.00000</td>\n",
       "      <td>1.000000</td>\n",
       "    </tr>\n",
       "    <tr>\n",
       "      <th>25%</th>\n",
       "      <td>6.000000</td>\n",
       "      <td>2003.000000</td>\n",
       "      <td>4.00000</td>\n",
       "      <td>8.000000</td>\n",
       "    </tr>\n",
       "    <tr>\n",
       "      <th>50%</th>\n",
       "      <td>7.300000</td>\n",
       "      <td>2007.000000</td>\n",
       "      <td>8.00000</td>\n",
       "      <td>16.000000</td>\n",
       "    </tr>\n",
       "    <tr>\n",
       "      <th>75%</th>\n",
       "      <td>8.200000</td>\n",
       "      <td>2010.000000</td>\n",
       "      <td>10.00000</td>\n",
       "      <td>23.000000</td>\n",
       "    </tr>\n",
       "    <tr>\n",
       "      <th>max</th>\n",
       "      <td>10.000000</td>\n",
       "      <td>2016.000000</td>\n",
       "      <td>12.00000</td>\n",
       "      <td>31.000000</td>\n",
       "    </tr>\n",
       "  </tbody>\n",
       "</table>\n",
       "</div>"
      ],
      "text/plain": [
       "              score  release_year  release_month   release_day\n",
       "count  18625.000000  18625.000000    18625.00000  18625.000000\n",
       "mean       6.950459   2006.515329        7.13847     15.603866\n",
       "std        1.711736      4.587529        3.47671      8.690128\n",
       "min        0.500000   1970.000000        1.00000      1.000000\n",
       "25%        6.000000   2003.000000        4.00000      8.000000\n",
       "50%        7.300000   2007.000000        8.00000     16.000000\n",
       "75%        8.200000   2010.000000       10.00000     23.000000\n",
       "max       10.000000   2016.000000       12.00000     31.000000"
      ]
     },
     "execution_count": 7,
     "metadata": {},
     "output_type": "execute_result"
    }
   ],
   "source": [
    "numerical_columns = list(ign.describe().columns)\n",
    "ign.describe() # somente para dados númericos"
   ]
  },
  {
   "cell_type": "code",
   "execution_count": 8,
   "metadata": {},
   "outputs": [
    {
     "data": {
      "image/png": "[encoded data removed]",
      "text/plain": [
       "<Figure size 2000x1500 with 4 Axes>"
      ]
     },
     "metadata": {},
     "output_type": "display_data"
    }
   ],
   "source": [
    "ign.hist(bins=50, figsize=(20,15))\n",
    "plt.show()"
   ]
  },
  {
   "cell_type": "markdown",
   "metadata": {},
   "source": [
    "É possível perceber que a maioria dos lançamentos se concentra entre 2006 e 2011.\n",
    "Também é possível perceber que há dados faltantes para `release_year` de 2004.\n",
    "\n",
    "O `score` é o target, ou seja, a variável que queremos prever. É possível perceber que o score varia de 0 a 10, com uma média de 6.95 e desvio padrão de 1.71."
   ]
  },
  {
   "cell_type": "code",
   "execution_count": 9,
   "metadata": {},
   "outputs": [
    {
     "data": {
      "text/plain": [
       "['score_phrase', 'platform', 'genre', 'editors_choice']"
      ]
     },
     "execution_count": 9,
     "metadata": {},
     "output_type": "execute_result"
    }
   ],
   "source": [
    "category_columns = list(ign.describe(include=['O']).columns)\n",
    "category_columns"
   ]
  },
  {
   "cell_type": "code",
   "execution_count": 10,
   "metadata": {},
   "outputs": [
    {
     "data": {
      "text/plain": [
       "Great          4773\n",
       "Good           4741\n",
       "Okay           2945\n",
       "Mediocre       1959\n",
       "Amazing        1804\n",
       "Bad            1269\n",
       "Awful           664\n",
       "Painful         340\n",
       "Unbearable       72\n",
       "Masterpiece      55\n",
       "Disaster          3\n",
       "Name: score_phrase, dtype: int64"
      ]
     },
     "execution_count": 10,
     "metadata": {},
     "output_type": "execute_result"
    }
   ],
   "source": [
    "ign['score_phrase'].value_counts()"
   ]
  },
  {
   "cell_type": "markdown",
   "metadata": {},
   "source": [
    "O `score_phrase` é uma descrição complementar ao `score`. \n",
    "\n",
    "Porém ela não contribui nenhuma informação para o modelo, pois é uma variável categórica que representa o `score` de forma redundante. Por exemplo, se o `score` é 8.5, então o `score_phrase` é \"Great\", e se o `score` é 7.0, então o `score_phrase` é \"Good\". \n",
    "\n",
    "Portanto, devemos descartar esta variável."
   ]
  },
  {
   "cell_type": "code",
   "execution_count": 11,
   "metadata": {},
   "outputs": [
    {
     "data": {
      "text/plain": [
       "PC                      3370\n",
       "PlayStation 2           1686\n",
       "Xbox 360                1631\n",
       "Wii                     1366\n",
       "PlayStation 3           1356\n",
       "Nintendo DS             1045\n",
       "PlayStation              952\n",
       "Wireless                 910\n",
       "iPhone                   842\n",
       "Xbox                     821\n",
       "PlayStation Portable     633\n",
       "Game Boy Advance         623\n",
       "GameCube                 509\n",
       "Game Boy Color           356\n",
       "Nintendo 64              302\n",
       "Dreamcast                286\n",
       "PlayStation 4            277\n",
       "Nintendo DSi             254\n",
       "Nintendo 3DS             225\n",
       "Xbox One                 208\n",
       "PlayStation Vita         155\n",
       "Wii U                    114\n",
       "iPad                      99\n",
       "Lynx                      82\n",
       "Macintosh                 81\n",
       "Genesis                   58\n",
       "NES                       49\n",
       "TurboGrafx-16             40\n",
       "Android                   39\n",
       "Super NES                 33\n",
       "NeoGeo Pocket Color       31\n",
       "N-Gage                    30\n",
       "Game Boy                  22\n",
       "iPod                      17\n",
       "Sega 32X                  16\n",
       "Windows Phone             14\n",
       "Master System             13\n",
       "Arcade                    11\n",
       "Linux                     10\n",
       "NeoGeo                    10\n",
       "Nintendo 64DD              7\n",
       "Saturn                     6\n",
       "Commodore 64/128           6\n",
       "Atari 2600                 5\n",
       "WonderSwan                 4\n",
       "TurboGrafx-CD              3\n",
       "Game.Com                   3\n",
       "Vectrex                    2\n",
       "Atari 5200                 2\n",
       "New Nintendo 3DS           2\n",
       "Ouya                       1\n",
       "Web Games                  1\n",
       "Windows Surface            1\n",
       "WonderSwan Color           1\n",
       "Sega CD                    1\n",
       "Pocket PC                  1\n",
       "DVD / HD Video Game        1\n",
       "Dreamcast VMU              1\n",
       "SteamOS                    1\n",
       "Name: platform, dtype: int64"
      ]
     },
     "execution_count": 11,
     "metadata": {},
     "output_type": "execute_result"
    }
   ],
   "source": [
    "ign['platform'].value_counts()"
   ]
  },
  {
   "cell_type": "markdown",
   "metadata": {},
   "source": [
    "A `platform` indica a plataforma em que o jogo foi lançado. É possível perceber que há 59 plataformas diferentes, sendo que a maioria dos jogos foi lançada para o PC, seguido pelo PlayStation 2, Xbox 360.\n",
    "\n",
    "É interessante notar que no mundo dos video-games convenciona-se que os consoles (todas as plataformas que não são PC, Mobile ou Handheld) são divididos por gerações. Isso se encaixa no conceito da variável `release_year`, pois é possível perceber, por exemplo, que a maioria dos jogos lançados para o PlayStation 2 foram lançados entre 2000 e 2006, que é o período em que o console estava no auge (geração corrente), e recebia suporte das produtoras de jogos.\n",
    "\n",
    "Para que essa análise seja mais clara, vamos criar uma nova variável chamada `generation`, que indica a geração do console em que o jogo foi lançado. Ainda neste mesmo tópico, vamos criar uma nova variável chamada `lifetime`, que é intermediária entre `release_year` e `generation`, e indica o tempo de vida do console em que o jogo foi lançado, ou seja, o tempo entre o lançamento do console e o lançamento do jogo.\n",
    "\n",
    "Corroborado pela análise do retorno dos método `describe()` e `hist()` realizados na variável `release_year`, é possível perceber que há uma amostragem muito pequena de jogos lançados antes de 1996, o que pode prejudicar o modelo. Portanto, vamos remover todos os jogos lançados antes de 1996.\n",
    "\n",
    "Tambem será necessário fazer um pré-processamento nesta variável, pois há plataformas que possuem poucos jogos, como `SteamOS`, `New Nintendo 3DS`, que podem acabar caindo somente no conjunto de treino ou teste. Portanto, retiraremos todas as plataformas que possuem menos de 100 jogos. Além disso, plataformas de dispositivos móveis como `iPhone`, `iPad`, `Android`, `Wireless` (multiplataforma para celulares) e `Windows Phone` serão colocadas na categoria `Mobile`, assim como combinaremos os consoles portáteis em uma categoria chamada `Handheld`. Por fim, transformaremos a coluna `platform`, substituindo o nome de cada console pelo nome da fabricante do console, como `Nintendo`, `Playstation`, `Xbox`, `PC`, `Handheld` ou `Mobile`."
   ]
  },
  {
   "cell_type": "code",
   "execution_count": 12,
   "metadata": {},
   "outputs": [
    {
     "data": {
      "text/plain": [
       "Action                      3797\n",
       "Sports                      1916\n",
       "Shooter                     1610\n",
       "Racing                      1228\n",
       "Adventure                   1175\n",
       "                            ... \n",
       "Pinball, Compilation           1\n",
       "Compilation, Compilation       1\n",
       "Action, Editor                 1\n",
       "Other, Action                  1\n",
       "Shooter, Adventure             1\n",
       "Name: genre, Length: 112, dtype: int64"
      ]
     },
     "execution_count": 12,
     "metadata": {},
     "output_type": "execute_result"
    }
   ],
   "source": [
    "ign['genre'].value_counts()"
   ]
  },
  {
   "cell_type": "markdown",
   "metadata": {},
   "source": [
    "A `genre` indica o gênero do jogo. Exitem 112 diferentes gêneros. Porém, deste valor temos que vários deles que são a união de dois ou mais gêneros. Para lidar com isso, vamos usar o método `str.split()` para separar os gêneros e criar uma lista de gêneros para cada jogo. Em seguida, vamos usar o método `explode()` para criar uma linha para cada gênero. Por fim, vamos remover os gêneros que possuem menos de 100 jogos, pois podem acabar caindo somente no conjunto de treino ou teste."
   ]
  },
  {
   "cell_type": "code",
   "execution_count": 13,
   "metadata": {},
   "outputs": [
    {
     "data": {
      "text/plain": [
       "N    15108\n",
       "Y     3517\n",
       "Name: editors_choice, dtype: int64"
      ]
     },
     "execution_count": 13,
     "metadata": {},
     "output_type": "execute_result"
    }
   ],
   "source": [
    "ign['editors_choice'].value_counts()"
   ]
  },
  {
   "cell_type": "markdown",
   "metadata": {},
   "source": [
    "A `editors_choice` indica se o jogo foi escolhido como o melhor do mês pelos editores da IGN. É possível pensar que possa haver uma correlação entre esta variável e o `score`, pois se o jogo foi escolhido como o melhor do mês, é provável que ele tenha um score alto. Portanto, pode ser interessante analisar a correlação entre estas duas variáveis."
   ]
  },
  {
   "cell_type": "markdown",
   "metadata": {},
   "source": [
    "### Pré-processamento"
   ]
  },
  {
   "cell_type": "markdown",
   "metadata": {},
   "source": [
    "Devemos remover as colunas `score_phrase`, pois ela não contribui com nenhuma informação para o modelo, e retirar os jogos lançados antes de 1996, e também os jogos de plataformas que possuem menos de 100 jogos, pois podem acabar caindo somente no conjunto de treino ou teste."
   ]
  },
  {
   "cell_type": "code",
   "execution_count": 14,
   "metadata": {},
   "outputs": [
    {
     "data": {
      "text/html": [
       "<div>\n",
       "<style scoped>\n",
       "    .dataframe tbody tr th:only-of-type {\n",
       "        vertical-align: middle;\n",
       "    }\n",
       "\n",
       "    .dataframe tbody tr th {\n",
       "        vertical-align: top;\n",
       "    }\n",
       "\n",
       "    .dataframe thead th {\n",
       "        text-align: right;\n",
       "    }\n",
       "</style>\n",
       "<table border=\"1\" class=\"dataframe\">\n",
       "  <thead>\n",
       "    <tr style=\"text-align: right;\">\n",
       "      <th></th>\n",
       "      <th>platform</th>\n",
       "      <th>score</th>\n",
       "      <th>genre</th>\n",
       "      <th>editors_choice</th>\n",
       "      <th>release_year</th>\n",
       "      <th>release_month</th>\n",
       "      <th>release_day</th>\n",
       "    </tr>\n",
       "  </thead>\n",
       "  <tbody>\n",
       "    <tr>\n",
       "      <th>0</th>\n",
       "      <td>PlayStation Vita</td>\n",
       "      <td>9.0</td>\n",
       "      <td>Platformer</td>\n",
       "      <td>Y</td>\n",
       "      <td>2012</td>\n",
       "      <td>9</td>\n",
       "      <td>12</td>\n",
       "    </tr>\n",
       "    <tr>\n",
       "      <th>1</th>\n",
       "      <td>PlayStation Vita</td>\n",
       "      <td>9.0</td>\n",
       "      <td>Platformer</td>\n",
       "      <td>Y</td>\n",
       "      <td>2012</td>\n",
       "      <td>9</td>\n",
       "      <td>12</td>\n",
       "    </tr>\n",
       "    <tr>\n",
       "      <th>2</th>\n",
       "      <td>iPad</td>\n",
       "      <td>8.5</td>\n",
       "      <td>Puzzle</td>\n",
       "      <td>N</td>\n",
       "      <td>2012</td>\n",
       "      <td>9</td>\n",
       "      <td>12</td>\n",
       "    </tr>\n",
       "    <tr>\n",
       "      <th>3</th>\n",
       "      <td>Xbox 360</td>\n",
       "      <td>8.5</td>\n",
       "      <td>Sports</td>\n",
       "      <td>N</td>\n",
       "      <td>2012</td>\n",
       "      <td>9</td>\n",
       "      <td>11</td>\n",
       "    </tr>\n",
       "    <tr>\n",
       "      <th>4</th>\n",
       "      <td>PlayStation 3</td>\n",
       "      <td>8.5</td>\n",
       "      <td>Sports</td>\n",
       "      <td>N</td>\n",
       "      <td>2012</td>\n",
       "      <td>9</td>\n",
       "      <td>11</td>\n",
       "    </tr>\n",
       "    <tr>\n",
       "      <th>...</th>\n",
       "      <td>...</td>\n",
       "      <td>...</td>\n",
       "      <td>...</td>\n",
       "      <td>...</td>\n",
       "      <td>...</td>\n",
       "      <td>...</td>\n",
       "      <td>...</td>\n",
       "    </tr>\n",
       "    <tr>\n",
       "      <th>18620</th>\n",
       "      <td>Wii U</td>\n",
       "      <td>7.6</td>\n",
       "      <td>RPG</td>\n",
       "      <td>N</td>\n",
       "      <td>2016</td>\n",
       "      <td>6</td>\n",
       "      <td>29</td>\n",
       "    </tr>\n",
       "    <tr>\n",
       "      <th>18621</th>\n",
       "      <td>PlayStation 4</td>\n",
       "      <td>9.0</td>\n",
       "      <td>Action, Adventure</td>\n",
       "      <td>Y</td>\n",
       "      <td>2016</td>\n",
       "      <td>6</td>\n",
       "      <td>29</td>\n",
       "    </tr>\n",
       "    <tr>\n",
       "      <th>18622</th>\n",
       "      <td>PlayStation 4</td>\n",
       "      <td>5.8</td>\n",
       "      <td>RPG</td>\n",
       "      <td>N</td>\n",
       "      <td>2016</td>\n",
       "      <td>6</td>\n",
       "      <td>28</td>\n",
       "    </tr>\n",
       "    <tr>\n",
       "      <th>18623</th>\n",
       "      <td>Xbox One</td>\n",
       "      <td>10.0</td>\n",
       "      <td>Adventure</td>\n",
       "      <td>Y</td>\n",
       "      <td>2016</td>\n",
       "      <td>6</td>\n",
       "      <td>28</td>\n",
       "    </tr>\n",
       "    <tr>\n",
       "      <th>18624</th>\n",
       "      <td>PC</td>\n",
       "      <td>10.0</td>\n",
       "      <td>Adventure</td>\n",
       "      <td>Y</td>\n",
       "      <td>2016</td>\n",
       "      <td>6</td>\n",
       "      <td>28</td>\n",
       "    </tr>\n",
       "  </tbody>\n",
       "</table>\n",
       "<p>18625 rows × 7 columns</p>\n",
       "</div>"
      ],
      "text/plain": [
       "               platform  score              genre editors_choice  \\\n",
       "0      PlayStation Vita    9.0         Platformer              Y   \n",
       "1      PlayStation Vita    9.0         Platformer              Y   \n",
       "2                  iPad    8.5             Puzzle              N   \n",
       "3              Xbox 360    8.5             Sports              N   \n",
       "4         PlayStation 3    8.5             Sports              N   \n",
       "...                 ...    ...                ...            ...   \n",
       "18620             Wii U    7.6                RPG              N   \n",
       "18621     PlayStation 4    9.0  Action, Adventure              Y   \n",
       "18622     PlayStation 4    5.8                RPG              N   \n",
       "18623          Xbox One   10.0          Adventure              Y   \n",
       "18624                PC   10.0          Adventure              Y   \n",
       "\n",
       "       release_year  release_month  release_day  \n",
       "0              2012              9           12  \n",
       "1              2012              9           12  \n",
       "2              2012              9           12  \n",
       "3              2012              9           11  \n",
       "4              2012              9           11  \n",
       "...             ...            ...          ...  \n",
       "18620          2016              6           29  \n",
       "18621          2016              6           29  \n",
       "18622          2016              6           28  \n",
       "18623          2016              6           28  \n",
       "18624          2016              6           28  \n",
       "\n",
       "[18625 rows x 7 columns]"
      ]
     },
     "execution_count": 14,
     "metadata": {},
     "output_type": "execute_result"
    }
   ],
   "source": [
    "ign.drop(['score_phrase'], axis=1, inplace=True)\n",
    "ign"
   ]
  },
  {
   "cell_type": "code",
   "execution_count": 15,
   "metadata": {},
   "outputs": [],
   "source": [
    "# dropamos os jogos antes de 1996, pois não temos dados suficientes para eles\n",
    "ign = ign[ign['release_year'] >= 1996]\n",
    "\n",
    "# dropamos todas as plataformas que não possuem pelo menos 100 jogos\n",
    "ign = ign.groupby('platform').filter(lambda x: len(x) >= 100)\n",
    "\n",
    "# pela baixíssima quantidade de jogos da Sega (que somente restou o DreamCast), decidimos ignorar essa plataforma\n",
    "ign = ign[ign['platform'] != 'Dreamcast']"
   ]
  },
  {
   "cell_type": "markdown",
   "metadata": {},
   "source": [
    "Em seguida, devemos realizar o pré-processamento da variável `platform`, criando as variáveis `generation` e `lifetime`, e agrupando as plataformas menos populares."
   ]
  },
  {
   "cell_type": "code",
   "execution_count": 16,
   "metadata": {},
   "outputs": [],
   "source": [
    "# declaramos as plataformas do tipo 'mobile' para serem agrupadas\n",
    "mobile = ['iPhone', 'Wireless']\n",
    "ign['platform'] = ign['platform'].apply(lambda x: 'Mobile' if x in mobile else x)\n",
    "\n",
    "# criamos a coluna `lifetime`, variável que o tempo entre o lançamento do jogo e o lançamento da plataforma\n",
    "ign['lifetime'] = ign['release_year'] - ign.groupby('platform')['release_year'].transform('min')\n",
    "\n",
    "# se o jogo foi lançado para PC or Mobile, o tempo de vida é -1\n",
    "ign.loc[ign['platform'] == 'PC', 'lifetime'] = -1\n",
    "ign.loc[ign['platform'] == 'Mobile', 'lifetime'] = -1"
   ]
  },
  {
   "cell_type": "code",
   "execution_count": 17,
   "metadata": {},
   "outputs": [],
   "source": [
    "# declaramos as plataformas do tipo 'handheld' para serem agrupadas\n",
    "handhelds = ['Nintendo DS', 'PlayStation Portable', 'Game Boy Advance', 'Game Boy Color', 'Nintendo DSi', 'Nintendo 3DS', 'PlayStation Vita']\n",
    "ign['platform'] = ign['platform'].apply(lambda x: 'Handheld' if x in handhelds else x)"
   ]
  },
  {
   "cell_type": "code",
   "execution_count": 18,
   "metadata": {},
   "outputs": [
    {
     "data": {
      "text/plain": [
       "-1    8413\n",
       " 2    4352\n",
       " 1    3016\n",
       " 0    1254\n",
       " 3     599\n",
       "Name: generation, dtype: int64"
      ]
     },
     "execution_count": 18,
     "metadata": {},
     "output_type": "execute_result"
    }
   ],
   "source": [
    "# criamos a coluna de `generation`\n",
    "gen_5 = ['PlayStation', 'Nintendo 64']\n",
    "gen_6 = ['PlayStation 2', 'Xbox', 'GameCube']\n",
    "gen_7 = ['Wii', 'PlayStation 3', 'Xbox 360']\n",
    "gen_8 = ['PlayStation 4', 'Xbox One', 'Wii U']\n",
    "\n",
    "# se a plataforma não estiver em nenhuma das gerações, ela é -1\n",
    "ign['generation'] = ign['platform'].apply(lambda x: 0 if x in gen_5 else (1 if x in gen_6 else (2 if x in gen_7 else (3 if x in gen_8 else -1))))\n",
    "\n",
    "ign['generation'].value_counts()"
   ]
  },
  {
   "cell_type": "code",
   "execution_count": 19,
   "metadata": {},
   "outputs": [
    {
     "data": {
      "text/plain": [
       "PlayStation    4271\n",
       "PC             3370\n",
       "Handheld       3291\n",
       "Xbox           2659\n",
       "Nintendo       2291\n",
       "Mobile         1752\n",
       "Name: platform, dtype: int64"
      ]
     },
     "execution_count": 19,
     "metadata": {},
     "output_type": "execute_result"
    }
   ],
   "source": [
    "# declaramos as plataformas do tipo 'console' para serem agrupadas\n",
    "nintendo = ['Wii U', 'Nintendo 64', 'GameCube', 'Wii']\n",
    "ign['platform'] = ign['platform'].apply(lambda x: 'Nintendo' if x in nintendo else x)\n",
    "\n",
    "xbox = ['Xbox 360', 'Xbox', 'Xbox One']\n",
    "ign['platform'] = ign['platform'].apply(lambda x: 'Xbox' if x in xbox else x)\n",
    "\n",
    "playstation = ['PlayStation 4', 'PlayStation 3', 'PlayStation 2', 'PlayStation']\n",
    "ign['platform'] = ign['platform'].apply(lambda x: 'PlayStation' if x in playstation else x)\n",
    "\n",
    "ign['platform'].value_counts()"
   ]
  },
  {
   "cell_type": "code",
   "execution_count": 20,
   "metadata": {},
   "outputs": [],
   "source": [
    "# remove all the nan values in genre\n",
    "ign = ign[ign['genre'].notnull()]"
   ]
  },
  {
   "cell_type": "code",
   "execution_count": 21,
   "metadata": {},
   "outputs": [],
   "source": [
    "# realizamos o split das variáveis que possuem múltiplos gêneros\n",
    "ign.loc[:, 'genre'] = ign['genre'].str.split(',')\n",
    "# em seguida, realizamos o explode dessas variáveis\n",
    "ign = ign.explode('genre')\n",
    "ign.reset_index(drop=True, inplace=True)"
   ]
  },
  {
   "cell_type": "markdown",
   "metadata": {},
   "source": [
    "Por fim, devemos dropar a coluna `release_year`, pois ela não será mais necessária, assim como `release_day`, já que ela não contribui com nenhuma informação para o modelo. Por outro lado, o `release_month` pode ser interessante, pois pode haver uma correlação entre o mês de lançamento e o `score`."
   ]
  },
  {
   "cell_type": "code",
   "execution_count": 22,
   "metadata": {},
   "outputs": [],
   "source": [
    "ign.drop(['release_year', 'release_day'], axis=1, inplace=True)"
   ]
  },
  {
   "cell_type": "markdown",
   "metadata": {},
   "source": [
    "Ao final do pré-processamento, devemos temos 20122 linhas e 6 features: `platform`, `genre`, `editors_choice`, `release_month`, `lifetime` e `generation`."
   ]
  },
  {
   "cell_type": "code",
   "execution_count": 23,
   "metadata": {},
   "outputs": [
    {
     "data": {
      "text/html": [
       "<div>\n",
       "<style scoped>\n",
       "    .dataframe tbody tr th:only-of-type {\n",
       "        vertical-align: middle;\n",
       "    }\n",
       "\n",
       "    .dataframe tbody tr th {\n",
       "        vertical-align: top;\n",
       "    }\n",
       "\n",
       "    .dataframe thead th {\n",
       "        text-align: right;\n",
       "    }\n",
       "</style>\n",
       "<table border=\"1\" class=\"dataframe\">\n",
       "  <thead>\n",
       "    <tr style=\"text-align: right;\">\n",
       "      <th></th>\n",
       "      <th>platform</th>\n",
       "      <th>score</th>\n",
       "      <th>genre</th>\n",
       "      <th>editors_choice</th>\n",
       "      <th>release_month</th>\n",
       "      <th>lifetime</th>\n",
       "      <th>generation</th>\n",
       "    </tr>\n",
       "  </thead>\n",
       "  <tbody>\n",
       "    <tr>\n",
       "      <th>0</th>\n",
       "      <td>Handheld</td>\n",
       "      <td>9.0</td>\n",
       "      <td>Platformer</td>\n",
       "      <td>Y</td>\n",
       "      <td>9</td>\n",
       "      <td>0</td>\n",
       "      <td>-1</td>\n",
       "    </tr>\n",
       "    <tr>\n",
       "      <th>1</th>\n",
       "      <td>Handheld</td>\n",
       "      <td>9.0</td>\n",
       "      <td>Platformer</td>\n",
       "      <td>Y</td>\n",
       "      <td>9</td>\n",
       "      <td>0</td>\n",
       "      <td>-1</td>\n",
       "    </tr>\n",
       "    <tr>\n",
       "      <th>2</th>\n",
       "      <td>Xbox</td>\n",
       "      <td>8.5</td>\n",
       "      <td>Sports</td>\n",
       "      <td>N</td>\n",
       "      <td>9</td>\n",
       "      <td>8</td>\n",
       "      <td>2</td>\n",
       "    </tr>\n",
       "    <tr>\n",
       "      <th>3</th>\n",
       "      <td>PlayStation</td>\n",
       "      <td>8.5</td>\n",
       "      <td>Sports</td>\n",
       "      <td>N</td>\n",
       "      <td>9</td>\n",
       "      <td>6</td>\n",
       "      <td>2</td>\n",
       "    </tr>\n",
       "    <tr>\n",
       "      <th>4</th>\n",
       "      <td>Xbox</td>\n",
       "      <td>3.0</td>\n",
       "      <td>Fighting</td>\n",
       "      <td>N</td>\n",
       "      <td>9</td>\n",
       "      <td>8</td>\n",
       "      <td>2</td>\n",
       "    </tr>\n",
       "    <tr>\n",
       "      <th>...</th>\n",
       "      <td>...</td>\n",
       "      <td>...</td>\n",
       "      <td>...</td>\n",
       "      <td>...</td>\n",
       "      <td>...</td>\n",
       "      <td>...</td>\n",
       "      <td>...</td>\n",
       "    </tr>\n",
       "    <tr>\n",
       "      <th>20117</th>\n",
       "      <td>PlayStation</td>\n",
       "      <td>9.0</td>\n",
       "      <td>Action</td>\n",
       "      <td>Y</td>\n",
       "      <td>6</td>\n",
       "      <td>4</td>\n",
       "      <td>3</td>\n",
       "    </tr>\n",
       "    <tr>\n",
       "      <th>20118</th>\n",
       "      <td>PlayStation</td>\n",
       "      <td>9.0</td>\n",
       "      <td>Adventure</td>\n",
       "      <td>Y</td>\n",
       "      <td>6</td>\n",
       "      <td>4</td>\n",
       "      <td>3</td>\n",
       "    </tr>\n",
       "    <tr>\n",
       "      <th>20119</th>\n",
       "      <td>PlayStation</td>\n",
       "      <td>5.8</td>\n",
       "      <td>RPG</td>\n",
       "      <td>N</td>\n",
       "      <td>6</td>\n",
       "      <td>4</td>\n",
       "      <td>3</td>\n",
       "    </tr>\n",
       "    <tr>\n",
       "      <th>20120</th>\n",
       "      <td>Xbox</td>\n",
       "      <td>10.0</td>\n",
       "      <td>Adventure</td>\n",
       "      <td>Y</td>\n",
       "      <td>6</td>\n",
       "      <td>3</td>\n",
       "      <td>3</td>\n",
       "    </tr>\n",
       "    <tr>\n",
       "      <th>20121</th>\n",
       "      <td>PC</td>\n",
       "      <td>10.0</td>\n",
       "      <td>Adventure</td>\n",
       "      <td>Y</td>\n",
       "      <td>6</td>\n",
       "      <td>-1</td>\n",
       "      <td>-1</td>\n",
       "    </tr>\n",
       "  </tbody>\n",
       "</table>\n",
       "<p>20122 rows × 7 columns</p>\n",
       "</div>"
      ],
      "text/plain": [
       "          platform  score       genre editors_choice  release_month  lifetime  \\\n",
       "0         Handheld    9.0  Platformer              Y              9         0   \n",
       "1         Handheld    9.0  Platformer              Y              9         0   \n",
       "2             Xbox    8.5      Sports              N              9         8   \n",
       "3      PlayStation    8.5      Sports              N              9         6   \n",
       "4             Xbox    3.0    Fighting              N              9         8   \n",
       "...            ...    ...         ...            ...            ...       ...   \n",
       "20117  PlayStation    9.0      Action              Y              6         4   \n",
       "20118  PlayStation    9.0   Adventure              Y              6         4   \n",
       "20119  PlayStation    5.8         RPG              N              6         4   \n",
       "20120         Xbox   10.0   Adventure              Y              6         3   \n",
       "20121           PC   10.0   Adventure              Y              6        -1   \n",
       "\n",
       "       generation  \n",
       "0              -1  \n",
       "1              -1  \n",
       "2               2  \n",
       "3               2  \n",
       "4               2  \n",
       "...           ...  \n",
       "20117           3  \n",
       "20118           3  \n",
       "20119           3  \n",
       "20120           3  \n",
       "20121          -1  \n",
       "\n",
       "[20122 rows x 7 columns]"
      ]
     },
     "execution_count": 23,
     "metadata": {},
     "output_type": "execute_result"
    }
   ],
   "source": [
    "ign"
   ]
  },
  {
   "cell_type": "code",
   "execution_count": 24,
   "metadata": {},
   "outputs": [
    {
     "data": {
      "text/html": [
       "<div>\n",
       "<style scoped>\n",
       "    .dataframe tbody tr th:only-of-type {\n",
       "        vertical-align: middle;\n",
       "    }\n",
       "\n",
       "    .dataframe tbody tr th {\n",
       "        vertical-align: top;\n",
       "    }\n",
       "\n",
       "    .dataframe thead th {\n",
       "        text-align: right;\n",
       "    }\n",
       "</style>\n",
       "<table border=\"1\" class=\"dataframe\">\n",
       "  <thead>\n",
       "    <tr style=\"text-align: right;\">\n",
       "      <th></th>\n",
       "      <th>score</th>\n",
       "      <th>release_month</th>\n",
       "      <th>lifetime</th>\n",
       "      <th>generation</th>\n",
       "    </tr>\n",
       "  </thead>\n",
       "  <tbody>\n",
       "    <tr>\n",
       "      <th>count</th>\n",
       "      <td>20122.000000</td>\n",
       "      <td>20122.000000</td>\n",
       "      <td>20122.000000</td>\n",
       "      <td>20122.000000</td>\n",
       "    </tr>\n",
       "    <tr>\n",
       "      <th>mean</th>\n",
       "      <td>6.967309</td>\n",
       "      <td>7.166335</td>\n",
       "      <td>2.105308</td>\n",
       "      <td>0.318358</td>\n",
       "    </tr>\n",
       "    <tr>\n",
       "      <th>std</th>\n",
       "      <td>1.698374</td>\n",
       "      <td>3.480920</td>\n",
       "      <td>2.663321</td>\n",
       "      <td>1.363773</td>\n",
       "    </tr>\n",
       "    <tr>\n",
       "      <th>min</th>\n",
       "      <td>0.500000</td>\n",
       "      <td>1.000000</td>\n",
       "      <td>-1.000000</td>\n",
       "      <td>-1.000000</td>\n",
       "    </tr>\n",
       "    <tr>\n",
       "      <th>25%</th>\n",
       "      <td>6.000000</td>\n",
       "      <td>4.000000</td>\n",
       "      <td>-1.000000</td>\n",
       "      <td>-1.000000</td>\n",
       "    </tr>\n",
       "    <tr>\n",
       "      <th>50%</th>\n",
       "      <td>7.300000</td>\n",
       "      <td>8.000000</td>\n",
       "      <td>2.000000</td>\n",
       "      <td>0.000000</td>\n",
       "    </tr>\n",
       "    <tr>\n",
       "      <th>75%</th>\n",
       "      <td>8.200000</td>\n",
       "      <td>10.000000</td>\n",
       "      <td>4.000000</td>\n",
       "      <td>2.000000</td>\n",
       "    </tr>\n",
       "    <tr>\n",
       "      <th>max</th>\n",
       "      <td>10.000000</td>\n",
       "      <td>12.000000</td>\n",
       "      <td>11.000000</td>\n",
       "      <td>3.000000</td>\n",
       "    </tr>\n",
       "  </tbody>\n",
       "</table>\n",
       "</div>"
      ],
      "text/plain": [
       "              score  release_month      lifetime    generation\n",
       "count  20122.000000   20122.000000  20122.000000  20122.000000\n",
       "mean       6.967309       7.166335      2.105308      0.318358\n",
       "std        1.698374       3.480920      2.663321      1.363773\n",
       "min        0.500000       1.000000     -1.000000     -1.000000\n",
       "25%        6.000000       4.000000     -1.000000     -1.000000\n",
       "50%        7.300000       8.000000      2.000000      0.000000\n",
       "75%        8.200000      10.000000      4.000000      2.000000\n",
       "max       10.000000      12.000000     11.000000      3.000000"
      ]
     },
     "execution_count": 24,
     "metadata": {},
     "output_type": "execute_result"
    }
   ],
   "source": [
    "ign.describe()"
   ]
  },
  {
   "cell_type": "markdown",
   "metadata": {},
   "source": [
    "## Dividindo os dados em treino e teste"
   ]
  },
  {
   "cell_type": "code",
   "execution_count": 25,
   "metadata": {},
   "outputs": [
    {
     "name": "stdout",
     "output_type": "stream",
     "text": [
      "16097 train + 4025 test\n"
     ]
    }
   ],
   "source": [
    "from sklearn.model_selection import train_test_split\n",
    "train_set, test_set = train_test_split(ign, test_size=0.2, random_state=RANDOM_SEED)\n",
    "\n",
    "print('{} train + {} test'.format(len(train_set), len(test_set)))"
   ]
  },
  {
   "cell_type": "markdown",
   "metadata": {},
   "source": [
    "Realizamos a separação estratificada em relação a variável `generation`, pois buscamos manter a mesma proporção de jogos de cada geração nos conjuntos de treino e teste, o que impede que o modelo seja enviesado por conta de uma geração específica."
   ]
  },
  {
   "cell_type": "code",
   "execution_count": 26,
   "metadata": {},
   "outputs": [],
   "source": [
    "# Divide, de modo estratificado, o conjunto de dados.\n",
    "from sklearn.model_selection import StratifiedShuffleSplit\n",
    "\n",
    "split = StratifiedShuffleSplit(n_splits=1, test_size=0.2, random_state=RANDOM_SEED)\n",
    "for train_index, test_index in split.split(ign, ign['generation']):\n",
    "    strat_train_set = ign.loc[train_index]\n",
    "    strat_test_set = ign.loc[test_index]"
   ]
  },
  {
   "cell_type": "code",
   "execution_count": 27,
   "metadata": {},
   "outputs": [
    {
     "data": {
      "text/plain": [
       "-1    0.467168\n",
       " 2    0.249301\n",
       " 1    0.181959\n",
       " 0    0.066596\n",
       " 3    0.034975\n",
       "Name: generation, dtype: float64"
      ]
     },
     "execution_count": 27,
     "metadata": {},
     "output_type": "execute_result"
    }
   ],
   "source": [
    "strat_train_set['generation'].value_counts() / len(strat_train_set)"
   ]
  },
  {
   "cell_type": "code",
   "execution_count": 28,
   "metadata": {},
   "outputs": [
    {
     "data": {
      "text/plain": [
       "-1    0.467081\n",
       " 2    0.249193\n",
       " 1    0.182112\n",
       " 0    0.066584\n",
       " 3    0.035031\n",
       "Name: generation, dtype: float64"
      ]
     },
     "execution_count": 28,
     "metadata": {},
     "output_type": "execute_result"
    }
   ],
   "source": [
    "strat_test_set['generation'].value_counts() / len(strat_test_set)"
   ]
  },
  {
   "cell_type": "code",
   "execution_count": 29,
   "metadata": {},
   "outputs": [
    {
     "name": "stdout",
     "output_type": "stream",
     "text": [
      "<class 'pandas.core.frame.DataFrame'>\n",
      "Int64Index: 16097 entries, 333 to 1176\n",
      "Data columns (total 7 columns):\n",
      " #   Column          Non-Null Count  Dtype  \n",
      "---  ------          --------------  -----  \n",
      " 0   platform        16097 non-null  object \n",
      " 1   score           16097 non-null  float64\n",
      " 2   genre           16097 non-null  object \n",
      " 3   editors_choice  16097 non-null  object \n",
      " 4   release_month   16097 non-null  int64  \n",
      " 5   lifetime        16097 non-null  int64  \n",
      " 6   generation      16097 non-null  int64  \n",
      "dtypes: float64(1), int64(3), object(3)\n",
      "memory usage: 1006.1+ KB\n"
     ]
    }
   ],
   "source": [
    "strat_train_set.info()"
   ]
  },
  {
   "cell_type": "code",
   "execution_count": 30,
   "metadata": {},
   "outputs": [
    {
     "name": "stdout",
     "output_type": "stream",
     "text": [
      "<class 'pandas.core.frame.DataFrame'>\n",
      "Int64Index: 4025 entries, 10092 to 19540\n",
      "Data columns (total 7 columns):\n",
      " #   Column          Non-Null Count  Dtype  \n",
      "---  ------          --------------  -----  \n",
      " 0   platform        4025 non-null   object \n",
      " 1   score           4025 non-null   float64\n",
      " 2   genre           4025 non-null   object \n",
      " 3   editors_choice  4025 non-null   object \n",
      " 4   release_month   4025 non-null   int64  \n",
      " 5   lifetime        4025 non-null   int64  \n",
      " 6   generation      4025 non-null   int64  \n",
      "dtypes: float64(1), int64(3), object(3)\n",
      "memory usage: 251.6+ KB\n"
     ]
    }
   ],
   "source": [
    "strat_test_set.info()"
   ]
  },
  {
   "cell_type": "markdown",
   "metadata": {},
   "source": [
    "A partir de agora usaremos os conjuntos `strat_train_set` e `strat_test_set`. O conjunto `strat_train_set` será usado para várias explorações e para construir nosso modelo preditivo. O conjunto `strat_test_set` será usado só no final do projeto, para avaliar a performance final do nosso modelo."
   ]
  },
  {
   "cell_type": "markdown",
   "metadata": {},
   "source": [
    "## Explorando os dados de treino"
   ]
  },
  {
   "cell_type": "markdown",
   "metadata": {},
   "source": [
    "Vamos verificar se há valores faltantes no dataset."
   ]
  },
  {
   "cell_type": "code",
   "execution_count": 31,
   "metadata": {},
   "outputs": [
    {
     "data": {
      "text/html": [
       "<div>\n",
       "<style scoped>\n",
       "    .dataframe tbody tr th:only-of-type {\n",
       "        vertical-align: middle;\n",
       "    }\n",
       "\n",
       "    .dataframe tbody tr th {\n",
       "        vertical-align: top;\n",
       "    }\n",
       "\n",
       "    .dataframe thead th {\n",
       "        text-align: right;\n",
       "    }\n",
       "</style>\n",
       "<table border=\"1\" class=\"dataframe\">\n",
       "  <thead>\n",
       "    <tr style=\"text-align: right;\">\n",
       "      <th></th>\n",
       "      <th>platform</th>\n",
       "      <th>score</th>\n",
       "      <th>genre</th>\n",
       "      <th>editors_choice</th>\n",
       "      <th>release_month</th>\n",
       "      <th>lifetime</th>\n",
       "      <th>generation</th>\n",
       "    </tr>\n",
       "  </thead>\n",
       "  <tbody>\n",
       "  </tbody>\n",
       "</table>\n",
       "</div>"
      ],
      "text/plain": [
       "Empty DataFrame\n",
       "Columns: [platform, score, genre, editors_choice, release_month, lifetime, generation]\n",
       "Index: []"
      ]
     },
     "execution_count": 31,
     "metadata": {},
     "output_type": "execute_result"
    }
   ],
   "source": [
    "ign[ign.isnull().any(axis=1)].head()"
   ]
  },
  {
   "cell_type": "markdown",
   "metadata": {},
   "source": [
    "Como pudemos observar, não há valores faltantes no dataset."
   ]
  },
  {
   "cell_type": "markdown",
   "metadata": {},
   "source": [
    "### Correlação entre variáveis"
   ]
  },
  {
   "cell_type": "code",
   "execution_count": 32,
   "metadata": {},
   "outputs": [
    {
     "data": {
      "text/plain": [
       "score            1.000000\n",
       "generation       0.023539\n",
       "release_month    0.011517\n",
       "lifetime        -0.053037\n",
       "Name: score, dtype: float64"
      ]
     },
     "execution_count": 32,
     "metadata": {},
     "output_type": "execute_result"
    }
   ],
   "source": [
    "correlation_matrix = ign.corr()\n",
    "correlation_matrix[\"score\"].sort_values(ascending=False)"
   ]
  },
  {
   "cell_type": "markdown",
   "metadata": {},
   "source": [
    "Interessante observar que as variáveis numéricas não apresentam um impacto muito grande no `score`, pois a correlação entre elas e o `score` é baixa. Porém ainda falta analisar a correlação entre as variáveis categóricas e o `score`."
   ]
  },
  {
   "cell_type": "markdown",
   "metadata": {},
   "source": [
    "### Separando variáveis dependentes e independentes"
   ]
  },
  {
   "cell_type": "code",
   "execution_count": 33,
   "metadata": {},
   "outputs": [],
   "source": [
    "# Variáveis independentes: dataset original menos a coluna de valores dependentes.\n",
    "ign = strat_train_set.drop('score', axis=1)\n",
    "\n",
    "# Variável dependente, também chamada de label.\n",
    "ign_labels = strat_train_set['score'].copy()"
   ]
  },
  {
   "cell_type": "markdown",
   "metadata": {},
   "source": [
    "### Tratando variáveis categóricas"
   ]
  },
  {
   "cell_type": "markdown",
   "metadata": {},
   "source": [
    "Devido ao fato de que as variáveis categóricas contidas neste dataset não são ordinais, devemos realizar o pré-processamento de *one-hot encoding*."
   ]
  },
  {
   "cell_type": "code",
   "execution_count": 34,
   "metadata": {},
   "outputs": [
    {
     "name": "stdout",
     "output_type": "stream",
     "text": [
      "[[0. 0. 0. 0. 0. 0. 0. 0. 0. 0. 0. 0. 0. 0. 0. 0. 0. 0. 0. 0. 0. 0. 0. 0.\n",
      "  0. 0. 0. 0. 0. 0. 0. 0. 0. 0. 0. 1. 0. 0. 0. 0. 0. 0. 0. 0. 0. 0. 0. 0.\n",
      "  0. 0. 0. 0. 0. 0. 0. 1. 0. 0. 0. 0. 1. 0.]\n",
      " [0. 0. 0. 0. 0. 0. 0. 0. 0. 0. 0. 0. 0. 0. 0. 0. 0. 0. 0. 0. 0. 0. 0. 0.\n",
      "  0. 0. 0. 0. 0. 0. 0. 0. 0. 0. 0. 0. 0. 0. 0. 0. 0. 0. 0. 0. 0. 0. 0. 0.\n",
      "  0. 1. 0. 0. 0. 0. 0. 0. 0. 1. 0. 0. 0. 1.]\n",
      " [0. 0. 0. 0. 0. 0. 0. 0. 0. 0. 0. 0. 0. 0. 0. 0. 0. 0. 0. 0. 0. 0. 0. 0.\n",
      "  0. 0. 1. 0. 0. 0. 0. 0. 0. 0. 0. 0. 0. 0. 0. 0. 0. 0. 0. 0. 0. 0. 0. 0.\n",
      "  0. 0. 0. 0. 0. 0. 0. 0. 0. 0. 1. 0. 1. 0.]\n",
      " [0. 0. 0. 0. 0. 0. 0. 0. 0. 0. 0. 0. 0. 0. 0. 0. 0. 0. 0. 0. 0. 0. 0. 0.\n",
      "  0. 0. 0. 0. 0. 0. 0. 0. 0. 0. 0. 0. 0. 0. 0. 0. 0. 0. 0. 0. 0. 1. 0. 0.\n",
      "  0. 0. 0. 0. 0. 0. 1. 0. 0. 0. 0. 0. 1. 0.]\n",
      " [0. 0. 0. 0. 0. 0. 0. 0. 0. 0. 0. 0. 0. 0. 0. 0. 0. 0. 0. 0. 0. 0. 0. 0.\n",
      "  1. 0. 0. 0. 0. 0. 0. 0. 0. 0. 0. 0. 0. 0. 0. 0. 0. 0. 0. 0. 0. 0. 0. 0.\n",
      "  0. 0. 0. 0. 0. 0. 0. 0. 1. 0. 0. 0. 1. 0.]]\n"
     ]
    }
   ],
   "source": [
    "# Separar apenas as variáveis categóricas (neste caso temos apenas uma).\n",
    "ign_cat = ign[['genre', 'platform', 'editors_choice']]\n",
    "\n",
    "# Cria o codificador.\n",
    "from sklearn.preprocessing import OneHotEncoder\n",
    "encoder = OneHotEncoder(categories='auto')\n",
    "\n",
    "# Aprende a codificação e já aplica a mesma ao dataset fornecido. Todo transformador no sklearn\n",
    "# tem os métodos fit() para aprender a transformação, e transform() para aplicá-la.\n",
    "# O método fit_transform() faz os dois atos em sequência.\n",
    "ign_cat_1hot = encoder.fit_transform(ign_cat)\n",
    "\n",
    "# Convertendo em matriz densa só para observar melhor:\n",
    "print(ign_cat_1hot.toarray()[:5])"
   ]
  },
  {
   "cell_type": "code",
   "execution_count": 35,
   "metadata": {},
   "outputs": [
    {
     "data": {
      "text/plain": [
       "[array([' Action', ' Adult', ' Adventure', ' Baseball', ' Battle', ' Card',\n",
       "        ' Compilation', ' Editor', ' Episodic', ' Fighting',\n",
       "        ' First-Person', ' Golf', ' Other', ' Party', ' Platformer',\n",
       "        ' Productivity', ' Puzzle', ' RPG', ' Racing', ' Shooter',\n",
       "        ' Simulation', ' Strategy', ' Trivia', ' Word Game', 'Action',\n",
       "        'Adult', 'Adventure', 'Baseball', 'Battle', 'Board', 'Card',\n",
       "        'Casino', 'Compilation', 'Educational', 'Fighting', 'Flight',\n",
       "        'Hardware', 'Hunting', 'Music', 'Other', 'Party', 'Pinball',\n",
       "        'Platformer', 'Productivity', 'Puzzle', 'RPG', 'Racing', 'Shooter',\n",
       "        'Simulation', 'Sports', 'Strategy', 'Trivia', 'Virtual Pet',\n",
       "        'Wrestling'], dtype=object),\n",
       " array(['Handheld', 'Mobile', 'Nintendo', 'PC', 'PlayStation', 'Xbox'],\n",
       "       dtype=object),\n",
       " array(['N', 'Y'], dtype=object)]"
      ]
     },
     "execution_count": 35,
     "metadata": {},
     "output_type": "execute_result"
    }
   ],
   "source": [
    "encoder.categories_"
   ]
  },
  {
   "cell_type": "code",
   "execution_count": null,
   "metadata": {},
   "outputs": [],
   "source": []
  }
 ],
 "metadata": {
  "kernelspec": {
   "display_name": "Python 3",
   "language": "python",
   "name": "python3"
  },
  "language_info": {
   "codemirror_mode": {
    "name": "ipython",
    "version": 3
   },
   "file_extension": ".py",
   "mimetype": "text/x-python",
   "name": "python",
   "nbconvert_exporter": "python",
   "pygments_lexer": "ipython3",
   "version": "3.9.17"
  },
  "orig_nbformat": 4
 },
 "nbformat": 4,
 "nbformat_minor": 2
}
