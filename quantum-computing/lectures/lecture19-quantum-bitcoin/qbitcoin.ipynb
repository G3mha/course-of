{
  "cells": [
    {
      "cell_type": "markdown",
      "metadata": {
        "colab_type": "text",
        "id": "view-in-github"
      },
      "source": [
        "<a href=\"https://colab.research.google.com/github/lucianosilvasp/qbitcoin/blob/main/qbitcoin.ipynb\" target=\"_parent\"><img src=\"https://colab.research.google.com/assets/colab-badge.svg\" alt=\"Open In Colab\"/></a>"
      ]
    },
    {
      "cell_type": "markdown",
      "metadata": {
        "id": "HeTUwTzYYQSQ"
      },
      "source": [
        "#**QUANTUM BITCOIN**"
      ]
    },
    {
      "cell_type": "code",
      "execution_count": null,
      "metadata": {
        "id": "vDsI-gIOZIAb"
      },
      "outputs": [],
      "source": [
        "# https://github.com/lucianosilvasp/qbitcoin"
      ]
    },
    {
      "cell_type": "code",
      "execution_count": 1,
      "metadata": {
        "id": "rrtCZ8K1Yd3k"
      },
      "outputs": [
        {
          "name": "stdout",
          "output_type": "stream",
          "text": [
            "Unique addresses confirmed.\n",
            "Wallet 1 Address: bc1Y6K8N3lKonobaj8OPUThjnoH75\n",
            "Wallet 2 Address: 1DCSayQLevA8MPOyTzCncAVokUdKAYAeZ\n",
            "Is Blockchain valid? True\n",
            "Block 0:\n",
            "Block 1:\n",
            "    Sender: bc1Y6K8N3lKonobaj8OPUThjnoH75\n",
            "    Receiver: 1DCSayQLevA8MPOyTzCncAVokUdKAYAeZ\n",
            "    Amount: 50\n",
            "    Hash: 000012c01f1858914ec86201756aab97f43d4686e8ea7c5a0d2047de83d80856\n"
          ]
        }
      ],
      "source": [
        "from blockchain import Blockchain\n",
        "from wallet import Wallet\n",
        "my_blockchain = Blockchain()\n",
        "\n",
        "# Create two wallets\n",
        "wallet1 = Wallet()\n",
        "wallet2 = Wallet()\n",
        "\n",
        "# Check if addresses are different\n",
        "if wallet1.address == wallet2.address:\n",
        "  print(\"Error: Duplicate addresses generated.\")\n",
        "else:\n",
        "  print(\"Unique addresses confirmed.\")\n",
        "\n",
        "# Display wallet addresses\n",
        "print(f\"Wallet 1 Address: {wallet1.address}\")\n",
        "print(f\"Wallet 2 Address: {wallet2.address}\")\n",
        "\n",
        "# Wallet 1 sends money to Wallet 2\n",
        "wallet1.send_money(wallet2.address, 50, my_blockchain)\n",
        "\n",
        "# Mine pending transactions\n",
        "my_blockchain.mine_unconfirmed_transactions()\n",
        "\n",
        "# Check if the blockchain is valid\n",
        "print(f\"Is Blockchain valid? {my_blockchain.is_chain_valid()}\")\n",
        "\n",
        "# Display the blockchain\n",
        "for block in my_blockchain.chain:\n",
        "  print(f\"Block {block.index}:\")\n",
        "  for transaction in block.transactions:\n",
        "    print(f\"    Sender: {transaction.sender}\")\n",
        "    print(f\"    Receiver: {transaction.receiver}\")\n",
        "    print(f\"    Amount: {transaction.amount}\")\n",
        "    print(f\"    Hash: {block.hash}\")"
      ]
    },
    {
      "cell_type": "code",
      "execution_count": null,
      "metadata": {},
      "outputs": [],
      "source": []
    }
  ],
  "metadata": {
    "colab": {
      "authorship_tag": "ABX9TyOk7411np1R463fchSbAu6U",
      "include_colab_link": true,
      "provenance": []
    },
    "kernelspec": {
      "display_name": "Python 3",
      "name": "python3"
    },
    "language_info": {
      "codemirror_mode": {
        "name": "ipython",
        "version": 3
      },
      "file_extension": ".py",
      "mimetype": "text/x-python",
      "name": "python",
      "nbconvert_exporter": "python",
      "pygments_lexer": "ipython3",
      "version": "3.12.0"
    }
  },
  "nbformat": 4,
  "nbformat_minor": 0
}
