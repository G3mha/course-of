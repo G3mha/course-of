{
 "cells": [
  {
   "cell_type": "markdown",
   "metadata": {},
   "source": [
    "___\n",
    "# Atividade: Modelos probabilísticos contínuos e Dados\n",
    "\n",
    "___\n",
    "## Aula 15"
   ]
  },
  {
   "cell_type": "markdown",
   "metadata": {},
   "source": [
    "<div id=\"indice\"></div>\n",
    "\n",
    "## Índice\n",
    "\n",
    "- [Teoria: Distribuição Exponencial](#teoria)\n",
    "    - [Esperança e Variância](#esperanca-variancia)\n",
    "- [Base de Dados: Problema](#dados)\n",
    "    - [Modelo teórico](#modelo-teorico)\n",
    "        - [Exercício 1](#ex1)\n",
    "        - [Exercício 2](#ex2)\n",
    "        - [Exercício 3](#ex3)\n",
    "        - [Exercício 4](#ex4)\n",
    "        - [Exercício 5](#ex5)\n",
    "        \n",
    "    - [Resultados empíricos](#resultados-empiricos)\n",
    "        - [Exercício 6](#ex6)\n",
    "        - [Exercício 7](#ex7)\n",
    "        - [Exercício 8](#ex8)\n",
    "    - [Comparação: resultados empíricos *vs* modelo teórico](#comparacao)\n",
    "        - [Exercício 9](#ex9)\n",
    "        - [Exercício 10](#ex10)\n",
    "    - [Exercício extra](#ex-extra)\n",
    "\n",
    "- [Lista de comandos utilizados neste notebook](#comandos)"
   ]
  },
  {
   "cell_type": "code",
   "execution_count": 1,
   "metadata": {},
   "outputs": [],
   "source": [
    "import numpy as np\n",
    "import math\n",
    "import pandas as pd\n",
    "\n",
    "from scipy import stats\n",
    "\n",
    "import matplotlib.pyplot as plt\n",
    "%matplotlib inline"
   ]
  },
  {
   "cell_type": "markdown",
   "metadata": {},
   "source": [
    "___\n",
    "\n",
    "<div id=\"teoria\"></div>\n",
    "\n",
    "## Teoria: Distribuição Exponencial em Python\n",
    "\n",
    "A biblioteca SciPy está cheia de funções para nos ajudar a trabalhar com variáveis aleatórias! [Clique aqui](https://en.wikipedia.org/wiki/SciPy)\n",
    "\n",
    "Algumas funções úteis para desenvolver seu código considerando a distribuição Exponencial: [Clique aqui](https://docs.scipy.org/doc/scipy/reference/generated/scipy.stats.expon.html)\n",
    "\n",
    "Lembrando que vamos assumir que se $X\\sim Exp(\\lambda)$ então $E(X)=\\mu=1/\\lambda$\n",
    "\n",
    "Logo, faça `from scipy import stats` e `mu=1/lambda`, então:\n",
    "\n",
    "* $f(x)$: `stats.expon.pdf(x, scale=mu)`\n",
    "\n",
    "* $P(X\\leq x)$: `stats.expon.cdf(x, scale=mu)`\n",
    "\n",
    "* $x$ tal que $q=P(X\\leq x)$: `stats.expon.ppf(q, scale=mu)`\n",
    "\n",
    "* $E(X)$: `stats.expon.mean(scale=mu)`\n",
    "\n",
    "* $Var(X)$: `stats.expon.var(scale=mu)`\n",
    "\n",
    "* $DP(X)$: `stats.expon.std(scale=mu)`"
   ]
  },
  {
   "cell_type": "markdown",
   "metadata": {},
   "source": [
    "___\n",
    "\n",
    "<div id=\"problema\"></div>\n",
    "\n",
    "## Problema:\n",
    "\n",
    "A durabilidade (em anos) de transistores de potência usados em regulação de redes elétricas é modelada como uma exponencial com **média $1.5$ anos**.\n",
    "\n",
    "Nesse caso, vamos assumir que a variável aleatória contínua nesse problema é dada por:\n",
    "\n",
    "  * $X$: durabilidade de transistores de potência usados em regulação de redes elétricas, em anos\n",
    "\n",
    "Pelo modelo teórico exponencial onde a $E(X)=\\mu=\\frac{1}{lambda}$ e considerando que a duraçao média é de $1.5$ anos, podemos assumir que $\\mu=1.5$ e que $\\lambda=1/1.5$, ou seja,\n",
    "\n",
    "  * $X\\sim Exponencial(1/1.5)$"
   ]
  },
  {
   "cell_type": "markdown",
   "metadata": {},
   "source": [
    "___\n",
    "<div id=\"modelo-teorico\"></div>\n",
    "\n",
    "## Modelo teórico\n",
    "\n",
    "### Plotando os gráficos\n",
    "\n",
    "Técnicas de visualização podem nos ajudar a desenvolver intuições sobre o problema com o qual estamos trabalhando. Nas células abaixo vamos gerar o gráfico da função densidade de probabilidade da exponencial de acordo com o parâmetro do problema."
   ]
  },
  {
   "cell_type": "code",
   "execution_count": 2,
   "metadata": {},
   "outputs": [],
   "source": [
    "# Parâmetro da distribuição (mu = 1/lambda)\n",
    "mu = 1.5"
   ]
  },
  {
   "cell_type": "markdown",
   "metadata": {},
   "source": [
    "A função é definida em um domínio contínuo (no caso a durabilidade em anos é uma variável contínua), não temos como gerar todos os valores possíveis de $x$ para calcular $f(x)$ e plotar o gráfico. Por isso calculamos o valor de $f(x)$ para diversos valores de $x$ que estejam próximos o suficiente uns dos outros."
   ]
  },
  {
   "cell_type": "code",
   "execution_count": 3,
   "metadata": {},
   "outputs": [],
   "source": [
    "# Gerando 1000 valores para o eixo x de 0 a 10\n",
    "x = np.linspace(0, 10, 1000)\n",
    "# Descomente a linha a seguir se quiser saber o que está guardado na variável x\n",
    "# x"
   ]
  },
  {
   "cell_type": "markdown",
   "metadata": {},
   "source": [
    "O argumento `x` da função `stats.expon.pdf` não precisa ser um único número. Se passamos uma sequência de números ela devolve o valor da função densidade de probabilidade calculada em cada um desses números:"
   ]
  },
  {
   "cell_type": "code",
   "execution_count": 4,
   "metadata": {},
   "outputs": [],
   "source": [
    "# Calcula fx para cada x\n",
    "fx = stats.expon.pdf(x, scale=mu)\n",
    "# Descomente a linha a seguir se quiser saber o que está guardado na variável fx\n",
    "# fx"
   ]
  },
  {
   "cell_type": "markdown",
   "metadata": {},
   "source": [
    "Agora sim podemos plotar o gráfico da função densidade de probabilidade:"
   ]
  },
  {
   "cell_type": "code",
   "execution_count": 5,
   "metadata": {},
   "outputs": [
    {
     "data": {
      "image/png": "[encoded data removed]",
      "text/plain": [
       "<Figure size 432x288 with 1 Axes>"
      ]
     },
     "metadata": {
      "needs_background": "light"
     },
     "output_type": "display_data"
    }
   ],
   "source": [
    "# Plot da função densidade de uma exponencial com média = 8\n",
    "plt.plot(x, fx)\n",
    "plt.ylabel('densidade')\n",
    "plt.xlabel('valores de x')\n",
    "plt.title('Função densidade de probabilidade')\n",
    "plt.show()"
   ]
  },
  {
   "cell_type": "markdown",
   "metadata": {},
   "source": [
    "<div id=\"ex1\"></div>\n",
    "\n",
    "### EXERCÍCIO 1"
   ]
  },
  {
   "cell_type": "markdown",
   "metadata": {},
   "source": [
    "Como vimos, o parâmetro da exponencial é $E(X)=\\frac{1}{\\lambda}$.\n",
    "\n",
    "Baseado no exemplo da função densidade de probabilidade mostrado acima, plote a função cumulativa considerando o parâmetro do problema.\n",
    "\n",
    "**Dica:** Entenda a função `stats.expon.cdf`, que se encontra no pacote `scipy`. O argumento `x` não necessariamente precisa ser apenas um número.\n",
    "\n"
   ]
  },
  {
   "cell_type": "code",
   "execution_count": 6,
   "metadata": {},
   "outputs": [],
   "source": [
    "# COLOQUE SEU CÓDIGO AQUI\n",
    "cdf = stats.expon.cdf(x, scale=mu)"
   ]
  },
  {
   "cell_type": "code",
   "execution_count": 7,
   "metadata": {},
   "outputs": [
    {
     "data": {
      "image/png": "[encoded data removed]",
      "text/plain": [
       "<Figure size 1008x432 with 2 Axes>"
      ]
     },
     "metadata": {
      "needs_background": "light"
     },
     "output_type": "display_data"
    }
   ],
   "source": [
    "plt.figure(figsize=(14,6))\n",
    "\n",
    "plt.subplot(121)\n",
    "plt.plot(x, fx)\n",
    "plt.ylabel('densidade')\n",
    "plt.xlabel('valores de x')\n",
    "plt.title('Função densidade de probabilidade')\n",
    "\n",
    "plt.subplot(122)\n",
    "plt.plot(x, cdf)\n",
    "plt.ylabel('P(X <= x)')\n",
    "plt.xlabel('valores de x')\n",
    "plt.title('Função distribuição acumulada')\n",
    "plt.show()"
   ]
  },
  {
   "cell_type": "markdown",
   "metadata": {},
   "source": [
    "<div id=\"ex2\"></div>\n",
    "\n",
    "### EXERCÍCIO 2\n",
    "\n",
    "Dado que um transistor já durou 2 anos, qual a probabilidade que dure **até** mais 1 ano?\n",
    "\n",
    "*Resposta esperada: 0.4865828809674078*"
   ]
  },
  {
   "cell_type": "markdown",
   "metadata": {},
   "source": [
    "A seguir apresentamos duas possíveis soluções.\n",
    "\n",
    "### Solução 1: Calculando usando a fórmula da função de distribuição acumulada da Exponencial\n",
    "\n",
    "Lembramos que $P(X\\leq3|X>2) = \\frac{P(X\\leq3 \\cap X>2)}{P(X>2)}$\n",
    "\n",
    "Sabemos que a interseção entre $X\\leq3$  e $X>2$  é a faixa  $2<X\\leq3$\n",
    "\n",
    "Portanto a fórmula fica:\n",
    "\n",
    "$P(X\\leq3|X>2) = \\frac{P(2< X \\leq3)}{P(X>2)}$\n",
    "\n",
    "#### Calculando usando a fórmula da cumulativa da exponencial:\n",
    "\n",
    "Inicialmente, vamos calcular o **denominador** da fórmula:\n",
    "\n",
    "$P(X>2) = 1 - P(X\\leq2)$\n",
    "\n",
    "Sabemos da fórmula da cumulativa para a exponencial que $P(X\\leq x) = 1 - e^{-\\lambda x}$, em que $\\lambda = 1/\\mu$.\n",
    "\n",
    "\n",
    "Juntando tudo temos, para o denominador :\n",
    "$P(X > x) = 1 - (1 - e^{-\\lambda x}) = e^{-\\lambda x}$"
   ]
  },
  {
   "cell_type": "code",
   "execution_count": 8,
   "metadata": {},
   "outputs": [
    {
     "data": {
      "text/plain": [
       "'P(X>2)=0.2635971381157268'"
      ]
     },
     "execution_count": 8,
     "metadata": {},
     "output_type": "execute_result"
    }
   ],
   "source": [
    "mu = 1.5\n",
    "lambd = 1/mu\n",
    "x = 2\n",
    "\n",
    "P_X_maior_2 = math.e**(-lambd*x)\n",
    "f'P(X>2)={P_X_maior_2}'"
   ]
  },
  {
   "cell_type": "markdown",
   "metadata": {},
   "source": [
    "Vamos nos voltar agora para **numerador** da relação, ou seja,  $P(2< X \\leq 3)$. \n",
    "\n",
    "Sabemos que a probabilidade acumulada entre 2 e 3 é a diferença das acumuladas (lembrando que no caso de $X$ ser variável aleatória contínua a $P(X=x)=0$ **sempre**. Assim:\n",
    "\n",
    "$P(2<X\\leq3) = P(X\\leq3) - P(X\\leq2) = (1 - e^{-\\lambda3}) - (1 - e^{-\\lambda2})$\n",
    "\n",
    "Simplificando a expressão temos:\n",
    "\n",
    "$P(2<X\\leq3) = e^{-\\lambda2} - e^{-\\lambda3}$\n",
    "\n",
    "Vamos calcular:"
   ]
  },
  {
   "cell_type": "code",
   "execution_count": 9,
   "metadata": {},
   "outputs": [
    {
     "data": {
      "text/plain": [
       "'P(2 < X <= 3) = 0.12826185487911412'"
      ]
     },
     "execution_count": 9,
     "metadata": {},
     "output_type": "execute_result"
    }
   ],
   "source": [
    "P_entre_2e3 = math.e**(-lambd*2) - math.e**(-lambd*3)\n",
    "f'P(2 < X <= 3) = {P_entre_2e3}'"
   ]
  },
  {
   "cell_type": "code",
   "execution_count": 10,
   "metadata": {},
   "outputs": [
    {
     "data": {
      "text/plain": [
       "'A probabilidade de que um transistor durar apenas até mais um ano, dado que durou já 2 anos, é de 48.6583%'"
      ]
     },
     "execution_count": 10,
     "metadata": {},
     "output_type": "execute_result"
    }
   ],
   "source": [
    "resp = P_entre_2e3/P_X_maior_2\n",
    "f'A probabilidade de que um transistor durar apenas até mais um ano, dado que durou já 2 anos, é de {resp*100:.4f}%'"
   ]
  },
  {
   "cell_type": "markdown",
   "metadata": {},
   "source": [
    "### Solução 2: Calculando usando de forma inteligente a função CDF via `scipy.stats`\n",
    "\n",
    "Podemos realizar o mesmo cálculo sem a fórmula da exponencial, usando o módulo `stats.expon`. Vejamos:\n",
    "\n",
    "Via `scipy`, temos que  $P(X\\leq x)=$ `stats.expon.cdf(scale=mu)` e que $P(X>x)=1-$`stats.expon.cdf(scale=mu)`\n",
    "\n",
    "Lembremos que estávamos calculando $P(X\\leq3|X>2) = \\frac{P(2< X \\leq3)}{P(X>2)}$, ou seja: `P_entre_2e3/P_X_maior_2`. É o que vamos fazer agora:"
   ]
  },
  {
   "cell_type": "code",
   "execution_count": 11,
   "metadata": {},
   "outputs": [
    {
     "data": {
      "text/plain": [
       "'P(2 < X <= 3) = 0.128261854879114'"
      ]
     },
     "execution_count": 11,
     "metadata": {},
     "output_type": "execute_result"
    }
   ],
   "source": [
    "P_entre_2e3_v2 = stats.expon.cdf(3, scale=mu) - stats.expon.cdf(2, scale=mu)\n",
    "f'P(2 < X <= 3) = {P_entre_2e3_v2}'"
   ]
  },
  {
   "cell_type": "code",
   "execution_count": 12,
   "metadata": {},
   "outputs": [
    {
     "data": {
      "text/plain": [
       "'P(X > 2) = 0.2635971381157267'"
      ]
     },
     "execution_count": 12,
     "metadata": {},
     "output_type": "execute_result"
    }
   ],
   "source": [
    "P_X_maior_2_v2 = 1 - stats.expon.cdf(2, scale=mu)\n",
    "f'P(X > 2) = {P_X_maior_2_v2}'"
   ]
  },
  {
   "cell_type": "code",
   "execution_count": 26,
   "metadata": {},
   "outputs": [
    {
     "data": {
      "text/plain": [
       "'A probabilidade de que um transistor durar apenas até mais um ano, dado que durou já 2 anos, é de 48.6583 %'"
      ]
     },
     "execution_count": 26,
     "metadata": {},
     "output_type": "execute_result"
    }
   ],
   "source": [
    "resp_v2 = P_entre_2e3_v2/P_X_maior_2_v2\n",
    "f'A probabilidade de que um transistor durar apenas até mais um ano, dado que durou já 2 anos, é de {resp_v2*100:.4f} %'"
   ]
  },
  {
   "cell_type": "markdown",
   "metadata": {},
   "source": [
    "**Note que é  mais prático fazer dessa última forma!**"
   ]
  },
  {
   "cell_type": "markdown",
   "metadata": {},
   "source": [
    "<div id=\"ex3\"></div>\n",
    "\n",
    "### EXERCÍCIO 3\n",
    "\n",
    "A partir do modelo teórico, encontre a durabilidade mediana.\n",
    "\n",
    "Consulte uso do comando `stats.expon.ppf()`.\n",
    "\n",
    "*Resposta esperada: 1.0397207708399179*"
   ]
  },
  {
   "cell_type": "code",
   "execution_count": 14,
   "metadata": {},
   "outputs": [
    {
     "data": {
      "text/plain": [
       "1.0397207708399179"
      ]
     },
     "execution_count": 14,
     "metadata": {},
     "output_type": "execute_result"
    }
   ],
   "source": [
    "# COLOQUE SEU CÓDIGO AQUI\n",
    "stats.expon.ppf(0.5, scale=mu)"
   ]
  },
  {
   "cell_type": "markdown",
   "metadata": {},
   "source": [
    "<div id=\"ex4\"></div>\n",
    "\n",
    "### EXERCÍCIO 4\n",
    "\n",
    "A partir do modelo teórico, encontre a durabilidade mínima dos 20% de transistores que possuem os maiores tempos de duração.\n",
    "\n",
    "*Resposta esperada: 2.4141568686511508*"
   ]
  },
  {
   "cell_type": "code",
   "execution_count": 15,
   "metadata": {},
   "outputs": [
    {
     "data": {
      "text/plain": [
       "2.4141568686511508"
      ]
     },
     "execution_count": 15,
     "metadata": {},
     "output_type": "execute_result"
    }
   ],
   "source": [
    "# COLOQUE SEU CÓDIGO AQUI\n",
    "stats.expon.ppf(0.8, scale=mu)"
   ]
  },
  {
   "cell_type": "markdown",
   "metadata": {},
   "source": [
    "<div id=\"ex5\"></div>\n",
    "\n",
    "### EXERCÍCIO 5\n",
    "\n",
    "Assuma que os clientes compram esses transistores em caixas com 12 unidades. \n",
    "\n",
    "Nesse caso, calcule a probabilidade de que exatamente metade da caixa dure mais de 2 anos. Lembre de definir a variável aleatória de interesse e respectiva distribuição, com a qual calculará a probabilidade.\n",
    "\n",
    "*Resposta esperada: 0.04943208418207984*"
   ]
  },
  {
   "cell_type": "code",
   "execution_count": 16,
   "metadata": {},
   "outputs": [
    {
     "data": {
      "text/plain": [
       "0.04943208418207984"
      ]
     },
     "execution_count": 16,
     "metadata": {},
     "output_type": "execute_result"
    }
   ],
   "source": [
    "# COLOQUE SEU CÓDIGO AQUI\n",
    "dois_ou_mais = 1 - stats.expon.cdf(2, scale=mu) # probabilidade de sucesso da binomial\n",
    "\n",
    "n = 12\n",
    "stats.binom.pmf(6,n,dois_ou_mais) # P(Y = 6)"
   ]
  },
  {
   "cell_type": "markdown",
   "metadata": {},
   "source": [
    "<div id=\"resultados-empiricos\"></div>\n",
    "\n",
    "## Resultados empíricos\n",
    "\n",
    "Os dados de durabilidade de transistores de potência usados em regulação de redes elétricas foram registrados no arquivo `transistores.csv`."
   ]
  },
  {
   "cell_type": "code",
   "execution_count": 17,
   "metadata": {},
   "outputs": [],
   "source": [
    "# Carregando os dados\n",
    "dados_transistores = pd.read_csv('transistores.csv')\n",
    "valores_f = dados_transistores['durabilidade']"
   ]
  },
  {
   "cell_type": "markdown",
   "metadata": {},
   "source": [
    "<div id=\"ex6\"></div>\n",
    "\n",
    "### EXERCÍCIO 6\n",
    "\n",
    "Considerando medidas-resumo, faça uma análise descritiva desses valores."
   ]
  },
  {
   "cell_type": "code",
   "execution_count": 18,
   "metadata": {},
   "outputs": [
    {
     "data": {
      "text/plain": [
       "count    100.000000\n",
       "mean       1.504835\n",
       "std        1.505427\n",
       "min        0.005400\n",
       "25%        0.537100\n",
       "50%        1.088700\n",
       "75%        1.841150\n",
       "max        8.597200\n",
       "Name: durabilidade, dtype: float64"
      ]
     },
     "execution_count": 18,
     "metadata": {},
     "output_type": "execute_result"
    }
   ],
   "source": [
    "# COLOQUE SEU CÓDIGO AQUI\n",
    "valores_f.describe()"
   ]
  },
  {
   "cell_type": "markdown",
   "metadata": {},
   "source": [
    "<div id=\"ex7\"></div>\n",
    "\n",
    "### EXERCÍCIO 7\n",
    "\n",
    "Construa uma tabela de frequências para os valores de durabilidade observados e armazenados no conjunto de dados."
   ]
  },
  {
   "cell_type": "markdown",
   "metadata": {},
   "source": [
    "Como a durabilidade do transistor é uma variável considerada contínua, aplicar o comando `.value_counts(True)` diretamente nos dados, não surtirá bons resultados com o intuito de resumir e descrever o comportamento dessa variável.\n",
    "\n",
    "Faça o teste você mesmo:"
   ]
  },
  {
   "cell_type": "code",
   "execution_count": 27,
   "metadata": {},
   "outputs": [
    {
     "data": {
      "text/plain": [
       "(0.0, 0.5]    0.232323\n",
       "(0.5, 1.0]    0.222222\n",
       "(1.5, 2.0]    0.191919\n",
       "(1.0, 1.5]    0.141414\n",
       "(2.5, 3.0]    0.070707\n",
       "(2.0, 2.5]    0.050505\n",
       "(3.0, 3.5]    0.030303\n",
       "(3.5, 4.0]    0.020202\n",
       "(5.0, 5.5]    0.010101\n",
       "(5.5, 6.0]    0.010101\n",
       "(4.0, 4.5]    0.010101\n",
       "(8.0, 8.5]    0.010101\n",
       "(4.5, 5.0]    0.000000\n",
       "(6.0, 6.5]    0.000000\n",
       "(6.5, 7.0]    0.000000\n",
       "(7.0, 7.5]    0.000000\n",
       "(7.5, 8.0]    0.000000\n",
       "Name: durabilidade, dtype: float64"
      ]
     },
     "execution_count": 27,
     "metadata": {},
     "output_type": "execute_result"
    }
   ],
   "source": [
    "# COLOQUE SEU CÓDIGO AQUI\n",
    "faixas = np.arange(0, 9, 0.5)\n",
    "pd.cut(valores_f, bins=faixas).value_counts(True)"
   ]
  },
  {
   "cell_type": "markdown",
   "metadata": {},
   "source": [
    "Nesse caso, será necessário utilizar o comando `pd.cut()` para criar faixas de valores. Veja [aqui](https://pandas.pydata.org/pandas-docs/version/0.23.4/generated/pandas.cut.html) o uso desse comando.\n",
    "\n",
    "Considere as faixas de valores guardadas na variável `faixa` e aplique o comando `pd.cut()` nos dados observados.\n",
    "\n",
    "Ainda, interprete os resultados."
   ]
  },
  {
   "cell_type": "code",
   "execution_count": 20,
   "metadata": {
    "scrolled": true
   },
   "outputs": [
    {
     "data": {
      "text/plain": [
       "array([ 0,  1,  2,  3,  4,  5,  6,  7,  8,  9, 10])"
      ]
     },
     "execution_count": 20,
     "metadata": {},
     "output_type": "execute_result"
    }
   ],
   "source": [
    "faixa = np.arange(0,11,1)\n",
    "faixa"
   ]
  },
  {
   "cell_type": "markdown",
   "metadata": {},
   "source": [
    "<div id=\"ex8\"></div>\n",
    "\n",
    "### EXERCÍCIO 8\n",
    "\n",
    "Para visualizar graficamente valores de uma variável quantitativa quebrada em faixas de valores, podemos utilizar um histograma. O uso desse gráfico facilita a interpretação de como os valores observados se distribuem nas faixas de valores e também permite compreender, ainda que descritivamente, se um determinado modelo teórico faz ou não um bom ajuste aos dados.\n",
    "\n",
    "Para estudar a construção de um histograma no Python, veja [aqui](https://matplotlib.org/3.2.1/api/_as_gen/matplotlib.pyplot.hist.html).\n",
    "\n",
    "Agora, faça o histograma dos valores armazenados em `valores_f` considerando o argumento `bins=faixa` e use o argumento `density=True` para que a área do gráfico seja igual a 1.\n"
   ]
  },
  {
   "cell_type": "code",
   "execution_count": 21,
   "metadata": {},
   "outputs": [
    {
     "data": {
      "text/plain": [
       "Text(0, 0.5, 'frequência')"
      ]
     },
     "execution_count": 21,
     "metadata": {},
     "output_type": "execute_result"
    },
    {
     "data": {
      "image/png": "[encoded data removed]",
      "text/plain": [
       "<Figure size 1080x360 with 1 Axes>"
      ]
     },
     "metadata": {
      "needs_background": "light"
     },
     "output_type": "display_data"
    }
   ],
   "source": [
    "# COLOQUE SEU CÓDIGO AQUI\n",
    "plt.figure(figsize=(15, 5))\n",
    "\n",
    "plt.subplot(121)\n",
    "plt.hist(valores_f, bins=faixa, edgecolor='white')\n",
    "plt.title('Valores de durabilidade')\n",
    "plt.ylabel('frequência')"
   ]
  },
  {
   "cell_type": "markdown",
   "metadata": {},
   "source": [
    "**Interpretação: O contorno do histograma de densidade de frequências relativas parece sugerir um contorno exponencial, ou seja, menores valores com maiores concentrações (densidades) e redução gradativa dessas densidades conforme os valores aumentam. Assim, faria sentido que os dados seguissem uma distribuição exponencial**."
   ]
  },
  {
   "cell_type": "markdown",
   "metadata": {},
   "source": [
    "<div id=\"comparacao\"></div>\n",
    "\n",
    "## Comparação: resultados empíricos *vs* modelo teórico"
   ]
  },
  {
   "cell_type": "markdown",
   "metadata": {},
   "source": [
    "<div id=\"ex9\"></div>\n",
    "\n",
    "### EXERCÍCIO 9\n",
    "\n",
    "Considerando os valores observados na amostra, **estime** o valor de $\\mu$ e, por consequência, **estime** o valor de $\\lambda$ da distribuição exponencial.\n",
    "\n",
    "*Resposta esperada: mu = 1.5048349999999997 lambda = 0.6645246821080053*"
   ]
  },
  {
   "cell_type": "code",
   "execution_count": 22,
   "metadata": {},
   "outputs": [
    {
     "data": {
      "text/plain": [
       "0.6648936170212766"
      ]
     },
     "execution_count": 22,
     "metadata": {},
     "output_type": "execute_result"
    }
   ],
   "source": [
    "# COLOQUE SEU CÓDIGO AQUI\n",
    "valores_f.describe()\n",
    "mu = 1.504\n",
    "lbd = 1/mu\n",
    "lbd"
   ]
  },
  {
   "cell_type": "markdown",
   "metadata": {},
   "source": [
    "<div id=\"ex10\"></div>\n",
    "\n",
    "### EXERCÍCIO 10\n",
    "\n",
    "Utilize essa estimativa obtida no exercício anterior e faça os dois seguintes gráficos:\n",
    "\n",
    "  * Visualize a função densidade de probabbilidade (f.d.p.) da exponencial assumindo agora a estimativa de $\\mu$ no argumento `scale`. **Dica**: A f.d.p. já foi construida no começo desta atividade.\n",
    "  * Visualize a f.d.p. anterior sobre o histograma de densidade obtido a partir dos dados.\n",
    "\n"
   ]
  },
  {
   "cell_type": "markdown",
   "metadata": {},
   "source": [
    "Podemos visualizar a função de densidade de probabilidade **sobre** o histograma de densidade."
   ]
  },
  {
   "cell_type": "code",
   "execution_count": 23,
   "metadata": {},
   "outputs": [
    {
     "data": {
      "image/png": "[encoded data removed]",
      "text/plain": [
       "<Figure size 432x288 with 1 Axes>"
      ]
     },
     "metadata": {
      "needs_background": "light"
     },
     "output_type": "display_data"
    }
   ],
   "source": [
    "# COLOQUE SEU CÓDIGO AQUI\n",
    "faixas = range(0, 10, 1)\n",
    "plt.hist(valores_f, bins=faixas, density=True)\n",
    "# plt.plot(x, fx) #foi calculado no item 1\n",
    "plt.title('Histograma (AMOSTRA) + fpd da Exponencial (TEÓRICO)')\n",
    "plt.ylabel ('Densidade')\n",
    "plt.xlabel('Durabilidade')\n",
    "plt.show()"
   ]
  },
  {
   "cell_type": "markdown",
   "metadata": {},
   "source": [
    "Essa figura permite ver que a função exponencial ajusta aproximadamente a densidade com que os dados estão distribuídos no histograma"
   ]
  },
  {
   "cell_type": "markdown",
   "metadata": {},
   "source": [
    "<div id=\"ex-extra\"></div>\n",
    "\n",
    "## EXERCÍCIO EXTRA\n",
    "\n",
    "<div id=\"ex11\"></div>\n",
    "\n",
    "### EXERCÍCIO 11\n",
    "\n",
    "\n",
    "Descubra como usar a função `probplot()` [aqui](https://docs.scipy.org/doc/scipy/reference/generated/scipy.stats.probplot.html) para poder avaliar se faz sentido que os dados tenham vindo de uma exponencial. \n",
    "\n",
    "Após construção desse gráfico, responda se faz sentido.\n"
   ]
  },
  {
   "cell_type": "code",
   "execution_count": 24,
   "metadata": {},
   "outputs": [],
   "source": [
    "# COLOQUE SEU CÓDIGO AQUI"
   ]
  },
  {
   "cell_type": "code",
   "execution_count": null,
   "metadata": {},
   "outputs": [],
   "source": []
  },
  {
   "cell_type": "code",
   "execution_count": null,
   "metadata": {},
   "outputs": [],
   "source": []
  },
  {
   "cell_type": "markdown",
   "metadata": {},
   "source": [
    "**Resposta: O probplot traça o que seria o esperado do ponto de vista teórico na distribuição analisada versus os dados reais encontrados. Quanto mais próximos da diagonal, mais prováveis é que os dados sigam a distribuição.**\n",
    "\n",
    "**No problema em questão pode-se dizer que os dados parecem seguir uma exponencial, apesar do ajuste não ser perfeito.**\n",
    "\n",
    "A imperfeição do ajuste pode ser explicada porque temos apenas 100 dados. Um número maior de amostras permitira concluir com maior certeza se os dados seguem uma exponencial ou não. Ainda, um teste inferencial permitiria concluir com algum coeficiente de confiança (assunto após Avaliação Intermediária).\n",
    "\n",
    "\n"
   ]
  },
  {
   "cell_type": "markdown",
   "metadata": {},
   "source": [
    "<div id=\"comandos\"></div>\n",
    "\n",
    "___\n",
    "\n",
    "## Lista de comandos utilizados neste notebook\n",
    "\n",
    "Os seguintes comandos foram utilizados neste jupyter notebook. Para facilitar sua consulta, escreva um resumo do que cada um deles faz:\n",
    "\n",
    "- [`.ppf()`](#ppf): ESCREVA AQUI O RESUMO\n",
    "- [`pd.cut()`](#cut): ESCREVA AQUI O RESUMO\n",
    "- [`plt.hist()`](#hist): ESCREVA AQUI O RESUMO\n",
    "- [`.probplot()`](#probplot): ESCREVA AQUI O RESUMO"
   ]
  }
 ],
 "metadata": {
  "kernelspec": {
   "display_name": "Python 3",
   "language": "python",
   "name": "python3"
  },
  "language_info": {
   "codemirror_mode": {
    "name": "ipython",
    "version": 3
   },
   "file_extension": ".py",
   "mimetype": "text/x-python",
   "name": "python",
   "nbconvert_exporter": "python",
   "pygments_lexer": "ipython3",
   "version": "3.8.8"
  }
 },
 "nbformat": 4,
 "nbformat_minor": 2
}
