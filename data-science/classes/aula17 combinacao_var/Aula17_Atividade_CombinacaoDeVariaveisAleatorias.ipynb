{
 "cells": [
  {
   "cell_type": "markdown",
   "metadata": {},
   "source": [
    "___\n",
    "# Atividade: Propriedades de esperança e variância para Combinação linear de variáveis aleatórias\n",
    "___\n",
    "\n",
    "## Aula 17"
   ]
  },
  {
   "cell_type": "markdown",
   "metadata": {},
   "source": [
    "<div id=\"indice\"></div>\n",
    "\n",
    "## Índice\n",
    "\n",
    "- [Motivação teórica](#motivacao)\n",
    "    - [Exercício 1](#ex1)\n",
    "- [O que significa fazer $X+Y$?](#significa)\n",
    "- [Programando valores para representar $X$, $Y$ e $X+Y$](#simulacao)\n",
    "    - [Simulação com uso de *loop*](#simulacao1)\n",
    "        - [Exercício 2](#ex2)\n",
    "    - [Melhorando a performance na simulação](#simulacao2)\n",
    "        - [Exercício 3](#ex3)\n",
    "        - [Exercício 4](#ex4)\n",
    "- [Contrastando com previsão teórica](#teoria)       \n",
    "- [Propriedades de esperança e variância em combinação linear de variáveis aleatórias](#propriedades)       \n",
    "    - [Exercício 5](#ex5)\n",
    " \n",
    "- [Lista de comandos utilizados neste notebook](#comandos)\n",
    "___"
   ]
  },
  {
   "cell_type": "code",
   "execution_count": 1,
   "metadata": {},
   "outputs": [],
   "source": [
    "import pandas as pd\n",
    "import numpy as np\n",
    "from scipy.stats import uniform, expon, norm\n",
    "import matplotlib.pyplot as plt\n",
    "%matplotlib inline"
   ]
  },
  {
   "cell_type": "markdown",
   "metadata": {},
   "source": [
    "___\n",
    "<div id=\"motivacao\"></div>\n",
    "\n",
    "## Motivação teórica\n",
    "\n",
    "A seguir, considere duas variáveis aleatórias $X$ e $Y$, ambas contínuas, cujo objetivo seja somá-las, ou seja, obter $X+Y$!\n",
    "\n",
    "Vamos criar um experimento considerando as seguintes distribuições e parâmetros para $X$ e $Y$, respectivamente:\n",
    "\n",
    " $X \\sim$ Uniforme$(4,7)$, ou seja, $a=4$ e $b=7$\n",
    "\n",
    "e \n",
    "\n",
    " $Y \\sim$ Exponencial$(1/3)$, ou seja, $\\lambda=1/3$ e $\\mu=3$."
   ]
  },
  {
   "cell_type": "markdown",
   "metadata": {},
   "source": [
    "<div id=\"ex1\"></div>\n",
    "\n",
    "### EXERCÍCIO 1\n",
    "\n",
    "Inicialmente, construa um gráfico de ambas as distribuições univariadamente. Veja **Aula15** caso tenha dúvidas com essas duas distribuições."
   ]
  },
  {
   "cell_type": "code",
   "execution_count": 2,
   "metadata": {},
   "outputs": [],
   "source": [
    "# Vamos criar uma faixa de valores para eixo x, válida para ambas as distribuições\n",
    "eixo_x = np.linspace(-1, 15, 300)"
   ]
  },
  {
   "cell_type": "code",
   "execution_count": 3,
   "metadata": {},
   "outputs": [
    {
     "data": {
      "image/png": "[encoded data removed]",
      "text/plain": [
       "<Figure size 432x288 with 1 Axes>"
      ]
     },
     "metadata": {
      "needs_background": "light"
     },
     "output_type": "display_data"
    }
   ],
   "source": [
    "#stats.uniform.pdf(𝑥, loc=𝑎, scale= 𝑏−𝑎)\n",
    "a = 4\n",
    "b = 7\n",
    "fx_uniforme = uniform.pdf(eixo_x, loc=4, scale=b-a) #stats.uniform.pdf(x, loc=4, scale=b-a)\n",
    "plt.plot(eixo_x, fx_uniforme);"
   ]
  },
  {
   "cell_type": "code",
   "execution_count": 4,
   "metadata": {},
   "outputs": [
    {
     "data": {
      "image/png": "[encoded data removed]",
      "text/plain": [
       "<Figure size 432x288 with 1 Axes>"
      ]
     },
     "metadata": {
      "needs_background": "light"
     },
     "output_type": "display_data"
    }
   ],
   "source": [
    "#stats.expon.pdf(x, scale=mu)\n",
    "fx_exponencial = expon.pdf(eixo_x, scale=3)\n",
    "plt.plot(eixo_x, fx_exponencial);"
   ]
  },
  {
   "cell_type": "markdown",
   "metadata": {},
   "source": [
    "___\n",
    "<div id=\"significa\"></div>\n",
    "\n",
    "## O que significa fazer $X + Y$ ?\n",
    "\n",
    "Considere, **por exemplo**, que um produto passe por duas etapas na linha de produção e o tempo em cada etapa seja mensurados. Assim, assuma que:\n",
    "\n",
    "  * $X$ represente o tempo, em minutos, que um produto demora para passar pela etapa $1$; e\n",
    "  * $Y$ represente o tempo, em minutos, que o mesmo produto demora para passar pela etapa $2$ na linha de produção.\n",
    "  \n",
    "Assim, $W=X+Y$ deverá representar o tempo total que um produto demora para ficar pronto se esse precisa apenas dessas duas etapas na linha de produção.\n",
    "\n",
    "O que vamos entender agora é como podemos analisar o **valor esperado** e a **variância** de $W$ a partir de dados e depois considerando propriedades de esperança e variância."
   ]
  },
  {
   "cell_type": "markdown",
   "metadata": {},
   "source": [
    "___\n",
    "<div id=\"simulacao\"></div>\n",
    "\n",
    "## Programando valores para representar $X$, $Y$ e $X+Y$\n",
    "\n",
    "Para estudarmos como ficaria o valor esperado e a variância de $W=X+Y$ a partir de dados, devemos simular alguns valores hipotéticos para representar $X$ conforme a uniforme e $Y$ conforme a exponencial mencionada acima. \n",
    "\n",
    "Para tanto, no `scipy.stats`, a função que gera uma amostra de valores conforme uma distribuição qualquer é a função `rvs()` (de *random variable sample*). No nosso exemplo, vamos utilizar `uniform.rvs()` ou `expon.rvs` com os valores dos parâmetros adequadamente aos citados anteriormente.\n",
    "\n",
    "Assim, faremos:\n",
    "  * Simular $n$ valores para construir uma amostra de $X$ utilizando a distribuição uniforme\n",
    "  * Simular $n$ valores para construir uma amostra de $Y$ utilizando a distribuição exponencial\n",
    "  * A cada linha, somar os valores de $x$ e de $y$ para construir a coluna $w$, já que $W = X + Y$"
   ]
  },
  {
   "cell_type": "markdown",
   "metadata": {},
   "source": [
    "<div id=\"simulacao1\"></div>\n",
    "\n",
    "### Simulação com uso de *loop*:\n",
    "\n",
    "Simulação mais \"lenta\" por fazer uso de `for`. Aqui, será simulado um valor por vez para $x$ e para $y$, calculado a soma e aguardado em $w$."
   ]
  },
  {
   "cell_type": "code",
   "execution_count": 5,
   "metadata": {},
   "outputs": [],
   "source": [
    "n = 50000\n",
    "x_all = []\n",
    "y_all = []\n",
    "w_all = []\n",
    "\n",
    "a = 4\n",
    "b = 7\n",
    "mu = 3\n",
    "\n",
    "for i in range(n):\n",
    "    x = uniform.rvs(loc=a, scale=b-a) #gera valores aleatórios da distr. normal\n",
    "    y = expon.rvs(scale=mu) #gera valores aleatórios da distr. exponencial\n",
    "    w = x+y\n",
    "    \n",
    "    # Guarda os n valores em lista\n",
    "    x_all.append(x)\n",
    "    y_all.append(y)\n",
    "    w_all.append(w)"
   ]
  },
  {
   "cell_type": "markdown",
   "metadata": {},
   "source": [
    "Dependendo das distribuições somadas, a nova distribuição resultante pode apresentar um outro formato. Ou seja, somar uma uniforme e uma exponencial, pode resultar numa terceira distribuição teórica que pode ou não ser facilmente conhecida na literatura estatística. \n",
    "\n",
    "Vamos visualizar o histograma dos valores de $x$, de $y$ e de $w$, esse último que deve indicar o formato da distribuição resultante."
   ]
  },
  {
   "cell_type": "code",
   "execution_count": 6,
   "metadata": {},
   "outputs": [
    {
     "data": {
      "image/png": "[encoded data removed]",
      "text/plain": [
       "<Figure size 1296x360 with 3 Axes>"
      ]
     },
     "metadata": {
      "needs_background": "light"
     },
     "output_type": "display_data"
    }
   ],
   "source": [
    "plt.figure(figsize=(18, 5))\n",
    "\n",
    "plt.subplot(131)\n",
    "plt.hist(x_all, bins=50, density=True,\n",
    "         color='blue', edgecolor='white', \n",
    "         linewidth=1, alpha=0.8)\n",
    "plt.ylabel('densidade')\n",
    "plt.xlabel('valores simulados para x')\n",
    "plt.title('Simulação - Uniforme')\n",
    "#plt.ylim(0,0.35)\n",
    "\n",
    "plt.subplot(132)\n",
    "plt.hist(y_all, bins=50, density=True,\n",
    "         color='orange', edgecolor='white', \n",
    "         linewidth=1, alpha=0.8)\n",
    "plt.ylabel('densidade')\n",
    "plt.xlabel('valores simulados para y')\n",
    "plt.title('Simulação - Exponencial')\n",
    "plt.ylim(0,0.35)\n",
    "\n",
    "plt.subplot(133)\n",
    "plt.hist(w_all, bins=50, density=True,\n",
    "         color='red', edgecolor='white', \n",
    "         linewidth=1, alpha=0.8)\n",
    "plt.ylabel('densidade')\n",
    "plt.xlabel('valores calculados para w')\n",
    "plt.title('W=X+Y')\n",
    "\n",
    "plt.show()"
   ]
  },
  {
   "cell_type": "markdown",
   "metadata": {},
   "source": [
    "\n",
    "**Pontos importantes:** \n",
    "\n",
    "Implementar $X+Y$ é somar os valores de $X$ com os valores de $Y$, linha a linha, e obter uma nova distribuição, cuja área também valerá $1$!!!"
   ]
  },
  {
   "cell_type": "markdown",
   "metadata": {},
   "source": [
    "<div id=\"ex2\"></div>\n",
    "\n",
    "### EXERCÍCIO 2\n",
    "\n",
    "Considerando os valores de `x_all`, `y_all` e `w_all`, calcule a média e variância de cada variável."
   ]
  },
  {
   "cell_type": "code",
   "execution_count": 7,
   "metadata": {},
   "outputs": [
    {
     "data": {
      "text/plain": [
       "0.0063272289056884425"
      ]
     },
     "execution_count": 7,
     "metadata": {},
     "output_type": "execute_result"
    }
   ],
   "source": [
    "# ESCREVA SEU CÓDIGO AQUI\n",
    "media_x_all = np.mean(x_all)\n",
    "var_x_all = np.var(x_all)\n",
    "\n",
    "media_y_all = np.mean(y_all)\n",
    "var_y_all = np.var(y_all)\n",
    "\n",
    "cov = np.cov(x_all, y_all)[0, 1]\n",
    "cov"
   ]
  },
  {
   "cell_type": "code",
   "execution_count": 8,
   "metadata": {},
   "outputs": [
    {
     "ename": "TypeError",
     "evalue": "'numpy.float64' object is not callable",
     "output_type": "error",
     "traceback": [
      "\u001b[0;31m---------------------------------------------------------------------------\u001b[0m",
      "\u001b[0;31mTypeError\u001b[0m                                 Traceback (most recent call last)",
      "\u001b[0;32m<ipython-input-8-c865da8a6863>\u001b[0m in \u001b[0;36m<module>\u001b[0;34m\u001b[0m\n\u001b[1;32m      2\u001b[0m \u001b[0mvar_w_all\u001b[0m \u001b[0;34m=\u001b[0m \u001b[0mnp\u001b[0m\u001b[0;34m.\u001b[0m\u001b[0mvar\u001b[0m\u001b[0;34m(\u001b[0m\u001b[0mw_all\u001b[0m\u001b[0;34m)\u001b[0m\u001b[0;34m\u001b[0m\u001b[0;34m\u001b[0m\u001b[0m\n\u001b[1;32m      3\u001b[0m \u001b[0mmedia_w_all\u001b[0m \u001b[0;34m=\u001b[0m \u001b[0mmedia_x_all\u001b[0m \u001b[0;34m+\u001b[0m \u001b[0mmedia_y_all\u001b[0m\u001b[0;34m\u001b[0m\u001b[0;34m\u001b[0m\u001b[0m\n\u001b[0;32m----> 4\u001b[0;31m \u001b[0mvar_w_all\u001b[0m \u001b[0;34m=\u001b[0m \u001b[0mvar_x_all\u001b[0m \u001b[0;34m+\u001b[0m \u001b[0mvar_y_all\u001b[0m \u001b[0;34m+\u001b[0m \u001b[0;36m2\u001b[0m\u001b[0;34m*\u001b[0m\u001b[0mcov\u001b[0m\u001b[0;34m(\u001b[0m\u001b[0mx_all\u001b[0m\u001b[0;34m,\u001b[0m \u001b[0my_all\u001b[0m\u001b[0;34m)\u001b[0m\u001b[0;34m\u001b[0m\u001b[0;34m\u001b[0m\u001b[0m\n\u001b[0m",
      "\u001b[0;31mTypeError\u001b[0m: 'numpy.float64' object is not callable"
     ]
    }
   ],
   "source": [
    "media_w_all = np.mean(w_all)\n",
    "var_w_all = np.var(w_all)\n",
    "media_w_all = media_x_all + media_y_all\n",
    "var_w_all = var_x_all + var_y_all + 2*cov(x_all, y_all)"
   ]
  },
  {
   "cell_type": "markdown",
   "metadata": {},
   "source": [
    "___\n",
    "\n",
    "<div id=\"simulacao2\"></div>\n",
    "\n",
    "### Melhorando a performance na simulação:\n",
    "\n",
    "Agora, ao invés de fazer um *loop* para gerar $n$ amostras em Python, podemos pedir à função `rvs()` que realize $n$ sorteios diretamente utilizando o **argumento** `size = n`. "
   ]
  },
  {
   "cell_type": "markdown",
   "metadata": {},
   "source": [
    "Observe que os resultados gerados aqui não se alteram, de maneira geral, mas o desempenho é melhor (mais rápido)."
   ]
  },
  {
   "cell_type": "code",
   "execution_count": 9,
   "metadata": {},
   "outputs": [],
   "source": [
    "x_All = uniform.rvs(loc=a, scale=b-a, size=n)\n",
    "y_All = expon.rvs(scale=mu, size=n)\n",
    "\n",
    "# note que estamos somando elemento a elemento de x_All e y_All e obtendo um novo array\n",
    "w_All = x_All + y_All "
   ]
  },
  {
   "cell_type": "markdown",
   "metadata": {},
   "source": [
    "<div id=\"ex3\"></div>\n",
    "\n",
    "### EXERCÍCIO 3\n",
    "\n",
    "Considerando os valores de `x_All`, `y_All` e `w_All`, calcule a média e variância de cada variável. Ainda, calcule covariância e correlação entre `x_All` e `y_All`."
   ]
  },
  {
   "cell_type": "code",
   "execution_count": 11,
   "metadata": {},
   "outputs": [
    {
     "data": {
      "text/plain": [
       "array([[ 0.75217107, -0.01419092],\n",
       "       [-0.01419092,  9.02969238]])"
      ]
     },
     "execution_count": 11,
     "metadata": {},
     "output_type": "execute_result"
    }
   ],
   "source": [
    "# ESCREVA SEU CÓDIGO AQUI\n",
    "media_w_All = np.mean(w_All)\n",
    "var_w_All = np.var(w_All)\n",
    "\n",
    "media_x_All = np.mean(x_All)\n",
    "var_x_All = np.var(x_All)\n",
    "\n",
    "media_y_All = np.mean(y_All)\n",
    "var_y_All = np.var(y_All)\n",
    "\n",
    "cov_x_y_All = np.cov(x_All, y_All)\n",
    "cov_x_y_All"
   ]
  },
  {
   "cell_type": "markdown",
   "metadata": {},
   "source": [
    "<div id=\"ex4\"></div>\n",
    "\n",
    "### EXERCÍCIO 4\n",
    "\n",
    "Os valores de `x_All`, `y_All` e `w_All` foram colocados em um *dataframe* chamando `df`.\n",
    "\n",
    "Considerando as variáveis `X`, `Y` e `W` desse *dataframe*, calcule a média e variância de cada variável. Ainda, calcule covariância e correlação entre `X` e `Y`.\n",
    "\n",
    "Faça todas as contas utilizando comando do *pandas*.\n"
   ]
  },
  {
   "cell_type": "code",
   "execution_count": 12,
   "metadata": {
    "scrolled": true
   },
   "outputs": [
    {
     "data": {
      "text/html": [
       "<div>\n",
       "<style scoped>\n",
       "    .dataframe tbody tr th:only-of-type {\n",
       "        vertical-align: middle;\n",
       "    }\n",
       "\n",
       "    .dataframe tbody tr th {\n",
       "        vertical-align: top;\n",
       "    }\n",
       "\n",
       "    .dataframe thead th {\n",
       "        text-align: right;\n",
       "    }\n",
       "</style>\n",
       "<table border=\"1\" class=\"dataframe\">\n",
       "  <thead>\n",
       "    <tr style=\"text-align: right;\">\n",
       "      <th></th>\n",
       "      <th>X</th>\n",
       "      <th>Y</th>\n",
       "      <th>W</th>\n",
       "    </tr>\n",
       "  </thead>\n",
       "  <tbody>\n",
       "    <tr>\n",
       "      <th>0</th>\n",
       "      <td>4.819717</td>\n",
       "      <td>0.558485</td>\n",
       "      <td>5.378202</td>\n",
       "    </tr>\n",
       "    <tr>\n",
       "      <th>1</th>\n",
       "      <td>4.433315</td>\n",
       "      <td>0.496694</td>\n",
       "      <td>4.930009</td>\n",
       "    </tr>\n",
       "    <tr>\n",
       "      <th>2</th>\n",
       "      <td>5.172752</td>\n",
       "      <td>1.187899</td>\n",
       "      <td>6.360651</td>\n",
       "    </tr>\n",
       "    <tr>\n",
       "      <th>3</th>\n",
       "      <td>5.092420</td>\n",
       "      <td>2.441027</td>\n",
       "      <td>7.533446</td>\n",
       "    </tr>\n",
       "    <tr>\n",
       "      <th>4</th>\n",
       "      <td>4.868911</td>\n",
       "      <td>0.482301</td>\n",
       "      <td>5.351212</td>\n",
       "    </tr>\n",
       "  </tbody>\n",
       "</table>\n",
       "</div>"
      ],
      "text/plain": [
       "          X         Y         W\n",
       "0  4.819717  0.558485  5.378202\n",
       "1  4.433315  0.496694  4.930009\n",
       "2  5.172752  1.187899  6.360651\n",
       "3  5.092420  2.441027  7.533446\n",
       "4  4.868911  0.482301  5.351212"
      ]
     },
     "execution_count": 12,
     "metadata": {},
     "output_type": "execute_result"
    }
   ],
   "source": [
    "df = pd.DataFrame()\n",
    "df['X'] = x_All\n",
    "df['Y'] = y_All\n",
    "df['W'] = w_All\n",
    "df.head()"
   ]
  },
  {
   "cell_type": "code",
   "execution_count": 13,
   "metadata": {},
   "outputs": [
    {
     "data": {
      "text/plain": [
       "5.499642817939327"
      ]
     },
     "execution_count": 13,
     "metadata": {},
     "output_type": "execute_result"
    }
   ],
   "source": [
    "# ESCREVA SEU CÓDIGO AQUI\n",
    "media_x_All = x_All.mean()\n",
    "var_x_All = x_All.var()\n",
    "media_x_All"
   ]
  },
  {
   "cell_type": "code",
   "execution_count": 14,
   "metadata": {},
   "outputs": [
    {
     "data": {
      "text/plain": [
       "3.0009684182247014"
      ]
     },
     "execution_count": 14,
     "metadata": {},
     "output_type": "execute_result"
    }
   ],
   "source": [
    "media_y_All = y_All.mean()\n",
    "var_y_All = y_All.var()\n",
    "media_y_All"
   ]
  },
  {
   "cell_type": "code",
   "execution_count": 15,
   "metadata": {},
   "outputs": [
    {
     "data": {
      "text/html": [
       "<div>\n",
       "<style scoped>\n",
       "    .dataframe tbody tr th:only-of-type {\n",
       "        vertical-align: middle;\n",
       "    }\n",
       "\n",
       "    .dataframe tbody tr th {\n",
       "        vertical-align: top;\n",
       "    }\n",
       "\n",
       "    .dataframe thead th {\n",
       "        text-align: right;\n",
       "    }\n",
       "</style>\n",
       "<table border=\"1\" class=\"dataframe\">\n",
       "  <thead>\n",
       "    <tr style=\"text-align: right;\">\n",
       "      <th></th>\n",
       "      <th>X</th>\n",
       "      <th>Y</th>\n",
       "      <th>W</th>\n",
       "    </tr>\n",
       "  </thead>\n",
       "  <tbody>\n",
       "    <tr>\n",
       "      <th>X</th>\n",
       "      <td>0.752171</td>\n",
       "      <td>-0.014191</td>\n",
       "      <td>0.737980</td>\n",
       "    </tr>\n",
       "    <tr>\n",
       "      <th>Y</th>\n",
       "      <td>-0.014191</td>\n",
       "      <td>9.029692</td>\n",
       "      <td>9.015501</td>\n",
       "    </tr>\n",
       "    <tr>\n",
       "      <th>W</th>\n",
       "      <td>0.737980</td>\n",
       "      <td>9.015501</td>\n",
       "      <td>9.753482</td>\n",
       "    </tr>\n",
       "  </tbody>\n",
       "</table>\n",
       "</div>"
      ],
      "text/plain": [
       "          X         Y         W\n",
       "X  0.752171 -0.014191  0.737980\n",
       "Y -0.014191  9.029692  9.015501\n",
       "W  0.737980  9.015501  9.753482"
      ]
     },
     "execution_count": 15,
     "metadata": {},
     "output_type": "execute_result"
    }
   ],
   "source": [
    "cov_x_y_All = df['X'].cov(df['Y'])\n",
    "cov_x_y_All\n",
    "df.cov()"
   ]
  },
  {
   "cell_type": "code",
   "execution_count": 16,
   "metadata": {},
   "outputs": [
    {
     "name": "stdout",
     "output_type": "stream",
     "text": [
      "8.50061123616403 9.753286534277427\n"
     ]
    }
   ],
   "source": [
    "media_w_All = w_All.mean()\n",
    "var_w_All = w_All.var()\n",
    "print(media_w_All, var_w_All)"
   ]
  },
  {
   "cell_type": "markdown",
   "metadata": {},
   "source": [
    "___\n",
    "<div id=\"teoria\"></div>\n",
    "\n",
    "\n",
    "## Contrastando com previsão teórica\n",
    "\n",
    "Dica: Reveja as aulas de **modelos probabilísticos contínuos** - uniforme e exponencial\n",
    "\n",
    "Relembrando:\n",
    "\n",
    "### Para a Uniforme:\n",
    "\n",
    "Utilizando o resultado teórica da distribuição Uniforme, temos que o valor esperado é dado por:\n",
    "\n",
    "$$E(X) = \\frac{a + b}{2} = 5.5$$\n",
    "\n",
    "Já a variância de uma variável com distribuição Yniforme é dada por:\n",
    "\n",
    "$$Var(X) = \\frac{(b-a)^2}{12} = 0.75$$\n",
    "\n",
    "\n",
    "### Para a exponencial:\n",
    "\n",
    "Utilizando o resultado teórica da distribuição Exponencial, temos que o valor esperado é dado por:\n",
    "\n",
    "$$E(Y) = \\mu = 3$$\n",
    "\n",
    "Já a variância de uma variável com distribuição Exponencial é dada por:\n",
    "\n",
    "$$Var(Y) = \\mu^2 = 9$$"
   ]
  },
  {
   "cell_type": "markdown",
   "metadata": {},
   "source": [
    "___\n",
    "<div id=\"propriedades\"></div>\n",
    "\n",
    "## Propriedades de esperança e variância em combinação linear de variáveis aleatórias\n",
    "\n",
    "\n",
    "### E(W): Valor esperado da W calculada a partir da teoria\n",
    "\n",
    "**Previsão teórica:**\n",
    "\n",
    "**$\\qquad E(W) = E(X)  + E(Y)$**\n",
    "\n",
    "$\\quad$\n",
    "\n",
    "### Var(W): Variância da W calculada a partir da teoria\n",
    "\n",
    "**Previsão teórica:**\n",
    "\n",
    "**$\\qquad Var(W) = Var(X) + Var(Y) + 2 * Cov(X,Y)$**\n",
    "\n",
    "$\\quad$\n",
    "\n",
    "Assuma que as variáveis $X$ e $Y$ são **INDEPENDENTES** até mesmo pela maneira que foram geradas.\n",
    "\n"
   ]
  },
  {
   "cell_type": "markdown",
   "metadata": {},
   "source": [
    "<div id=\"ex5\"></div>\n",
    "\n",
    "### EXERCÍCIO 5\n",
    "\n",
    "Considerando os resultados teóricos para $E(X)$, $E(Y)$, $Var(X)$, $Var(Y)$ e $Cov(X,Y)$, calcule o valor esperado e a variância de $W$. \n",
    "\n",
    "Compare os valores obtidos para $E(W)$ e $Var(W)$ com os obtidos nos exercícios [Exercício 2](#ex2), [Exercício 3](#ex3) e [Exercício 4](#ex4).\n"
   ]
  },
  {
   "cell_type": "code",
   "execution_count": 17,
   "metadata": {},
   "outputs": [
    {
     "name": "stdout",
     "output_type": "stream",
     "text": [
      "8.5 9.721618157590639\n"
     ]
    }
   ],
   "source": [
    "# ESCREVA SEU CÓDIGO AQUI\n",
    "media_x = (a+b) / 2\n",
    "var_x = ((b-a)**2) / 12\n",
    "\n",
    "media_y = 3\n",
    "var_y = media_y**2\n",
    "\n",
    "media_w = media_x + media_y\n",
    "var_w = var_x + var_y + 2*df['X'].cov(df['Y'])\n",
    "print(media_w, var_w)"
   ]
  },
  {
   "cell_type": "markdown",
   "metadata": {},
   "source": [
    "Comparando os resultados SIMULADOS com os calculados por PROPRIEDADES:"
   ]
  },
  {
   "cell_type": "code",
   "execution_count": null,
   "metadata": {},
   "outputs": [],
   "source": [
    "# ESCREVA SEU CÓDIGO AQUI"
   ]
  },
  {
   "cell_type": "code",
   "execution_count": null,
   "metadata": {},
   "outputs": [],
   "source": []
  },
  {
   "cell_type": "markdown",
   "metadata": {},
   "source": [
    "___\n",
    "<div id=\"comandos\"></div>\n",
    "\n",
    "## Lista de comandos utilizados neste notebook\n",
    "\n",
    "Coloque aqui a lista de novos comandos deste notebook:\n",
    "\n",
    " * \n",
    " "
   ]
  }
 ],
 "metadata": {
  "kernelspec": {
   "display_name": "Python 3",
   "language": "python",
   "name": "python3"
  },
  "language_info": {
   "codemirror_mode": {
    "name": "ipython",
    "version": 3
   },
   "file_extension": ".py",
   "mimetype": "text/x-python",
   "name": "python",
   "nbconvert_exporter": "python",
   "pygments_lexer": "ipython3",
   "version": "3.8.8"
  }
 },
 "nbformat": 4,
 "nbformat_minor": 4
}
