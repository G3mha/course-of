{
 "cells": [
  {
   "cell_type": "markdown",
   "metadata": {},
   "source": [
    "# A4 - Avaliação de Ciência dos dados \n",
    "\n",
    "## 2021 - 2o. semestre \n",
    "\n",
    "___\n"
   ]
  },
  {
   "cell_type": "markdown",
   "metadata": {},
   "source": [
    "# NOME: Enricco Gemha"
   ]
  },
  {
   "cell_type": "markdown",
   "metadata": {},
   "source": [
    "___\n",
    "## Instruções\n",
    "\n",
    "**Leia atentamente as instruções desta avaliação. Essas devem ser seguidas rigorosamente!**\n",
    "\n",
    "**Prezado(a) Aluno(a),**\n",
    "\n",
    "Dia da prova **dia 07/12** a partir das 8h55min.\n",
    "\n",
    "Estaremos no TEAMS a partir das 8h55 utilizando a equipe de Atendimento e Ninjas (canal PROVA) para receber instruções. **Não ingressar na reunião no Teams para poupar sua internet de todos, apenas esteja atento ao chat do canal geral.**\n",
    "\n",
    "\n",
    "Esta avaliação terá as seguintes etapas:\n",
    "\n",
    "**9h00 às 9h10**\n",
    "       \n",
    " * **(10 minutos) - PROCTORIO:** Entre no Blackboard e inicie o teste em `Conteúdos/Avaliações/Avaliação (A4)/A4 (Proctorio e Arquivos)`. Caso não ative esse teste em até 10 minutos do início da prova (ou seja, até às 9h10), não terá mais direito de entregar essa prova, obtendo falta na mesma.\n",
    "\n",
    "\n",
    "**9h10 às 11h10**  \n",
    "\n",
    " * **(120 minutos) - Desenvolvimento da prova:** Concentre-se em resolver o notebook.\n",
    " * ATENÇÃO: administre esse tempo da maneira que julgar mais adequada para você. **NÃO utilize o cronômetro do Proctorio como referência, mas sim o tempo 120 minutos de prova para realização da prova.**\n",
    "\n",
    "\n",
    "**11h10 às 11h20**  \n",
    " * **(10 minutos) - Entrega via Blackboard - Notebook:** O arquivo `.ipynb` deve ser entregue em `Conteúdos/Avaliações/Avaliação (A4)/Entrega da prova`. \n",
    " * ATENÇÃO: **finalize o proctorio APENAS após anexar a avaliação no Blackboard.**\n",
    "\n",
    "\n",
    "<br>\n",
    "\n",
    "Leia atentamente as instruções a seguir e as questões da prova antes de começar a resolvê-la."
   ]
  },
  {
   "cell_type": "markdown",
   "metadata": {},
   "source": [
    "#### Avisos GERAIS: \n",
    "\n",
    "1. Identifique-se no cabeçalho deste arquivo. Essa prova é INDIVIDUAL.\n",
    "1. Você terá 120 minutos a partir do início oficial da prova para concluir esta avaliação, administre bem o seu tempo. Leia atentamente as instruções a seguir e as questões da prova antes de começar a resolvê-la. \n",
    "\n",
    "1. Esta avaliação:\n",
    "  * **PERMITE consulta de material do Blackboard e material on-line (usar navegador para pesquisas no Google, por exemplo)**. \n",
    "  * **PERMITE UTILIZAR APENAS UM COMPUTADOR NO QUAL ESTARÁ REALIZANDO A PROVA.**\n",
    "  * **NÃO PERMITE consulta a colegas (presencial ou remotamente), ou seja, não é permitido ter alguém ao seu lado assim como não é permitido conversar pelo WhatsApp, enviar e-mail ou qualquer outro formato em que converse com outra pessoa**. \n",
    "  * **NÃO PERMITE utilizar CELULAR, TABLET, SEGUNDO COMPUTADOR (ou NOTEBOOK) ou qualquer outro aparelho eletrônico no momento da prova.**\n",
    "  * **Seu olhar deve estar sempre para tela do computador da prova. Evite olhar para baixo ou para os lados com frequência.**\n",
    "  * **A câmera deve estar bem centralizada ao seu rosto, sem filmar teto ou apenas parte do rosto para cima. Atenção em deixar a câmera regulada para dar prioridade em filmar seu rosto por inteiro em todo o momento da prova.** \n",
    "  * **O desrespeito as essas regras constituirá violação ao Código de Ética e de Conduta e acarretará sanções nele previstas. Faça o seu trabalho de maneira ética!** \n",
    "\n",
    "1. Sua prova utilizará o sistema de Proctoring.  Para instalar a extensão, acesse o site https://getproctorio.com/ pelo Google Chrome e siga os passos indicados. Caso tenha dúvidas ou dificuldades, avise seu professor pelo chat e entre em contato com o Help Desk por meio de abertura de chamado ou pelo telefone (11) 4504-2550.\n",
    "Para realizar a prova será necessário:\n",
    "  *\tUm desktop ou um notebook com qualquer sistema operacional (dispositivos móveis não serão aceitos)\n",
    "  *\tMicrofone (interno ou externo)\n",
    "  *\tWebcam (interna ou externa)\n",
    "  *\tNavegador Google Chrome (o sistema funciona somente nele)\n",
    "  *\tExtensão da plataforma instalada (sem ela o sistema não funcionará)\n",
    "\n",
    "1. **É proibido o uso de fones de ouvido durante toda a prova. Não leia as questões em voz alta. Não ouvir música.**\n",
    "1. Sempre que possível, busque criar redundâncias para a rede de internet. Uma forma de fazer isso é utilizar a rede 4G dos celulares.\n",
    "1. **ENTREGA DO ARQUIVO**: Antes de sair da prova, garanta que entregou a prova no link indicado. Verifique se arquivos das questões tiveram seu upload concluído (se necessário) e que fechou a prova ao final. Você é o responsável pela entrega adequada de todas as questões de sua prova. Avaliações entregues fora do prazo não serão aceitas para correção.\n",
    "1. Caso precise se ausentar da frente da câmera para ia ao banheiro, comunique no chat do Teams ao professor e/ou fale para sua câmera. Dessa forma sua ausência estará justificada pelo sistema de proctoring. Lembre-se de ser rápido e retornar prontamente à prova."
   ]
  },
  {
   "cell_type": "markdown",
   "metadata": {},
   "source": [
    "**USO DA CÂMERA DO PROCTORIO**:\n",
    "\n",
    "**IMPORTANTE**: durante a prova, a sua câmera deve filmar da altura da sua cabeça para baixo priorizando mostrar mais o tronco do que o teto do local em que faz a prova. Caso a filmagem do seu Proctorio priorize mostrar, por qualquer período de tempo, apenas parte do seu rosto e/ou apenas do pescoço para cima e/ou você não aparecer na filmagem, isso será considerado violação do código de ética. Nesse caso, o MultiInsper será acionado para prestar possíveis esclarecimentos.\n",
    " "
   ]
  },
  {
   "cell_type": "markdown",
   "metadata": {},
   "source": [
    "#### Avisos sobre desenvolvimento da prova:\n",
    "\n",
    "1. Esta avaliação é composta de 3 questões. Caso verifique a falta de alguma questão, entre em contato com seu professor imediatamente pelo Teams.\n",
    "1. Esta Avaliação consiste em responder um arquivo Jupyter que será anexado ao Blackboard ao final da prova.\n",
    "1. Leia atentamente as **Precauções de segurança** abaixo para evitar ter sua prova anulada.\n",
    "1. Você pode utilizar qualquer material individual para consulta – anotações, livros, etc. Mas não pode compartilhar este material com seus colegas presencial ou remotamente.\n",
    "1. Em caso de dúvida sobre alguma questão desta avaliação, redija um texto em uma nova célula deste Jupyter notebook explicitando-a para que o professor avalie a pertinência durante a correção.  \n",
    "1. Leia atentamente cada questão e responda o que for pedido. Erros conceituais serão penalizados, mesmo que o conceito não se relacione com o que foi pedido na questão.\n",
    "1. Caso em algum item você necessite do resultado de um item anterior que você não conseguiu fazer, admita um valor razoável para esse resultado e faça o item normalmente. Indique na questão, caso isso aconteça.\n",
    "1. Todos os resultados devem ser justificados. Números que apareçam sem uma explicação de como foram encontrados serão ignorados na correção.\n",
    "1. **A qualidade do código na resolução em cada item também será levada em consideração, ou seja, códigos complicados para soluções que podem ser simples serão penalizados.**\n",
    "1. Esta avaliação requer **entrega via Blackboard**. **Não serão consideradas entregas por outros meios** (ex: e-mail, MS Teams, etc.)."
   ]
  },
  {
   "cell_type": "markdown",
   "metadata": {},
   "source": [
    "#### Precauções de segurança:\n",
    "\n",
    "1.\tTodas as precauções abaixo podem ser resumidas da seguinte forma: consulte o material que quiser desde que não seja nenhuma pessoa e não compartilhe informações com ninguém. \n",
    "2.\tVocê não pode enviar nenhum tipo de mensagem durante a prova para qualquer pessoa dentro ou fora dela, com exceção do(a) professor(a). Por exemplo: e-mail, Skype, mensagens do Facebook, mensagens do WhatsApp, mensagens via Twitter, etc\n",
    "3.\tVocê não pode compartilhar nenhum tipo de informação em nenhum site, incluindo Pastebin, Codeshare, wikis, etc\n",
    "4.\tVocê não pode perguntar questões da prova no StackOverflow, StackExchange, MathExchange, etc. \n",
    "5.\tVocê pode procurar/tirar dúvida no Google.\n",
    "6.\tVocê pode consultar qualquer arquivo no seu computador.\n",
    "7.\tQualquer transgressão das normas acima pode zerar a nota da prova e implicar em infração ao código de ética do Insper."
   ]
  },
  {
   "cell_type": "markdown",
   "metadata": {},
   "source": [
    "___\n",
    "<div id=\"indice\"></div>\n",
    "\n",
    "## Índice\n",
    "\n",
    "- [EXPECTATIVA DE VIDA](#vida)\n",
    "    - [PERGUNTA 1](#p1)\n",
    "        - [Item (a)](#p1a) **(1,00 ponto)**\n",
    "        - [Item (b)](#p1b) **(1,00 ponto)**\n",
    "        - [Item (c)](#p1c)\n",
    "            - [Item (c1)](#p1c1) **(1,00 ponto)**\n",
    "            - [Item (c2)](#p1c2) **(1,00 ponto)**\n",
    "        - [Item (d)](#p1d) \n",
    "            - [Base de dados](#p1dados)\n",
    "            - [Pergunta](#p1dados) **(1,00 ponto)**\n",
    "\n",
    "<p>\n",
    "    \n",
    "- [FROTA DE VEÍCULOS](#frota)\n",
    "    - [PERGUNTA 2](#p2)\n",
    "        - [Item (a)](#p2a) **(0,50 ponto)**\n",
    "        - [Item (b)](#p2b) **(1,00 ponto)**\n",
    "        - [Item (c)](#p2c) **(1,00 ponto)**\n",
    "    \n",
    "<p>\n",
    "    \n",
    "- [PARLAMENTARES MULHERES](#mulher)\n",
    "    - [PERGUNTA 3](#p3)\n",
    "        - [Base de dados](#p3dados)\n",
    "        - [Item (a)](#p3a) **(1,00 ponto)**\n",
    "        - [Item (b)](#p3b)\n",
    "            - [Item (b1)](#p3b1) **(0,50 ponto)**\n",
    "            - [Item (b2)](#p3b1) **(0,50 ponto)**\n",
    "            - [Item (b3)](#p3b1) **(0,50 ponto)**\n"
   ]
  },
  {
   "cell_type": "code",
   "execution_count": 1,
   "metadata": {},
   "outputs": [],
   "source": [
    "# %matplotlib inline\n",
    "import math\n",
    "import os\n",
    "\n",
    "import matplotlib.pyplot as plt\n",
    "import numpy as np\n",
    "from numpy import arange\n",
    "from math import sqrt\n",
    "import pandas as pd\n",
    "\n",
    "from scipy import stats #importa apenas as funções de estatísticas da biblioteca SciPy.\n",
    "import statsmodels.api as sm # importa para fazer ajuste de modelo de regressão\n",
    "\n",
    "from IPython.display import display  # Para ter melhor print."
   ]
  },
  {
   "cell_type": "markdown",
   "metadata": {},
   "source": [
    "___\n",
    "<div id=\"vida\"></div>\n",
    "\n",
    "## EXPECTATIVA DE VIDA\n",
    "<img src=\"vida.png\" width=500>\n",
    "\n",
    "Fonte: extraído da internet"
   ]
  },
  {
   "cell_type": "markdown",
   "metadata": {},
   "source": [
    "___\n",
    "<div id=\"p1\"></div>\n",
    "\n",
    "### PERGUNTA 1  (5,00 pontos)\n",
    "\n",
    "No site do Gapminder, um dos indicadores socioeconômicos medidos para quase todos países do mundo é a expectativa de vida, em anos.\n",
    "\n",
    "Inicialmente, para os itens (a) e (b), assuma os seguintes valores teóricos, para o ano de 2020:\n",
    " * A expectativa de vida **feminina** segue uma distribuição **normal** com **média igual a 76 anos** e com **desvio padrão igual a 7,5 anos**.\n",
    " * A expectativa de vida **masculina** segue uma distribuição **normal** com média igual a **71 anos**, com **desvio padrão igual a 7,2 anos**.\n",
    " \n",
    "Por fim, assuma que qualquer combinação linear entre essas variáveis seja modelada por uma distribuição normal e que a correlação entre elas seja igual a 0,90.\n"
   ]
  },
  {
   "cell_type": "markdown",
   "metadata": {},
   "source": [
    "**Responda:**"
   ]
  },
  {
   "cell_type": "markdown",
   "metadata": {},
   "source": [
    "<div id=\"p1a\"></div>\n",
    "\n",
    "**P1(a) (1,00 ponto)** \n",
    "Qual a probabilidade de um país ter a expectativa de vida **feminina** maior do que 80 anos?\n"
   ]
  },
  {
   "cell_type": "code",
   "execution_count": 2,
   "metadata": {},
   "outputs": [
    {
     "name": "stdout",
     "output_type": "stream",
     "text": [
      "1a) 0.29690142860385116\n"
     ]
    }
   ],
   "source": [
    "# ESCREVA SUA RESOLUÇÃO AQUI\n",
    "\n",
    "# X: expectativa de vida feminina\n",
    "# Y: expectativa de vida masculina\n",
    "# P(X > 80) = ?\n",
    "\n",
    "sigma_X = 7.5\n",
    "mu_X = 76\n",
    "sigma_Y = 7.2\n",
    "mu_Y = 71\n",
    "corr_X_Y = 0.9\n",
    "\n",
    "P_X_maiorque_80 = 1-stats.norm.cdf(80, loc=mu_X, scale=sigma_X)\n",
    "print(f'1a) {P_X_maiorque_80}')"
   ]
  },
  {
   "cell_type": "markdown",
   "metadata": {},
   "source": [
    "<div id=\"p1b\"></div>\n",
    "\n",
    "**P1(b) (1,00 ponto)** \n",
    "Qual a menor expectativa de vida **masculina** dos 20% de países que mais vivem?\n"
   ]
  },
  {
   "cell_type": "code",
   "execution_count": 3,
   "metadata": {},
   "outputs": [
    {
     "name": "stdout",
     "output_type": "stream",
     "text": [
      "1b) 77.05967288172498\n"
     ]
    }
   ],
   "source": [
    "# ESCREVA SUA RESOLUÇÃO AQUI\n",
    "\n",
    "#stats.norm.ppf(p, loc=mu, scale=sigma)\n",
    "valor = stats.norm.ppf((1 - 0.2), loc=mu_Y, scale=sigma_Y)\n",
    "print(f'1b) {valor}')"
   ]
  },
  {
   "cell_type": "markdown",
   "metadata": {},
   "source": [
    "<div id=\"p1c\"></div>\n",
    "\n",
    "**P1(c)** \n",
    "Considere, por simplicidade, que todos os países do mundo possuam metade da população do sexo masculino e a outra metade do sexo feminino. \n",
    "Nesse caso, calcule:\n",
    "\n",
    " **(c1) (1,00 ponto)** Qual a expectativa média de vida, de maneira geral, sem levar em consideração a variável sexo?\n",
    "\n",
    " **(c2) (1,00 ponto)** E qual o respectivo desvio padrão dessa expectativa de vida, de maneira geral, sem levar em consideração a variável sexo?"
   ]
  },
  {
   "cell_type": "code",
   "execution_count": 4,
   "metadata": {},
   "outputs": [
    {
     "name": "stdout",
     "output_type": "stream",
     "text": [
      "c1) 73.5\n",
      "c2) 7.163972361755732\n"
     ]
    }
   ],
   "source": [
    "# ESCREVA SUA RESOLUÇÃO AQUI\n",
    "\n",
    "new_mu = (mu_X+mu_Y)/2\n",
    "new_sigma = (sqrt(sigma_X**2 + sigma_Y**2 + 2*sigma_Y*sigma_X*corr_X_Y))/2\n",
    "print(f'c1) {new_mu}')\n",
    "print(f'c2) {new_sigma}')"
   ]
  },
  {
   "cell_type": "markdown",
   "metadata": {},
   "source": [
    "<div id=\"p1d\"></div>\n",
    "\n",
    "**P1(d)** \n",
    "\n",
    "<div id=\"p1dados\"></div>\n",
    "\n",
    "**Descrição da Base de dados**\n",
    "\n",
    "A base de dados `A4_ExpectativaVida.xlsx` apresenta as seguintes variáveis:\n",
    " * `PAIS`: nome do país;\n",
    " * `EVM`: expectativa de vida masculina, em anos, mensurada em 2020; e\n",
    " * `EVF`: expectativa de vida feminina, em anos, mensurada em 2020."
   ]
  },
  {
   "cell_type": "code",
   "execution_count": 5,
   "metadata": {},
   "outputs": [
    {
     "name": "stdout",
     "output_type": "stream",
     "text": [
      "Esperamos trabalhar no diretório\n",
      "/Users/enriccogemha/Documents/GitHub/CD21-2/avaliacao04\n"
     ]
    }
   ],
   "source": [
    "print(\"Esperamos trabalhar no diretório\")\n",
    "print(os.getcwd())"
   ]
  },
  {
   "cell_type": "code",
   "execution_count": 6,
   "metadata": {},
   "outputs": [
    {
     "data": {
      "text/html": [
       "<div>\n",
       "<style scoped>\n",
       "    .dataframe tbody tr th:only-of-type {\n",
       "        vertical-align: middle;\n",
       "    }\n",
       "\n",
       "    .dataframe tbody tr th {\n",
       "        vertical-align: top;\n",
       "    }\n",
       "\n",
       "    .dataframe thead th {\n",
       "        text-align: right;\n",
       "    }\n",
       "</style>\n",
       "<table border=\"1\" class=\"dataframe\">\n",
       "  <thead>\n",
       "    <tr style=\"text-align: right;\">\n",
       "      <th></th>\n",
       "      <th>PAIS</th>\n",
       "      <th>EVM</th>\n",
       "      <th>EVF</th>\n",
       "    </tr>\n",
       "  </thead>\n",
       "  <tbody>\n",
       "    <tr>\n",
       "      <th>0</th>\n",
       "      <td>Aruba</td>\n",
       "      <td>74.0</td>\n",
       "      <td>78.9</td>\n",
       "    </tr>\n",
       "    <tr>\n",
       "      <th>1</th>\n",
       "      <td>Afghanistan</td>\n",
       "      <td>64.0</td>\n",
       "      <td>67.1</td>\n",
       "    </tr>\n",
       "  </tbody>\n",
       "</table>\n",
       "</div>"
      ],
      "text/plain": [
       "          PAIS   EVM   EVF\n",
       "0        Aruba  74.0  78.9\n",
       "1  Afghanistan  64.0  67.1"
      ]
     },
     "execution_count": 6,
     "metadata": {},
     "output_type": "execute_result"
    }
   ],
   "source": [
    "# Carregando os dados e guardando em um dataframe nomeado df\n",
    "df1 = pd.read_excel('A4_ExpectativaVida.xlsx')\n",
    "# Visualizando as primeiras linhas do dataframe\n",
    "df1.head(2) "
   ]
  },
  {
   "cell_type": "markdown",
   "metadata": {},
   "source": [
    "<div id=\"p1dpergunta\"></div>\n",
    "\n",
    "**P1(d) Pergunta (1,00 ponto)**\n",
    "\n",
    "\n",
    "Utilizando a base de dados acima, verifique se a distribuição normal é válida para modelar a expectativa de vida masculina e a feminina.\n",
    "\n",
    "Para tanto, construa os seguintes gráficos:\n",
    " * **Histograma + função densidade de probabilidade da distribuição Normal**: para validar a normalidade da expectativa de vida masculina; e\n",
    " * **Quantil amostral *vs* quantil teórico com a função `probplot()`**: para validar a normalidade da expectativa de vida feminina.\n",
    " \n",
    "Organize esses dois gráficos com uso do `plt.subplot()` com 1 linha e 2 colunas.\n",
    "\n",
    "Interprete os gráficos quanto a validade questionada."
   ]
  },
  {
   "cell_type": "code",
   "execution_count": 27,
   "metadata": {},
   "outputs": [
    {
     "data": {
      "image/png": "[encoded data removed]",
      "text/plain": [
       "<Figure size 1080x360 with 2 Axes>"
      ]
     },
     "metadata": {
      "needs_background": "light"
     },
     "output_type": "display_data"
    }
   ],
   "source": [
    "# ESCREVA SUA RESOLUÇÃO AQUI\n",
    "\n",
    "exp_vida_m = df1['EVM']\n",
    "\n",
    "sigma_m = exp_vida_m.std()\n",
    "mu_m = exp_vida_m.mean()\n",
    "\n",
    "x = np.arange(25, 105, 0.5) # terceiro argumento -> quantidade de valores para esse intervalo\n",
    "fx = stats.norm.pdf(x, loc=mu_m, scale=sigma_m)\n",
    "cdf = stats.norm.cdf(x, loc=mu_m, scale=sigma_m)\n",
    "\n",
    "plt.figure(figsize=(15,5))\n",
    "plt.subplot(1,2,1)\n",
    "plt.plot(x, fx)\n",
    "plt.title(\"Função densidade de probabilidade - masculino\")\n",
    "plt.ylabel(\"Densidade\")\n",
    "plt.xlabel(\"Expectativa de vida para homens\")\n",
    "\n",
    "plt.subplot(1,2,2)\n",
    "plt.hist(fx, cdf)\n",
    "plt.title(\"Histograma - masculino\")\n",
    "plt.ylabel(\"P(X<=x)\")\n",
    "plt.xlabel(\"Expectativa de vida para homens\")\n",
    "plt.show()\n"
   ]
  },
  {
   "cell_type": "code",
   "execution_count": null,
   "metadata": {},
   "outputs": [],
   "source": []
  },
  {
   "cell_type": "raw",
   "metadata": {},
   "source": [
    "# ESCREVA SUA INTERPRETAÇÃO AQUI"
   ]
  },
  {
   "cell_type": "code",
   "execution_count": null,
   "metadata": {},
   "outputs": [],
   "source": []
  },
  {
   "cell_type": "markdown",
   "metadata": {},
   "source": [
    "[Volta ao Índice](#indice)"
   ]
  },
  {
   "cell_type": "markdown",
   "metadata": {},
   "source": [
    "___\n",
    "<div id=\"frota\"></div>\n",
    "\n",
    "## FROTA DE VEÍCULOS\n",
    "<img src=\"frota.png\" width=500>\n",
    "\n",
    "Fonte: extraído da internet"
   ]
  },
  {
   "cell_type": "markdown",
   "metadata": {},
   "source": [
    "___\n",
    "<div id=\"p2\"></div>\n",
    "\n",
    "### PERGUNTA 2  (2,50 pontos)\n",
    "\n",
    "Uma empresa de logística tem alguns indicadores de manutenção de frota de seus veículos. \n",
    "Um deles é o custo médio por manutenção por carro.\n",
    "\n",
    "O gerente responsável pela área sabe que se ele **gastar mais do que 1 mil reais, em média, com manutenção por carro, então a frota deverá ser trocada**. \n",
    "\n",
    "Foram sorteados 10 carros que fizeram manutenção recentemente e observadas os seguintes `custos` de manutenção: "
   ]
  },
  {
   "cell_type": "code",
   "execution_count": 8,
   "metadata": {},
   "outputs": [],
   "source": [
    "custos = pd.Series([980, 1030, 1100, 1085, 990, 1120, 1010, 950, 1050, 1075])"
   ]
  },
  {
   "cell_type": "markdown",
   "metadata": {},
   "source": [
    "<p>\n",
    "\n",
    "Considerando um teste de hipóteses adequado, verifique se há evidências de que a frota deverá ser trocada, com nível de significância de 5%.\n",
    " "
   ]
  },
  {
   "cell_type": "markdown",
   "metadata": {},
   "source": [
    "**Responda:**"
   ]
  },
  {
   "cell_type": "markdown",
   "metadata": {},
   "source": [
    "<div id=\"p2a\"></div>\n",
    "\n",
    "**P2(a) (0,50 ponto)** \n",
    "Formule as hipóteses em termos do problema e em termos do parâmetro."
   ]
  },
  {
   "cell_type": "raw",
   "metadata": {},
   "source": [
    "* ESCREVA SUA RESPOSTA AQUI\n",
    "\n",
    "- H0: média de custos da manutenção por carro acima do limite (mu > 1000 reais)\n",
    "- H1: média de custos da manutenção por carro dentro do limite (mu <= 1000 reais)"
   ]
  },
  {
   "cell_type": "markdown",
   "metadata": {},
   "source": [
    "<div id=\"p2b\"></div>\n",
    "\n",
    "**P2(b) (1,00 ponto)** \n",
    "Considerando um teste de hipóteses adequado, verifique, com base na amostra, se há evidências de que a frota deverá ser trocada, com nível de significância de 5%. **Tome a decisão via região crítica**.\n"
   ]
  },
  {
   "cell_type": "code",
   "execution_count": 19,
   "metadata": {},
   "outputs": [
    {
     "name": "stdout",
     "output_type": "stream",
     "text": [
      "Tamanho da amostra:      n = 10\n",
      "Média amostral:          x_barra = 1039.00000\n",
      "Desvio padrão amostral:  s = 56.31262\n"
     ]
    }
   ],
   "source": [
    "# ESCREVA SUA RESOLUÇÃO AQUI\n",
    "n = len(custos)\n",
    "x_barra = custos.mean()\n",
    "s = custos.std()\n",
    "\n",
    "print(f'Tamanho da amostra:      n = {n}')\n",
    "print(f'Média amostral:          x_barra = {x_barra:0.5f}')\n",
    "print(f'Desvio padrão amostral:  s = {s:0.5f}')"
   ]
  },
  {
   "cell_type": "code",
   "execution_count": 21,
   "metadata": {},
   "outputs": [
    {
     "name": "stdout",
     "output_type": "stream",
     "text": [
      "Região Crítica RC = t_obs > 1.83311 \n",
      "\n",
      "Conclusão:\n",
      "Valor de t_obs = 2.19007\n",
      "Há evidências de que devem ser trocados todos os carros da frota, com 5% de significância\n"
     ]
    }
   ],
   "source": [
    "mu_0 = 1000\n",
    "\n",
    "tc = stats.t.ppf(1-0.05, df = n-1)\n",
    "print(f'Região Crítica RC = t_obs > {tc:0.5f} \\n')\n",
    "              \n",
    "print('Conclusão:')\n",
    "t_obs = (x_barra - mu_0)/(s/sqrt(n))\n",
    "print(f'Valor de t_obs = {t_obs:0.5f}')\n",
    "if (t_obs > tc):\n",
    "    print(f'Há evidências de que devem ser trocados todos os carros da frota, com 5% de significância')\n",
    "else:\n",
    "    print(f'Não há evidências de que devem ser trocados todos os carros da frota, com 5% de significância')\n"
   ]
  },
  {
   "cell_type": "markdown",
   "metadata": {},
   "source": [
    "<div id=\"p2c\"></div>\n",
    "\n",
    "**P2(c) (1,00 ponto)** \n",
    "Considerando um teste de hipóteses adequado, verifique, com base na amostra, se há evidências de que a frota deverá ser trocada, com nível de significância de 5%. **Tome a decisão via valor-p**.\n"
   ]
  },
  {
   "cell_type": "code",
   "execution_count": 22,
   "metadata": {},
   "outputs": [
    {
     "name": "stdout",
     "output_type": "stream",
     "text": [
      "Valor_p = 0.02812 \n",
      "\n",
      "Conclusão:\n",
      "Há evidências de que devem ser trocados todos os carros da frota, com 5% de significância\n"
     ]
    }
   ],
   "source": [
    "# ESCREVA SUA RESOLUÇÃO AQUI\n",
    "mu_0 = 1000\n",
    "\n",
    "t_obs = (x_barra - mu_0)/(s/sqrt(n))\n",
    "valor_p = 1-stats.t.cdf(t_obs, df = n-1)\n",
    "print(f'Valor_p = {valor_p:0.5f} \\n')\n",
    "\n",
    "print('Conclusão:')\n",
    "if (valor_p < 0.05):\n",
    "    print(f'Há evidências de que devem ser trocados todos os carros da frota, com 5% de significância')\n",
    "else:\n",
    "    print(f'Não há evidências de que devem ser trocados todos os carros da frota, com 5% de significância')\n"
   ]
  },
  {
   "cell_type": "markdown",
   "metadata": {},
   "source": [
    "[Volta ao Índice](#indice)"
   ]
  },
  {
   "cell_type": "markdown",
   "metadata": {},
   "source": [
    "___\n",
    "<div id=\"mulher\"></div>\n",
    "\n",
    "## PARLAMENTARES MULHERES\n",
    "<img src=\"mulher.png\" width=500>\n",
    "\n",
    "Fonte: extraído da internet"
   ]
  },
  {
   "cell_type": "markdown",
   "metadata": {},
   "source": [
    "___\n",
    "<div id=\"p3\"></div>\n",
    "\n",
    "### PERGUNTA 3  (2,50 pontos)\n",
    "\n",
    "<div id=\"p3dados\"></div>\n",
    "\n",
    "**Descrição da Base de dados**\n",
    "\n",
    "Considerando os dados diponíveis no [Gapminder](https://www.gapminder.org/tools/) para o ano de 2019, foram extraídas informações de alguns países para as seguintes variáveis: \n",
    " * `fertility`: número médio de filhos por mulher; e \n",
    " * `dwparl`:  percentual de assentos parlamentares ocupados por mulheres (de 0 a 100). \n",
    "\n",
    "O *dataframe* a seguir contem esses dados:"
   ]
  },
  {
   "cell_type": "code",
   "execution_count": 11,
   "metadata": {},
   "outputs": [
    {
     "name": "stdout",
     "output_type": "stream",
     "text": [
      "Esperamos trabalhar no diretório\n",
      "/Users/enriccogemha/Documents/GitHub/CD21-2/avaliacao04\n"
     ]
    }
   ],
   "source": [
    "print(\"Esperamos trabalhar no diretório\")\n",
    "print(os.getcwd())"
   ]
  },
  {
   "cell_type": "code",
   "execution_count": 12,
   "metadata": {
    "scrolled": true
   },
   "outputs": [
    {
     "data": {
      "text/html": [
       "<div>\n",
       "<style scoped>\n",
       "    .dataframe tbody tr th:only-of-type {\n",
       "        vertical-align: middle;\n",
       "    }\n",
       "\n",
       "    .dataframe tbody tr th {\n",
       "        vertical-align: top;\n",
       "    }\n",
       "\n",
       "    .dataframe thead th {\n",
       "        text-align: right;\n",
       "    }\n",
       "</style>\n",
       "<table border=\"1\" class=\"dataframe\">\n",
       "  <thead>\n",
       "    <tr style=\"text-align: right;\">\n",
       "      <th></th>\n",
       "      <th>country</th>\n",
       "      <th>dwparl</th>\n",
       "      <th>fertility</th>\n",
       "    </tr>\n",
       "  </thead>\n",
       "  <tbody>\n",
       "    <tr>\n",
       "      <th>0</th>\n",
       "      <td>Afghanistan</td>\n",
       "      <td>27.2</td>\n",
       "      <td>4.04</td>\n",
       "    </tr>\n",
       "    <tr>\n",
       "      <th>1</th>\n",
       "      <td>Angola</td>\n",
       "      <td>30.0</td>\n",
       "      <td>5.41</td>\n",
       "    </tr>\n",
       "  </tbody>\n",
       "</table>\n",
       "</div>"
      ],
      "text/plain": [
       "       country  dwparl  fertility\n",
       "0  Afghanistan    27.2       4.04\n",
       "1       Angola    30.0       5.41"
      ]
     },
     "execution_count": 12,
     "metadata": {},
     "output_type": "execute_result"
    }
   ],
   "source": [
    "df3 = pd.read_excel(\"A4_Gapminder.xlsx\")\n",
    "df3.head(2)"
   ]
  },
  {
   "cell_type": "markdown",
   "metadata": {},
   "source": [
    "<div id=\"p3a\"></div>\n",
    "\n",
    "**P3(a)(1,00 ponto)** \n",
    "\n",
    "Ajuste um modelo de regressão linear simples que seja capaz de prever o percentual de assentos parlamentares ocupados por mulheres de um país levando em considerando o número médio de filhos por mulher.\n"
   ]
  },
  {
   "cell_type": "code",
   "execution_count": 13,
   "metadata": {},
   "outputs": [
    {
     "data": {
      "text/html": [
       "<table class=\"simpletable\">\n",
       "<caption>OLS Regression Results</caption>\n",
       "<tr>\n",
       "  <th>Dep. Variable:</th>         <td>dwparl</td>      <th>  R-squared:         </th> <td>   0.033</td>\n",
       "</tr>\n",
       "<tr>\n",
       "  <th>Model:</th>                   <td>OLS</td>       <th>  Adj. R-squared:    </th> <td>   0.027</td>\n",
       "</tr>\n",
       "<tr>\n",
       "  <th>Method:</th>             <td>Least Squares</td>  <th>  F-statistic:       </th> <td>   6.020</td>\n",
       "</tr>\n",
       "<tr>\n",
       "  <th>Date:</th>             <td>Tue, 07 Dec 2021</td> <th>  Prob (F-statistic):</th>  <td>0.0151</td> \n",
       "</tr>\n",
       "<tr>\n",
       "  <th>Time:</th>                 <td>10:33:55</td>     <th>  Log-Likelihood:    </th> <td> -695.94</td>\n",
       "</tr>\n",
       "<tr>\n",
       "  <th>No. Observations:</th>      <td>   180</td>      <th>  AIC:               </th> <td>   1396.</td>\n",
       "</tr>\n",
       "<tr>\n",
       "  <th>Df Residuals:</th>          <td>   178</td>      <th>  BIC:               </th> <td>   1402.</td>\n",
       "</tr>\n",
       "<tr>\n",
       "  <th>Df Model:</th>              <td>     1</td>      <th>                     </th>     <td> </td>   \n",
       "</tr>\n",
       "<tr>\n",
       "  <th>Covariance Type:</th>      <td>nonrobust</td>    <th>                     </th>     <td> </td>   \n",
       "</tr>\n",
       "</table>\n",
       "<table class=\"simpletable\">\n",
       "<tr>\n",
       "      <td></td>         <th>coef</th>     <th>std err</th>      <th>t</th>      <th>P>|t|</th>  <th>[0.025</th>    <th>0.975]</th>  \n",
       "</tr>\n",
       "<tr>\n",
       "  <th>const</th>     <td>   28.3363</td> <td>    2.070</td> <td>   13.691</td> <td> 0.000</td> <td>   24.252</td> <td>   32.421</td>\n",
       "</tr>\n",
       "<tr>\n",
       "  <th>fertility</th> <td>   -1.7331</td> <td>    0.706</td> <td>   -2.454</td> <td> 0.015</td> <td>   -3.127</td> <td>   -0.339</td>\n",
       "</tr>\n",
       "</table>\n",
       "<table class=\"simpletable\">\n",
       "<tr>\n",
       "  <th>Omnibus:</th>       <td> 4.676</td> <th>  Durbin-Watson:     </th> <td>   1.940</td>\n",
       "</tr>\n",
       "<tr>\n",
       "  <th>Prob(Omnibus):</th> <td> 0.097</td> <th>  Jarque-Bera (JB):  </th> <td>   4.774</td>\n",
       "</tr>\n",
       "<tr>\n",
       "  <th>Skew:</th>          <td> 0.385</td> <th>  Prob(JB):          </th> <td>  0.0919</td>\n",
       "</tr>\n",
       "<tr>\n",
       "  <th>Kurtosis:</th>      <td> 2.793</td> <th>  Cond. No.          </th> <td>    7.69</td>\n",
       "</tr>\n",
       "</table><br/><br/>Notes:<br/>[1] Standard Errors assume that the covariance matrix of the errors is correctly specified."
      ],
      "text/plain": [
       "<class 'statsmodels.iolib.summary.Summary'>\n",
       "\"\"\"\n",
       "                            OLS Regression Results                            \n",
       "==============================================================================\n",
       "Dep. Variable:                 dwparl   R-squared:                       0.033\n",
       "Model:                            OLS   Adj. R-squared:                  0.027\n",
       "Method:                 Least Squares   F-statistic:                     6.020\n",
       "Date:                Tue, 07 Dec 2021   Prob (F-statistic):             0.0151\n",
       "Time:                        10:33:55   Log-Likelihood:                -695.94\n",
       "No. Observations:                 180   AIC:                             1396.\n",
       "Df Residuals:                     178   BIC:                             1402.\n",
       "Df Model:                           1                                         \n",
       "Covariance Type:            nonrobust                                         \n",
       "==============================================================================\n",
       "                 coef    std err          t      P>|t|      [0.025      0.975]\n",
       "------------------------------------------------------------------------------\n",
       "const         28.3363      2.070     13.691      0.000      24.252      32.421\n",
       "fertility     -1.7331      0.706     -2.454      0.015      -3.127      -0.339\n",
       "==============================================================================\n",
       "Omnibus:                        4.676   Durbin-Watson:                   1.940\n",
       "Prob(Omnibus):                  0.097   Jarque-Bera (JB):                4.774\n",
       "Skew:                           0.385   Prob(JB):                       0.0919\n",
       "Kurtosis:                       2.793   Cond. No.                         7.69\n",
       "==============================================================================\n",
       "\n",
       "Notes:\n",
       "[1] Standard Errors assume that the covariance matrix of the errors is correctly specified.\n",
       "\"\"\""
      ]
     },
     "execution_count": 13,
     "metadata": {},
     "output_type": "execute_result"
    }
   ],
   "source": [
    "# ESCREVA SUA RESOLUÇÃO AQUI\n",
    "\n",
    "import statsmodels.api as sm # Importe da biblioteca\n",
    "\n",
    "x_dados = df3['fertility'] # Definindo (número médio de filhos por mulher) como explicativa\n",
    "y_dados = df3['dwparl'] # Definindo (assentos parlamentares ocupados por mulheres) como resposta\n",
    "\n",
    "# Matriz de 1s e valores de x_dados\n",
    "X_dados = sm.add_constant(x_dados) # Adiciona coluna de 1s para estimar intercepto junto com a coluna de x (dados)\n",
    "\n",
    "# Define o modelo\n",
    "model = sm.OLS(y_dados, X_dados)\n",
    "\n",
    "# Faz o ajuste\n",
    "results = model.fit()\n",
    "\n",
    "# Mostra os resultados\n",
    "results.summary()"
   ]
  },
  {
   "cell_type": "code",
   "execution_count": 14,
   "metadata": {},
   "outputs": [
    {
     "name": "stdout",
     "output_type": "stream",
     "text": [
      "Estimativa de beta0 (coeficente linear): 28.336303235049055\n",
      "Estimativa de beta1 (coeficente angular): -1.7331243758666088\n"
     ]
    }
   ],
   "source": [
    "# Como o resultado do `statsmodels.OLS` obtivemos a tabela acima.\n",
    "# Inicialmente estamos interessados apenas nos valores de beta (intercepto: `const`) e beta_1 (inclinação da reta: `fertility`).\n",
    "# Esses valores podem ser encontrados na coluna `coef` do *output* do OLS Regression Results. \n",
    "\n",
    "beta0 = results.params['const']\n",
    "beta1 = results.params['fertility']\n",
    "\n",
    "print(\"Estimativa de beta0 (coeficente linear): {0}\".format(beta0))\n",
    "print(\"Estimativa de beta1 (coeficente angular): {0}\".format(beta1))"
   ]
  },
  {
   "cell_type": "code",
   "execution_count": 15,
   "metadata": {},
   "outputs": [
    {
     "data": {
      "image/png": "[encoded data removed]",
      "text/plain": [
       "<Figure size 504x432 with 1 Axes>"
      ]
     },
     "metadata": {
      "needs_background": "light"
     },
     "output_type": "display_data"
    }
   ],
   "source": [
    "x_vec = np.linspace(x_dados.min(), x_dados.max(), 500)\n",
    "X_vec = sm.add_constant(x_vec) # Matriz com 1a e coluna de vetor de valores de acordo com amplitude de x_dados\n",
    "y_vec = results.predict(X_vec)\n",
    "\n",
    "plt.figure(figsize=(7,6))\n",
    "plt.plot(x_vec, y_vec, color=\"r\") # resultados da regressão\n",
    "plt.scatter(x_dados, y_dados); # dados\n",
    "plt.title(\"Reta obtida com função predict\")\n",
    "plt.xlabel(\"x: fertility\")\n",
    "plt.ylabel(\"y: dwparl\")\n",
    "plt.legend(('reta ajustada','dados'), bbox_to_anchor=(1.05, 1), borderaxespad=0.)\n",
    "plt.show()"
   ]
  },
  {
   "cell_type": "markdown",
   "metadata": {},
   "source": [
    "<div id=\"p3b\"></div>\n",
    "\n",
    "**P3(b)** \n",
    "\n",
    "Considerando que o ajuste obtido no item anterior seja adequado, responda:\n",
    "\n",
    "<div id=\"p3b1\"></div>\n",
    "\n",
    " **(b1) (0,50 ponto)** Interprete os coeficientes linear e angular da reta ajusta **em termos do problema**.\n",
    " \n",
    " **(b2) (0,50 ponto)** A variável `fertility` é relevante para prever a variável `dwparl`. Faça sua conclusão utilizando o valor-p. \n",
    " \n",
    " **(b3) (0,50 ponto)** Considerando o modelo ajustado, calcule o valor previsto para percentual de assentos parlamentares ocupados por mulheres de um país com número médio de filhos por mulher igual 3."
   ]
  },
  {
   "cell_type": "markdown",
   "metadata": {},
   "source": [
    "**Resposta para item (b1)**"
   ]
  },
  {
   "cell_type": "code",
   "execution_count": 16,
   "metadata": {},
   "outputs": [
    {
     "data": {
      "image/png": "[encoded data removed]",
      "text/plain": [
       "<Figure size 504x432 with 1 Axes>"
      ]
     },
     "metadata": {
      "needs_background": "light"
     },
     "output_type": "display_data"
    }
   ],
   "source": [
    "# ESCREVA SUA RESOLUÇÃO AQUI\n",
    "plt.figure(figsize=(7,6))\n",
    "stats.probplot(results.resid, dist=\"norm\", plot=plt);"
   ]
  },
  {
   "cell_type": "raw",
   "metadata": {},
   "source": [
    "Pode-se observar que a distribuição se parece com uma normal, o que, portanto, confirma a hipótese de que os valores de `beta_0` e `beta_1` são adequados."
   ]
  },
  {
   "cell_type": "markdown",
   "metadata": {},
   "source": [
    "**Resposta para item (b2)**"
   ]
  },
  {
   "cell_type": "code",
   "execution_count": 17,
   "metadata": {},
   "outputs": [
    {
     "name": "stdout",
     "output_type": "stream",
     "text": [
      "Valor-p sob H0: beta0 = 0: 0.000000\n",
      "Valor-p sob H0: beta1 = 0: 0.015109\n"
     ]
    }
   ],
   "source": [
    "# ESCREVA SUA RESOLUÇÃO AQUI\n",
    "valorp_beta0 = results.pvalues['const']\n",
    "valorp_beta1 = results.pvalues['fertility']\n",
    "\n",
    "print('Valor-p sob H0: beta0 = 0: {:.6f}'.format(valorp_beta0))\n",
    "print('Valor-p sob H0: beta1 = 0: {:.6f}'.format(valorp_beta1))"
   ]
  },
  {
   "cell_type": "raw",
   "metadata": {},
   "source": [
    "# ESCREVA SUA RESPOSTA AQUI\n",
    "\n",
    "Existente para cada coeficiente `beta_i` do modelo de regressão, testa a seguinte hipótese:\n",
    "\n",
    "H_0: beta_i = 0\n",
    "\n",
    "Um valor-p baixo permite rejeitar a hipótese `H_0: beta_i = 0`.\n",
    "No caso de um modelo de regressão simples, as hipóteses para o coeficiente `beta_1` dizem sobre a significância da regressão.\n",
    "O valor-p atrelado à variável `beta_1` é muito próximo de 0.001 (valor do valor-p que é menor do que 5%).\n",
    "Portanto, há evidências de que o valor de `dwparl` muda conforme o aumento na taxa de `fertility` de um país."
   ]
  },
  {
   "cell_type": "markdown",
   "metadata": {},
   "source": [
    "**Resposta para item (b3)**"
   ]
  },
  {
   "cell_type": "code",
   "execution_count": 18,
   "metadata": {},
   "outputs": [
    {
     "name": "stdout",
     "output_type": "stream",
     "text": [
      "23.136930107449228\n"
     ]
    }
   ],
   "source": [
    "# ESCREVA SUA RESOLUÇÃO AQUI\n",
    "\n",
    "fertilidade = 3\n",
    "E_Y_dado_x_igual_a_3 = beta0 + beta1*fertilidade\n",
    "print(E_Y_dado_x_igual_a_3)"
   ]
  },
  {
   "cell_type": "markdown",
   "metadata": {},
   "source": [
    "[Volta ao Índice](#indice)"
   ]
  }
 ],
 "metadata": {
  "kernelspec": {
   "display_name": "Python 3",
   "language": "python",
   "name": "python3"
  },
  "language_info": {
   "codemirror_mode": {
    "name": "ipython",
    "version": 3
   },
   "file_extension": ".py",
   "mimetype": "text/x-python",
   "name": "python",
   "nbconvert_exporter": "python",
   "pygments_lexer": "ipython3",
   "version": "3.8.8"
  }
 },
 "nbformat": 4,
 "nbformat_minor": 4
}
