{
 "cells": [
  {
   "cell_type": "markdown",
   "metadata": {},
   "source": [
    "___\n",
    "# A3 - Avaliação de Ciência dos dados \n",
    "\n",
    "## 2021 - 2o. semestre \n",
    "\n",
    "___\n"
   ]
  },
  {
   "cell_type": "markdown",
   "metadata": {},
   "source": [
    "# ENRICCO GEMHA\n",
    "\n",
    "___\n",
    "## Instruções\n",
    "\n",
    "**Leia atentamente as instruções desta avaliação. Essas devem ser seguidas rigorosamente!**\n",
    "\n",
    "**Prezado(a) Aluno(a),**\n",
    "\n",
    "Esta avaliação terá as seguintes etapas:\n",
    "   \n",
    " * **(10 minutos) - PROCTORIO:** Entre no Blackboard e inicie o teste em `Conteúdos/Avaliações/Avaliação (A3)/A3 (com Proctorio)`. \n",
    "\n",
    " * **(90 minutos) - Desenvolvimento da prova:** Concentre-se em resolver o notebook.\n",
    " * ATENÇÃO: administre esse tempo da maneira que julgar mais adequada para você. **NÃO utilize o cronômetro do Proctorio como referência, mas sim o tempo 90 minutos de prova.**\n",
    "\n",
    " * **(10 minutos) - Entrega via Blackboard - Notebook:** O arquivo `.ipynb` deve ser entregue em `Conteúdos/Avaliações/Avaliação (A3)/Entrega da provuma`. \n",
    " * ATENÇÃO: **finalize o proctorio (o teste) APENAS após anexar a avaliação no Blackboard.**\n",
    "\n",
    "<br>\n",
    "\n",
    "Leia atentamente as instruções a seguir e as questões da prova antes de começar a resolvê-la.\n",
    "\n",
    "<br> \n",
    "\n",
    "Seguem instruções gerais enviadas no Blackboard:\n",
    " * Data Início: link do teste estará disponível a partir do dia 11/11 (quinta) às 19h\n",
    " * Data Fim: link do teste ficará disponível até dia 15/11 (segunda) às 19h\n",
    " * Individual\n",
    " * Proctorio: Ativado\n",
    " * Duração: 1h30 min (cronômetro ativado)\n",
    "     * ATENÇÃO: Qualquer tempo a mais do que 90 minutos no cronômetro do teste, deve considerar como tempo extra para que possa salvar o arquivo notebook com a resolução da prova dentro do Blackboard ainda com o Proctorio aberto.\n",
    " * Tentativa: uma única\n",
    " * Assunto: até Teorema do Limite Central e margem de erro (até assunto da Aula 19)\n",
    " * Material de consulta: leia as mesmas instruções da avaliação A2\n",
    " * Questões: o enunciado da prova estará EXCLUSIVAMENTE no teste do Blackboard\n",
    " * Jupyter Notebook:\n",
    "     * será disponibilizado um notebook com as marcações de cada questão para construir o código/contas necessárias para resolvê-la \n",
    "     * salvar esse arquivo no HD do seu computador. NÃO salvar em OneDrive, Dropbox ou qualquer outro lugar fora do seu computador.\n",
    " * Atenção: não compartilhe, por hipótese alguma, seu arquivo notebook da avaliação A3 enquanto o link do teste estiver disponível no Blackboard (ou seja, antes do dia 15/11 às 19h)"
   ]
  },
  {
   "cell_type": "markdown",
   "metadata": {},
   "source": [
    "#### Avisos GERAIS: \n",
    "\n",
    "1. Identifique-se no cabeçalho deste arquivo. Essa prova é INDIVIDUAL.\n",
    "1. Você terá 90 minutos a partir do início oficial da prova para concluir esta avaliação, administre bem o seu tempo. Leia atentamente as instruções a seguir e as questões da prova antes de começar a resolvê-la. \n",
    "\n",
    "1. Esta avaliação:\n",
    "  * **PERMITE consulta de material do Blackboard e material on-line (usar navegador para pesquisas no Google, por exemplo)**. \n",
    "  * **PERMITE UTILIZAR APENAS UM COMPUTADOR NO QUAL ESTARÁ REALIZANDO A PROVA.**\n",
    "  * **NÃO PERMITE consulta a colegas (presencial ou remotamente), ou seja, não é permitido ter alguém ao seu lado assim como não é permitido conversar pelo WhatsApp, enviar e-mail ou qualquer outro formato em que converse com outra pessoa**. \n",
    "  * **NÃO PERMITE utilizar CELULAR, TABLET, SEGUNDO COMPUTADOR (ou NOTEBOOK) ou qualquer outro aparelho eletrônico no momento da prova.**\n",
    "  * **Seu olhar deve estar sempre para tela do computador da prova. Evite olhar para baixo ou para os lados com frequência.**\n",
    "  * **A câmera deve estar bem centralizada ao seu rosto, sem filmar teto ou apenas parte do rosto para cima. Atenção em deixar a câmera regulada para dar prioridade em filmar seu rosto por inteiro em todo o momento da prova.** \n",
    "  * **O desrespeito as essas regras constituirá violação ao Código de Ética e de Conduta e acarretará sanções nele previstas. Faça o seu trabalho de maneira ética!** \n",
    "\n",
    "1. Sua prova utilizará o sistema de Proctoring.  Para instalar a extensão, acesse o site https://getproctorio.com/ pelo Google Chrome e siga os passos indicados. Caso tenha dúvidas ou dificuldades, avise seu professor pelo chat e entre em contato com o Help Desk por meio de abertura de chamado ou pelo telefone (11) 4504-2550.\n",
    "Para realizar a prova será necessário:\n",
    "  *\tUm desktop ou um notebook com qualquer sistema operacional (dispositivos móveis não serão aceitos)\n",
    "  *\tMicrofone (interno ou externo)\n",
    "  *\tWebcam (interna ou externa)\n",
    "  *\tNavegador Google Chrome (o sistema funciona somente nele)\n",
    "  *\tExtensão da plataforma instalada (sem ela o sistema não funcionará)\n",
    "\n",
    "1. **É proibido o uso de fones de ouvido durante toda a prova. Não leia as questões em voz alta. Não ouvir música.**\n",
    "1. Sempre que possível, busque criar redundâncias para a rede de internet. Uma forma de fazer isso é utilizar a rede 4G dos celulares.\n",
    "1. Antes de sair da prova, garanta que entregou a prova no link indicado. Verifique se arquivos das questões tiveram seu upload concluído (se necessário) e que fechou a prova ao final. Você é o responsável pela entrega adequada de todas as questões de sua prova. Avaliações entregues fora do prazo não serão aceitas para correção.\n",
    "1. Caso precise se ausentar da frente da câmera para ia ao banheiro, comunique no chat do Teams ao professor e/ou fale para sua câmera. Dessa forma sua ausência estará justificada pelo sistema de proctoring. Lembre-se de ser rápido e retornar prontamente à prova."
   ]
  },
  {
   "cell_type": "markdown",
   "metadata": {},
   "source": [
    "#### Avisos sobre desenvolvimento da prova:\n",
    "\n",
    "1. Esta avaliação é composta de 2 questões cujo enunciado está no Blackboard. Caso verifique a falta de alguma questão, entre em contato com seu professor imediatamente pelo Teams.\n",
    "1. Esta Avaliação consiste em responder um arquivo Jupyter que será anexado ao Blackboard ao final da prova.\n",
    "1. Leia atentamente as **Precauções de segurança** abaixo para evitar ter sua prova anulada.\n",
    "1. Você pode utilizar qualquer material individual para consulta – anotações, livros, etc. Mas não pode compartilhar este material com seus colegas presencial ou remotamente.\n",
    "1. Em caso de dúvida sobre alguma questão desta avaliação, redija um texto em uma nova célula deste Jupyter notebook explicitando-a para que o professor avalie a pertinência durante a correção.  \n",
    "1. Leia atentamente cada questão e responda o que for pedido. Erros conceituais serão penalizados, mesmo que o conceito não se relacione com o que foi pedido na questão.\n",
    "1. Caso em algum item você necessite do resultado de um item anterior que você não conseguiu fazer, admita um valor razoável para esse resultado e faça o item normalmente. Indique na questão, caso isso aconteça.\n",
    "1. Todos os resultados devem ser justificados. Números que apareçam sem uma explicação de como foram encontrados serão ignorados na correção.\n",
    "1. **A qualidade do código na resolução em cada item também será levada em consideração, ou seja, códigos complicados para soluções que podem ser simples serão penalizados.**\n",
    "1. Esta avaliação requer **entrega via Blackboard**. **Não serão consideradas entregas por outros meios** (ex: e-mail, MS Teams, etc.)."
   ]
  },
  {
   "cell_type": "markdown",
   "metadata": {},
   "source": [
    "#### Precauções de segurança:\n",
    "\n",
    "1.\tTodas as precauções abaixo podem ser resumidas da seguinte forma: consulte o material que quiser desde que não seja nenhuma pessoa e não compartilhe informações com ninguém. \n",
    "2.\tVocê não pode enviar nenhum tipo de mensagem durante a prova para qualquer pessoa dentro ou fora dela, com exceção do(a) professor(a). Por exemplo: e-mail, Skype, mensagens do Facebook, mensagens do WhatsApp, mensagens via Twitter, etc\n",
    "3.\tVocê não pode compartilhar nenhum tipo de informação em nenhum site, incluindo Pastebin, Codeshare, wikis, etc\n",
    "4.\tVocê não pode perguntar questões da prova no StackOverflow, StackExchange, MathExchange, etc. \n",
    "5.\tVocê pode procurar/tirar dúvida no Google.\n",
    "6.\tVocê pode consultar qualquer arquivo no seu computador.\n",
    "7.\tQualquer transgressão das normas acima pode zerar a nota da prova e implicar em infração ao código de ética do Insper."
   ]
  },
  {
   "cell_type": "markdown",
   "metadata": {},
   "source": [
    "___\n",
    "<div id=\"indice\"></div>\n",
    "\n",
    "## Índice\n",
    "\n",
    "- [PERGUNTA 1](#q1) \n",
    "    - [Item (a)](#q1a) **[1,0 ponto]**\n",
    "    - [Item (b)](#q1b) **[1,0 ponto]**\n",
    "    - [Item (c)](#q1c) **[1,0 ponto]**\n",
    "    - [Item (d)](#q1d) **[1,0 ponto]**\n",
    "    - [Item (e)](#q1e) **[1,0 ponto]**\n",
    "- [PERGUNTA 2](#q2) \n",
    "    - [Item (a)](#q2a) **[1,0 ponto]**\n",
    "    - [Item (b)](#q2b) **[1,0 ponto]**\n",
    "    - [Item (c)](#q2c) **[1,0 ponto]**\n",
    "    - [Item (d)](#q2d) **[1,0 ponto]**\n",
    "    - [Item (e)](#q2e) **[1,0 ponto]**"
   ]
  },
  {
   "cell_type": "markdown",
   "metadata": {},
   "source": [
    "___\n",
    "Carregando algumas bibliotecas:"
   ]
  },
  {
   "cell_type": "code",
   "execution_count": 24,
   "metadata": {},
   "outputs": [],
   "source": [
    "# %matplotlib inline\n",
    "import math\n",
    "from math import sqrt\n",
    "\n",
    "import matplotlib.pyplot as plt\n",
    "import numpy as np\n",
    "from numpy import arange\n",
    "import pandas as pd\n",
    "from scipy import stats\n",
    "\n",
    "from IPython.display import display  # Para ter melhor print.\n",
    "\n",
    "# Pode trazer mais bibliotecas, caso julgue interessante!!"
   ]
  },
  {
   "cell_type": "markdown",
   "metadata": {},
   "source": [
    "___\n",
    "<div id=\"q1\"></div>\n",
    "\n",
    "### PERGUNTA 1 (5,0 pontos)\n",
    "\n",
    "**Leia o enunciado descrito no Blackboard para responder cada item a seguir:**"
   ]
  },
  {
   "cell_type": "markdown",
   "metadata": {},
   "source": [
    "<div id=\"q1a\"></div>\n",
    "\n",
    "**Pergunta 1 - item (a) (1,0 ponto)**\n",
    "\n",
    "Leia o Blackboard."
   ]
  },
  {
   "cell_type": "code",
   "execution_count": 25,
   "metadata": {},
   "outputs": [
    {
     "name": "stdout",
     "output_type": "stream",
     "text": [
      "a) (30% maiores) a partir de:\n"
     ]
    },
    {
     "data": {
      "text/plain": [
       "43.67080358895628"
      ]
     },
     "execution_count": 25,
     "metadata": {},
     "output_type": "execute_result"
    }
   ],
   "source": [
    "# ESCREVA SEU CODIGO AQUI\n",
    "print('a) (30% maiores) a partir de:')\n",
    "\n",
    "mu = 40 # media [reais]\n",
    "sigma = 7 # dp [reais]\n",
    "\n",
    "stats.norm.ppf(0.7, loc=mu, scale=sigma)"
   ]
  },
  {
   "cell_type": "markdown",
   "metadata": {},
   "source": [
    "<div id=\"q1b\"></div>\n",
    "\n",
    "**Pergunta 1 - item (b) (1,0 ponto)**\n",
    "\n",
    "Leia o Blackboard."
   ]
  },
  {
   "cell_type": "code",
   "execution_count": 26,
   "metadata": {},
   "outputs": [
    {
     "name": "stdout",
     "output_type": "stream",
     "text": [
      "b) P(X > 35 | X < 45):\n"
     ]
    },
    {
     "data": {
      "text/plain": [
       "1.0"
      ]
     },
     "execution_count": 26,
     "metadata": {},
     "output_type": "execute_result"
    }
   ],
   "source": [
    "# ESCREVA SEU CODIGO AQUI\n",
    "print('b) P(X > 35 | X < 45):')\n",
    "\n",
    "# P(X > 35 | X < 45) = P(X > 35) / P(X < 45)\n",
    "P = (1-stats.norm.cdf(35, loc=mu, scale=sigma)) / stats.norm.cdf(45, loc=mu, scale=sigma)\n",
    "P"
   ]
  },
  {
   "cell_type": "markdown",
   "metadata": {},
   "source": [
    "<div id=\"q1c\"></div>\n",
    "\n",
    "**Pergunta 1 - item (c) (1,0 ponto)**\n",
    "\n",
    "Leia o Blackboard."
   ]
  },
  {
   "cell_type": "code",
   "execution_count": 45,
   "metadata": {},
   "outputs": [
    {
     "name": "stdout",
     "output_type": "stream",
     "text": [
      "c)\n"
     ]
    },
    {
     "data": {
      "text/plain": [
       "9.219544457292887"
      ]
     },
     "execution_count": 45,
     "metadata": {},
     "output_type": "execute_result"
    }
   ],
   "source": [
    "# ESCREVA SEU CODIGO AQUI\n",
    "print('c)')\n",
    "\n",
    "mu_v = 60 # media [reais]\n",
    "sigma_v = 6 # dp [reais]\n",
    "correl = 0.58\n",
    "\n",
    "Var_V = stats.norm.var(loc=mu_v, scale=sigma_v)\n",
    "Var_C = stats.norm.var(loc=mu, scale=sigma)\n",
    "\n",
    "Var_L = Var_V+Var_C\n",
    "DP_V = Var_L**0.5\n",
    "DP_V"
   ]
  },
  {
   "cell_type": "code",
   "execution_count": null,
   "metadata": {},
   "outputs": [],
   "source": []
  },
  {
   "cell_type": "markdown",
   "metadata": {},
   "source": [
    "<div id=\"q1d\"></div>\n",
    "\n",
    "**Pergunta 1 - item (d) (1,0 ponto)**\n",
    "\n",
    "Leia o Blackboard."
   ]
  },
  {
   "cell_type": "code",
   "execution_count": 28,
   "metadata": {},
   "outputs": [
    {
     "name": "stdout",
     "output_type": "stream",
     "text": [
      "d) P(X < 25)\n"
     ]
    },
    {
     "data": {
      "text/plain": [
       "0.5506710358827784"
      ]
     },
     "execution_count": 28,
     "metadata": {},
     "output_type": "execute_result"
    }
   ],
   "source": [
    "# ESCREVA SEU CODIGO AQUI\n",
    "print('d) P(X < 25)')\n",
    "\n",
    "mu_exp = 30\n",
    "x_exp = 24\n",
    "stats.expon.cdf(x_exp, scale=mu_exp)"
   ]
  },
  {
   "cell_type": "markdown",
   "metadata": {},
   "source": [
    "<div id=\"q1e\"></div>\n",
    "\n",
    "**Pergunta 1 - item (e) (1,0 ponto)**\n",
    "\n",
    "Leia o Blackboard."
   ]
  },
  {
   "cell_type": "code",
   "execution_count": 29,
   "metadata": {},
   "outputs": [
    {
     "name": "stdout",
     "output_type": "stream",
     "text": [
      "e) \n"
     ]
    },
    {
     "data": {
      "text/plain": [
       "0.6217568447829579"
      ]
     },
     "execution_count": 29,
     "metadata": {},
     "output_type": "execute_result"
    }
   ],
   "source": [
    "# ESCREVA SEU CODIGO AQUI\n",
    "print('e) ')\n",
    "\n",
    "# P_Fab(X > 42)\n",
    "\n",
    "P_menorque_25 = stats.expon.cdf(x_exp, scale=mu_exp)\n",
    "mu_menor = 40 # media [reais]\n",
    "sigma_menor = 7 # dp [reais]\n",
    "\n",
    "P_Fab_menor = (1-stats.norm.cdf(42, loc=mu_menor, scale=sigma_menor)) * P_menorque_25\n",
    "\n",
    "P_maiorigual_25 = 1 - P_menorque_25\n",
    "mu_maior = 50 # media [reais]\n",
    "sigma_maior = 6 # dp [reais]\n",
    "\n",
    "P_Fab_maior = (1-stats.norm.cdf(42, loc=mu_maior, scale=sigma_maior)) * P_maiorigual_25\n",
    "\n",
    "P_Fab = P_Fab_maior + P_Fab_menor\n",
    "P_Fab"
   ]
  },
  {
   "cell_type": "markdown",
   "metadata": {},
   "source": [
    "[Volta ao Índice](#indice)"
   ]
  },
  {
   "cell_type": "markdown",
   "metadata": {},
   "source": [
    "___\n",
    "<div id=\"q2\"></div>\n",
    "\n",
    "### PERGUNTA 2 (5,0 pontos)\n",
    "\n",
    "**Leia o enunciado descrito no Blackboard para responder cada item a seguir:**"
   ]
  },
  {
   "cell_type": "markdown",
   "metadata": {},
   "source": [
    "<div id=\"q2a\"></div>\n",
    "\n",
    "**Pergunta 2 - item (a) (1,0 ponto)**\n",
    "\n",
    "Leia o Blackboard."
   ]
  },
  {
   "cell_type": "code",
   "execution_count": 46,
   "metadata": {},
   "outputs": [
    {
     "data": {
      "text/plain": [
       "0.1603754093939377"
      ]
     },
     "execution_count": 46,
     "metadata": {},
     "output_type": "execute_result"
    }
   ],
   "source": [
    "# ESCREVA SEU CODIGO AQUI\n",
    "\n",
    "# X exponencial\n",
    "mu_X = 4\n",
    "dp_X = 4\n",
    "# x_exp = 24\n",
    "# stats.expon.cdf(x_exp, scale=mu_exp)\n",
    "\n",
    "# Y normal\n",
    "mu_Y = 2 # media [horas]\n",
    "sigma_Y = 0.54 # dp [horas]\n",
    "\n",
    "# W normal\n",
    "mu_W = 3 # media [horas]\n",
    "sigma_W = 0.82 # dp [horas]\n",
    "\n",
    "\n",
    "# P(X > 4) • P(Y < 1.5)\n",
    "\n",
    "P_X_maiorque_4 = 1-stats.expon.cdf(4, scale=mu)\n",
    "P_Y_menorque_1_5 = stats.norm.cdf(1.5, loc=mu_Y, scale=sigma_Y)\n",
    "P = P_X_maiorque_4 * P_Y_menorque_1_5\n",
    "P"
   ]
  },
  {
   "cell_type": "markdown",
   "metadata": {},
   "source": [
    "<div id=\"q2b\"></div>\n",
    "\n",
    "**Pergunta 2 - item (b) (1,0 ponto)**\n",
    "\n",
    "Leia o Blackboard."
   ]
  },
  {
   "cell_type": "code",
   "execution_count": 47,
   "metadata": {},
   "outputs": [
    {
     "data": {
      "text/plain": [
       "4.981835016690686"
      ]
     },
     "execution_count": 47,
     "metadata": {},
     "output_type": "execute_result"
    }
   ],
   "source": [
    "# ESCREVA SEU CODIGO AQUI\n",
    "Var_Y = stats.norm.var(loc=mu_Y, scale=sigma_Y)\n",
    "Var_W = stats.norm.var(loc=mu_W, scale=sigma_W)\n",
    "Var_T = Var_Y+Var_W\n",
    "\n",
    "DP_T = (Var_T**0.5) + dp_X\n",
    "DP_T"
   ]
  },
  {
   "cell_type": "code",
   "execution_count": null,
   "metadata": {},
   "outputs": [],
   "source": []
  },
  {
   "cell_type": "markdown",
   "metadata": {},
   "source": [
    "<div id=\"q2c\"></div>\n",
    "\n",
    "**Pergunta 2 - item (c) (1,0 ponto)**\n",
    "\n",
    "Leia o Blackboard."
   ]
  },
  {
   "cell_type": "code",
   "execution_count": 32,
   "metadata": {},
   "outputs": [],
   "source": [
    "# ESCREVA SEU CODIGO AQUI"
   ]
  },
  {
   "cell_type": "code",
   "execution_count": null,
   "metadata": {},
   "outputs": [],
   "source": []
  },
  {
   "cell_type": "markdown",
   "metadata": {},
   "source": [
    "<div id=\"q2d\"></div>\n",
    "\n",
    "**Pergunta 2 - item (d) (1,0 ponto)**\n",
    "\n",
    "Leia o Blackboard."
   ]
  },
  {
   "cell_type": "code",
   "execution_count": 33,
   "metadata": {},
   "outputs": [],
   "source": [
    "# ESCREVA SEU CODIGO AQUI\n",
    "\n"
   ]
  },
  {
   "cell_type": "code",
   "execution_count": null,
   "metadata": {},
   "outputs": [],
   "source": []
  },
  {
   "cell_type": "markdown",
   "metadata": {},
   "source": [
    "<div id=\"q2e\"></div>\n",
    "\n",
    "**Pergunta 2 - item (e) (1,0 ponto)**\n",
    "\n",
    "Leia o Blackboard."
   ]
  },
  {
   "cell_type": "code",
   "execution_count": 34,
   "metadata": {},
   "outputs": [],
   "source": [
    "# ESCREVA SEU CODIGO AQUI"
   ]
  },
  {
   "cell_type": "code",
   "execution_count": null,
   "metadata": {},
   "outputs": [],
   "source": []
  },
  {
   "cell_type": "markdown",
   "metadata": {},
   "source": [
    "[Volta ao Índice](#indice)"
   ]
  }
 ],
 "metadata": {
  "kernelspec": {
   "display_name": "Python 3",
   "language": "python",
   "name": "python3"
  },
  "language_info": {
   "codemirror_mode": {
    "name": "ipython",
    "version": 3
   },
   "file_extension": ".py",
   "mimetype": "text/x-python",
   "name": "python",
   "nbconvert_exporter": "python",
   "pygments_lexer": "ipython3",
   "version": "3.8.8"
  }
 },
 "nbformat": 4,
 "nbformat_minor": 4
}
