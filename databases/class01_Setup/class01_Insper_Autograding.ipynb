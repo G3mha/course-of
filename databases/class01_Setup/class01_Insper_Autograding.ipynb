{
 "cells": [
  {
   "cell_type": "markdown",
   "id": "eccb9973",
   "metadata": {},
   "source": [
    "# Insper Autograding\n",
    "\n",
    "Siga os passos deste notebook para realizar a instalação da biblioteca de correção de exercícios nos notebooks da disciplina de Megadados!\n",
    "\n",
    "## Instalação\n",
    "\n",
    "Vamos instalar a biblioteca:"
   ]
  },
  {
   "cell_type": "code",
   "execution_count": 1,
   "id": "f8da2455",
   "metadata": {},
   "outputs": [
    {
     "name": "stdout",
     "output_type": "stream",
     "text": [
      "\u001b[33mWARNING: Skipping insperautograder as it is not installed.\u001b[0m\u001b[33m\n",
      "\u001b[0m\u001b[33mDEPRECATION: Configuring installation scheme with distutils config files is deprecated and will no longer work in the near future. If you are using a Homebrew or Linuxbrew Python, please see discussion at https://github.com/Homebrew/homebrew-core/issues/76621\u001b[0m\u001b[33m\n",
      "\u001b[0mCollecting git+https://github.com/macielcalebe/insperautograding.git\n",
      "  Cloning https://github.com/macielcalebe/insperautograding.git to /private/var/folders/x3/bbk8nj6s67s9nv5gvt6q6gxh0000gn/T/pip-req-build-0pv3b19u\n",
      "  Running command git clone --filter=blob:none --quiet https://github.com/macielcalebe/insperautograding.git /private/var/folders/x3/bbk8nj6s67s9nv5gvt6q6gxh0000gn/T/pip-req-build-0pv3b19u\n",
      "  Resolved https://github.com/macielcalebe/insperautograding.git to commit 4a8520568b7d385f9dba29e6c359f43559603f6d\n",
      "  Preparing metadata (setup.py) ... \u001b[?25ldone\n",
      "\u001b[?25hRequirement already satisfied: python-dotenv in /opt/homebrew/lib/python3.9/site-packages (from insperautograder==0.1.0) (1.0.0)\n",
      "Collecting requests (from insperautograder==0.1.0)\n",
      "  Obtaining dependency information for requests from https://files.pythonhosted.org/packages/70/8e/0e2d847013cb52cd35b38c009bb167a1a26b2ce6cd6965bf26b47bc0bf44/requests-2.31.0-py3-none-any.whl.metadata\n",
      "  Downloading requests-2.31.0-py3-none-any.whl.metadata (4.6 kB)\n",
      "Requirement already satisfied: ipython in /Users/enriccogemha/Library/Python/3.9/lib/python/site-packages (from insperautograder==0.1.0) (8.11.0)\n",
      "Requirement already satisfied: ipywidgets in /Users/enriccogemha/Library/Python/3.9/lib/python/site-packages (from insperautograder==0.1.0) (8.0.4)\n",
      "Requirement already satisfied: backcall in /Users/enriccogemha/Library/Python/3.9/lib/python/site-packages (from ipython->insperautograder==0.1.0) (0.2.0)\n",
      "Requirement already satisfied: decorator in /Users/enriccogemha/Library/Python/3.9/lib/python/site-packages (from ipython->insperautograder==0.1.0) (5.1.1)\n",
      "Requirement already satisfied: jedi>=0.16 in /Users/enriccogemha/Library/Python/3.9/lib/python/site-packages (from ipython->insperautograder==0.1.0) (0.18.2)\n",
      "Requirement already satisfied: matplotlib-inline in /Users/enriccogemha/Library/Python/3.9/lib/python/site-packages (from ipython->insperautograder==0.1.0) (0.1.6)\n",
      "Requirement already satisfied: pickleshare in /Users/enriccogemha/Library/Python/3.9/lib/python/site-packages (from ipython->insperautograder==0.1.0) (0.7.5)\n",
      "Requirement already satisfied: prompt-toolkit!=3.0.37,<3.1.0,>=3.0.30 in /Users/enriccogemha/Library/Python/3.9/lib/python/site-packages (from ipython->insperautograder==0.1.0) (3.0.38)\n",
      "Requirement already satisfied: pygments>=2.4.0 in /Users/enriccogemha/Library/Python/3.9/lib/python/site-packages (from ipython->insperautograder==0.1.0) (2.14.0)\n",
      "Requirement already satisfied: stack-data in /Users/enriccogemha/Library/Python/3.9/lib/python/site-packages (from ipython->insperautograder==0.1.0) (0.6.2)\n",
      "Requirement already satisfied: traitlets>=5 in /Users/enriccogemha/Library/Python/3.9/lib/python/site-packages (from ipython->insperautograder==0.1.0) (5.9.0)\n",
      "Requirement already satisfied: pexpect>4.3 in /Users/enriccogemha/Library/Python/3.9/lib/python/site-packages (from ipython->insperautograder==0.1.0) (4.8.0)\n",
      "Requirement already satisfied: appnope in /Users/enriccogemha/Library/Python/3.9/lib/python/site-packages (from ipython->insperautograder==0.1.0) (0.1.3)\n",
      "Requirement already satisfied: ipykernel>=4.5.1 in /Users/enriccogemha/Library/Python/3.9/lib/python/site-packages (from ipywidgets->insperautograder==0.1.0) (6.21.3)\n",
      "Requirement already satisfied: widgetsnbextension~=4.0 in /Users/enriccogemha/Library/Python/3.9/lib/python/site-packages (from ipywidgets->insperautograder==0.1.0) (4.0.5)\n",
      "Requirement already satisfied: jupyterlab-widgets~=3.0 in /Users/enriccogemha/Library/Python/3.9/lib/python/site-packages (from ipywidgets->insperautograder==0.1.0) (3.0.5)\n",
      "Collecting charset-normalizer<4,>=2 (from requests->insperautograder==0.1.0)\n",
      "  Obtaining dependency information for charset-normalizer<4,>=2 from https://files.pythonhosted.org/packages/d3/d8/50a33f82bdf25e71222a55cef146310e3e9fe7d5790be5281d715c012eae/charset_normalizer-3.2.0-cp39-cp39-macosx_11_0_arm64.whl.metadata\n",
      "  Downloading charset_normalizer-3.2.0-cp39-cp39-macosx_11_0_arm64.whl.metadata (31 kB)\n",
      "Requirement already satisfied: idna<4,>=2.5 in /Users/enriccogemha/Library/Python/3.9/lib/python/site-packages (from requests->insperautograder==0.1.0) (3.4)\n",
      "Collecting urllib3<3,>=1.21.1 (from requests->insperautograder==0.1.0)\n",
      "  Obtaining dependency information for urllib3<3,>=1.21.1 from https://files.pythonhosted.org/packages/9b/81/62fd61001fa4b9d0df6e31d47ff49cfa9de4af03adecf339c7bc30656b37/urllib3-2.0.4-py3-none-any.whl.metadata\n",
      "  Downloading urllib3-2.0.4-py3-none-any.whl.metadata (6.6 kB)\n",
      "Collecting certifi>=2017.4.17 (from requests->insperautograder==0.1.0)\n",
      "  Obtaining dependency information for certifi>=2017.4.17 from https://files.pythonhosted.org/packages/4c/dd/2234eab22353ffc7d94e8d13177aaa050113286e93e7b40eae01fbf7c3d9/certifi-2023.7.22-py3-none-any.whl.metadata\n",
      "  Downloading certifi-2023.7.22-py3-none-any.whl.metadata (2.2 kB)\n",
      "Requirement already satisfied: comm>=0.1.1 in /Users/enriccogemha/Library/Python/3.9/lib/python/site-packages (from ipykernel>=4.5.1->ipywidgets->insperautograder==0.1.0) (0.1.2)\n",
      "Requirement already satisfied: debugpy>=1.6.5 in /Users/enriccogemha/Library/Python/3.9/lib/python/site-packages (from ipykernel>=4.5.1->ipywidgets->insperautograder==0.1.0) (1.6.6)\n",
      "Requirement already satisfied: jupyter-client>=6.1.12 in /Users/enriccogemha/Library/Python/3.9/lib/python/site-packages (from ipykernel>=4.5.1->ipywidgets->insperautograder==0.1.0) (8.0.3)\n",
      "Requirement already satisfied: jupyter-core!=5.0.*,>=4.12 in /Users/enriccogemha/Library/Python/3.9/lib/python/site-packages (from ipykernel>=4.5.1->ipywidgets->insperautograder==0.1.0) (5.2.0)\n",
      "Requirement already satisfied: nest-asyncio in /Users/enriccogemha/Library/Python/3.9/lib/python/site-packages (from ipykernel>=4.5.1->ipywidgets->insperautograder==0.1.0) (1.5.6)\n",
      "Requirement already satisfied: packaging in /Users/enriccogemha/Library/Python/3.9/lib/python/site-packages (from ipykernel>=4.5.1->ipywidgets->insperautograder==0.1.0) (23.0)\n",
      "Requirement already satisfied: psutil in /Users/enriccogemha/Library/Python/3.9/lib/python/site-packages (from ipykernel>=4.5.1->ipywidgets->insperautograder==0.1.0) (5.9.4)\n",
      "Requirement already satisfied: pyzmq>=20 in /Users/enriccogemha/Library/Python/3.9/lib/python/site-packages (from ipykernel>=4.5.1->ipywidgets->insperautograder==0.1.0) (25.0.1)\n",
      "Requirement already satisfied: tornado>=6.1 in /Users/enriccogemha/Library/Python/3.9/lib/python/site-packages (from ipykernel>=4.5.1->ipywidgets->insperautograder==0.1.0) (6.2)\n",
      "Requirement already satisfied: parso<0.9.0,>=0.8.0 in /Users/enriccogemha/Library/Python/3.9/lib/python/site-packages (from jedi>=0.16->ipython->insperautograder==0.1.0) (0.8.3)\n",
      "Requirement already satisfied: ptyprocess>=0.5 in /Users/enriccogemha/Library/Python/3.9/lib/python/site-packages (from pexpect>4.3->ipython->insperautograder==0.1.0) (0.7.0)\n",
      "Requirement already satisfied: wcwidth in /Users/enriccogemha/Library/Python/3.9/lib/python/site-packages (from prompt-toolkit!=3.0.37,<3.1.0,>=3.0.30->ipython->insperautograder==0.1.0) (0.2.6)\n",
      "Requirement already satisfied: executing>=1.2.0 in /Users/enriccogemha/Library/Python/3.9/lib/python/site-packages (from stack-data->ipython->insperautograder==0.1.0) (1.2.0)\n",
      "Requirement already satisfied: asttokens>=2.1.0 in /Users/enriccogemha/Library/Python/3.9/lib/python/site-packages (from stack-data->ipython->insperautograder==0.1.0) (2.2.1)\n",
      "Requirement already satisfied: pure-eval in /Users/enriccogemha/Library/Python/3.9/lib/python/site-packages (from stack-data->ipython->insperautograder==0.1.0) (0.2.2)\n",
      "Requirement already satisfied: six in /opt/homebrew/lib/python3.9/site-packages (from asttokens>=2.1.0->stack-data->ipython->insperautograder==0.1.0) (1.16.0)\n",
      "Requirement already satisfied: importlib-metadata>=4.8.3 in /Users/enriccogemha/Library/Python/3.9/lib/python/site-packages (from jupyter-client>=6.1.12->ipykernel>=4.5.1->ipywidgets->insperautograder==0.1.0) (6.0.0)\n",
      "Requirement already satisfied: python-dateutil>=2.8.2 in /Users/enriccogemha/Library/Python/3.9/lib/python/site-packages (from jupyter-client>=6.1.12->ipykernel>=4.5.1->ipywidgets->insperautograder==0.1.0) (2.8.2)\n",
      "Requirement already satisfied: platformdirs>=2.5 in /Users/enriccogemha/Library/Python/3.9/lib/python/site-packages (from jupyter-core!=5.0.*,>=4.12->ipykernel>=4.5.1->ipywidgets->insperautograder==0.1.0) (3.1.1)\n",
      "Requirement already satisfied: zipp>=0.5 in /Users/enriccogemha/Library/Python/3.9/lib/python/site-packages (from importlib-metadata>=4.8.3->jupyter-client>=6.1.12->ipykernel>=4.5.1->ipywidgets->insperautograder==0.1.0) (3.15.0)\n",
      "Using cached requests-2.31.0-py3-none-any.whl (62 kB)\n",
      "Using cached certifi-2023.7.22-py3-none-any.whl (158 kB)\n",
      "Using cached charset_normalizer-3.2.0-cp39-cp39-macosx_11_0_arm64.whl (124 kB)\n",
      "Using cached urllib3-2.0.4-py3-none-any.whl (123 kB)\n",
      "Building wheels for collected packages: insperautograder\n",
      "  Building wheel for insperautograder (setup.py) ... \u001b[?25ldone\n",
      "\u001b[?25h  Created wheel for insperautograder: filename=insperautograder-0.1.0-py3-none-any.whl size=3593 sha256=dc6003b020fdbf005544a709459936399f07afda2d3307507327df8884406d2f\n",
      "  Stored in directory: /private/var/folders/x3/bbk8nj6s67s9nv5gvt6q6gxh0000gn/T/pip-ephem-wheel-cache-3f3m_vhw/wheels/a2/cc/d8/a9e0d52d5c13bcbb2b9875678870a63360122fbe37dec54a91\n",
      "Successfully built insperautograder\n",
      "Installing collected packages: urllib3, charset-normalizer, certifi, requests, insperautograder\n",
      "\u001b[33m  DEPRECATION: Configuring installation scheme with distutils config files is deprecated and will no longer work in the near future. If you are using a Homebrew or Linuxbrew Python, please see discussion at https://github.com/Homebrew/homebrew-core/issues/76621\u001b[0m\u001b[33m\n",
      "\u001b[0m\u001b[33m  DEPRECATION: Configuring installation scheme with distutils config files is deprecated and will no longer work in the near future. If you are using a Homebrew or Linuxbrew Python, please see discussion at https://github.com/Homebrew/homebrew-core/issues/76621\u001b[0m\u001b[33m\n",
      "\u001b[0m\u001b[33m  DEPRECATION: Configuring installation scheme with distutils config files is deprecated and will no longer work in the near future. If you are using a Homebrew or Linuxbrew Python, please see discussion at https://github.com/Homebrew/homebrew-core/issues/76621\u001b[0m\u001b[33m\n",
      "\u001b[0m\u001b[33m  DEPRECATION: Configuring installation scheme with distutils config files is deprecated and will no longer work in the near future. If you are using a Homebrew or Linuxbrew Python, please see discussion at https://github.com/Homebrew/homebrew-core/issues/76621\u001b[0m\u001b[33m\n",
      "\u001b[0m\u001b[33m  DEPRECATION: Configuring installation scheme with distutils config files is deprecated and will no longer work in the near future. If you are using a Homebrew or Linuxbrew Python, please see discussion at https://github.com/Homebrew/homebrew-core/issues/76621\u001b[0m\u001b[33m\n",
      "\u001b[0m\u001b[33mDEPRECATION: Configuring installation scheme with distutils config files is deprecated and will no longer work in the near future. If you are using a Homebrew or Linuxbrew Python, please see discussion at https://github.com/Homebrew/homebrew-core/issues/76621\u001b[0m\u001b[33m\n",
      "\u001b[0mSuccessfully installed certifi-2023.7.22 charset-normalizer-3.2.0 insperautograder-0.1.0 requests-2.31.0 urllib3-2.0.4\n"
     ]
    }
   ],
   "source": [
    "!pip uninstall -y insperautograder\n",
    "!pip install git+https://github.com/macielcalebe/insperautograding.git"
   ]
  },
  {
   "cell_type": "markdown",
   "id": "2ae5f5f3",
   "metadata": {},
   "source": [
    "## Criar o `.env`\n",
    "\n",
    "Os arquivos `.env` são arquivos de configuração usados no desenvolvimento de software para armazenar variáveis de ambiente. **Variáveis de ambiente** são valores definidos **fora do código-fonte** e usados para configurar diferentes aspectos de um aplicativo, como strings de conexão de banco de dados, chaves de API e outras **informações confidenciais**.\n",
    "\n",
    "Arquivos `.env` **jamais** (EU DISSE JAMAAAAIS) devem ser enviados para o github, isto pode representar sérios riscos pois pode prover acesso indevidos, como:\n",
    "- O hacker acessa e apaga toda sua base de dados\n",
    "- O hacker usa sua chave de API da AWS para minerar criptomoedas ou enviar spam (pode gastar milhares de dólares em minutos ou horas)\n",
    "\n",
    "Vamos instalar a biblioteca"
   ]
  },
  {
   "cell_type": "code",
   "execution_count": 2,
   "id": "1e82ba3a",
   "metadata": {},
   "outputs": [
    {
     "name": "stdout",
     "output_type": "stream",
     "text": [
      "\u001b[33mDEPRECATION: Configuring installation scheme with distutils config files is deprecated and will no longer work in the near future. If you are using a Homebrew or Linuxbrew Python, please see discussion at https://github.com/Homebrew/homebrew-core/issues/76621\u001b[0m\u001b[33m\n",
      "\u001b[0mRequirement already satisfied: python-dotenv in /opt/homebrew/lib/python3.9/site-packages (1.0.0)\n",
      "\u001b[33mDEPRECATION: Configuring installation scheme with distutils config files is deprecated and will no longer work in the near future. If you are using a Homebrew or Linuxbrew Python, please see discussion at https://github.com/Homebrew/homebrew-core/issues/76621\u001b[0m\u001b[33m\n",
      "\u001b[0m"
     ]
    }
   ],
   "source": [
    "!pip install python-dotenv"
   ]
  },
  {
   "cell_type": "markdown",
   "id": "19d99af9",
   "metadata": {},
   "source": [
    "e escrever um `.env` na pasta pai (supondo que você tem uma pasta para a disciplina e nela cria uma pasta por aula).\n",
    "\n",
    "<img src=\"https://megadados-insper.s3.us-east-2.amazonaws.com/img/env_local.png\">\n",
    "\n",
    "O comando abaixo já deve escrever no local adequado. Você também pode utilizar um editor de textos para criar o `.env`."
   ]
  },
  {
   "cell_type": "code",
   "execution_count": 3,
   "id": "06ddf3ec",
   "metadata": {},
   "outputs": [
    {
     "name": "stdout",
     "output_type": "stream",
     "text": [
      "Writing ../.env\n"
     ]
    }
   ],
   "source": [
    "%%writefile ../.env\n",
    "IAG_SERVER_URL=\"https://bigdata.insper-comp.com.br/iag\"\n",
    "IAG_SUBJECT=\"megadados\"\n",
    "IAG_OFFERING=\"23-2\"\n",
    "IAG_TOKEN=\"iagtok_xxxxxxxxxxxxxxxxxxxxxxxxxxxxxxxxxxxxxxx\""
   ]
  },
  {
   "cell_type": "markdown",
   "id": "fde705c2",
   "metadata": {},
   "source": [
    "Confira pelo navegador de arquivos se o `.env` foi gerado corretamente!\n",
    "\n",
    "Como uma segunda confirmação, vamos tentar ler o endereço do servidor:"
   ]
  },
  {
   "cell_type": "code",
   "execution_count": 4,
   "id": "f0fab0af",
   "metadata": {},
   "outputs": [
    {
     "name": "stdout",
     "output_type": "stream",
     "text": [
      "https://bigdata.insper-comp.com.br/iag\n"
     ]
    }
   ],
   "source": [
    "import os\n",
    "from dotenv import load_dotenv\n",
    "\n",
    "load_dotenv(override=True)\n",
    "\n",
    "# Se aparecer o mesmo conteúdo definido na variável no .env, então é sucesso!\n",
    "print(os.getenv('IAG_SERVER_URL'))"
   ]
  },
  {
   "cell_type": "markdown",
   "id": "86fb92f7",
   "metadata": {},
   "source": [
    "## Gerar um token\n",
    "\n",
    "Vamos fazer uma requisição para gerar um token que será utilizado para identificar você nos envios da disciplina.\n",
    "\n",
    "Caso algum import falha, faça `pip install`"
   ]
  },
  {
   "cell_type": "code",
   "execution_count": 5,
   "id": "6b279e82",
   "metadata": {},
   "outputs": [],
   "source": [
    "import insperautograder.token as iat\n",
    "import insperautograder.jupyter as iaj"
   ]
  },
  {
   "cell_type": "code",
   "execution_count": 6,
   "id": "05bbb306",
   "metadata": {},
   "outputs": [
    {
     "data": {
      "text/markdown": [
       "\"Sending token in background! Check your Insper E-mail!\""
      ],
      "text/plain": [
       "<IPython.core.display.Markdown object>"
      ]
     },
     "metadata": {},
     "output_type": "display_data"
    }
   ],
   "source": [
    "# Descomente as linhas abaixo!\n",
    "username = 'enriccog' # Informe aqui seu usuário Insper ex: mariana5 (sem @al....)\n",
    "iat.get_new_token(username=username)"
   ]
  },
  {
   "cell_type": "markdown",
   "id": "843b7c66",
   "metadata": {},
   "source": [
    "Confira seu email. Copie o token e cole no arquivo `.env` gerado no passo anterior. Como o token é a única informação sensível no `.env`, ao invés de atualizar pelo jupyter notebook, abra em algum editor de textos.\n",
    "\n",
    "Após a edição, execute a próxima célula para atualizar as variáveis de ambiente:"
   ]
  },
  {
   "cell_type": "code",
   "execution_count": 7,
   "id": "fc14c654",
   "metadata": {},
   "outputs": [
    {
     "data": {
      "text/plain": [
       "True"
      ]
     },
     "execution_count": 7,
     "metadata": {},
     "output_type": "execute_result"
    }
   ],
   "source": [
    "load_dotenv(override=True)"
   ]
  },
  {
   "cell_type": "markdown",
   "id": "2bc4a562",
   "metadata": {},
   "source": [
    "## Testando a API!\n",
    "\n",
    "**Exercício exemplo**: Qual o nome desta disciplina?! Responda como string na variável `resp` (próxima célula).\n",
    "\n",
    "Considere que a seguinte resposta está correta, vamos fazer seu envio!"
   ]
  },
  {
   "cell_type": "code",
   "execution_count": 8,
   "id": "00349bb1",
   "metadata": {},
   "outputs": [],
   "source": [
    "resp = '''\n",
    " MEGADADOS\n",
    "'''"
   ]
  },
  {
   "cell_type": "markdown",
   "id": "c62541f0",
   "metadata": {},
   "source": [
    "Para enviar, clique no botão:"
   ]
  },
  {
   "cell_type": "code",
   "execution_count": 9,
   "id": "74b1b637",
   "metadata": {},
   "outputs": [
    {
     "data": {
      "application/vnd.jupyter.widget-view+json": {
       "model_id": "2309cff21fa0434ebf6506168129a6d5",
       "version_major": 2,
       "version_minor": 0
      },
      "text/plain": [
       "interactive(children=(Button(description='Enviar ex01', style=ButtonStyle()), Output()), _dom_classes=('widget…"
      ]
     },
     "execution_count": 9,
     "metadata": {},
     "output_type": "execute_result"
    }
   ],
   "source": [
    "iaj.sender(answer='resp', task='newborn', question='ex01', answer_type='pyvar')"
   ]
  },
  {
   "cell_type": "markdown",
   "id": "c4e9ea47",
   "metadata": {},
   "source": [
    "Perceba que a query possui um erro. Faça a correção, e, após sua última modificação, faça o envio clicando novamente no botão de envio! Ele automaticamente irá ler a variável `sql` (pega o valor atual dela, definido na última vez que você rodou a célula) e enviar para o servidor de testes!"
   ]
  },
  {
   "cell_type": "markdown",
   "id": "29321d76",
   "metadata": {},
   "source": [
    "## Atividades e Notas\n",
    "\n",
    "Podemos utilizar as chamadas para recuperar as atividades disponíveis, prazos e notas obtidas:"
   ]
  },
  {
   "cell_type": "code",
   "execution_count": 10,
   "id": "f421d0b2",
   "metadata": {},
   "outputs": [
    {
     "data": {
      "text/markdown": [
       "|    | Atividade   | De                               | Até                       |\n",
       "|---:|:------------|:---------------------------------|:--------------------------|\n",
       "|  0 | newborn     | 2023-08-08 03:00:00+00:00        | 2023-08-16 02:59:59+00:00 |\n",
       "|  1 | select01    | 2023-08-08 03:00:00+00:00        | 2023-08-21 02:59:59+00:00 |\n",
       "|  2 | ddl         | 2023-08-27 20:36:25.452000+00:00 | 2023-09-02 02:59:59+00:00 |\n",
       "|  3 | dml         | 2023-08-29 20:36:25.452000+00:00 | 2023-09-04 02:59:59+00:00 |\n",
       "|  4 | agg_join    | 2023-09-03 03:00:00+00:00        | 2023-09-09 02:59:59+00:00 |"
      ],
      "text/plain": [
       "<IPython.core.display.Markdown object>"
      ]
     },
     "metadata": {},
     "output_type": "display_data"
    }
   ],
   "source": [
    "iaj.tasks()"
   ]
  },
  {
   "cell_type": "code",
   "execution_count": 11,
   "id": "3f2e0cf6",
   "metadata": {},
   "outputs": [
    {
     "data": {
      "text/markdown": [
       "|    | Atividade   | Exercício   |   Peso |   Nota |\n",
       "|---:|:------------|:------------|-------:|-------:|\n",
       "|  0 | newborn     | ex01        |      1 |     10 |"
      ],
      "text/plain": [
       "<IPython.core.display.Markdown object>"
      ]
     },
     "metadata": {},
     "output_type": "display_data"
    }
   ],
   "source": [
    "iaj.grades(task='newborn')"
   ]
  },
  {
   "cell_type": "code",
   "execution_count": 12,
   "id": "3367239a",
   "metadata": {},
   "outputs": [
    {
     "data": {
      "text/markdown": [
       "|    | Tarefa   |   Nota |\n",
       "|---:|:---------|-------:|\n",
       "|  0 | newborn  |     10 |"
      ],
      "text/plain": [
       "<IPython.core.display.Markdown object>"
      ]
     },
     "metadata": {},
     "output_type": "display_data"
    }
   ],
   "source": [
    "iaj.grades(by='TASK', task='newborn')"
   ]
  }
 ],
 "metadata": {
  "kernelspec": {
   "display_name": "Python 3 (ipykernel)",
   "language": "python",
   "name": "python3"
  },
  "language_info": {
   "codemirror_mode": {
    "name": "ipython",
    "version": 3
   },
   "file_extension": ".py",
   "mimetype": "text/x-python",
   "name": "python",
   "nbconvert_exporter": "python",
   "pygments_lexer": "ipython3",
   "version": "3.9.17"
  }
 },
 "nbformat": 4,
 "nbformat_minor": 5
}
