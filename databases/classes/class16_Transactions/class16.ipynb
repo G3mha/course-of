{
 "cells": [
  {
   "cell_type": "markdown",
   "metadata": {},
   "source": [
    "# Transactions"
   ]
  },
  {
   "cell_type": "markdown",
   "metadata": {},
   "source": [
    "Desejamos construir uma aplicação de empréstimos peer-to-peer simples. Nesta aplicação os usuários podem:\n",
    " \n",
    "- Depositar uma certa quantia em sua conta;\n",
    "- Sacar da conta, desde que tenham saldo;\n",
    "- Criar um \"emprestimo\" (mais como uma linha de credito, realmente) entre dois usuarios\n",
    "- Pagar (parcial ou totalmente) um emprestimo\n",
    "- Tomar mais dinheiro ainda de um emprestimo (ou linha de credito)\n",
    "\n",
    "Mais ainda, temos o requisito de que todas as operações devem ser armazenadas no banco de dados.\n",
    "\n",
    "Vamos agrupar esses requerimentos como segue:\n",
    "\n",
    "- Movimentação de conta: depositar ou sacar da conta;\n",
    "- Criação de empréstimo;\n",
    "- Operação em empréstimo: adicionar valor (como quando o devedor saca da linha de credito, ou quando os juros são computados), remover valor (como quando o devedor paga alguma quantia).\n",
    "\n",
    "A modelagem relacional deste problema resultou no seguinte diagrama:\n",
    "\n",
    "<img src='diagrama.png' alt='Diagrama do modelo relacional' style='width: 500px;'/>\n",
    "\n",
    "\n",
    "que traduzimos no script de criação da base de dados como segue:\n",
    "\n",
    "---\n",
    "```SQL\n",
    "DROP DATABASE IF EXISTS emprestimos;\n",
    "CREATE DATABASE emprestimos;\n",
    "USE emprestimos;\n",
    "\n",
    "CREATE TABLE usuario (\n",
    "    id_usuario INT NOT NULL AUTO_INCREMENT,\n",
    "    nome VARCHAR(80) NOT NULL,\n",
    "    sobrenome VARCHAR(80) NOT NULL,\n",
    "    saldo DECIMAL(30 , 2 ) NOT NULL DEFAULT 0.0,\n",
    "    PRIMARY KEY (id_usuario),\n",
    "    CONSTRAINT c_saldo CHECK (saldo >= 0.0)\n",
    ");\n",
    "\n",
    "CREATE TABLE emprestimo (\n",
    "    id_emprestimo INT NOT NULL AUTO_INCREMENT,\n",
    "    id_credor INT NOT NULL,\n",
    "    id_devedor INT NOT NULL,\n",
    "    valor_atual DECIMAL(30 , 2 ) NOT NULL DEFAULT 0.0,\n",
    "    data_inicio DATETIME NOT NULL DEFAULT CURRENT_TIMESTAMP,\n",
    "    data_modificação DATETIME NOT NULL DEFAULT CURRENT_TIMESTAMP ON UPDATE CURRENT_TIMESTAMP,\n",
    "    PRIMARY KEY (id_emprestimo),\n",
    "    CONSTRAINT fk_credor FOREIGN KEY (id_credor)\n",
    "        REFERENCES usuario (id_usuario),\n",
    "    CONSTRAINT fk_devedor FOREIGN KEY (id_devedor)\n",
    "        REFERENCES usuario (id_usuario),\n",
    "    CONSTRAINT c_valor CHECK (valor_atual >= 0.0)\n",
    ");\n",
    "\n",
    "CREATE TABLE operacao (\n",
    "    id_operacao INT NOT NULL AUTO_INCREMENT,\n",
    "    id_emprestimo INT NOT NULL,\n",
    "    valor DECIMAL(30 , 2 ),\n",
    "    data_operacao DATETIME NOT NULL DEFAULT CURRENT_TIMESTAMP,\n",
    "    PRIMARY KEY (id_operacao),\n",
    "    CONSTRAINT fk_emprestimo FOREIGN KEY (id_emprestimo)\n",
    "        REFERENCES emprestimo (id_emprestimo)\n",
    ");\n",
    "\n",
    "CREATE TABLE movimentacao (\n",
    "    id_movimentacao INT NOT NULL AUTO_INCREMENT,\n",
    "    id_usuario INT NOT NULL,\n",
    "    valor DECIMAL(30 , 2 ),\n",
    "    data_operacao DATETIME NOT NULL DEFAULT CURRENT_TIMESTAMP,\n",
    "    PRIMARY KEY (id_movimentacao),\n",
    "    CONSTRAINT fk_usuario FOREIGN KEY (id_usuario)\n",
    "        REFERENCES usuario (id_usuario)\n",
    ");\n",
    "\n",
    "```\n",
    "---\n",
    "\n",
    "Rode esse script ('`emprestimos.sql`') para criar a base de dados no MySQL. Vamos também trazer o código de conexão à base de dados:"
   ]
  },
  {
   "cell_type": "code",
   "execution_count": 24,
   "metadata": {},
   "outputs": [],
   "source": [
    "import mysql.connector\n",
    "import os\n",
    "from functools import partial\n",
    "from dotenv import load_dotenv"
   ]
  },
  {
   "cell_type": "code",
   "execution_count": 25,
   "metadata": {},
   "outputs": [],
   "source": [
    "load_dotenv(override=True)\n",
    "\n",
    "def get_connection_helper():\n",
    "\n",
    "    def run_db_query(connection, query, args=None, verbose=True):\n",
    "        with connection.cursor() as cursor:\n",
    "            if verbose:\n",
    "                print('Executando query:')\n",
    "            cursor.execute(query, args)\n",
    "            for result in cursor:\n",
    "                if verbose:\n",
    "                    print(result)\n",
    "\n",
    "    connection = mysql.connector.connect(\n",
    "        host=os.getenv('MD_DB_SERVER'),\n",
    "        user=os.getenv('MD_DB_USERNAME'),\n",
    "        password=os.getenv('MD_DB_PASSWORD'),\n",
    "        database='emprestimos',\n",
    "    )\n",
    "    return connection, partial(run_db_query, connection)\n",
    "\n",
    "\n",
    "connection, db = get_connection_helper()"
   ]
  },
  {
   "cell_type": "markdown",
   "metadata": {
    "tags": []
   },
   "source": [
    "## Transactions"
   ]
  },
  {
   "cell_type": "markdown",
   "metadata": {},
   "source": [
    "Uma *transação* é um grupo de operações na base de dados, em uma dada *sessão*. Vamos conhecer o conceito de transação com as atividades a seguir."
   ]
  },
  {
   "cell_type": "markdown",
   "metadata": {},
   "source": [
    "### `COMMIT`"
   ]
  },
  {
   "cell_type": "markdown",
   "metadata": {},
   "source": [
    "Vamos gerar alguns usuários na nossa base:"
   ]
  },
  {
   "cell_type": "code",
   "execution_count": 26,
   "metadata": {},
   "outputs": [
    {
     "name": "stdout",
     "output_type": "stream",
     "text": [
      "Executando query:\n"
     ]
    },
    {
     "ename": "IntegrityError",
     "evalue": "1062 (23000): Duplicate entry '1' for key 'usuario.PRIMARY'",
     "output_type": "error",
     "traceback": [
      "\u001b[0;31m---------------------------------------------------------------------------\u001b[0m",
      "\u001b[0;31mMySQLInterfaceError\u001b[0m                       Traceback (most recent call last)",
      "File \u001b[0;32m/opt/homebrew/lib/python3.9/site-packages/mysql/connector/connection_cext.py:633\u001b[0m, in \u001b[0;36mCMySQLConnection.cmd_query\u001b[0;34m(self, query, raw, buffered, raw_as_string)\u001b[0m\n\u001b[1;32m    632\u001b[0m         query \u001b[39m=\u001b[39m query\u001b[39m.\u001b[39mencode(\u001b[39m\"\u001b[39m\u001b[39mutf-8\u001b[39m\u001b[39m\"\u001b[39m)\n\u001b[0;32m--> 633\u001b[0m     \u001b[39mself\u001b[39;49m\u001b[39m.\u001b[39;49m_cmysql\u001b[39m.\u001b[39;49mquery(\n\u001b[1;32m    634\u001b[0m         query,\n\u001b[1;32m    635\u001b[0m         raw\u001b[39m=\u001b[39;49mraw,\n\u001b[1;32m    636\u001b[0m         buffered\u001b[39m=\u001b[39;49mbuffered,\n\u001b[1;32m    637\u001b[0m         raw_as_string\u001b[39m=\u001b[39;49mraw_as_string,\n\u001b[1;32m    638\u001b[0m         query_attrs\u001b[39m=\u001b[39;49m\u001b[39mself\u001b[39;49m\u001b[39m.\u001b[39;49mquery_attrs,\n\u001b[1;32m    639\u001b[0m     )\n\u001b[1;32m    640\u001b[0m \u001b[39mexcept\u001b[39;00m MySQLInterfaceError \u001b[39mas\u001b[39;00m err:\n",
      "\u001b[0;31mMySQLInterfaceError\u001b[0m: Duplicate entry '1' for key 'usuario.PRIMARY'",
      "\nThe above exception was the direct cause of the following exception:\n",
      "\u001b[0;31mIntegrityError\u001b[0m                            Traceback (most recent call last)",
      "\u001b[1;32m/Users/enriccogemha/Developer/courses-at-Insper/databases/classes/class16_Transactions/class16.ipynb Célula 9\u001b[0m line \u001b[0;36m1\n\u001b[0;32m----> <a href='vscode-notebook-cell:/Users/enriccogemha/Developer/courses-at-Insper/databases/classes/class16_Transactions/class16.ipynb#X11sZmlsZQ%3D%3D?line=0'>1</a>\u001b[0m db(\u001b[39m'''\u001b[39;49m\n\u001b[1;32m      <a href='vscode-notebook-cell:/Users/enriccogemha/Developer/courses-at-Insper/databases/classes/class16_Transactions/class16.ipynb#X11sZmlsZQ%3D%3D?line=1'>2</a>\u001b[0m \u001b[39mINSERT INTO usuario (id_usuario, nome, sobrenome) VALUES\u001b[39;49m\n\u001b[1;32m      <a href='vscode-notebook-cell:/Users/enriccogemha/Developer/courses-at-Insper/databases/classes/class16_Transactions/class16.ipynb#X11sZmlsZQ%3D%3D?line=2'>3</a>\u001b[0m \u001b[39m    (1, \u001b[39;49m\u001b[39m'\u001b[39;49m\u001b[39mJuca\u001b[39;49m\u001b[39m'\u001b[39;49m\u001b[39m, \u001b[39;49m\u001b[39m'\u001b[39;49m\u001b[39mSilva\u001b[39;49m\u001b[39m'\u001b[39;49m\u001b[39m), \u001b[39;49m\n\u001b[1;32m      <a href='vscode-notebook-cell:/Users/enriccogemha/Developer/courses-at-Insper/databases/classes/class16_Transactions/class16.ipynb#X11sZmlsZQ%3D%3D?line=3'>4</a>\u001b[0m \u001b[39m    (2, \u001b[39;49m\u001b[39m'\u001b[39;49m\u001b[39mMario\u001b[39;49m\u001b[39m'\u001b[39;49m\u001b[39m, \u001b[39;49m\u001b[39m'\u001b[39;49m\u001b[39mFerreira\u001b[39;49m\u001b[39m'\u001b[39;49m\u001b[39m), \u001b[39;49m\n\u001b[1;32m      <a href='vscode-notebook-cell:/Users/enriccogemha/Developer/courses-at-Insper/databases/classes/class16_Transactions/class16.ipynb#X11sZmlsZQ%3D%3D?line=4'>5</a>\u001b[0m \u001b[39m    (3, \u001b[39;49m\u001b[39m'\u001b[39;49m\u001b[39mAna\u001b[39;49m\u001b[39m'\u001b[39;49m\u001b[39m, \u001b[39;49m\u001b[39m'\u001b[39;49m\u001b[39mSoares\u001b[39;49m\u001b[39m'\u001b[39;49m\u001b[39m), \u001b[39;49m\n\u001b[1;32m      <a href='vscode-notebook-cell:/Users/enriccogemha/Developer/courses-at-Insper/databases/classes/class16_Transactions/class16.ipynb#X11sZmlsZQ%3D%3D?line=5'>6</a>\u001b[0m \u001b[39m    (4, \u001b[39;49m\u001b[39m'\u001b[39;49m\u001b[39mAntonio\u001b[39;49m\u001b[39m'\u001b[39;49m\u001b[39m, \u001b[39;49m\u001b[39m'\u001b[39;49m\u001b[39mReis\u001b[39;49m\u001b[39m'\u001b[39;49m\u001b[39m), \u001b[39;49m\n\u001b[1;32m      <a href='vscode-notebook-cell:/Users/enriccogemha/Developer/courses-at-Insper/databases/classes/class16_Transactions/class16.ipynb#X11sZmlsZQ%3D%3D?line=6'>7</a>\u001b[0m \u001b[39m    (5, \u001b[39;49m\u001b[39m'\u001b[39;49m\u001b[39mPaulo\u001b[39;49m\u001b[39m'\u001b[39;49m\u001b[39m, \u001b[39;49m\u001b[39m'\u001b[39;49m\u001b[39mOliveira\u001b[39;49m\u001b[39m'\u001b[39;49m\u001b[39m)\u001b[39;49m\n\u001b[1;32m      <a href='vscode-notebook-cell:/Users/enriccogemha/Developer/courses-at-Insper/databases/classes/class16_Transactions/class16.ipynb#X11sZmlsZQ%3D%3D?line=7'>8</a>\u001b[0m \u001b[39m'''\u001b[39;49m)\n",
      "\u001b[1;32m/Users/enriccogemha/Developer/courses-at-Insper/databases/classes/class16_Transactions/class16.ipynb Célula 9\u001b[0m line \u001b[0;36m9\n\u001b[1;32m      <a href='vscode-notebook-cell:/Users/enriccogemha/Developer/courses-at-Insper/databases/classes/class16_Transactions/class16.ipynb#X11sZmlsZQ%3D%3D?line=6'>7</a>\u001b[0m \u001b[39mif\u001b[39;00m verbose:\n\u001b[1;32m      <a href='vscode-notebook-cell:/Users/enriccogemha/Developer/courses-at-Insper/databases/classes/class16_Transactions/class16.ipynb#X11sZmlsZQ%3D%3D?line=7'>8</a>\u001b[0m     \u001b[39mprint\u001b[39m(\u001b[39m'\u001b[39m\u001b[39mExecutando query:\u001b[39m\u001b[39m'\u001b[39m)\n\u001b[0;32m----> <a href='vscode-notebook-cell:/Users/enriccogemha/Developer/courses-at-Insper/databases/classes/class16_Transactions/class16.ipynb#X11sZmlsZQ%3D%3D?line=8'>9</a>\u001b[0m cursor\u001b[39m.\u001b[39;49mexecute(query, args)\n\u001b[1;32m     <a href='vscode-notebook-cell:/Users/enriccogemha/Developer/courses-at-Insper/databases/classes/class16_Transactions/class16.ipynb#X11sZmlsZQ%3D%3D?line=9'>10</a>\u001b[0m \u001b[39mfor\u001b[39;00m result \u001b[39min\u001b[39;00m cursor:\n\u001b[1;32m     <a href='vscode-notebook-cell:/Users/enriccogemha/Developer/courses-at-Insper/databases/classes/class16_Transactions/class16.ipynb#X11sZmlsZQ%3D%3D?line=10'>11</a>\u001b[0m     \u001b[39mif\u001b[39;00m verbose:\n",
      "File \u001b[0;32m/opt/homebrew/lib/python3.9/site-packages/mysql/connector/cursor_cext.py:330\u001b[0m, in \u001b[0;36mCMySQLCursor.execute\u001b[0;34m(self, operation, params, multi)\u001b[0m\n\u001b[1;32m    325\u001b[0m             \u001b[39mraise\u001b[39;00m ProgrammingError(\n\u001b[1;32m    326\u001b[0m                 \u001b[39m\"\u001b[39m\u001b[39mNot all parameters were used in the SQL statement\u001b[39m\u001b[39m\"\u001b[39m\n\u001b[1;32m    327\u001b[0m             )\n\u001b[1;32m    329\u001b[0m \u001b[39mtry\u001b[39;00m:\n\u001b[0;32m--> 330\u001b[0m     result \u001b[39m=\u001b[39m \u001b[39mself\u001b[39;49m\u001b[39m.\u001b[39;49m_cnx\u001b[39m.\u001b[39;49mcmd_query(\n\u001b[1;32m    331\u001b[0m         stmt,\n\u001b[1;32m    332\u001b[0m         raw\u001b[39m=\u001b[39;49m\u001b[39mself\u001b[39;49m\u001b[39m.\u001b[39;49m_raw,\n\u001b[1;32m    333\u001b[0m         buffered\u001b[39m=\u001b[39;49m\u001b[39mself\u001b[39;49m\u001b[39m.\u001b[39;49m_buffered,\n\u001b[1;32m    334\u001b[0m         raw_as_string\u001b[39m=\u001b[39;49m\u001b[39mself\u001b[39;49m\u001b[39m.\u001b[39;49m_raw_as_string,\n\u001b[1;32m    335\u001b[0m     )\n\u001b[1;32m    336\u001b[0m \u001b[39mexcept\u001b[39;00m MySQLInterfaceError \u001b[39mas\u001b[39;00m err:\n\u001b[1;32m    337\u001b[0m     \u001b[39mraise\u001b[39;00m get_mysql_exception(\n\u001b[1;32m    338\u001b[0m         msg\u001b[39m=\u001b[39merr\u001b[39m.\u001b[39mmsg, errno\u001b[39m=\u001b[39merr\u001b[39m.\u001b[39merrno, sqlstate\u001b[39m=\u001b[39merr\u001b[39m.\u001b[39msqlstate\n\u001b[1;32m    339\u001b[0m     ) \u001b[39mfrom\u001b[39;00m \u001b[39merr\u001b[39;00m\n",
      "File \u001b[0;32m/opt/homebrew/lib/python3.9/site-packages/mysql/connector/opentelemetry/context_propagation.py:77\u001b[0m, in \u001b[0;36mwith_context_propagation.<locals>.wrapper\u001b[0;34m(cnx, *args, **kwargs)\u001b[0m\n\u001b[1;32m     75\u001b[0m \u001b[39m\u001b[39m\u001b[39m\"\"\"Context propagation decorator.\"\"\"\u001b[39;00m\n\u001b[1;32m     76\u001b[0m \u001b[39mif\u001b[39;00m \u001b[39mnot\u001b[39;00m OTEL_ENABLED \u001b[39mor\u001b[39;00m \u001b[39mnot\u001b[39;00m cnx\u001b[39m.\u001b[39motel_context_propagation:\n\u001b[0;32m---> 77\u001b[0m     \u001b[39mreturn\u001b[39;00m method(cnx, \u001b[39m*\u001b[39;49margs, \u001b[39m*\u001b[39;49m\u001b[39m*\u001b[39;49mkwargs)\n\u001b[1;32m     79\u001b[0m current_span \u001b[39m=\u001b[39m trace\u001b[39m.\u001b[39mget_current_span()\n\u001b[1;32m     80\u001b[0m tp_header \u001b[39m=\u001b[39m \u001b[39mNone\u001b[39;00m\n",
      "File \u001b[0;32m/opt/homebrew/lib/python3.9/site-packages/mysql/connector/connection_cext.py:641\u001b[0m, in \u001b[0;36mCMySQLConnection.cmd_query\u001b[0;34m(self, query, raw, buffered, raw_as_string)\u001b[0m\n\u001b[1;32m    633\u001b[0m     \u001b[39mself\u001b[39m\u001b[39m.\u001b[39m_cmysql\u001b[39m.\u001b[39mquery(\n\u001b[1;32m    634\u001b[0m         query,\n\u001b[1;32m    635\u001b[0m         raw\u001b[39m=\u001b[39mraw,\n\u001b[0;32m   (...)\u001b[0m\n\u001b[1;32m    638\u001b[0m         query_attrs\u001b[39m=\u001b[39m\u001b[39mself\u001b[39m\u001b[39m.\u001b[39mquery_attrs,\n\u001b[1;32m    639\u001b[0m     )\n\u001b[1;32m    640\u001b[0m \u001b[39mexcept\u001b[39;00m MySQLInterfaceError \u001b[39mas\u001b[39;00m err:\n\u001b[0;32m--> 641\u001b[0m     \u001b[39mraise\u001b[39;00m get_mysql_exception(\n\u001b[1;32m    642\u001b[0m         err\u001b[39m.\u001b[39merrno, msg\u001b[39m=\u001b[39merr\u001b[39m.\u001b[39mmsg, sqlstate\u001b[39m=\u001b[39merr\u001b[39m.\u001b[39msqlstate\n\u001b[1;32m    643\u001b[0m     ) \u001b[39mfrom\u001b[39;00m \u001b[39merr\u001b[39;00m\n\u001b[1;32m    644\u001b[0m \u001b[39mexcept\u001b[39;00m \u001b[39mAttributeError\u001b[39;00m \u001b[39mas\u001b[39;00m err:\n\u001b[1;32m    645\u001b[0m     addr \u001b[39m=\u001b[39m (\n\u001b[1;32m    646\u001b[0m         \u001b[39mself\u001b[39m\u001b[39m.\u001b[39m_unix_socket \u001b[39mif\u001b[39;00m \u001b[39mself\u001b[39m\u001b[39m.\u001b[39m_unix_socket \u001b[39melse\u001b[39;00m \u001b[39mf\u001b[39m\u001b[39m\"\u001b[39m\u001b[39m{\u001b[39;00m\u001b[39mself\u001b[39m\u001b[39m.\u001b[39m_host\u001b[39m}\u001b[39;00m\u001b[39m:\u001b[39m\u001b[39m{\u001b[39;00m\u001b[39mself\u001b[39m\u001b[39m.\u001b[39m_port\u001b[39m}\u001b[39;00m\u001b[39m\"\u001b[39m\n\u001b[1;32m    647\u001b[0m     )\n",
      "\u001b[0;31mIntegrityError\u001b[0m: 1062 (23000): Duplicate entry '1' for key 'usuario.PRIMARY'"
     ]
    }
   ],
   "source": [
    "db('''\n",
    "INSERT INTO usuario (id_usuario, nome, sobrenome) VALUES\n",
    "    (1, 'Juca', 'Silva'), \n",
    "    (2, 'Mario', 'Ferreira'), \n",
    "    (3, 'Ana', 'Soares'), \n",
    "    (4, 'Antonio', 'Reis'), \n",
    "    (5, 'Paulo', 'Oliveira')\n",
    "''')"
   ]
  },
  {
   "cell_type": "markdown",
   "metadata": {},
   "source": [
    "Vamos verificar se os usuários foram inseridos:"
   ]
  },
  {
   "cell_type": "code",
   "execution_count": 27,
   "metadata": {
    "scrolled": true
   },
   "outputs": [
    {
     "name": "stdout",
     "output_type": "stream",
     "text": [
      "Executando query:\n",
      "(1, 'Juca', 'Silva', Decimal('0.00'))\n",
      "(2, 'Mario', 'Ferreira', Decimal('0.00'))\n",
      "(3, 'Ana', 'Soares', Decimal('0.00'))\n",
      "(4, 'Antonio', 'Reis', Decimal('0.00'))\n",
      "(5, 'Paulo', 'Oliveira', Decimal('0.00'))\n"
     ]
    }
   ],
   "source": [
    "db('SELECT * FROM usuario')"
   ]
  },
  {
   "cell_type": "markdown",
   "metadata": {},
   "source": [
    "Excelente, parece que deu tudo certo! Agora vamos verificar diretamente no MySQL Workbench, só para ter certeza:\n",
    "\n",
    "```SQL\n",
    "SELECT * FROM usuario;\n",
    "```\n",
    "\n",
    "<img src='usuarios_null.png' alt='Nenhum usuario na tabela!' style='width: 400px;'/>"
   ]
  },
  {
   "cell_type": "markdown",
   "metadata": {},
   "source": [
    "Epa, cade os usuarios?\n",
    "\n",
    "Para entender o que aconteceu, precisamos compreender melhor como funciona uma conexão com o banco de dados. Quando criamos um objeto de conexão, estamos iniciando uma *sessão* do banco de dados. Em uma sessão as várias operações sendo realizadas configuram uma *transação*. \n",
    "\n",
    "As transações não são efetuadas diretamente no armazenamento permanente, a não ser que o banco tenha a propriedade de *'auto-commit'*. Vamos verificar se esse é o caso na nossa conexão:"
   ]
  },
  {
   "cell_type": "code",
   "execution_count": 28,
   "metadata": {},
   "outputs": [
    {
     "name": "stdout",
     "output_type": "stream",
     "text": [
      "False\n"
     ]
    }
   ],
   "source": [
    "print(connection.autocommit)"
   ]
  },
  {
   "cell_type": "markdown",
   "metadata": {},
   "source": [
    "Você deve ver o valor 'False' acima. Isso significa que devemos explicitamente indicar quando estamos satisfeitos com uma transação, para que os valores inseridos (ou removidos) sejam efetivamente registrados no banco de dados. Isso é feito através do comando `COMMIT`:"
   ]
  },
  {
   "cell_type": "code",
   "execution_count": 29,
   "metadata": {},
   "outputs": [
    {
     "name": "stdout",
     "output_type": "stream",
     "text": [
      "Executando query:\n"
     ]
    }
   ],
   "source": [
    "db('COMMIT')"
   ]
  },
  {
   "cell_type": "markdown",
   "metadata": {},
   "source": [
    "Agora consulte o banco de dados via MySQL Workbench (ou seja, usando uma sessão diferente da nossa):\n",
    "\n",
    "\n",
    "```SQL\n",
    "SELECT * FROM usuario;\n",
    "```\n",
    "\n",
    "<img src='usuarios_commit.png' alt='Agora tem usuario na tabela!' style='width: 400px;'/>\n",
    "\n",
    "Pronto, agora temos usuarios no nosso banco de dados!\n",
    "\n",
    "Outra forma de indicar o 'commit' da transação é usar o método `commit()` do objeto `connection`:\n",
    "\n",
    "```Python\n",
    "connection.commit()\n",
    "```"
   ]
  },
  {
   "cell_type": "markdown",
   "metadata": {},
   "source": [
    "### Atividade"
   ]
  },
  {
   "cell_type": "markdown",
   "metadata": {},
   "source": [
    "Crie os usuários 'Carla Nakamura' e 'Maria Fontana'."
   ]
  },
  {
   "cell_type": "code",
   "execution_count": 30,
   "metadata": {},
   "outputs": [
    {
     "name": "stdout",
     "output_type": "stream",
     "text": [
      "Executando query:\n"
     ]
    }
   ],
   "source": [
    "db('''\n",
    "INSERT INTO usuario (nome, sobrenome) VALUES\n",
    "    ('Carla', 'Nakamura'), \n",
    "    ('Maria', 'Fontana')\n",
    "''')"
   ]
  },
  {
   "cell_type": "markdown",
   "metadata": {},
   "source": [
    "### ROLLBACK"
   ]
  },
  {
   "cell_type": "markdown",
   "metadata": {},
   "source": [
    "Para efeito de testes, vamos inserir mais um usuario:"
   ]
  },
  {
   "cell_type": "code",
   "execution_count": 31,
   "metadata": {},
   "outputs": [
    {
     "name": "stdout",
     "output_type": "stream",
     "text": [
      "Executando query:\n"
     ]
    }
   ],
   "source": [
    "db('INSERT INTO usuario (nome, sobrenome) VALUES (\"Fernando\", \"Maia\")')"
   ]
  },
  {
   "cell_type": "markdown",
   "metadata": {},
   "source": [
    "Verificando o resultado da sessão, temos:"
   ]
  },
  {
   "cell_type": "code",
   "execution_count": 32,
   "metadata": {},
   "outputs": [
    {
     "name": "stdout",
     "output_type": "stream",
     "text": [
      "Executando query:\n",
      "(1, 'Juca', 'Silva', Decimal('0.00'))\n",
      "(2, 'Mario', 'Ferreira', Decimal('0.00'))\n",
      "(3, 'Ana', 'Soares', Decimal('0.00'))\n",
      "(4, 'Antonio', 'Reis', Decimal('0.00'))\n",
      "(5, 'Paulo', 'Oliveira', Decimal('0.00'))\n",
      "(15, 'Carla', 'Nakamura', Decimal('0.00'))\n",
      "(16, 'Maria', 'Fontana', Decimal('0.00'))\n",
      "(17, 'Fernando', 'Maia', Decimal('0.00'))\n"
     ]
    }
   ],
   "source": [
    "db('SELECT * FROM usuario')"
   ]
  },
  {
   "cell_type": "markdown",
   "metadata": {},
   "source": [
    "Agora, se executarmos o `COMMIT` a nossa modificação se tornará permanente. Porém suponha que estamos arrependidos, e não queremos prosseguir com o `COMMIT` da transação, o que fazer?\n",
    "\n",
    "Para abandonar as mudanças da transação atual, usamos o comando `ROLLBACK`:"
   ]
  },
  {
   "cell_type": "code",
   "execution_count": 33,
   "metadata": {
    "scrolled": true
   },
   "outputs": [
    {
     "name": "stdout",
     "output_type": "stream",
     "text": [
      "Executando query:\n"
     ]
    }
   ],
   "source": [
    "db('ROLLBACK')"
   ]
  },
  {
   "cell_type": "markdown",
   "metadata": {},
   "source": [
    "Verificando o estado do banco de dados na sessão atual temos:"
   ]
  },
  {
   "cell_type": "code",
   "execution_count": 34,
   "metadata": {},
   "outputs": [
    {
     "name": "stdout",
     "output_type": "stream",
     "text": [
      "Executando query:\n",
      "(1, 'Juca', 'Silva', Decimal('0.00'))\n",
      "(2, 'Mario', 'Ferreira', Decimal('0.00'))\n",
      "(3, 'Ana', 'Soares', Decimal('0.00'))\n",
      "(4, 'Antonio', 'Reis', Decimal('0.00'))\n",
      "(5, 'Paulo', 'Oliveira', Decimal('0.00'))\n"
     ]
    }
   ],
   "source": [
    "db('SELECT * FROM usuario')"
   ]
  },
  {
   "cell_type": "markdown",
   "metadata": {},
   "source": [
    "Observe que o *rollback* só volta até o último *commit*, e a repetição de *rollbacks* NÃO volta mais ainda para o passado! `COMMIT` e `ROLLBACK` são definitivos!\n",
    "\n",
    "O *rollback* pode ser obtido também com o método `rollback()` do objeto `connection`:\n",
    "\n",
    "```Python\n",
    "connection.rollback()\n",
    "```"
   ]
  },
  {
   "cell_type": "markdown",
   "metadata": {},
   "source": [
    "### Atividade"
   ]
  },
  {
   "cell_type": "markdown",
   "metadata": {},
   "source": [
    "Insira o usuario 'Walter Branco' mas não execute um `COMMIT`, e sim um `ROLLBACK`. Verifique que o `ROLLBACK` funcionou."
   ]
  },
  {
   "cell_type": "code",
   "execution_count": 35,
   "metadata": {},
   "outputs": [
    {
     "name": "stdout",
     "output_type": "stream",
     "text": [
      "Executando query:\n",
      "Executando query:\n",
      "(1, 'Juca', 'Silva', Decimal('0.00'))\n",
      "(2, 'Mario', 'Ferreira', Decimal('0.00'))\n",
      "(3, 'Ana', 'Soares', Decimal('0.00'))\n",
      "(4, 'Antonio', 'Reis', Decimal('0.00'))\n",
      "(5, 'Paulo', 'Oliveira', Decimal('0.00'))\n",
      "(18, 'Walter', 'Branco', Decimal('0.00'))\n",
      "Executando query:\n"
     ]
    }
   ],
   "source": [
    "db('INSERT INTO usuario (nome, sobrenome) VALUES (\"Walter\", \"Branco\")')\n",
    "db('SELECT * FROM usuario')\n",
    "db('ROLLBACK')"
   ]
  },
  {
   "cell_type": "markdown",
   "metadata": {},
   "source": [
    "### `START TRANSACTION`"
   ]
  },
  {
   "cell_type": "markdown",
   "metadata": {},
   "source": [
    "Para garantir que o banco de dados MySQL não está operando em modo *auto-commit* use o comando `START TRANSACTION`. Este comando garante que estamos iniciando uma transação sem *auto-commit*. Por exemplo:"
   ]
  },
  {
   "cell_type": "code",
   "execution_count": 36,
   "metadata": {},
   "outputs": [
    {
     "name": "stdout",
     "output_type": "stream",
     "text": [
      "Executando query:\n",
      "Executando query:\n",
      "Executando query:\n",
      "Executando query:\n",
      "(1, 'Juca', 'Silva', Decimal('0.00'))\n",
      "(2, 'Mario', 'Ferreira', Decimal('0.00'))\n",
      "(3, 'Ana', 'Soares', Decimal('0.00'))\n",
      "(4, 'Antonio', 'Reis', Decimal('0.00'))\n",
      "(5, 'Paulo', 'Oliveira', Decimal('0.00'))\n",
      "(19, 'Barack', 'Trump', Decimal('0.00'))\n"
     ]
    }
   ],
   "source": [
    "db('START TRANSACTION')\n",
    "db('INSERT INTO usuario (nome, sobrenome) VALUES (\"Barack\", \"Trump\")')\n",
    "db('COMMIT')\n",
    "db('SELECT * FROM usuario')"
   ]
  },
  {
   "cell_type": "markdown",
   "metadata": {},
   "source": [
    "Vamos reverter essa inserção em uma outra transação."
   ]
  },
  {
   "cell_type": "code",
   "execution_count": 37,
   "metadata": {},
   "outputs": [
    {
     "name": "stdout",
     "output_type": "stream",
     "text": [
      "Executando query:\n",
      "Executando query:\n",
      "Executando query:\n",
      "Executando query:\n",
      "Executando query:\n",
      "(1, 'Juca', 'Silva', Decimal('0.00'))\n",
      "(2, 'Mario', 'Ferreira', Decimal('0.00'))\n",
      "(3, 'Ana', 'Soares', Decimal('0.00'))\n",
      "(4, 'Antonio', 'Reis', Decimal('0.00'))\n",
      "(5, 'Paulo', 'Oliveira', Decimal('0.00'))\n"
     ]
    }
   ],
   "source": [
    "db('START TRANSACTION')\n",
    "db('''\n",
    "SELECT id_usuario INTO @id_usuario \n",
    "    FROM usuario \n",
    "    WHERE nome = 'Barack' AND sobrenome = 'Trump' \n",
    "    ORDER BY id_usuario DESC LIMIT 1;\n",
    "''')\n",
    "db('DELETE FROM usuario WHERE id_usuario=@id_usuario')\n",
    "db('COMMIT')\n",
    "db('SELECT * FROM usuario')"
   ]
  },
  {
   "cell_type": "markdown",
   "metadata": {},
   "source": [
    "### Usando `COMMIT` e `ROLLBACK` para garantir atomicidade de transações"
   ]
  },
  {
   "cell_type": "markdown",
   "metadata": {},
   "source": [
    "Vamos agora juntar os vários conceitos em um código Python para adicionar itens na tabela `emprestimo`. \n",
    "\n",
    "Como podemos ver no modelo E-R devemos informar os ids do credor e do devedor ao inserir uma nova linha nesta tabela, e estes ids devem ser ids válidos de clientes do nosso sistema. Logo, \n",
    "- se tentarmos inserir um emprestimo entre os usuarios 1 e 2 devemos ter sucesso, \n",
    "- mas se tentarmos inserir um emprestimo entre os usuarios 1 e 1000 devemos ter uma falha. \n",
    "\n",
    "Se ambos os comandos de inserção devem ser executados de modo 'tudo ou nada' (ou executam ambos, ou nenhum), parece que temos um caso ideal para aplicar transações aqui. A idéia é que se tudo acontecer sem problemas devemos executar um `COMMIT`, mas se algo der errado devemos excutar um `ROLLBACK`. Isso parece uma missão para `try`/`catch`!"
   ]
  },
  {
   "cell_type": "code",
   "execution_count": 38,
   "metadata": {
    "scrolled": true
   },
   "outputs": [
    {
     "name": "stdout",
     "output_type": "stream",
     "text": [
      "Executando query:\n",
      "Executando query:\n",
      "Executando query:\n",
      "1452 (23000): Cannot add or update a child row: a foreign key constraint fails (`emprestimos`.`emprestimo`, CONSTRAINT `fk_devedor` FOREIGN KEY (`id_devedor`) REFERENCES `usuario` (`id_usuario`))\n",
      "Executando query:\n"
     ]
    }
   ],
   "source": [
    "try:\n",
    "    db('START TRANSACTION')\n",
    "    db('INSERT INTO emprestimo (id_credor, id_devedor) VALUES (1, 2)')\n",
    "    db('INSERT INTO emprestimo (id_credor, id_devedor) VALUES (1, 1000)')\n",
    "    db('COMMIT')\n",
    "except Exception as e:\n",
    "    print(e)\n",
    "    db('ROLLBACK')"
   ]
  },
  {
   "cell_type": "code",
   "execution_count": 39,
   "metadata": {
    "scrolled": true
   },
   "outputs": [
    {
     "name": "stdout",
     "output_type": "stream",
     "text": [
      "Executando query:\n"
     ]
    }
   ],
   "source": [
    "db('SELECT * FROM emprestimo')"
   ]
  },
  {
   "cell_type": "markdown",
   "metadata": {},
   "source": [
    "### Atividade"
   ]
  },
  {
   "cell_type": "markdown",
   "metadata": {},
   "source": [
    "- Execute os depósitos abaixo:\n",
    "\n",
    "| usuario        | valor |\n",
    "|----------------|-------|\n",
    "| Ana Soares     | 10000 |\n",
    "| Antonio Reis   | 5000  |\n",
    "| Paulo Oliveira | 20000 |\n",
    "\n",
    "Dica: crie uma função `pega_id_usuario(connection, nome, sobrenome)` para achar o id de usuario, e uma função `deposito(connection, id_usuario, valor)` para facilitar a realização dos depósitos. Um depósito requer uma inserção na tabela de movimentações, e um update no saldo."
   ]
  },
  {
   "cell_type": "code",
   "execution_count": 40,
   "metadata": {},
   "outputs": [],
   "source": [
    "def pega_id_usuario(connection, nome, sobrenome):\n",
    "    with connection.cursor() as cursor:\n",
    "        try:\n",
    "            cursor.execute(f'''\n",
    "                SELECT id_usuario FROM usuario \n",
    "                    WHERE nome = {nome} AND sobrenome = {sobrenome} \n",
    "                    ORDER BY id_usuario DESC LIMIT 1;\n",
    "            ''')\n",
    "            result = cursor.fetchone()\n",
    "            return result[0]\n",
    "        except:\n",
    "            connection.rollback()\n",
    "            return None\n",
    "        \n",
    "def deposito(connection, id_usuario, valor):\n",
    "    with connection.cursor() as cursor:\n",
    "        try:\n",
    "            cursor.execute(f'''\n",
    "                INSERT INTO movimentacao (id_usuario, valor) VALUES\n",
    "                    ({id_usuario}, {valor});\n",
    "            ''')\n",
    "            cursor.execute(f'''\n",
    "                UPDATE usuario SET saldo = saldo + {valor} \n",
    "                    WHERE id_usuario = {id_usuario};\n",
    "            ''')\n",
    "            result = cursor.fetchone()\n",
    "            return result[0]\n",
    "        except:\n",
    "            connection.rollback()\n",
    "            return None\n"
   ]
  },
  {
   "cell_type": "markdown",
   "metadata": {},
   "source": [
    "- Crie funções para consulta de saldo de conta e de valor atual de emprestimo"
   ]
  },
  {
   "cell_type": "code",
   "execution_count": 41,
   "metadata": {},
   "outputs": [],
   "source": [
    "def consulta_saldo(connection, id_usuario):\n",
    "    with connection.cursor() as cursor:\n",
    "        try:\n",
    "            cursor.execute(f'''\n",
    "                SELECT saldo FROM usuario WHERE id_usuario = {id_usuario};\n",
    "            ''')\n",
    "            result = cursor.fetchone()\n",
    "            return result[0]\n",
    "        except:\n",
    "            connection.rollback()\n",
    "            return None\n",
    "        \n",
    "def consulta_valor_emprestimo(connection, id_emprestimo):\n",
    "    with connection.cursor() as cursor:\n",
    "        try:\n",
    "            cursor.execute(f'''\n",
    "                SELECT valor FROM emprestimo WHERE id_emprestimo = {id_emprestimo};\n",
    "            ''')\n",
    "            result = cursor.fetchone()\n",
    "            return result[0]\n",
    "        except:\n",
    "            connection.rollback()\n",
    "            return None"
   ]
  },
  {
   "cell_type": "code",
   "execution_count": 42,
   "metadata": {},
   "outputs": [],
   "source": [
    "id1 = pega_id_usuario(connection, 'Ana', 'Soares')\n",
    "id2 = pega_id_usuario(connection, 'Antonio', 'Reis')\n",
    "id3 = pega_id_usuario(connection, 'Paulo', 'Oliveira')\n",
    "deposito(connection, id1, 10000)\n",
    "deposito(connection, id2, 5000)\n",
    "deposito(connection, id3, 20000)"
   ]
  },
  {
   "cell_type": "markdown",
   "metadata": {},
   "source": [
    "- Crie os seguintes contratos de emprestimo:\n",
    "\n",
    "\n",
    "| Credor | Devedor | valor |\n",
    "|--|--|--|\n",
    "| Ana Soares | Juca Silva | 1000 |\n",
    "| Ana Soares | Antonio Reis | 2000 |\n",
    "| Paulo Oliveira | Juca Silva | 3000 |\n",
    "\n",
    "Não se esqueça que um contrato de emprestimo requer:\n",
    "- criação do emprestimo\n",
    "- operação de emprestimo inicial\n",
    "    - operação de saque da conta do credor\n",
    "    - operacao de deposito na conta do devedor\n",
    "    \n",
    "Use o comando `SELECT LAST_INSERT_ID()` para pegar o id do último item inserido.\n",
    "\n",
    "Dica:\n",
    "- Crie uma função para criar um empréstimo de valor zero, que retorne o id do emprestimo.\n",
    "- Crie uma função para realizar um saque. Se não for possível fazer o saque, lance uma exceção.\n",
    "- Crie uma função para efetuar uma operação em um empréstimo dado - isso inclui fazer o saque e o depósito também."
   ]
  },
  {
   "cell_type": "code",
   "execution_count": null,
   "metadata": {},
   "outputs": [],
   "source": [
    "def cria_emprestimo_zero(connection, id_usuario):\n",
    "    with connection.cursor() as cursor:\n",
    "        try:\n",
    "            cursor.execute(f'''\n",
    "                INSERT INTO emprestimo (id_credor, id_devedor) VALUES\n",
    "                    ({id_usuario}, {id_usuario});\n",
    "            ''')\n",
    "            cursor.execute(f'''\n",
    "                INSERT INTO operacao (id_emprestimo, valor) VALUES\n",
    "            ''')\n",
    "            id_emprestimo = cursor.execute(f'''\n",
    "                SELECT LAST_INSERT_ID();\n",
    "            ''')\n",
    "            return id_emprestimo\n",
    "        except:\n",
    "            connection.rollback()\n",
    "            return None"
   ]
  },
  {
   "cell_type": "markdown",
   "metadata": {},
   "source": [
    "Por hoje é só!"
   ]
  },
  {
   "cell_type": "code",
   "execution_count": null,
   "metadata": {},
   "outputs": [],
   "source": [
    "connection.close()"
   ]
  },
  {
   "cell_type": "code",
   "execution_count": null,
   "metadata": {},
   "outputs": [],
   "source": []
  }
 ],
 "metadata": {
  "kernelspec": {
   "display_name": "Python 3 (ipykernel)",
   "language": "python",
   "name": "python3"
  },
  "language_info": {
   "codemirror_mode": {
    "name": "ipython",
    "version": 3
   },
   "file_extension": ".py",
   "mimetype": "text/x-python",
   "name": "python",
   "nbconvert_exporter": "python",
   "pygments_lexer": "ipython3",
   "version": "3.9.17"
  }
 },
 "nbformat": 4,
 "nbformat_minor": 4
}
