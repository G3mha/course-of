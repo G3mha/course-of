{
 "cells": [
  {
   "cell_type": "markdown",
   "id": "eccb9973",
   "metadata": {},
   "source": [
    "# Insper Autograding\n",
    "\n",
    "Siga os passos deste notebook para realizar a instalação da biblioteca de correção de exercícios nos notebooks da disciplina de Megadados!\n",
    "\n",
    "## Instalação\n",
    "\n",
    "Vamos instalar a biblioteca:"
   ]
  },
  {
   "cell_type": "code",
   "execution_count": 1,
   "id": "f8da2455",
   "metadata": {},
   "outputs": [
    {
     "name": "stdout",
     "output_type": "stream",
     "text": [
      "\u001b[33mWARNING: Skipping insperautograder as it is not installed.\u001b[0m\u001b[33m\n",
      "\u001b[0mCollecting git+https://github.com/macielcalebe/insperautograding.git\n",
      "  Cloning https://github.com/macielcalebe/insperautograding.git to /private/var/folders/x3/bbk8nj6s67s9nv5gvt6q6gxh0000gn/T/pip-req-build-f1plxt3g\n",
      "  Running command git clone --filter=blob:none --quiet https://github.com/macielcalebe/insperautograding.git /private/var/folders/x3/bbk8nj6s67s9nv5gvt6q6gxh0000gn/T/pip-req-build-f1plxt3g\n",
      "  Resolved https://github.com/macielcalebe/insperautograding.git to commit acdda51152774d9e1a979b426e41daa7a8a7793c\n",
      "  Installing build dependencies ... \u001b[?25ldone\n",
      "\u001b[?25h  Getting requirements to build wheel ... \u001b[?25ldone\n",
      "\u001b[?25h  Preparing metadata (pyproject.toml) ... \u001b[?25ldone\n",
      "\u001b[?25hCollecting python-dotenv (from insperautograder==0.2.0)\n",
      "  Using cached python_dotenv-1.0.0-py3-none-any.whl (19 kB)\n",
      "Collecting requests (from insperautograder==0.2.0)\n",
      "  Obtaining dependency information for requests from https://files.pythonhosted.org/packages/70/8e/0e2d847013cb52cd35b38c009bb167a1a26b2ce6cd6965bf26b47bc0bf44/requests-2.31.0-py3-none-any.whl.metadata\n",
      "  Using cached requests-2.31.0-py3-none-any.whl.metadata (4.6 kB)\n",
      "Requirement already satisfied: ipython in /Users/enriccogemha/Developer/courses-at-Insper/databases/venv/lib/python3.12/site-packages (from insperautograder==0.2.0) (8.17.2)\n",
      "Collecting ipywidgets (from insperautograder==0.2.0)\n",
      "  Obtaining dependency information for ipywidgets from https://files.pythonhosted.org/packages/4a/0e/57ed498fafbc60419a9332d872e929879ceba2d73cb11d284d7112472b3e/ipywidgets-8.1.1-py3-none-any.whl.metadata\n",
      "  Downloading ipywidgets-8.1.1-py3-none-any.whl.metadata (2.4 kB)\n",
      "Requirement already satisfied: decorator in /Users/enriccogemha/Developer/courses-at-Insper/databases/venv/lib/python3.12/site-packages (from ipython->insperautograder==0.2.0) (5.1.1)\n",
      "Requirement already satisfied: jedi>=0.16 in /Users/enriccogemha/Developer/courses-at-Insper/databases/venv/lib/python3.12/site-packages (from ipython->insperautograder==0.2.0) (0.19.1)\n",
      "Requirement already satisfied: matplotlib-inline in /Users/enriccogemha/Developer/courses-at-Insper/databases/venv/lib/python3.12/site-packages (from ipython->insperautograder==0.2.0) (0.1.6)\n",
      "Requirement already satisfied: prompt-toolkit!=3.0.37,<3.1.0,>=3.0.30 in /Users/enriccogemha/Developer/courses-at-Insper/databases/venv/lib/python3.12/site-packages (from ipython->insperautograder==0.2.0) (3.0.39)\n",
      "Requirement already satisfied: pygments>=2.4.0 in /Users/enriccogemha/Developer/courses-at-Insper/databases/venv/lib/python3.12/site-packages (from ipython->insperautograder==0.2.0) (2.16.1)\n",
      "Requirement already satisfied: stack-data in /Users/enriccogemha/Developer/courses-at-Insper/databases/venv/lib/python3.12/site-packages (from ipython->insperautograder==0.2.0) (0.6.3)\n",
      "Requirement already satisfied: traitlets>=5 in /Users/enriccogemha/Developer/courses-at-Insper/databases/venv/lib/python3.12/site-packages (from ipython->insperautograder==0.2.0) (5.13.0)\n",
      "Requirement already satisfied: pexpect>4.3 in /Users/enriccogemha/Developer/courses-at-Insper/databases/venv/lib/python3.12/site-packages (from ipython->insperautograder==0.2.0) (4.8.0)\n",
      "Requirement already satisfied: appnope in /Users/enriccogemha/Developer/courses-at-Insper/databases/venv/lib/python3.12/site-packages (from ipython->insperautograder==0.2.0) (0.1.3)\n",
      "Requirement already satisfied: comm>=0.1.3 in /Users/enriccogemha/Developer/courses-at-Insper/databases/venv/lib/python3.12/site-packages (from ipywidgets->insperautograder==0.2.0) (0.1.4)\n",
      "Collecting widgetsnbextension~=4.0.9 (from ipywidgets->insperautograder==0.2.0)\n",
      "  Obtaining dependency information for widgetsnbextension~=4.0.9 from https://files.pythonhosted.org/packages/29/03/107d96077c4befed191f7ad1a12c7b52a8f9d2778a5836d59f9855c105f6/widgetsnbextension-4.0.9-py3-none-any.whl.metadata\n",
      "  Downloading widgetsnbextension-4.0.9-py3-none-any.whl.metadata (1.6 kB)\n",
      "Collecting jupyterlab-widgets~=3.0.9 (from ipywidgets->insperautograder==0.2.0)\n",
      "  Obtaining dependency information for jupyterlab-widgets~=3.0.9 from https://files.pythonhosted.org/packages/e8/05/0ebab152288693b5ec7b339aab857362947031143b282853b4c2dd4b5b40/jupyterlab_widgets-3.0.9-py3-none-any.whl.metadata\n",
      "  Downloading jupyterlab_widgets-3.0.9-py3-none-any.whl.metadata (4.1 kB)\n",
      "Collecting charset-normalizer<4,>=2 (from requests->insperautograder==0.2.0)\n",
      "  Obtaining dependency information for charset-normalizer<4,>=2 from https://files.pythonhosted.org/packages/3a/52/9f9d17c3b54dc238de384c4cb5a2ef0e27985b42a0e5cc8e8a31d918d48d/charset_normalizer-3.3.2-cp312-cp312-macosx_11_0_arm64.whl.metadata\n",
      "  Downloading charset_normalizer-3.3.2-cp312-cp312-macosx_11_0_arm64.whl.metadata (33 kB)\n",
      "Collecting idna<4,>=2.5 (from requests->insperautograder==0.2.0)\n",
      "  Using cached idna-3.4-py3-none-any.whl (61 kB)\n",
      "Collecting urllib3<3,>=1.21.1 (from requests->insperautograder==0.2.0)\n",
      "  Obtaining dependency information for urllib3<3,>=1.21.1 from https://files.pythonhosted.org/packages/d2/b2/b157855192a68541a91ba7b2bbcb91f1b4faa51f8bae38d8005c034be524/urllib3-2.0.7-py3-none-any.whl.metadata\n",
      "  Using cached urllib3-2.0.7-py3-none-any.whl.metadata (6.6 kB)\n",
      "Collecting certifi>=2017.4.17 (from requests->insperautograder==0.2.0)\n",
      "  Obtaining dependency information for certifi>=2017.4.17 from https://files.pythonhosted.org/packages/4c/dd/2234eab22353ffc7d94e8d13177aaa050113286e93e7b40eae01fbf7c3d9/certifi-2023.7.22-py3-none-any.whl.metadata\n",
      "  Using cached certifi-2023.7.22-py3-none-any.whl.metadata (2.2 kB)\n",
      "Requirement already satisfied: parso<0.9.0,>=0.8.3 in /Users/enriccogemha/Developer/courses-at-Insper/databases/venv/lib/python3.12/site-packages (from jedi>=0.16->ipython->insperautograder==0.2.0) (0.8.3)\n",
      "Requirement already satisfied: ptyprocess>=0.5 in /Users/enriccogemha/Developer/courses-at-Insper/databases/venv/lib/python3.12/site-packages (from pexpect>4.3->ipython->insperautograder==0.2.0) (0.7.0)\n",
      "Requirement already satisfied: wcwidth in /Users/enriccogemha/Developer/courses-at-Insper/databases/venv/lib/python3.12/site-packages (from prompt-toolkit!=3.0.37,<3.1.0,>=3.0.30->ipython->insperautograder==0.2.0) (0.2.9)\n",
      "Requirement already satisfied: executing>=1.2.0 in /Users/enriccogemha/Developer/courses-at-Insper/databases/venv/lib/python3.12/site-packages (from stack-data->ipython->insperautograder==0.2.0) (2.0.1)\n",
      "Requirement already satisfied: asttokens>=2.1.0 in /Users/enriccogemha/Developer/courses-at-Insper/databases/venv/lib/python3.12/site-packages (from stack-data->ipython->insperautograder==0.2.0) (2.4.1)\n",
      "Requirement already satisfied: pure-eval in /Users/enriccogemha/Developer/courses-at-Insper/databases/venv/lib/python3.12/site-packages (from stack-data->ipython->insperautograder==0.2.0) (0.2.2)\n",
      "Requirement already satisfied: six>=1.12.0 in /Users/enriccogemha/Developer/courses-at-Insper/databases/venv/lib/python3.12/site-packages (from asttokens>=2.1.0->stack-data->ipython->insperautograder==0.2.0) (1.16.0)\n",
      "Downloading ipywidgets-8.1.1-py3-none-any.whl (139 kB)\n",
      "\u001b[2K   \u001b[38;2;114;156;31m━━━━━━━━━━━━━━━━━━━━━━━━━━━━━━━━━━━━━━━━\u001b[0m \u001b[32m139.4/139.4 kB\u001b[0m \u001b[31m4.2 MB/s\u001b[0m eta \u001b[36m0:00:00\u001b[0m\n",
      "\u001b[?25hUsing cached requests-2.31.0-py3-none-any.whl (62 kB)\n",
      "Using cached certifi-2023.7.22-py3-none-any.whl (158 kB)\n",
      "Downloading charset_normalizer-3.3.2-cp312-cp312-macosx_11_0_arm64.whl (119 kB)\n",
      "\u001b[2K   \u001b[38;2;114;156;31m━━━━━━━━━━━━━━━━━━━━━━━━━━━━━━━━━━━━━━━━\u001b[0m \u001b[32m119.4/119.4 kB\u001b[0m \u001b[31m10.5 MB/s\u001b[0m eta \u001b[36m0:00:00\u001b[0m\n",
      "\u001b[?25hDownloading jupyterlab_widgets-3.0.9-py3-none-any.whl (214 kB)\n",
      "\u001b[2K   \u001b[38;2;114;156;31m━━━━━━━━━━━━━━━━━━━━━━━━━━━━━━━━━━━━━━━━\u001b[0m \u001b[32m214.9/214.9 kB\u001b[0m \u001b[31m14.8 MB/s\u001b[0m eta \u001b[36m0:00:00\u001b[0m\n",
      "\u001b[?25hUsing cached urllib3-2.0.7-py3-none-any.whl (124 kB)\n",
      "Downloading widgetsnbextension-4.0.9-py3-none-any.whl (2.3 MB)\n",
      "\u001b[2K   \u001b[38;2;114;156;31m━━━━━━━━━━━━━━━━━━━━━━━━━━━━━━━━━━━━━━━━\u001b[0m \u001b[32m2.3/2.3 MB\u001b[0m \u001b[31m30.2 MB/s\u001b[0m eta \u001b[36m0:00:00\u001b[0mm eta \u001b[36m0:00:01\u001b[0m[36m0:00:01\u001b[0m\n",
      "\u001b[?25hBuilding wheels for collected packages: insperautograder\n",
      "  Building wheel for insperautograder (pyproject.toml) ... \u001b[?25ldone\n",
      "\u001b[?25h  Created wheel for insperautograder: filename=insperautograder-0.2.0-py3-none-any.whl size=4419 sha256=ffb5e4ea6fca73f5205137d1b4eb3bd5ebb5f6c4ff4403cdaa6c97c1af4808b4\n",
      "  Stored in directory: /private/var/folders/x3/bbk8nj6s67s9nv5gvt6q6gxh0000gn/T/pip-ephem-wheel-cache-9m1e241j/wheels/53/12/56/19fee21cc2d0ca77eb943fe40500aedc79b8ef8b6155282bad\n",
      "Successfully built insperautograder\n",
      "Installing collected packages: widgetsnbextension, urllib3, python-dotenv, jupyterlab-widgets, idna, charset-normalizer, certifi, requests, ipywidgets, insperautograder\n",
      "Successfully installed certifi-2023.7.22 charset-normalizer-3.3.2 idna-3.4 insperautograder-0.2.0 ipywidgets-8.1.1 jupyterlab-widgets-3.0.9 python-dotenv-1.0.0 requests-2.31.0 urllib3-2.0.7 widgetsnbextension-4.0.9\n",
      "\n",
      "\u001b[1m[\u001b[0m\u001b[34;49mnotice\u001b[0m\u001b[1;39;49m]\u001b[0m\u001b[39;49m A new release of pip is available: \u001b[0m\u001b[31;49m23.2.1\u001b[0m\u001b[39;49m -> \u001b[0m\u001b[32;49m23.3.1\u001b[0m\n",
      "\u001b[1m[\u001b[0m\u001b[34;49mnotice\u001b[0m\u001b[1;39;49m]\u001b[0m\u001b[39;49m To update, run: \u001b[0m\u001b[32;49mpip install --upgrade pip\u001b[0m\n"
     ]
    }
   ],
   "source": [
    "!pip uninstall -y insperautograder\n",
    "!pip install git+https://github.com/macielcalebe/insperautograding.git"
   ]
  },
  {
   "cell_type": "markdown",
   "id": "2ae5f5f3",
   "metadata": {},
   "source": [
    "## Criar o `.env`\n",
    "\n",
    "Os arquivos `.env` são arquivos de configuração usados no desenvolvimento de software para armazenar variáveis de ambiente. **Variáveis de ambiente** são valores definidos **fora do código-fonte** e usados para configurar diferentes aspectos de um aplicativo, como strings de conexão de banco de dados, chaves de API e outras **informações confidenciais**.\n",
    "\n",
    "Arquivos `.env` **jamais** (EU DISSE JAMAAAAIS) devem ser enviados para o github, isto pode representar sérios riscos pois pode prover acesso indevidos, como:\n",
    "- O hacker acessa e apaga toda sua base de dados\n",
    "- O hacker usa sua chave de API da AWS para minerar criptomoedas ou enviar spam (pode gastar milhares de dólares em minutos ou horas)\n",
    "\n",
    "Vamos instalar a biblioteca"
   ]
  },
  {
   "cell_type": "code",
   "execution_count": 2,
   "id": "1e82ba3a",
   "metadata": {},
   "outputs": [
    {
     "name": "stdout",
     "output_type": "stream",
     "text": [
      "Requirement already satisfied: python-dotenv in /Users/enriccogemha/Developer/courses-at-Insper/databases/venv/lib/python3.12/site-packages (1.0.0)\n",
      "\n",
      "\u001b[1m[\u001b[0m\u001b[34;49mnotice\u001b[0m\u001b[1;39;49m]\u001b[0m\u001b[39;49m A new release of pip is available: \u001b[0m\u001b[31;49m23.2.1\u001b[0m\u001b[39;49m -> \u001b[0m\u001b[32;49m23.3.1\u001b[0m\n",
      "\u001b[1m[\u001b[0m\u001b[34;49mnotice\u001b[0m\u001b[1;39;49m]\u001b[0m\u001b[39;49m To update, run: \u001b[0m\u001b[32;49mpip install --upgrade pip\u001b[0m\n"
     ]
    }
   ],
   "source": [
    "!pip install python-dotenv"
   ]
  },
  {
   "cell_type": "markdown",
   "id": "19d99af9",
   "metadata": {},
   "source": [
    "e escrever um `.env` na pasta pai (supondo que você tem uma pasta para a disciplina e nela cria uma pasta por aula).\n",
    "\n",
    "<img src=\"https://megadados-insper.s3.us-east-2.amazonaws.com/img/env_local.png\">\n",
    "\n",
    "O comando abaixo já deve escrever no local adequado. Você também pode utilizar um editor de textos para criar o `.env`."
   ]
  },
  {
   "cell_type": "code",
   "execution_count": 3,
   "id": "06ddf3ec",
   "metadata": {},
   "outputs": [
    {
     "name": "stdout",
     "output_type": "stream",
     "text": [
      "Writing ../../.env\n"
     ]
    }
   ],
   "source": [
    "%%writefile ../../.env\n",
    "IAG_SERVER_URL=\"https://bigdata.insper-comp.com.br/iag\"\n",
    "IAG_SUBJECT=\"megadados\"\n",
    "IAG_OFFERING=\"23-2\"\n",
    "IAG_TOKEN=\"iagtok_xxxxxxxxxxxxxxxxxxxxxxxxxxxxxxxxxxxxxxx\""
   ]
  },
  {
   "cell_type": "markdown",
   "id": "fde705c2",
   "metadata": {},
   "source": [
    "Confira pelo navegador de arquivos se o `.env` foi gerado corretamente!\n",
    "\n",
    "Como uma segunda confirmação, vamos tentar ler o endereço do servidor:"
   ]
  },
  {
   "cell_type": "code",
   "execution_count": 4,
   "id": "f0fab0af",
   "metadata": {},
   "outputs": [
    {
     "name": "stdout",
     "output_type": "stream",
     "text": [
      "https://bigdata.insper-comp.com.br/iag\n"
     ]
    }
   ],
   "source": [
    "import os\n",
    "from dotenv import load_dotenv\n",
    "\n",
    "load_dotenv(override=True)\n",
    "\n",
    "# Se aparecer o mesmo conteúdo definido na variável no .env, então é sucesso!\n",
    "print(os.getenv('IAG_SERVER_URL'))"
   ]
  },
  {
   "cell_type": "markdown",
   "id": "86fb92f7",
   "metadata": {},
   "source": [
    "## Gerar um token\n",
    "\n",
    "Vamos fazer uma requisição para gerar um token que será utilizado para identificar você nos envios da disciplina.\n",
    "\n",
    "Caso algum import falha, faça `pip install`"
   ]
  },
  {
   "cell_type": "code",
   "execution_count": 5,
   "id": "6b279e82",
   "metadata": {},
   "outputs": [],
   "source": [
    "import insperautograder.token as iat\n",
    "import insperautograder.jupyter as iaj"
   ]
  },
  {
   "cell_type": "code",
   "execution_count": 6,
   "id": "05bbb306",
   "metadata": {},
   "outputs": [
    {
     "data": {
      "text/markdown": [
       "\"Sending token in background! Check your Insper E-mail!\""
      ],
      "text/plain": [
       "<IPython.core.display.Markdown object>"
      ]
     },
     "metadata": {},
     "output_type": "display_data"
    }
   ],
   "source": [
    "# Descomente as linhas abaixo!\n",
    "username = 'enriccog' # Informe aqui seu usuário Insper ex: mariana5 (sem @al....)\n",
    "iat.get_new_token(username=username)"
   ]
  },
  {
   "cell_type": "markdown",
   "id": "843b7c66",
   "metadata": {},
   "source": [
    "Confira seu email. Copie o token e cole no arquivo `.env` gerado no passo anterior. Como o token é a única informação sensível no `.env`, ao invés de atualizar pelo jupyter notebook, abra em algum editor de textos.\n",
    "\n",
    "Após a edição, execute a próxima célula para atualizar as variáveis de ambiente:"
   ]
  },
  {
   "cell_type": "code",
   "execution_count": 7,
   "id": "fc14c654",
   "metadata": {},
   "outputs": [
    {
     "data": {
      "text/plain": [
       "True"
      ]
     },
     "execution_count": 7,
     "metadata": {},
     "output_type": "execute_result"
    }
   ],
   "source": [
    "load_dotenv(override=True)"
   ]
  },
  {
   "cell_type": "markdown",
   "id": "2bc4a562",
   "metadata": {},
   "source": [
    "## Testando a API!\n",
    "\n",
    "**Exercício exemplo**: Qual o nome desta disciplina?! Responda como string na variável `resp` (próxima célula).\n",
    "\n",
    "Considere que a seguinte resposta está correta, vamos fazer seu envio!"
   ]
  },
  {
   "cell_type": "code",
   "execution_count": 8,
   "id": "00349bb1",
   "metadata": {},
   "outputs": [],
   "source": [
    "resp = '''\n",
    " MEGADADOS\n",
    "'''"
   ]
  },
  {
   "cell_type": "markdown",
   "id": "c62541f0",
   "metadata": {},
   "source": [
    "Para enviar, clique no botão:"
   ]
  },
  {
   "cell_type": "code",
   "execution_count": 9,
   "id": "74b1b637",
   "metadata": {},
   "outputs": [
    {
     "data": {
      "application/vnd.jupyter.widget-view+json": {
       "model_id": "ad18b73e006d4da89d5ef581abca7aa3",
       "version_major": 2,
       "version_minor": 0
      },
      "text/plain": [
       "interactive(children=(Button(description='Enviar ex01', style=ButtonStyle()), Output()), _dom_classes=('widget…"
      ]
     },
     "execution_count": 9,
     "metadata": {},
     "output_type": "execute_result"
    }
   ],
   "source": [
    "iaj.sender(answer='resp', task='newborn', question='ex01', answer_type='pyvar')"
   ]
  },
  {
   "cell_type": "markdown",
   "id": "c4e9ea47",
   "metadata": {},
   "source": [
    "Perceba que a query possui um erro. Faça a correção, e, após sua última modificação, faça o envio clicando novamente no botão de envio! Ele automaticamente irá ler a variável `sql` (pega o valor atual dela, definido na última vez que você rodou a célula) e enviar para o servidor de testes!"
   ]
  },
  {
   "cell_type": "markdown",
   "id": "29321d76",
   "metadata": {},
   "source": [
    "## Atividades e Notas\n",
    "\n",
    "Podemos utilizar as chamadas para recuperar as atividades disponíveis, prazos e notas obtidas:"
   ]
  },
  {
   "cell_type": "code",
   "execution_count": 10,
   "id": "f421d0b2",
   "metadata": {},
   "outputs": [
    {
     "data": {
      "text/markdown": [
       "|    | Atividade            | De                        | Até                       |\n",
       "|---:|:---------------------|:--------------------------|:--------------------------|\n",
       "|  0 | newborn              | 2023-08-08 03:00:00+00:00 | 2023-08-16 02:59:59+00:00 |\n",
       "|  1 | select01             | 2023-08-08 03:00:00+00:00 | 2023-08-21 02:59:59+00:00 |\n",
       "|  2 | ddl                  | 2023-08-27 03:00:00+00:00 | 2023-09-02 02:59:59+00:00 |\n",
       "|  3 | dml                  | 2023-08-29 03:00:00+00:00 | 2023-09-04 02:59:59+00:00 |\n",
       "|  4 | group_having         | 2023-09-03 03:00:00+00:00 | 2023-09-17 02:59:59+00:00 |\n",
       "|  5 | agg_join             | 2023-09-03 03:00:00+00:00 | 2023-09-09 02:59:59+00:00 |\n",
       "|  6 | views                | 2023-09-11 03:00:00+00:00 | 2023-09-18 02:59:59+00:00 |\n",
       "|  7 | sql_review1          | 2023-09-13 03:00:00+00:00 | 2023-09-20 02:59:59+00:00 |\n",
       "|  8 | permissions          | 2023-09-20 03:00:00+00:00 | 2023-09-27 03:00:00+00:00 |\n",
       "|  9 | desafio_normalizacao | 2023-09-25 03:00:00+00:00 | 2023-10-02 03:00:00+00:00 |\n",
       "| 10 | ai_md_23_2           | 2023-10-09 03:00:00+00:00 | 2023-10-10 03:00:00+00:00 |\n",
       "| 11 | triggers             | 2023-10-19 03:00:00+00:00 | 2023-10-28 03:00:00+00:00 |\n",
       "| 12 | functional           | 2023-10-29 03:00:00+00:00 | 2023-11-06 03:00:00+00:00 |\n",
       "| 13 | spark                | 2023-10-29 03:00:00+00:00 | 2023-11-08 03:00:00+00:00 |"
      ],
      "text/plain": [
       "<IPython.core.display.Markdown object>"
      ]
     },
     "metadata": {},
     "output_type": "display_data"
    }
   ],
   "source": [
    "iaj.tasks()"
   ]
  },
  {
   "cell_type": "code",
   "execution_count": 11,
   "id": "3f2e0cf6",
   "metadata": {},
   "outputs": [
    {
     "data": {
      "text/markdown": [
       "|    | Atividade   | Exercício   |   Peso |   Nota |\n",
       "|---:|:------------|:------------|-------:|-------:|\n",
       "|  0 | newborn     | ex01        |      1 |     10 |"
      ],
      "text/plain": [
       "<IPython.core.display.Markdown object>"
      ]
     },
     "metadata": {},
     "output_type": "display_data"
    }
   ],
   "source": [
    "iaj.grades(task='newborn')"
   ]
  },
  {
   "cell_type": "code",
   "execution_count": 12,
   "id": "3367239a",
   "metadata": {},
   "outputs": [
    {
     "data": {
      "text/markdown": [
       "|    | Tarefa   |   Nota |\n",
       "|---:|:---------|-------:|\n",
       "|  0 | newborn  |     10 |"
      ],
      "text/plain": [
       "<IPython.core.display.Markdown object>"
      ]
     },
     "metadata": {},
     "output_type": "display_data"
    }
   ],
   "source": [
    "iaj.grades(by='TASK', task='newborn')"
   ]
  },
  {
   "cell_type": "code",
   "execution_count": null,
   "metadata": {},
   "outputs": [],
   "source": []
  }
 ],
 "metadata": {
  "kernelspec": {
   "display_name": "Python 3 (ipykernel)",
   "language": "python",
   "name": "python3"
  },
  "language_info": {
   "codemirror_mode": {
    "name": "ipython",
    "version": 3
   },
   "file_extension": ".py",
   "mimetype": "text/x-python",
   "name": "python",
   "nbconvert_exporter": "python",
   "pygments_lexer": "ipython3",
   "version": "3.12.0"
  }
 },
 "nbformat": 4,
 "nbformat_minor": 5
}
