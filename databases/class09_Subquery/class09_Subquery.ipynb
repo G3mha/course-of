{
 "cells": [
  {
   "attachments": {},
   "cell_type": "markdown",
   "metadata": {},
   "source": [
    "# Mais sobre `SELECT`\n",
    "\n",
    "- temporary tables\n",
    "- views\n",
    "- variables\n",
    "- subqueries\n"
   ]
  },
  {
   "cell_type": "code",
   "execution_count": 1,
   "metadata": {},
   "outputs": [],
   "source": [
    "from functools import partial\n",
    "from dotenv import load_dotenv\n",
    "import insperautograder.jupyter as ia\n",
    "import mysql.connector\n",
    "import os\n",
    "\n",
    "load_dotenv(override=True)\n",
    "\n",
    "connection = mysql.connector.connect(\n",
    "    host=os.getenv(\"MD_DB_SERVER\"),\n",
    "    user=os.getenv(\"MD_DB_USERNAME\"),\n",
    "    password=os.getenv(\"MD_DB_PASSWORD\"),\n",
    "    database=\"sakila\"\n",
    ")\n",
    "\n",
    "def run_db_query(connection, query, args=None):\n",
    "    with connection.cursor() as cursor:\n",
    "        print(\"Executando query:\")\n",
    "        cursor.execute(query, args)\n",
    "        for result in cursor:\n",
    "            print(result)\n",
    "\n",
    "db = partial(run_db_query, connection)"
   ]
  },
  {
   "attachments": {},
   "cell_type": "markdown",
   "metadata": {},
   "source": [
    "## Exercícios para entrega\n",
    "\n",
    "Esta aula tem atividade para entrega, confira os prazos e exercícios"
   ]
  },
  {
   "cell_type": "code",
   "execution_count": 2,
   "metadata": {},
   "outputs": [
    {
     "data": {
      "text/markdown": [
       "|    | Atividade    | De                               | Até                       |\n",
       "|---:|:-------------|:---------------------------------|:--------------------------|\n",
       "|  0 | newborn      | 2023-08-08 03:00:00+00:00        | 2023-08-16 02:59:59+00:00 |\n",
       "|  1 | select01     | 2023-08-08 03:00:00+00:00        | 2023-08-21 02:59:59+00:00 |\n",
       "|  2 | ddl          | 2023-08-27 20:36:25.452000+00:00 | 2023-09-02 02:59:59+00:00 |\n",
       "|  3 | dml          | 2023-08-29 20:36:25.452000+00:00 | 2023-09-04 02:59:59+00:00 |\n",
       "|  4 | agg_join     | 2023-09-03 03:00:00+00:00        | 2023-09-09 02:59:59+00:00 |\n",
       "|  5 | group_having | 2023-09-03 03:00:00+00:00        | 2023-09-17 02:59:59+00:00 |\n",
       "|  6 | views        | 2023-09-11 03:00:00+00:00        | 2023-09-17 02:59:59+00:00 |\n",
       "|  7 | sql_review1  | 2023-09-13 03:00:00+00:00        | 2023-09-20 02:59:59+00:00 |"
      ],
      "text/plain": [
       "<IPython.core.display.Markdown object>"
      ]
     },
     "metadata": {},
     "output_type": "display_data"
    }
   ],
   "source": [
    "ia.tasks()"
   ]
  },
  {
   "cell_type": "code",
   "execution_count": 3,
   "metadata": {},
   "outputs": [
    {
     "data": {
      "text/markdown": [
       "|    | Tarefa       |     Nota |\n",
       "|---:|:-------------|---------:|\n",
       "|  0 | agg_join     | 10       |\n",
       "|  1 | ddl          | 10       |\n",
       "|  2 | dml          | 10       |\n",
       "|  3 | group_having | 10       |\n",
       "|  4 | newborn      | 10       |\n",
       "|  5 | select01     | 10       |\n",
       "|  6 | sql_review1  |  0       |\n",
       "|  7 | views        |  8.33333 |"
      ],
      "text/plain": [
       "<IPython.core.display.Markdown object>"
      ]
     },
     "metadata": {},
     "output_type": "display_data"
    }
   ],
   "source": [
    "ia.grades(by=\"task\")"
   ]
  },
  {
   "cell_type": "code",
   "execution_count": 4,
   "metadata": {},
   "outputs": [
    {
     "data": {
      "text/markdown": [
       "|    | Atividade   | Exercício   |   Peso |   Nota |\n",
       "|---:|:------------|:------------|-------:|-------:|\n",
       "|  0 | views       | ex01        |      1 |     10 |\n",
       "|  1 | views       | ex02        |      1 |     10 |\n",
       "|  2 | views       | ex03        |      1 |     10 |\n",
       "|  3 | views       | ex04        |      1 |     10 |\n",
       "|  4 | views       | ex05        |      1 |     10 |\n",
       "|  5 | views       | ex06        |      1 |     10 |\n",
       "|  6 | views       | ex07        |      1 |     10 |\n",
       "|  7 | views       | ex08        |      1 |     10 |\n",
       "|  8 | views       | ex09        |      1 |     10 |\n",
       "|  9 | views       | ex10        |      1 |     10 |\n",
       "| 10 | views       | ex11        |      1 |      0 |\n",
       "| 11 | views       | ex12        |      1 |      0 |"
      ],
      "text/plain": [
       "<IPython.core.display.Markdown object>"
      ]
     },
     "metadata": {},
     "output_type": "display_data"
    }
   ],
   "source": [
    "ia.grades(task=\"views\")"
   ]
  },
  {
   "attachments": {},
   "cell_type": "markdown",
   "metadata": {},
   "source": [
    "## Aquecimento"
   ]
  },
  {
   "attachments": {},
   "cell_type": "markdown",
   "metadata": {},
   "source": [
    "Quanta receita foi gerada para cada categoria de filmes? Mostre o nome da categoria e a receita. Ordene da maior receita para para a menor."
   ]
  },
  {
   "cell_type": "code",
   "execution_count": 5,
   "metadata": {},
   "outputs": [
    {
     "name": "stdout",
     "output_type": "stream",
     "text": [
      "Executando query:\n",
      "('Sports', Decimal('138259.63'))\n",
      "('Animation', Decimal('137087.62'))\n",
      "('Action', Decimal('130658.86'))\n",
      "('Family', Decimal('129027.81'))\n",
      "('Sci-Fi', Decimal('127759.42'))\n",
      "('Drama', Decimal('122038.34'))\n",
      "('Documentary', Decimal('122030.27'))\n",
      "('Foreign', Decimal('120764.57'))\n",
      "('Games', Decimal('114440.09'))\n",
      "('New', Decimal('110423.76'))\n",
      "('Comedy', Decimal('110367.36'))\n",
      "('Children', Decimal('109711.51'))\n",
      "('Classics', Decimal('108909.89'))\n",
      "('Horror', Decimal('98369.72'))\n",
      "('Travel', Decimal('97278.10'))\n",
      "('Music', Decimal('95825.55'))\n"
     ]
    }
   ],
   "source": [
    "sql_ex01 = '''\n",
    "SELECT \n",
    "    category.name, SUM(payment.amount) AS total\n",
    "FROM\n",
    "    payment\n",
    "    INNER JOIN customer USING (customer_id)\n",
    "    INNER JOIN rental USING (customer_id)\n",
    "    INNER JOIN inventory USING (inventory_id)\n",
    "    INNER JOIN film USING (film_id)\n",
    "    INNER JOIN film_category USING (film_id)\n",
    "    INNER JOIN category USING (category_id)\n",
    "GROUP BY\n",
    "    category.category_id\n",
    "ORDER BY\n",
    "    total DESC\n",
    "'''\n",
    "\n",
    "db(sql_ex01)"
   ]
  },
  {
   "cell_type": "code",
   "execution_count": 6,
   "metadata": {},
   "outputs": [
    {
     "data": {
      "application/vnd.jupyter.widget-view+json": {
       "model_id": "67987c2eac404916b6b48d88ea7c8040",
       "version_major": 2,
       "version_minor": 0
      },
      "text/plain": [
       "interactive(children=(Button(description='Enviar ex01', style=ButtonStyle()), Output()), _dom_classes=('widget…"
      ]
     },
     "execution_count": 6,
     "metadata": {},
     "output_type": "execute_result"
    }
   ],
   "source": [
    "ia.sender(answer='sql_ex01', task='views', question='ex01', answer_type='pyvar')"
   ]
  },
  {
   "attachments": {},
   "cell_type": "markdown",
   "metadata": {},
   "source": [
    "Liste os 10 filmes mais alugados e o numero de vezes em que foram alugados. Ordene do mais alugado para o menos alugado."
   ]
  },
  {
   "cell_type": "code",
   "execution_count": 7,
   "metadata": {},
   "outputs": [
    {
     "name": "stdout",
     "output_type": "stream",
     "text": [
      "Executando query:\n",
      "('BUCKET BROTHERHOOD', 34)\n",
      "('ROCKETEER MOTHER', 33)\n",
      "('RIDGEMONT SUBMARINE', 32)\n",
      "('GRIT CLOCKWORK', 32)\n",
      "('SCALAWAG DUCK', 32)\n",
      "('JUGGLER HARDLY', 32)\n",
      "('FORWARD TEMPLE', 32)\n",
      "('HOBBIT ALIEN', 31)\n",
      "('ROBBERS JOON', 31)\n",
      "('ZORRO ARK', 31)\n"
     ]
    }
   ],
   "source": [
    "sql_ex02 = '''\n",
    "SELECT \n",
    "    film.title, COUNT(rental.rental_id) AS total_rentals\n",
    "FROM\n",
    "    rental\n",
    "    INNER JOIN inventory USING (inventory_id)\n",
    "    INNER JOIN film USING (film_id)\n",
    "GROUP BY\n",
    "    film.film_id\n",
    "ORDER BY\n",
    "    total_rentals DESC\n",
    "LIMIT 10\n",
    "'''\n",
    "\n",
    "db(sql_ex02)"
   ]
  },
  {
   "cell_type": "code",
   "execution_count": 8,
   "metadata": {},
   "outputs": [
    {
     "data": {
      "application/vnd.jupyter.widget-view+json": {
       "model_id": "9b5a0c3b0a574cd0878553fd67ace852",
       "version_major": 2,
       "version_minor": 0
      },
      "text/plain": [
       "interactive(children=(Button(description='Enviar ex02', style=ButtonStyle()), Output()), _dom_classes=('widget…"
      ]
     },
     "execution_count": 8,
     "metadata": {},
     "output_type": "execute_result"
    }
   ],
   "source": [
    "ia.sender(answer='sql_ex02', task='views', question='ex02', answer_type='pyvar')"
   ]
  },
  {
   "attachments": {},
   "cell_type": "markdown",
   "metadata": {},
   "source": [
    "**DESAFIO:** Liste os filmes e o numero de vezes em que foram alugados apenas para filmes que foram alugados mais do que a média de numero de alugueis por filme. *Dica*: Serão necessários múltiplos SELECTs. Faça cada um em uma célula diferente."
   ]
  },
  {
   "cell_type": "code",
   "execution_count": 9,
   "metadata": {},
   "outputs": [
    {
     "name": "stdout",
     "output_type": "stream",
     "text": [
      "Executando query:\n",
      "Executando query:\n",
      "(Decimal('16.747390396'),)\n",
      "Executando query:\n",
      "('BEACH HEARTBREAKERS', 17)\n",
      "('BIKINI BORROWERS', 17)\n",
      "('BREAKFAST GOLDFINGER', 17)\n",
      "('COMFORTS RUSH', 17)\n",
      "('CONFUSED CANDLES', 17)\n",
      "('CONVERSATION DOWNHILL', 17)\n",
      "('DYING MAKER', 17)\n",
      "('EGYPT TENENBAUMS', 17)\n",
      "('FACTORY DRAGON', 17)\n",
      "('FERRIS MOTHER', 17)\n",
      "('FLINTSTONES HAPPINESS', 17)\n",
      "('FREAKY POCUS', 17)\n",
      "('FRENCH HOLIDAY', 17)\n",
      "('GANDHI KWAI', 17)\n",
      "('GREEK EVERYONE', 17)\n",
      "('HANOVER GALAXY', 17)\n",
      "('HOLOCAUST HIGHBALL', 17)\n",
      "('IDAHO LOVE', 17)\n",
      "('INTENTIONS EMPIRE', 17)\n",
      "('JEKYLL FROGMEN', 17)\n",
      "('JERICHO MULAN', 17)\n",
      "('JOON NORTHWEST', 17)\n",
      "('LADY STAGE', 17)\n",
      "('LAWLESS VISION', 17)\n",
      "('LEAGUE HELLFIGHTERS', 17)\n",
      "('LOUISIANA HARRY', 17)\n",
      "('MAJESTIC FLOATS', 17)\n",
      "('MASK PEACH', 17)\n",
      "('MIDNIGHT WESTWARD', 17)\n",
      "('MUSKETEERS WAIT', 17)\n",
      "('NEWTON LABYRINTH', 17)\n",
      "('NOON PAPI', 17)\n",
      "('ORIENT CLOSER', 17)\n",
      "('PERFECT GROOVE', 17)\n",
      "('POSEIDON FOREVER', 17)\n",
      "('POTTER CONNECTICUT', 17)\n",
      "('REAR TRADING', 17)\n",
      "('ROCK INSTINCT', 17)\n",
      "('ROOTS REMEMBER', 17)\n",
      "('SATISFACTION CONFIDENTIAL', 17)\n",
      "('SLACKER LIAISONS', 17)\n",
      "('STRANGERS GRAFFITI', 17)\n",
      "('SUGAR WONKA', 17)\n",
      "('TAXI KICK', 17)\n",
      "('TEEN APOLLO', 17)\n",
      "('UNITED PILOT', 17)\n",
      "('VIRGIN DAISY', 17)\n",
      "('WATERFRONT DELIVERANCE', 17)\n",
      "('ZOOLANDER FICTION', 17)\n",
      "('AIRPORT POLLOCK', 18)\n",
      "('ALONE TRIP', 18)\n",
      "('BAREFOOT MANCHURIAN', 18)\n",
      "('BIRDS PERDITION', 18)\n",
      "('BOULEVARD MOB', 18)\n",
      "('CANDIDATE PERDITION', 18)\n",
      "('CAROL TEXAS', 18)\n",
      "('CLEOPATRA DEVIL', 18)\n",
      "('CORE SUIT', 18)\n",
      "('DARN FORRESTER', 18)\n",
      "('DAWN POND', 18)\n",
      "('DRAGONFLY STRANGERS', 18)\n",
      "('DRIVER ANNIE', 18)\n",
      "('ENOUGH RAGING', 18)\n",
      "('EXPECATIONS NATURAL', 18)\n",
      "('FORREST SONS', 18)\n",
      "('GALAXY SWEETHEARTS', 18)\n",
      "('GROOVE FICTION', 18)\n",
      "('GROUNDHOG UNCUT', 18)\n",
      "('HEAVEN FREEDOM', 18)\n",
      "('HOPE TOOTSIE', 18)\n",
      "('INCH JET', 18)\n",
      "('INSECTS STONE', 18)\n",
      "('INSTINCT AIRPORT', 18)\n",
      "('JACKET FRISCO', 18)\n",
      "('JADE BUNCH', 18)\n",
      "('LION UNCUT', 18)\n",
      "('MISSION ZOOLANDER', 18)\n",
      "('PARADISE SABRINA', 18)\n",
      "('POLISH BROOKLYN', 18)\n",
      "('POLLOCK DELIVERANCE', 18)\n",
      "('RACER EGG', 18)\n",
      "('REMEMBER DIARY', 18)\n",
      "('ROUGE SQUAD', 18)\n",
      "('SCARFACE BANG', 18)\n",
      "('SECRETARY ROUGE', 18)\n",
      "('SMOKING BARBARELLA', 18)\n",
      "('SWEDEN SHINING', 18)\n",
      "('UNFORGIVEN ZOOLANDER', 18)\n",
      "('VANISHING ROCKY', 18)\n",
      "('WEEKEND PERSONAL', 18)\n",
      "('WHALE BIKINI', 18)\n",
      "('WONKA SEA', 18)\n",
      "('BACKLASH UNDEFEATED', 19)\n",
      "('BILL OTHERS', 19)\n",
      "('BRIDE INTRIGUE', 19)\n",
      "('CAMPUS REMEMBER', 19)\n",
      "('CANYON STOCK', 19)\n",
      "('CIDER DESIRE', 19)\n",
      "('CLONES PINOCCHIO', 19)\n",
      "('CLUB GRAFFITI', 19)\n",
      "('DESERT POSEIDON', 19)\n",
      "('DETAILS PACKER', 19)\n",
      "('DISCIPLE MOTHER', 19)\n",
      "('DOORS PRESIDENT', 19)\n",
      "('EARRING INSTINCT', 19)\n",
      "('ENCINO ELF', 19)\n",
      "('ENCOUNTERS CURTAIN', 19)\n",
      "('EYES DRIVING', 19)\n",
      "('FANTASIA PARK', 19)\n",
      "('FICTION CHRISTMAS', 19)\n",
      "('FURY MURDER', 19)\n",
      "('GABLES METROPOLIS', 19)\n",
      "('GORGEOUS BINGO', 19)\n",
      "('HANGING DEEP', 19)\n",
      "('HONEY TIES', 19)\n",
      "('HOURS RAGE', 19)\n",
      "('IGBY MAKER', 19)\n",
      "('INDEPENDENCE HOTEL', 19)\n",
      "('JEDI BENEATH', 19)\n",
      "('MARS ROMAN', 19)\n",
      "('MINE TITANS', 19)\n",
      "('MUSIC BOONDOCK', 19)\n",
      "('NATIONAL STORY', 19)\n",
      "('NEIGHBORS CHARADE', 19)\n",
      "('NOVOCAINE FLIGHT', 19)\n",
      "('PATIENT SISTER', 19)\n",
      "('POND SEATTLE', 19)\n",
      "('RAGE GAMES', 19)\n",
      "('REQUIEM TYCOON', 19)\n",
      "('ROAD ROXANNE', 19)\n",
      "('ROXANNE REBEL', 19)\n",
      "('SHAWSHANK BUBBLE', 19)\n",
      "('SOMETHING DUCK', 19)\n",
      "('SUNDANCE INVASION', 19)\n",
      "('THIEF PELICAN', 19)\n",
      "('TROJAN TOMORROW', 19)\n",
      "('VOICE PEACH', 19)\n",
      "('BRINGING HYSTERICAL', 20)\n",
      "('CHASING FIGHT', 20)\n",
      "('CHEAPER CLYDE', 20)\n",
      "('CHOCOLAT HARRY', 20)\n",
      "('DALMATIONS SWEDEN', 20)\n",
      "('DINOSAUR SECRETARY', 20)\n",
      "('FLYING HOOK', 20)\n",
      "('GARDEN ISLAND', 20)\n",
      "('GO PURPLE', 20)\n",
      "('HARPER DYING', 20)\n",
      "('HEARTBREAKERS BRIGHT', 20)\n",
      "('HELLFIGHTERS SIERRA', 20)\n",
      "('HUNCHBACK IMPOSSIBLE', 20)\n",
      "('INSIDER ARIZONA', 20)\n",
      "('INTERVIEW LIAISONS', 20)\n",
      "('INTRIGUE WORST', 20)\n",
      "('JERK PAYCHECK', 20)\n",
      "('JET NEIGHBORS', 20)\n",
      "('KICK SAVANNAH', 20)\n",
      "('KISSING DOLLS', 20)\n",
      "('LOVE SUICIDES', 20)\n",
      "('MASKED BUBBLE', 20)\n",
      "('MILLION ACE', 20)\n",
      "('MINDS TRUMAN', 20)\n",
      "('MONEY HAROLD', 20)\n",
      "('NORTHWEST POLISH', 20)\n",
      "('OUTFIELD MASSACRE', 20)\n",
      "('PEAK FOREVER', 20)\n",
      "('PINOCCHIO SIMON', 20)\n",
      "('PREJUDICE OLEANDER', 20)\n",
      "('QUEST MUSSOLINI', 20)\n",
      "('REDEMPTION COMFORTS', 20)\n",
      "('REIGN GENTLEMEN', 20)\n",
      "('REUNION WITCHES', 20)\n",
      "('RIVER OUTLAW', 20)\n",
      "('ROOM ROMAN', 20)\n",
      "('SECRETS PARADISE', 20)\n",
      "('SLEEPLESS MONSOON', 20)\n",
      "('SPICE SORORITY', 20)\n",
      "('STEPMOM DREAM', 20)\n",
      "('STRAIGHT HOURS', 20)\n",
      "('TRAMP OTHERS', 20)\n",
      "('WRONG BEHAVIOR', 20)\n",
      "('AGENT TRUMAN', 21)\n",
      "('AMADEUS HOLY', 21)\n",
      "('AMISTAD MIDSUMMER', 21)\n",
      "('ANACONDA CONFESSIONS', 21)\n",
      "('ARIZONA BANG', 21)\n",
      "('ARMAGEDDON LOST', 21)\n",
      "('BADMAN DAWN', 21)\n",
      "('BASIC EASY', 21)\n",
      "('BERETS AGENT', 21)\n",
      "('BEVERLY OUTLAW', 21)\n",
      "('BLUES INSTINCT', 21)\n",
      "('BROOKLYN DESERT', 21)\n",
      "('CALENDAR GUNFIGHT', 21)\n",
      "('CAUSE DATE', 21)\n",
      "('CHAINSAW UPTOWN', 21)\n",
      "('CHARIOTS CONSPIRACY', 21)\n",
      "('CHRISTMAS MOONSHINE', 21)\n",
      "('COAST RAINBOW', 21)\n",
      "('CROSSROADS CASUALTIES', 21)\n",
      "('DECEIVER BETRAYED', 21)\n",
      "('DIVIDE MONSTER', 21)\n",
      "('DOOM DANCING', 21)\n",
      "('DRACULA CRYSTAL', 21)\n",
      "('DRIVING POLISH', 21)\n",
      "('EGG IGBY', 21)\n",
      "('EMPIRE MALKOVICH', 21)\n",
      "('EXCITEMENT EVE', 21)\n",
      "('FIDELITY DEVIL', 21)\n",
      "('FIREBALL PHILADELPHIA', 21)\n",
      "('GHOST GROUNDHOG', 21)\n",
      "('GREASE YOUTH', 21)\n",
      "('HIGHBALL POTTER', 21)\n",
      "('LEBOWSKI SOLDIERS', 21)\n",
      "('MOONSHINE CABIN', 21)\n",
      "('MOURNING PURPLE', 21)\n",
      "('OPEN AFRICAN', 21)\n",
      "('PIANIST OUTFIELD', 21)\n",
      "('PIRATES ROXANNE', 21)\n",
      "('RESURRECTION SILVERADO', 21)\n",
      "('SABRINA MIDNIGHT', 21)\n",
      "('SECRET GROUNDHOG', 21)\n",
      "('SLEEPY JAPANESE', 21)\n",
      "('SLEUTH ORIENT', 21)\n",
      "('SPLENDOR PATTON', 21)\n",
      "('STAR OPERATION', 21)\n",
      "('STING PERSONAL', 21)\n",
      "('SUIT WALLS', 21)\n",
      "('UNBREAKABLE KARATE', 21)\n",
      "('UNDEFEATED DALMATIONS', 21)\n",
      "('VACATION BOONDOCK', 21)\n",
      "('WAIT CIDER', 21)\n",
      "('WOLVES DESIRE', 21)\n",
      "('ALIEN CENTER', 22)\n",
      "('ALTER VICTORY', 22)\n",
      "('AMERICAN CIRCUS', 22)\n",
      "('ANGELS LIFE', 22)\n",
      "('ANNIE IDENTITY', 22)\n",
      "('BANGER PINOCCHIO', 22)\n",
      "('BEAR GRACELAND', 22)\n",
      "('BEAUTY GREASE', 22)\n",
      "('BLADE POLISH', 22)\n",
      "('BORROWERS BEDAZZLED', 22)\n",
      "('CHICKEN HELLFIGHTERS', 22)\n",
      "('CHILL LUCK', 22)\n",
      "('CONGENIALITY QUEST', 22)\n",
      "('DREAM PICKUP', 22)\n",
      "('EAGLES PANKY', 22)\n",
      "('FALCON VOLUME', 22)\n",
      "('FIGHT JAWBREAKER', 22)\n",
      "('FLATLINERS KILLER', 22)\n",
      "('GRAPES FURY', 22)\n",
      "('HAUNTING PIANIST', 22)\n",
      "('HEAD STRANGER', 22)\n",
      "('HIGH ENCINO', 22)\n",
      "('HOMICIDE PEACH', 22)\n",
      "('HUSTLER PARTY', 22)\n",
      "('KISS GLORY', 22)\n",
      "('LIAISONS SWEET', 22)\n",
      "('MALTESE HOPE', 22)\n",
      "('MIDSUMMER GROUNDHOG', 22)\n",
      "('PACKER MADIGAN', 22)\n",
      "('QUEEN LUKE', 22)\n",
      "('SEA VIRGIN', 22)\n",
      "('SHAKESPEARE SADDLE', 22)\n",
      "('SINNERS ATLANTIS', 22)\n",
      "('SNATCH SLIPPER', 22)\n",
      "('SOUTH WAIT', 22)\n",
      "('TOURIST PELICAN', 22)\n",
      "('VOLCANO TEXAS', 22)\n",
      "('WHISPERER GIANT', 22)\n",
      "('WONDERLAND CHRISTMAS', 22)\n",
      "('ACADEMY DINOSAUR', 23)\n",
      "('AFFAIR PREJUDICE', 23)\n",
      "('ALADDIN CALENDAR', 23)\n",
      "('BALLOON HOMEWARD', 23)\n",
      "('CANDLES GRAPES', 23)\n",
      "('CARRIE BUNCH', 23)\n",
      "('CROOKED FROGMEN', 23)\n",
      "('CUPBOARD SINNERS', 23)\n",
      "('EARTH VISION', 23)\n",
      "('EASY GLADIATOR', 23)\n",
      "('FLAMINGOS CONNECTICUT', 23)\n",
      "('FOOL MOCKINGBIRD', 23)\n",
      "('FREDDY STORM', 23)\n",
      "('GENTLEMEN STAGE', 23)\n",
      "('HEAVYWEIGHTS BEAST', 23)\n",
      "('HOUSE DYNAMITE', 23)\n",
      "('KARATE MOON', 23)\n",
      "('KWAI HOMEWARD', 23)\n",
      "('MURDER ANTITRUST', 23)\n",
      "('NAME DETECTIVE', 23)\n",
      "('OTHERS SOUP', 23)\n",
      "('OUTBREAK DIVINE', 23)\n",
      "('PATTON INTERVIEW', 23)\n",
      "('PHILADELPHIA WIFE', 23)\n",
      "('SALUTE APOLLO', 23)\n",
      "('SCORPION APOLLO', 23)\n",
      "('SNOWMAN ROLLERCOASTER', 23)\n",
      "('STEEL SANTA', 23)\n",
      "('STRICTLY SCARFACE', 23)\n",
      "('TITANIC BOONDOCK', 23)\n",
      "('TROUBLE DATE', 23)\n",
      "('TRUMAN CRAZY', 23)\n",
      "('WASH HEAVENLY', 23)\n",
      "('WIND PHANTOM', 23)\n",
      "('WOMEN DORADO', 23)\n",
      "('YENTL IDAHO', 23)\n",
      "('ALAMO VIDEOTAPE', 24)\n",
      "('ARACHNOPHOBIA ROLLERCOASTER', 24)\n",
      "('ATLANTIS CAUSE', 24)\n",
      "('ATTRACTION NEWTON', 24)\n",
      "('BOUND CHEAPER', 24)\n",
      "('CAPER MOTIONS', 24)\n",
      "('CELEBRITY HORN', 24)\n",
      "('CENTER DINOSAUR', 24)\n",
      "('COLOR PHILADELPHIA', 24)\n",
      "('DRIFTER COMMANDMENTS', 24)\n",
      "('FARGO GANDHI', 24)\n",
      "('GOLDFINGER SENSIBILITY', 24)\n",
      "('GUNFIGHT MOON', 24)\n",
      "('HORN WORKING', 24)\n",
      "('HURRICANE AFFAIR', 24)\n",
      "('ICE CROSSING', 24)\n",
      "('JASON TRAP', 24)\n",
      "('JUMPING WRATH', 24)\n",
      "('KNOCK WARLOCK', 24)\n",
      "('LOLA AGENT', 24)\n",
      "('MAIDEN HOME', 24)\n",
      "('MOCKINGBIRD HOLLYWOOD', 24)\n",
      "('ORANGE GRAPES', 24)\n",
      "('OZ LIAISONS', 24)\n",
      "('PACIFIC AMISTAD', 24)\n",
      "('ROMAN PUNK', 24)\n",
      "('SEATTLE EXPECATIONS', 24)\n",
      "('SHOOTIST SUPERFLY', 24)\n",
      "('SLEEPING SUSPECTS', 24)\n",
      "('SLUMS DUCK', 24)\n",
      "('STRANGELOVE DESIRE', 24)\n",
      "('SUNRISE LEAGUE', 24)\n",
      "('WEDDING APOLLO', 24)\n",
      "('BARBARELLA STREETCAR', 25)\n",
      "('CLASH FREDDY', 25)\n",
      "('CLUELESS BUCKET', 25)\n",
      "('CONEHEADS SMOOCHY', 25)\n",
      "('DOUBLE WRATH', 25)\n",
      "('DOWNHILL ENOUGH', 25)\n",
      "('DYNAMITE TARZAN', 25)\n",
      "('EFFECT GLADIATOR', 25)\n",
      "('ESCAPE METROPOLIS', 25)\n",
      "('FEUD FROGMEN', 25)\n",
      "('FISH OPUS', 25)\n",
      "('GUN BONNIE', 25)\n",
      "('HILLS NEIGHBORS', 25)\n",
      "('MADNESS ATTACKS', 25)\n",
      "('MALLRATS UNITED', 25)\n",
      "('METAL ARMAGEDDON', 25)\n",
      "('NIGHTMARE CHILL', 25)\n",
      "('OSCAR GOLD', 25)\n",
      "('SAMURAI LION', 25)\n",
      "('SHEPHERD MIDSUMMER', 25)\n",
      "('SHOW LORD', 25)\n",
      "('STREETCAR INTENTIONS', 25)\n",
      "('SUN CONFESSIONS', 25)\n",
      "('TELEMARK HEARTBREAKERS', 25)\n",
      "('TOMORROW HUSTLER', 25)\n",
      "('TRADING PINOCCHIO', 25)\n",
      "('WORKING MICROCOSMOS', 25)\n",
      "('ALASKA PHANTOM', 26)\n",
      "('BROTHERHOOD BLANKET', 26)\n",
      "('COMA HEAD', 26)\n",
      "('CONTACT ANONYMOUS', 26)\n",
      "('DISTURBING SCARFACE', 26)\n",
      "('DURHAM PANKY', 26)\n",
      "('FANTASY TROOPERS', 26)\n",
      "('FELLOWSHIP AUTUMN', 26)\n",
      "('HALF OUTFIELD', 26)\n",
      "('HANKY OCTOBER', 26)\n",
      "('HYDE DOCTOR', 26)\n",
      "('INNOCENT USUAL', 26)\n",
      "('ISLAND EXORCIST', 26)\n",
      "('MALKOVICH PET', 26)\n",
      "('METROPOLIS COMA', 26)\n",
      "('PELICAN COMFORTS', 26)\n",
      "('PITY BOUND', 26)\n",
      "('POCUS PULP', 26)\n",
      "('SEABISCUIT PUNK', 26)\n",
      "('STAGECOACH ARMAGEDDON', 26)\n",
      "('TIGHTS DAWN', 26)\n",
      "('TRACY CIDER', 26)\n",
      "('VELVET TERMINATOR', 26)\n",
      "('WESTWARD SEABISCUIT', 26)\n",
      "('BLACKOUT PRIVATE', 27)\n",
      "('CAMELOT VACATION', 27)\n",
      "('CHANCE RESURRECTION', 27)\n",
      "('CURTAIN VIDEOTAPE', 27)\n",
      "('DANCING FEVER', 27)\n",
      "('DETECTIVE VISION', 27)\n",
      "('DORADO NOTTING', 27)\n",
      "('FORRESTER COMANCHEROS', 27)\n",
      "('GANGS PRIDE', 27)\n",
      "('GOLDMINE TYCOON', 27)\n",
      "('HORROR REIGN', 27)\n",
      "('INVASION CYCLONE', 27)\n",
      "('LIES TREATMENT', 27)\n",
      "('LOATHING LEGALLY', 27)\n",
      "('LOSE INCH', 27)\n",
      "('MOVIE SHAKESPEARE', 27)\n",
      "('NONE SPIKING', 27)\n",
      "('OPERATION OPERATION', 27)\n",
      "('PRIMARY GLASS', 27)\n",
      "('PRINCESS GIANT', 27)\n",
      "('RANGE MOONWALKER', 27)\n",
      "('SPY MILE', 27)\n",
      "('SWARM GOLD', 27)\n",
      "('TELEGRAPH VOYAGE', 27)\n",
      "('TORQUE BOUND', 27)\n",
      "('WARDROBE PHANTOM', 27)\n",
      "('CLOSER BANG', 28)\n",
      "('EXPENDABLE STALLION', 28)\n",
      "('FATAL HAUNTED', 28)\n",
      "('GIANT TROOPERS', 28)\n",
      "('GILMORE BOILED', 28)\n",
      "('HANDICAP BOONDOCK', 28)\n",
      "('ROSES TREASURE', 28)\n",
      "('SATURDAY LAMBS', 28)\n",
      "('STORY SIDE', 28)\n",
      "('TRIP NEWTON', 28)\n",
      "('VOYAGE LEGALLY', 28)\n",
      "('BINGO TALENTED', 29)\n",
      "('BOOGIE AMELIE', 29)\n",
      "('CONFIDENTIAL INTERVIEW', 29)\n",
      "('DEER VIRGINIAN', 29)\n",
      "('ENEMY ODDS', 29)\n",
      "('FAMILY SWEET', 29)\n",
      "('GLEAMING JAWBREAKER', 29)\n",
      "('GREATEST NORTH', 29)\n",
      "('MOON BUNCH', 29)\n",
      "('STORM HAPPINESS', 29)\n",
      "('SWEETHEARTS SUSPECTS', 29)\n",
      "('TALENTED HOMICIDE', 29)\n",
      "('TITANS JERK', 29)\n",
      "('VIDEOTAPE ARSENIC', 29)\n",
      "('VIRGINIAN PLUTO', 29)\n",
      "('BUTTERFLY CHOCOLAT', 30)\n",
      "('CAT CONEHEADS', 30)\n",
      "('DOGMA FAMILY', 30)\n",
      "('ENGLISH BULWORTH', 30)\n",
      "('FROST HEAD', 30)\n",
      "('GRAFFITI LOVE', 30)\n",
      "('HARRY IDAHO', 30)\n",
      "('IDOLS SNATCHERS', 30)\n",
      "('MARRIED GO', 30)\n",
      "('MASSACRE USUAL', 30)\n",
      "('MUSCLE BRIGHT', 30)\n",
      "('PULP BEVERLY', 30)\n",
      "('RUGRATS SHAKESPEARE', 30)\n",
      "('SHOCK CABIN', 30)\n",
      "('SUSPECTS QUILLS', 30)\n",
      "('WITCHES PANIC', 30)\n",
      "('APACHE DIVINE', 31)\n",
      "('GOODFELLAS SALUTE', 31)\n",
      "('HOBBIT ALIEN', 31)\n",
      "('NETWORK PEAK', 31)\n",
      "('ROBBERS JOON', 31)\n",
      "('RUSH GOODFELLAS', 31)\n",
      "('TIMBERLAND SKY', 31)\n",
      "('WIFE TURN', 31)\n",
      "('ZORRO ARK', 31)\n",
      "('FORWARD TEMPLE', 32)\n",
      "('GRIT CLOCKWORK', 32)\n",
      "('JUGGLER HARDLY', 32)\n",
      "('RIDGEMONT SUBMARINE', 32)\n",
      "('SCALAWAG DUCK', 32)\n",
      "('ROCKETEER MOTHER', 33)\n",
      "('BUCKET BROTHERHOOD', 34)\n"
     ]
    }
   ],
   "source": [
    "db('''\n",
    "SELECT \n",
    "    AVG(total_rentals)\n",
    "INTO @avg_rentals\n",
    "FROM\n",
    "    (SELECT\n",
    "        COUNT(rental.rental_id) AS total_rentals\n",
    "    FROM\n",
    "        rental\n",
    "        INNER JOIN inventory USING (inventory_id)\n",
    "        INNER JOIN film USING (film_id)\n",
    "    GROUP BY\n",
    "        film.film_id\n",
    "    ) AS rentals\n",
    "''')\n",
    "db('''\n",
    "SELECT @avg_rentals\n",
    "''')\n",
    "db('''\n",
    "SELECT\n",
    "    film.title, COUNT(rental.rental_id) AS total_rentals\n",
    "FROM\n",
    "    rental\n",
    "    INNER JOIN inventory USING (inventory_id)\n",
    "    INNER JOIN film USING (film_id)\n",
    "GROUP BY\n",
    "    film.film_id\n",
    "HAVING\n",
    "    total_rentals > @avg_rentals\n",
    "ORDER BY\n",
    "    total_rentals\n",
    "''')"
   ]
  },
  {
   "attachments": {},
   "cell_type": "markdown",
   "metadata": {
    "tags": []
   },
   "source": [
    "## Views\n",
    "\n",
    "Uma *view* é uma tabela virtual, construida a partir de um comando `SELECT`. Por exemplo: execute o código a seguir."
   ]
  },
  {
   "cell_type": "code",
   "execution_count": 10,
   "metadata": {},
   "outputs": [
    {
     "name": "stdout",
     "output_type": "stream",
     "text": [
      "Executando query:\n",
      "Executando query:\n"
     ]
    }
   ],
   "source": [
    "db('''\n",
    "DROP VIEW IF EXISTS movie_count;\n",
    "''')\n",
    "\n",
    "db('''\n",
    "CREATE VIEW movie_count AS\n",
    "    SELECT \n",
    "        title, COUNT(rental_id) as cnt\n",
    "    FROM\n",
    "        film\n",
    "        LEFT OUTER JOIN inventory USING (film_id)\n",
    "        LEFT OUTER JOIN rental USING (inventory_id)\n",
    "    GROUP BY\n",
    "        film_id\n",
    "    ORDER BY\n",
    "        cnt ASC;\n",
    "''')"
   ]
  },
  {
   "attachments": {},
   "cell_type": "markdown",
   "metadata": {},
   "source": [
    "Agora temos uma *view* chamada `movie_count`. Vamos verificar que ela funcionou, listando as 30 primeiras linhas:"
   ]
  },
  {
   "cell_type": "code",
   "execution_count": 11,
   "metadata": {},
   "outputs": [
    {
     "name": "stdout",
     "output_type": "stream",
     "text": [
      "Executando query:\n",
      "('ALICE FANTASIA', 0)\n",
      "('APOLLO TEEN', 0)\n",
      "('ARGONAUTS TOWN', 0)\n",
      "('ARK RIDGEMONT', 0)\n",
      "('ARSENIC INDEPENDENCE', 0)\n",
      "('BOONDOCK BALLROOM', 0)\n",
      "('BUTCH PANTHER', 0)\n",
      "('CATCH AMISTAD', 0)\n",
      "('CHINATOWN GLADIATOR', 0)\n",
      "('CHOCOLATE DUCK', 0)\n",
      "('COMMANDMENTS EXPRESS', 0)\n",
      "('CROSSING DIVORCE', 0)\n",
      "('CROWDS TELEMARK', 0)\n",
      "('CRYSTAL BREAKING', 0)\n",
      "('DAZED PUNK', 0)\n",
      "('DELIVERANCE MULHOLLAND', 0)\n",
      "('FIREHOUSE VIETNAM', 0)\n",
      "('FLOATS GARDEN', 0)\n",
      "('FRANKENSTEIN STRANGER', 0)\n",
      "('GLADIATOR WESTWARD', 0)\n",
      "('GUMP DATE', 0)\n",
      "('HATE HANDICAP', 0)\n",
      "('HOCUS FRIDA', 0)\n",
      "('KENTUCKIAN GIANT', 0)\n",
      "('KILL BROTHERHOOD', 0)\n",
      "('MUPPET MILE', 0)\n",
      "('ORDER BETRAYED', 0)\n",
      "('PEARL DESTINY', 0)\n",
      "('PERDITION FARGO', 0)\n",
      "('PSYCHO SHRUNK', 0)\n"
     ]
    }
   ],
   "source": [
    "db('''\n",
    "SELECT \n",
    "    *\n",
    "FROM\n",
    "    movie_count \n",
    "LIMIT \n",
    "    30\n",
    "''')"
   ]
  },
  {
   "cell_type": "code",
   "execution_count": 12,
   "metadata": {},
   "outputs": [
    {
     "name": "stdout",
     "output_type": "stream",
     "text": [
      "Executando query:\n",
      "('BUCKET BROTHERHOOD', 34)\n",
      "('ROCKETEER MOTHER', 33)\n",
      "('SCALAWAG DUCK', 32)\n",
      "('RIDGEMONT SUBMARINE', 32)\n",
      "('JUGGLER HARDLY', 32)\n",
      "('GRIT CLOCKWORK', 32)\n",
      "('FORWARD TEMPLE', 32)\n",
      "('ZORRO ARK', 31)\n",
      "('WIFE TURN', 31)\n",
      "('TIMBERLAND SKY', 31)\n",
      "('RUSH GOODFELLAS', 31)\n",
      "('ROBBERS JOON', 31)\n",
      "('NETWORK PEAK', 31)\n",
      "('HOBBIT ALIEN', 31)\n",
      "('GOODFELLAS SALUTE', 31)\n",
      "('APACHE DIVINE', 31)\n",
      "('WITCHES PANIC', 30)\n",
      "('SUSPECTS QUILLS', 30)\n",
      "('SHOCK CABIN', 30)\n",
      "('RUGRATS SHAKESPEARE', 30)\n",
      "('PULP BEVERLY', 30)\n",
      "('MUSCLE BRIGHT', 30)\n",
      "('MASSACRE USUAL', 30)\n",
      "('MARRIED GO', 30)\n",
      "('IDOLS SNATCHERS', 30)\n",
      "('HARRY IDAHO', 30)\n",
      "('GRAFFITI LOVE', 30)\n",
      "('FROST HEAD', 30)\n",
      "('ENGLISH BULWORTH', 30)\n",
      "('DOGMA FAMILY', 30)\n"
     ]
    }
   ],
   "source": [
    "db('''\n",
    "SELECT \n",
    "    * \n",
    "FROM \n",
    "    movie_count \n",
    "ORDER BY\n",
    "    cnt DESC\n",
    "LIMIT 30\n",
    "''')"
   ]
  },
  {
   "attachments": {},
   "cell_type": "markdown",
   "metadata": {},
   "source": [
    "Agora suponha que alteramos a tabela `film`, mudando o nome do filme \"DAZED PUNK\" para \"STONED PUNK\".\n",
    "\n",
    "**Atividade**: Do it."
   ]
  },
  {
   "cell_type": "code",
   "execution_count": 13,
   "metadata": {},
   "outputs": [
    {
     "name": "stdout",
     "output_type": "stream",
     "text": [
      "Executando query:\n"
     ]
    }
   ],
   "source": [
    "db('''\n",
    "UPDATE\n",
    "    film\n",
    "SET\n",
    "    title = 'STONED PUNK'\n",
    "WHERE\n",
    "    title = 'DAZED PUNK'\n",
    "''')"
   ]
  },
  {
   "attachments": {},
   "cell_type": "markdown",
   "metadata": {},
   "source": [
    "Verifique agora a nossa *view*:"
   ]
  },
  {
   "cell_type": "code",
   "execution_count": 14,
   "metadata": {},
   "outputs": [
    {
     "name": "stdout",
     "output_type": "stream",
     "text": [
      "Executando query:\n",
      "('ALICE FANTASIA', 0)\n",
      "('APOLLO TEEN', 0)\n",
      "('ARGONAUTS TOWN', 0)\n",
      "('ARK RIDGEMONT', 0)\n",
      "('ARSENIC INDEPENDENCE', 0)\n",
      "('BOONDOCK BALLROOM', 0)\n",
      "('BUTCH PANTHER', 0)\n",
      "('CATCH AMISTAD', 0)\n",
      "('CHINATOWN GLADIATOR', 0)\n",
      "('CHOCOLATE DUCK', 0)\n",
      "('COMMANDMENTS EXPRESS', 0)\n",
      "('CROSSING DIVORCE', 0)\n",
      "('CROWDS TELEMARK', 0)\n",
      "('CRYSTAL BREAKING', 0)\n",
      "('STONED PUNK', 0)\n",
      "('DELIVERANCE MULHOLLAND', 0)\n",
      "('FIREHOUSE VIETNAM', 0)\n",
      "('FLOATS GARDEN', 0)\n",
      "('FRANKENSTEIN STRANGER', 0)\n",
      "('GLADIATOR WESTWARD', 0)\n",
      "('GUMP DATE', 0)\n",
      "('HATE HANDICAP', 0)\n",
      "('HOCUS FRIDA', 0)\n",
      "('KENTUCKIAN GIANT', 0)\n",
      "('KILL BROTHERHOOD', 0)\n",
      "('MUPPET MILE', 0)\n",
      "('ORDER BETRAYED', 0)\n",
      "('PEARL DESTINY', 0)\n",
      "('PERDITION FARGO', 0)\n",
      "('PSYCHO SHRUNK', 0)\n"
     ]
    }
   ],
   "source": [
    "db('''\n",
    "SELECT\n",
    "    *\n",
    "FROM\n",
    "    movie_count\n",
    "LIMIT\n",
    "    30\n",
    "''')"
   ]
  },
  {
   "attachments": {},
   "cell_type": "markdown",
   "metadata": {},
   "source": [
    "Como você pode ver, as views são tabelas virtuais que são automaticamente atualizadas quando as tabelas originais são modificadas."
   ]
  },
  {
   "cell_type": "code",
   "execution_count": 15,
   "metadata": {},
   "outputs": [],
   "source": [
    "connection.rollback()"
   ]
  },
  {
   "cell_type": "code",
   "execution_count": 16,
   "metadata": {},
   "outputs": [
    {
     "name": "stdout",
     "output_type": "stream",
     "text": [
      "Executando query:\n",
      "('ALICE FANTASIA', 0)\n",
      "('APOLLO TEEN', 0)\n",
      "('ARGONAUTS TOWN', 0)\n",
      "('ARK RIDGEMONT', 0)\n",
      "('ARSENIC INDEPENDENCE', 0)\n",
      "('BOONDOCK BALLROOM', 0)\n",
      "('BUTCH PANTHER', 0)\n",
      "('CATCH AMISTAD', 0)\n",
      "('CHINATOWN GLADIATOR', 0)\n",
      "('CHOCOLATE DUCK', 0)\n",
      "('COMMANDMENTS EXPRESS', 0)\n",
      "('CROSSING DIVORCE', 0)\n",
      "('CROWDS TELEMARK', 0)\n",
      "('CRYSTAL BREAKING', 0)\n",
      "('DAZED PUNK', 0)\n",
      "('DELIVERANCE MULHOLLAND', 0)\n",
      "('FIREHOUSE VIETNAM', 0)\n",
      "('FLOATS GARDEN', 0)\n",
      "('FRANKENSTEIN STRANGER', 0)\n",
      "('GLADIATOR WESTWARD', 0)\n",
      "('GUMP DATE', 0)\n",
      "('HATE HANDICAP', 0)\n",
      "('HOCUS FRIDA', 0)\n",
      "('KENTUCKIAN GIANT', 0)\n",
      "('KILL BROTHERHOOD', 0)\n",
      "('MUPPET MILE', 0)\n",
      "('ORDER BETRAYED', 0)\n",
      "('PEARL DESTINY', 0)\n",
      "('PERDITION FARGO', 0)\n",
      "('PSYCHO SHRUNK', 0)\n"
     ]
    }
   ],
   "source": [
    "db('''\n",
    "SELECT\n",
    "    *\n",
    "FROM\n",
    "    movie_count\n",
    "LIMIT\n",
    "    30\n",
    "''')"
   ]
  },
  {
   "attachments": {},
   "cell_type": "markdown",
   "metadata": {},
   "source": [
    "### Vamos praticar"
   ]
  },
  {
   "attachments": {},
   "cell_type": "markdown",
   "metadata": {},
   "source": [
    "Verifique quantas vezes o filme \"COWBOY DOOM\" foi alugado usando a view `movie_count`"
   ]
  },
  {
   "cell_type": "code",
   "execution_count": 17,
   "metadata": {},
   "outputs": [
    {
     "name": "stdout",
     "output_type": "stream",
     "text": [
      "Executando query:\n",
      "(7,)\n"
     ]
    }
   ],
   "source": [
    "sql_ex03 = '''\n",
    "SELECT\n",
    "    cnt\n",
    "FROM\n",
    "    movie_count\n",
    "WHERE\n",
    "    title = 'COWBOY DOOM'\n",
    "'''\n",
    "\n",
    "db(sql_ex03)"
   ]
  },
  {
   "cell_type": "code",
   "execution_count": 18,
   "metadata": {},
   "outputs": [
    {
     "data": {
      "application/vnd.jupyter.widget-view+json": {
       "model_id": "f3aa5e45a70d413782f48dad240276c5",
       "version_major": 2,
       "version_minor": 0
      },
      "text/plain": [
       "interactive(children=(Button(description='Enviar ex03', style=ButtonStyle()), Output()), _dom_classes=('widget…"
      ]
     },
     "execution_count": 18,
     "metadata": {},
     "output_type": "execute_result"
    }
   ],
   "source": [
    "ia.sender(answer='sql_ex03', task='views', question='ex03', answer_type='pyvar')"
   ]
  },
  {
   "attachments": {},
   "cell_type": "markdown",
   "metadata": {},
   "source": [
    "Registre um aluguel do filme \"COWBOY DOOM\" (com o menor id possível), feito pelo funcionario \"Jon Stephens\" na loja id=1 para o cliente \"JESSIE BANKS\", na data '2019-01-01', com data de retorno '2019-01-08'."
   ]
  },
  {
   "cell_type": "code",
   "execution_count": 19,
   "metadata": {},
   "outputs": [
    {
     "name": "stdout",
     "output_type": "stream",
     "text": [
      "Executando query:\n",
      "(16049,)\n"
     ]
    }
   ],
   "source": [
    "db('SELECT rental_id FROM rental ORDER BY rental_id DESC LIMIT 1')"
   ]
  },
  {
   "cell_type": "code",
   "execution_count": 20,
   "metadata": {},
   "outputs": [
    {
     "name": "stdout",
     "output_type": "stream",
     "text": [
      "Executando query:\n",
      "(2,)\n"
     ]
    }
   ],
   "source": [
    "db(\"SELECT staff_id FROM staff WHERE first_name = 'Jon' AND last_name = 'Stephens'\")"
   ]
  },
  {
   "cell_type": "code",
   "execution_count": 21,
   "metadata": {},
   "outputs": [
    {
     "name": "stdout",
     "output_type": "stream",
     "text": [
      "Executando query:\n",
      "(215,)\n"
     ]
    }
   ],
   "source": [
    "db(\"SELECT customer_id FROM customer WHERE first_name = 'JESSIE' AND last_name = 'BANKS'\")"
   ]
  },
  {
   "cell_type": "code",
   "execution_count": 22,
   "metadata": {},
   "outputs": [
    {
     "name": "stdout",
     "output_type": "stream",
     "text": [
      "Executando query:\n",
      "(845,)\n"
     ]
    }
   ],
   "source": [
    "db(\"SELECT inventory_id FROM inventory WHERE film_id = (SELECT film_id FROM film WHERE title = 'COWBOY DOOM') LIMIT 1\")"
   ]
  },
  {
   "cell_type": "code",
   "execution_count": 23,
   "metadata": {},
   "outputs": [
    {
     "name": "stdout",
     "output_type": "stream",
     "text": [
      "Executando query:\n"
     ]
    }
   ],
   "source": [
    "sql_ex04 = '''\n",
    "INSERT INTO\n",
    "    rental\n",
    "VALUES (\n",
    "    0,\n",
    "    '2023-09-11 12:42:07',\n",
    "    (SELECT inventory_id FROM inventory WHERE film_id = (SELECT film_id FROM film WHERE title = 'COWBOY DOOM') LIMIT 1),\n",
    "    (SELECT customer_id FROM customer WHERE first_name = 'JESSIE' AND last_name = 'BANKS'),\n",
    "    '2023-01-08 00:00:00',\n",
    "    (SELECT staff_id FROM staff WHERE first_name = 'Jon' AND last_name = 'Stephens'),\n",
    "    current_date\n",
    ")\n",
    "'''\n",
    "\n",
    "db(sql_ex04)"
   ]
  },
  {
   "cell_type": "code",
   "execution_count": 24,
   "metadata": {},
   "outputs": [
    {
     "data": {
      "application/vnd.jupyter.widget-view+json": {
       "model_id": "822ae384957e4c538115e0b25a606575",
       "version_major": 2,
       "version_minor": 0
      },
      "text/plain": [
       "interactive(children=(Button(description='Enviar ex04', style=ButtonStyle()), Output()), _dom_classes=('widget…"
      ]
     },
     "execution_count": 24,
     "metadata": {},
     "output_type": "execute_result"
    }
   ],
   "source": [
    "ia.sender(answer='sql_ex04', task='views', question='ex04', answer_type='pyvar')"
   ]
  },
  {
   "attachments": {},
   "cell_type": "markdown",
   "metadata": {},
   "source": [
    "Verifique usando a view que a contagem de alugueis do filme subiu."
   ]
  },
  {
   "cell_type": "code",
   "execution_count": 25,
   "metadata": {},
   "outputs": [
    {
     "name": "stdout",
     "output_type": "stream",
     "text": [
      "Executando query:\n",
      "('COWBOY DOOM', 8)\n"
     ]
    }
   ],
   "source": [
    "db('''\n",
    "SELECT\n",
    "    *\n",
    "FROM\n",
    "    movie_count\n",
    "WHERE\n",
    "    title = 'COWBOY DOOM'\n",
    "''')"
   ]
  },
  {
   "attachments": {},
   "cell_type": "markdown",
   "metadata": {},
   "source": [
    "Faça o *rollback* desta alteração, para não modificar a nossa querida base de dados *sakila*."
   ]
  },
  {
   "cell_type": "code",
   "execution_count": 26,
   "metadata": {},
   "outputs": [],
   "source": [
    "connection.rollback()"
   ]
  },
  {
   "attachments": {},
   "cell_type": "markdown",
   "metadata": {},
   "source": [
    "## Tabelas temporárias"
   ]
  },
  {
   "attachments": {},
   "cell_type": "markdown",
   "metadata": {},
   "source": [
    "Tabelas temporárias podem ser criadas para ajudar nas tarefas de manipulação de dados. Essas tabelas existem apenas pela duração da sessão. Para criar uma tabela temporária, basta adicionar a palavra-chave `TEMPORARY` no momento da criação.\n",
    "\n",
    "É comum criar tabelas temporárias à partir do resultado de comandos `SELECT`. Por exemplo, a seguinte query permite montar uma tabela temporária com os filmes que duram mais que 3 horas:"
   ]
  },
  {
   "cell_type": "code",
   "execution_count": 27,
   "metadata": {},
   "outputs": [
    {
     "name": "stdout",
     "output_type": "stream",
     "text": [
      "Executando query:\n",
      "Executando query:\n"
     ]
    }
   ],
   "source": [
    "db('''\n",
    "DROP TABLE IF EXISTS long_film\n",
    "''')\n",
    "\n",
    "db('''\n",
    "CREATE TEMPORARY TABLE long_film \n",
    "    SELECT\n",
    "        *\n",
    "    FROM\n",
    "        film\n",
    "    WHERE\n",
    "        film.length > 180;\n",
    "''')"
   ]
  },
  {
   "attachments": {},
   "cell_type": "markdown",
   "metadata": {},
   "source": [
    "Podemos verificar que a tabela `long_film` agora existe:"
   ]
  },
  {
   "cell_type": "code",
   "execution_count": 28,
   "metadata": {
    "scrolled": true,
    "tags": []
   },
   "outputs": [
    {
     "name": "stdout",
     "output_type": "stream",
     "text": [
      "Executando query:\n",
      "('film_id', 'smallint unsigned', 'NO', '', '0', 'NULL')\n",
      "('title', 'varchar(128)', 'NO', '', None, 'NULL')\n",
      "('description', 'text', 'YES', '', None, 'NULL')\n",
      "('release_year', 'year', 'YES', '', None, 'NULL')\n",
      "('language_id', 'tinyint unsigned', 'NO', '', None, 'NULL')\n",
      "('original_language_id', 'tinyint unsigned', 'YES', '', None, 'NULL')\n",
      "('rental_duration', 'tinyint unsigned', 'NO', '', '3', 'NULL')\n",
      "('rental_rate', 'decimal(4,2)', 'NO', '', '4.99', 'NULL')\n",
      "('length', 'smallint unsigned', 'YES', '', None, 'NULL')\n",
      "('replacement_cost', 'decimal(5,2)', 'NO', '', '19.99', 'NULL')\n",
      "('rating', \"enum('G','PG','PG-13','R','NC-17')\", 'YES', '', 'G', 'NULL')\n",
      "('special_features', \"set('Trailers','Commentaries','Deleted Scenes','Behind the Scenes')\", 'YES', '', None, 'NULL')\n",
      "('last_update', 'timestamp', 'NO', '', 'CURRENT_TIMESTAMP', 'on update CURRENT_TIMESTAMP')\n"
     ]
    }
   ],
   "source": [
    "db('DESCRIBE long_film')"
   ]
  },
  {
   "cell_type": "code",
   "execution_count": 29,
   "metadata": {},
   "outputs": [
    {
     "name": "stdout",
     "output_type": "stream",
     "text": [
      "Executando query:\n",
      "Executando query:\n",
      "('TEMPORARY',)\n"
     ]
    }
   ],
   "source": [
    "db(\"CALL sys.table_exists('sakila', 'long_film', @table_type);\")\n",
    "db(\"SELECT @table_type;\")"
   ]
  },
  {
   "attachments": {},
   "cell_type": "markdown",
   "metadata": {},
   "source": [
    "Muito embora ela não apareça na lista de tabelas: isso é um bug do MySQL. (https://dev.mysql.com/worklog/task/?id=648)"
   ]
  },
  {
   "cell_type": "code",
   "execution_count": 30,
   "metadata": {},
   "outputs": [
    {
     "name": "stdout",
     "output_type": "stream",
     "text": [
      "Executando query:\n",
      "('actor',)\n",
      "('actor_info',)\n",
      "('address',)\n",
      "('category',)\n",
      "('city',)\n",
      "('country',)\n",
      "('customer',)\n",
      "('customer_list',)\n",
      "('film',)\n",
      "('film_actor',)\n",
      "('film_category',)\n",
      "('film_list',)\n",
      "('film_text',)\n",
      "('inventory',)\n",
      "('language',)\n",
      "('movie_count',)\n",
      "('nicer_but_slower_film_list',)\n",
      "('payment',)\n",
      "('rental',)\n",
      "('sales_by_film_category',)\n",
      "('sales_by_store',)\n",
      "('staff',)\n",
      "('staff_list',)\n",
      "('store',)\n"
     ]
    }
   ],
   "source": [
    "db('SHOW TABLES')"
   ]
  },
  {
   "attachments": {},
   "cell_type": "markdown",
   "metadata": {},
   "source": [
    "Vamos listar o conteudo desta tabela:"
   ]
  },
  {
   "cell_type": "code",
   "execution_count": 31,
   "metadata": {
    "tags": []
   },
   "outputs": [
    {
     "name": "stdout",
     "output_type": "stream",
     "text": [
      "Executando query:\n",
      "('ANALYZE HOOSIERS',)\n",
      "('BAKED CLEOPATRA',)\n",
      "('CATCH AMISTAD',)\n",
      "('CHICAGO NORTH',)\n",
      "('CONSPIRACY SPIRIT',)\n",
      "('CONTROL ANTHEM',)\n",
      "('CRYSTAL BREAKING',)\n",
      "('DARN FORRESTER',)\n",
      "('FRONTIER CABIN',)\n",
      "('GANGS PRIDE',)\n",
      "('HAUNTING PIANIST',)\n",
      "('HOME PITY',)\n",
      "('HOTEL HAPPINESS',)\n",
      "('INTRIGUE WORST',)\n",
      "('JACKET FRISCO',)\n",
      "('KING EVOLUTION',)\n",
      "('LAWLESS VISION',)\n",
      "('LOVE SUICIDES',)\n",
      "('MONSOON CAUSE',)\n",
      "('MOONWALKER FOOL',)\n",
      "('MUSCLE BRIGHT',)\n",
      "('POND SEATTLE',)\n",
      "('RECORDS ZORRO',)\n",
      "('REDS POCUS',)\n",
      "('RUNAWAY TENENBAUMS',)\n",
      "('SATURN NAME',)\n",
      "('SCALAWAG DUCK',)\n",
      "('SEARCHERS WAIT',)\n",
      "('SMOOCHY CONTROL',)\n",
      "('SOLDIERS EVOLUTION',)\n",
      "('SONS INTERVIEW',)\n",
      "('SORORITY QUEEN',)\n",
      "('STAR OPERATION',)\n",
      "('SWEET BROTHERHOOD',)\n",
      "('THEORY MERMAID',)\n",
      "('WIFE TURN',)\n",
      "('WILD APOLLO',)\n",
      "('WORST BANGER',)\n",
      "('YOUNG LANGUAGE',)\n"
     ]
    }
   ],
   "source": [
    "db('SELECT title FROM long_film')"
   ]
  },
  {
   "attachments": {},
   "cell_type": "markdown",
   "metadata": {},
   "source": [
    "Vamos apagar a tabela `long_film`:"
   ]
  },
  {
   "cell_type": "code",
   "execution_count": 32,
   "metadata": {},
   "outputs": [
    {
     "name": "stdout",
     "output_type": "stream",
     "text": [
      "Executando query:\n"
     ]
    }
   ],
   "source": [
    "db('DROP TABLE long_film')"
   ]
  },
  {
   "attachments": {},
   "cell_type": "markdown",
   "metadata": {},
   "source": [
    "### Vamos praticar"
   ]
  },
  {
   "attachments": {},
   "cell_type": "markdown",
   "metadata": {},
   "source": [
    "- Crie uma tabela temporária `max_duration` que contém a duração máxima de filme para cada categoria. Apresente o id da categoria, seu nome e a duração máxima."
   ]
  },
  {
   "cell_type": "code",
   "execution_count": 33,
   "metadata": {},
   "outputs": [
    {
     "name": "stdout",
     "output_type": "stream",
     "text": [
      "Executando query:\n",
      "Executando query:\n"
     ]
    }
   ],
   "source": [
    "db('DROP TABLE IF EXISTS max_duration')\n",
    "\n",
    "sql_ex05 = '''\n",
    "CREATE TEMPORARY TABLE max_duration\n",
    "    SELECT\n",
    "        category_id, name, MAX(film.length) as max_len\n",
    "    FROM\n",
    "        film\n",
    "        INNER JOIN film_category USING (film_id)\n",
    "        INNER JOIN category USING (category_id)\n",
    "    GROUP BY\n",
    "        category_id\n",
    "'''\n",
    "\n",
    "db(sql_ex05)"
   ]
  },
  {
   "cell_type": "code",
   "execution_count": 34,
   "metadata": {},
   "outputs": [
    {
     "data": {
      "application/vnd.jupyter.widget-view+json": {
       "model_id": "da38c5b1ee8e43588bc780ce81d1aabd",
       "version_major": 2,
       "version_minor": 0
      },
      "text/plain": [
       "interactive(children=(Button(description='Enviar ex05', style=ButtonStyle()), Output()), _dom_classes=('widget…"
      ]
     },
     "execution_count": 34,
     "metadata": {},
     "output_type": "execute_result"
    }
   ],
   "source": [
    "ia.sender(answer='sql_ex05', task='views', question='ex05', answer_type='pyvar')"
   ]
  },
  {
   "attachments": {},
   "cell_type": "markdown",
   "metadata": {},
   "source": [
    " - Verifique a tabela."
   ]
  },
  {
   "cell_type": "code",
   "execution_count": 35,
   "metadata": {},
   "outputs": [
    {
     "name": "stdout",
     "output_type": "stream",
     "text": [
      "Executando query:\n",
      "(1, 'Action', 185)\n",
      "(2, 'Animation', 185)\n",
      "(3, 'Children', 178)\n",
      "(4, 'Classics', 184)\n",
      "(5, 'Comedy', 185)\n",
      "(6, 'Documentary', 183)\n",
      "(7, 'Drama', 181)\n",
      "(8, 'Family', 184)\n",
      "(9, 'Foreign', 184)\n",
      "(10, 'Games', 185)\n",
      "(11, 'Horror', 181)\n",
      "(12, 'Music', 185)\n",
      "(13, 'New', 183)\n",
      "(14, 'Sci-Fi', 185)\n",
      "(15, 'Sports', 184)\n",
      "(16, 'Travel', 185)\n"
     ]
    }
   ],
   "source": [
    "db('SELECT * FROM max_duration')"
   ]
  },
  {
   "cell_type": "code",
   "execution_count": 36,
   "metadata": {},
   "outputs": [
    {
     "name": "stdout",
     "output_type": "stream",
     "text": [
      "Executando query:\n",
      "('category_id', 'tinyint unsigned', 'NO', '', None, 'NULL')\n",
      "('name', 'varchar(25)', 'NO', '', None, 'NULL')\n",
      "('max_len', 'smallint unsigned', 'YES', '', None, 'NULL')\n"
     ]
    }
   ],
   "source": [
    "db('DESCRIBE max_duration')"
   ]
  },
  {
   "attachments": {},
   "cell_type": "markdown",
   "metadata": {},
   "source": [
    "- Agora use a tabela temporária para construir uma consulta com as categorias e seus respectivos filmes mais longos:"
   ]
  },
  {
   "cell_type": "code",
   "execution_count": 37,
   "metadata": {},
   "outputs": [
    {
     "name": "stdout",
     "output_type": "stream",
     "text": [
      "Executando query:\n",
      "(1, 'Action', 212, 'DARN FORRESTER', 185)\n",
      "(1, 'Action', 991, 'WORST BANGER', 185)\n",
      "(2, 'Animation', 349, 'GANGS PRIDE', 185)\n",
      "(2, 'Animation', 690, 'POND SEATTLE', 185)\n",
      "(3, 'Children', 344, 'FURY MURDER', 178)\n",
      "(3, 'Children', 993, 'WRONG BEHAVIOR', 178)\n",
      "(4, 'Classics', 180, 'CONSPIRACY SPIRIT', 184)\n",
      "(5, 'Comedy', 182, 'CONTROL ANTHEM', 185)\n",
      "(6, 'Documentary', 973, 'WIFE TURN', 183)\n",
      "(6, 'Documentary', 996, 'YOUNG LANGUAGE', 183)\n",
      "(7, 'Drama', 473, 'JACKET FRISCO', 181)\n",
      "(8, 'Family', 499, 'KING EVOLUTION', 184)\n",
      "(9, 'Foreign', 198, 'CRYSTAL BREAKING', 184)\n",
      "(9, 'Foreign', 821, 'SORORITY QUEEN', 184)\n",
      "(10, 'Games', 141, 'CHICAGO NORTH', 185)\n",
      "(11, 'Horror', 24, 'ANALYZE HOOSIERS', 181)\n",
      "(11, 'Horror', 535, 'LOVE SUICIDES', 181)\n",
      "(12, 'Music', 426, 'HOME PITY', 185)\n",
      "(13, 'New', 340, 'FRONTIER CABIN', 183)\n",
      "(14, 'Sci-Fi', 817, 'SOLDIERS EVOLUTION', 185)\n",
      "(15, 'Sports', 813, 'SMOOCHY CONTROL', 184)\n",
      "(16, 'Travel', 609, 'MUSCLE BRIGHT', 185)\n",
      "(16, 'Travel', 872, 'SWEET BROTHERHOOD', 185)\n"
     ]
    }
   ],
   "source": [
    "db('''\n",
    "SELECT\n",
    "    category_id, name, film_id, title, length\n",
    "FROM\n",
    "    film\n",
    "    INNER JOIN film_category USING (film_id)\n",
    "    INNER JOIN max_duration USING (category_id)\n",
    "WHERE\n",
    "    length = max_len\n",
    "''')"
   ]
  },
  {
   "attachments": {},
   "cell_type": "markdown",
   "metadata": {},
   "source": [
    "- delete a tabela temporária"
   ]
  },
  {
   "cell_type": "code",
   "execution_count": 38,
   "metadata": {},
   "outputs": [
    {
     "name": "stdout",
     "output_type": "stream",
     "text": [
      "Executando query:\n"
     ]
    }
   ],
   "source": [
    "db('''\n",
    "DROP TABLE max_duration\n",
    "''')"
   ]
  },
  {
   "attachments": {},
   "cell_type": "markdown",
   "metadata": {
    "tags": []
   },
   "source": [
    "## Variáveis\n",
    "\n",
    "Podemos montar uma query que retorne um valor só e armazenar este valor em uma variável, para uso posterior em outras queries. Para isso vamos usar o prefixo '@' para indicar variáveis, e o comando `SELECT ... INTO`.\n",
    "\n",
    "Exemplo: quais são os filmes \"caros\" da nossa base sakila? Vamos descobrir quais filmes custam mais que um desvio padrão acima da média de preços de locação.\n",
    "\n",
    "Primeiro vamos calcular a média e o desvio padrão dos preços de aluguel:"
   ]
  },
  {
   "cell_type": "code",
   "execution_count": 39,
   "metadata": {},
   "outputs": [
    {
     "name": "stdout",
     "output_type": "stream",
     "text": [
      "Executando query:\n"
     ]
    }
   ],
   "source": [
    "db('''\n",
    "SELECT \n",
    "    AVG(rental_rate), \n",
    "    STDDEV(rental_rate)\n",
    "INTO \n",
    "    @avg_rate, \n",
    "    @stddev_rate \n",
    "FROM\n",
    "    film;\n",
    "''')"
   ]
  },
  {
   "attachments": {},
   "cell_type": "markdown",
   "metadata": {},
   "source": [
    "Note que a query não retorna um resultado: o resultado foi armazenado direto nas variáveis `@avg_rate` e `@stddev_rate`. Vamos usar um `SELECT` sem tabelas para ver o resultado:"
   ]
  },
  {
   "cell_type": "code",
   "execution_count": 40,
   "metadata": {},
   "outputs": [
    {
     "name": "stdout",
     "output_type": "stream",
     "text": [
      "Executando query:\n",
      "(Decimal('2.980000000'), 1.6455698101265719)\n"
     ]
    }
   ],
   "source": [
    "db('SELECT @avg_rate, @stddev_rate')"
   ]
  },
  {
   "attachments": {},
   "cell_type": "markdown",
   "metadata": {},
   "source": [
    "Agora podemos selecionar os filmes caros!"
   ]
  },
  {
   "cell_type": "code",
   "execution_count": 41,
   "metadata": {
    "tags": []
   },
   "outputs": [
    {
     "name": "stdout",
     "output_type": "stream",
     "text": [
      "Executando query:\n",
      "('ACE GOLDFINGER', Decimal('4.99'))\n",
      "('AIRPLANE SIERRA', Decimal('4.99'))\n",
      "('AIRPORT POLLOCK', Decimal('4.99'))\n",
      "('ALADDIN CALENDAR', Decimal('4.99'))\n",
      "('ALI FOREVER', Decimal('4.99'))\n",
      "('AMELIE HELLFIGHTERS', Decimal('4.99'))\n",
      "('AMERICAN CIRCUS', Decimal('4.99'))\n",
      "('ANTHEM LUKE', Decimal('4.99'))\n",
      "('APACHE DIVINE', Decimal('4.99'))\n",
      "('APOCALYPSE FLAMINGOS', Decimal('4.99'))\n"
     ]
    }
   ],
   "source": [
    "db('''\n",
    "SELECT \n",
    "    title, rental_rate\n",
    "FROM\n",
    "    film\n",
    "WHERE\n",
    "    rental_rate > @avg_rate + @stddev_rate\n",
    "LIMIT 10\n",
    "''')"
   ]
  },
  {
   "attachments": {},
   "cell_type": "markdown",
   "metadata": {},
   "source": [
    "### Vamos praticar"
   ]
  },
  {
   "attachments": {},
   "cell_type": "markdown",
   "metadata": {},
   "source": [
    "Armazene na variável temporária `most_films` a quantidade de filmes feitos pelo ator ou atriz que mais participou de filmes."
   ]
  },
  {
   "cell_type": "code",
   "execution_count": 42,
   "metadata": {},
   "outputs": [
    {
     "name": "stdout",
     "output_type": "stream",
     "text": [
      "Executando query:\n"
     ]
    }
   ],
   "source": [
    "sql_ex06 = '''\n",
    "SELECT\n",
    "    COUNT(film.film_id)\n",
    "INTO\n",
    "    @most_films\n",
    "FROM\n",
    "    film\n",
    "    INNER JOIN film_actor USING (film_id)\n",
    "    INNER JOIN actor USING (actor_id)\n",
    "GROUP BY\n",
    "    actor_id\n",
    "ORDER BY\n",
    "    COUNT(film.film_id) DESC\n",
    "LIMIT 1\n",
    "'''\n",
    "\n",
    "db(sql_ex06)"
   ]
  },
  {
   "cell_type": "code",
   "execution_count": 43,
   "metadata": {},
   "outputs": [
    {
     "name": "stdout",
     "output_type": "stream",
     "text": [
      "Executando query:\n",
      "(42,)\n"
     ]
    }
   ],
   "source": [
    "db(\"\"\"\n",
    "SELECT @most_films\n",
    "\"\"\")"
   ]
  },
  {
   "cell_type": "code",
   "execution_count": 44,
   "metadata": {},
   "outputs": [
    {
     "data": {
      "application/vnd.jupyter.widget-view+json": {
       "model_id": "e2ab0f34158040b9a466f1b35c8b6320",
       "version_major": 2,
       "version_minor": 0
      },
      "text/plain": [
       "interactive(children=(Button(description='Enviar ex06', style=ButtonStyle()), Output()), _dom_classes=('widget…"
      ]
     },
     "execution_count": 44,
     "metadata": {},
     "output_type": "execute_result"
    }
   ],
   "source": [
    "ia.sender(answer='sql_ex06', task='views', question='ex06', answer_type='pyvar')"
   ]
  },
  {
   "attachments": {},
   "cell_type": "markdown",
   "metadata": {},
   "source": [
    "## Operador `IN`"
   ]
  },
  {
   "attachments": {},
   "cell_type": "markdown",
   "metadata": {},
   "source": [
    "Suponha que desejamos listar todos os filmes dos 3 atores mais populares. Podemos começar listando os 3 atores mais populares:"
   ]
  },
  {
   "cell_type": "code",
   "execution_count": 45,
   "metadata": {},
   "outputs": [
    {
     "name": "stdout",
     "output_type": "stream",
     "text": [
      "Executando query:\n",
      "(107, 'GINA', 'DEGENERES', 42)\n",
      "(102, 'WALTER', 'TORN', 41)\n",
      "(198, 'MARY', 'KEITEL', 40)\n"
     ]
    }
   ],
   "source": [
    "db('''\n",
    "SELECT \n",
    "    actor_id, first_name, last_name, COUNT(film_id) AS num_films\n",
    "FROM\n",
    "    actor\n",
    "    INNER JOIN film_actor USING (actor_id)\n",
    "GROUP BY \n",
    "    actor_id\n",
    "ORDER BY \n",
    "    num_films DESC\n",
    "LIMIT 3\n",
    "''')"
   ]
  },
  {
   "attachments": {},
   "cell_type": "markdown",
   "metadata": {},
   "source": [
    "Vamos criar uma tabela temporária para guardar a informação de `actor_id` desses atores:"
   ]
  },
  {
   "cell_type": "code",
   "execution_count": 46,
   "metadata": {},
   "outputs": [
    {
     "name": "stdout",
     "output_type": "stream",
     "text": [
      "Executando query:\n",
      "Executando query:\n",
      "Executando query:\n",
      "('GINA', 'DEGENERES', 107)\n",
      "('WALTER', 'TORN', 102)\n",
      "('MARY', 'KEITEL', 198)\n"
     ]
    }
   ],
   "source": [
    "db('DROP TABLE IF EXISTS temp_pop_actors')\n",
    "db('''\n",
    "CREATE TEMPORARY TABLE temp_pop_actors\n",
    "    SELECT first_name, last_name, actor_id FROM\n",
    "        actor\n",
    "        INNER JOIN film_actor USING (actor_id)\n",
    "    GROUP BY \n",
    "        actor_id\n",
    "    ORDER BY \n",
    "        COUNT(film_id) DESC\n",
    "    LIMIT 3\n",
    "''')\n",
    "db('''\n",
    "SELECT * from temp_pop_actors\n",
    "''')"
   ]
  },
  {
   "attachments": {},
   "cell_type": "markdown",
   "metadata": {},
   "source": [
    "Por fim, vamos usar essa informação para listar os filmes dos atores populares:"
   ]
  },
  {
   "cell_type": "code",
   "execution_count": 47,
   "metadata": {},
   "outputs": [
    {
     "name": "stdout",
     "output_type": "stream",
     "text": [
      "Executando query:\n",
      "('BED HIGHBALL',)\n",
      "('CALENDAR GUNFIGHT',)\n",
      "('CHAMBER ITALIAN',)\n",
      "('CHAPLIN LICENSE',)\n",
      "('CHARIOTS CONSPIRACY',)\n",
      "('CLUELESS BUCKET',)\n",
      "('COLDBLOODED DARLING',)\n",
      "('CONEHEADS SMOOCHY',)\n",
      "('DARKNESS WAR',)\n",
      "('DEER VIRGINIAN',)\n",
      "('DOGMA FAMILY',)\n",
      "('ELEPHANT TROJAN',)\n",
      "('EXCITEMENT EVE',)\n",
      "('FRISCO FORREST',)\n",
      "('GANDHI KWAI',)\n",
      "('GOODFELLAS SALUTE',)\n",
      "('GUNFIGHT MOON',)\n",
      "('HALL CASSIDY',)\n",
      "('HEARTBREAKERS BRIGHT',)\n",
      "('HOOK CHARIOTS',)\n",
      "('HYDE DOCTOR',)\n",
      "('IMPACT ALADDIN',)\n",
      "('INDIAN LOVE',)\n",
      "('INTRIGUE WORST',)\n",
      "('LICENSE WEEKEND',)\n",
      "('LOUISIANA HARRY',)\n",
      "('MAGNIFICENT CHITTY',)\n",
      "('METAL ARMAGEDDON',)\n",
      "('MIDNIGHT WESTWARD',)\n",
      "('MOVIE SHAKESPEARE',)\n",
      "('MUMMY CREATURES',)\n",
      "('OPEN AFRICAN',)\n",
      "('SEARCHERS WAIT',)\n",
      "('SEVEN SWARM',)\n",
      "('SIERRA DIVIDE',)\n",
      "('SPIRITED CASUALTIES',)\n",
      "('STORM HAPPINESS',)\n",
      "('SUGAR WONKA',)\n",
      "('TELEGRAPH VOYAGE',)\n",
      "('TRAINSPOTTING STRANGERS',)\n",
      "('WIFE TURN',)\n",
      "('WINDOW SIDE',)\n",
      "('AMELIE HELLFIGHTERS',)\n",
      "('ARABIA DOGMA',)\n",
      "('BANG KWAI',)\n",
      "('CASABLANCA SUPER',)\n",
      "('CASPER DRAGONFLY',)\n",
      "('CROW GREASE',)\n",
      "('CURTAIN VIDEOTAPE',)\n",
      "('DANCES NONE',)\n",
      "('EARLY HOME',)\n",
      "('FLYING HOOK',)\n",
      "('FORREST SONS',)\n",
      "('FREDDY STORM',)\n",
      "('GASLIGHT CRUSADE',)\n",
      "('HOBBIT ALIEN',)\n",
      "('HOOSIERS BIRDCAGE',)\n",
      "('HYSTERICAL GRAIL',)\n",
      "('JERSEY SASSY',)\n",
      "('LAMBS CINCINATTI',)\n",
      "('LESSON CLEOPATRA',)\n",
      "('LIES TREATMENT',)\n",
      "('LOCK REAR',)\n",
      "('LONELY ELEPHANT',)\n",
      "('MADISON TRAP',)\n",
      "('MOTIONS DETAILS',)\n",
      "('MULHOLLAND BEAST',)\n",
      "('NIGHTMARE CHILL',)\n",
      "('NOVOCAINE FLIGHT',)\n",
      "('RAIDERS ANTITRUST',)\n",
      "('REUNION WITCHES',)\n",
      "('ROOTS REMEMBER',)\n",
      "('SKY MIRACLE',)\n",
      "('SLUMS DUCK',)\n",
      "('SPIKING ELEMENT',)\n",
      "('STAGE WORLD',)\n",
      "('STEPMOM DREAM',)\n",
      "('STRANGELOVE DESIRE',)\n",
      "('WARDROBE PHANTOM',)\n",
      "('WITCHES PANIC',)\n",
      "('WIZARD COLDBLOODED',)\n",
      "('ACADEMY DINOSAUR',)\n",
      "('BUTTERFLY CHOCOLAT',)\n",
      "('CASSIDY WYOMING',)\n",
      "('CRAFT OUTFIELD',)\n",
      "('DUMBO LUST',)\n",
      "('DWARFS ALTER',)\n",
      "('FANTASY TROOPERS',)\n",
      "('FEUD FROGMEN',)\n",
      "('FICTION CHRISTMAS',)\n",
      "('GAMES BOWFINGER',)\n",
      "('GREEDY ROOTS',)\n",
      "('HANDICAP BOONDOCK',)\n",
      "('HAUNTING PIANIST',)\n",
      "('IDOLS SNATCHERS',)\n",
      "('INTENTIONS EMPIRE',)\n",
      "('JEOPARDY ENCINO',)\n",
      "('KING EVOLUTION',)\n",
      "('LOVELY JINGLE',)\n",
      "('LUKE MUMMY',)\n",
      "('MADNESS ATTACKS',)\n",
      "('MALLRATS UNITED',)\n",
      "('MEMENTO ZOOLANDER',)\n",
      "('MERMAID INSECTS',)\n",
      "('MODEL FISH',)\n",
      "('MOONWALKER FOOL',)\n",
      "('NORTHWEST POLISH',)\n",
      "('ROSES TREASURE',)\n",
      "('SAINTS BRIDE',)\n",
      "('SLEEPY JAPANESE',)\n",
      "('SOLDIERS EVOLUTION',)\n",
      "('STEEL SANTA',)\n",
      "('SUBMARINE BED',)\n",
      "('SWEDEN SHINING',)\n",
      "('THEORY MERMAID',)\n",
      "('TITANIC BOONDOCK',)\n",
      "('UNFORGIVEN ZOOLANDER',)\n",
      "('WAGON JAWS',)\n",
      "('YOUTH KICK',)\n"
     ]
    }
   ],
   "source": [
    "db('''\n",
    "SELECT DISTINCT\n",
    "    title\n",
    "FROM\n",
    "    film\n",
    "    INNER JOIN film_actor USING (film_id)\n",
    "WHERE\n",
    "    actor_id IN (SELECT actor_id FROM temp_pop_actors);\n",
    "''')"
   ]
  },
  {
   "attachments": {},
   "cell_type": "markdown",
   "metadata": {},
   "source": [
    "Note o uso de *subqueries*!\n",
    "\n",
    "Não se esqueça de limpar tudo no final!"
   ]
  },
  {
   "cell_type": "code",
   "execution_count": 48,
   "metadata": {},
   "outputs": [
    {
     "name": "stdout",
     "output_type": "stream",
     "text": [
      "Executando query:\n"
     ]
    }
   ],
   "source": [
    "db('DROP TABLE temp_pop_actors')"
   ]
  },
  {
   "attachments": {},
   "cell_type": "markdown",
   "metadata": {},
   "source": [
    "### Vamos praticar"
   ]
  },
  {
   "attachments": {},
   "cell_type": "markdown",
   "metadata": {},
   "source": [
    "Liste os atores (id, nome e sobrenome) que participaram dos 3 filmes mais rentáveis (aqueles que mais geraram receita para a locadora) ordenados pelo id do ator de modo crescente. Para isso, crie uma tabela temporária contendo o id do filme e a quantia total e use essa tabela para listar os atores."
   ]
  },
  {
   "cell_type": "code",
   "execution_count": 49,
   "metadata": {},
   "outputs": [
    {
     "name": "stdout",
     "output_type": "stream",
     "text": [
      "Executando query:\n",
      "Executando query:\n",
      "Executando query:\n",
      "(879, Decimal('231.73'))\n",
      "(973, Decimal('223.69'))\n",
      "(1000, Decimal('214.69'))\n",
      "Executando query:\n",
      "(28, 'WOODY', 'HOFFMAN')\n",
      "(47, 'JULIA', 'BARRYMORE')\n",
      "(52, 'CARMEN', 'HUNT')\n",
      "(107, 'GINA', 'DEGENERES')\n",
      "(111, 'CAMERON', 'ZELLWEGER')\n",
      "(138, 'LUCILLE', 'DEE')\n",
      "(155, 'IAN', 'TANDY')\n",
      "(157, 'GRETA', 'MALDEN')\n",
      "(158, 'VIVIEN', 'BASINGER')\n",
      "(166, 'NICK', 'DEGENERES')\n",
      "(174, 'MICHAEL', 'BENING')\n",
      "(178, 'LISA', 'MONROE')\n",
      "(185, 'MICHAEL', 'BOLGER')\n",
      "(200, 'THORA', 'TEMPLE')\n"
     ]
    }
   ],
   "source": [
    "db('DROP TABLE IF EXISTS temp_pop_films')\n",
    "db('''\n",
    "CREATE TEMPORARY TABLE temp_pop_films\n",
    "    SELECT film_id, SUM(amount) AS total FROM\n",
    "        film\n",
    "        INNER JOIN inventory USING (film_id)\n",
    "        INNER JOIN rental USING (inventory_id)\n",
    "        INNER JOIN payment USING (rental_id)\n",
    "    GROUP BY\n",
    "        film_id\n",
    "    ORDER BY\n",
    "        total DESC\n",
    "    LIMIT 3\n",
    "''')\n",
    "db('''\n",
    "SELECT * from temp_pop_films\n",
    "''')\n",
    "db('''\n",
    "SELECT DISTINCT\n",
    "    actor_id, first_name, last_name\n",
    "FROM\n",
    "    actor\n",
    "    INNER JOIN film_actor USING (actor_id)\n",
    "WHERE\n",
    "    film_id IN (SELECT film_id FROM temp_pop_films)\n",
    "ORDER BY\n",
    "    actor_id\n",
    "''')"
   ]
  },
  {
   "cell_type": "code",
   "execution_count": 50,
   "metadata": {},
   "outputs": [
    {
     "data": {
      "application/vnd.jupyter.widget-view+json": {
       "model_id": "1752c4b1227e445a874321e8ef8bc039",
       "version_major": 2,
       "version_minor": 0
      },
      "text/plain": [
       "interactive(children=(Button(description='Enviar ex07', style=ButtonStyle()), Output()), _dom_classes=('widget…"
      ]
     },
     "execution_count": 50,
     "metadata": {},
     "output_type": "execute_result"
    }
   ],
   "source": [
    "sql_ex07 = ['''\n",
    "CREATE TEMPORARY TABLE temp_pop_films\n",
    "    SELECT film_id, SUM(amount) AS total FROM\n",
    "        film\n",
    "        INNER JOIN inventory USING (film_id)\n",
    "        INNER JOIN rental USING (inventory_id)\n",
    "        INNER JOIN payment USING (rental_id)\n",
    "    GROUP BY\n",
    "        film_id\n",
    "    ORDER BY\n",
    "        total DESC\n",
    "    LIMIT 3\n",
    "''',\n",
    "'''\n",
    "SELECT DISTINCT\n",
    "    actor_id, first_name, last_name\n",
    "FROM\n",
    "    actor\n",
    "    INNER JOIN film_actor USING (actor_id)\n",
    "WHERE\n",
    "    film_id IN (SELECT film_id FROM temp_pop_films)\n",
    "ORDER BY\n",
    "    actor_id\n",
    "''']\n",
    "\n",
    "ia.sender(answer='sql_ex07', task='views', question='ex07', answer_type='pyvar')"
   ]
  },
  {
   "attachments": {},
   "cell_type": "markdown",
   "metadata": {},
   "source": [
    "## Subqueries"
   ]
  },
  {
   "attachments": {},
   "cell_type": "markdown",
   "metadata": {},
   "source": [
    "Os tópicos discutidos acima poderiam ser resolvidos, em grande parte, com subqueries. As subqueries são queries `SELECT` criadas dentro de outras queries. \n",
    "\n",
    "Poderíamos ter usado subqueries nos mesmos lugares onde usamos tabelas temporárias, nos tópicos acima. Quando a subquery pode ser transformada em uma tabela temporária independente, separada da query exterior, dizemos que a subquery é **não-correlacionada** com a query exterior.\n",
    "\n",
    "Usar subqueries não-correlacionadas é um tópico controverso: podemos sempre usar uma tabela temporária ou, às vezes, pensar em um `JOIN` simples. Aliás, muitas vezes o otimizador de queries do banco de dados transformará a subquery em `JOIN`, se isso for vantajoso em termos de desempenho.\n",
    "\n",
    "Uma subquery que depende da query externa (e portanto não pode ser separada em uma tabela temporária independente) é chamada de **subquery correlacionada**. Nestes casos podemos ter que executar a subquery para cada linha da query exterior! "
   ]
  },
  {
   "attachments": {},
   "cell_type": "markdown",
   "metadata": {},
   "source": [
    "### Vamos praticar"
   ]
  },
  {
   "attachments": {},
   "cell_type": "markdown",
   "metadata": {},
   "source": [
    "Vamos refazer a atividade dos atores dos filmes mais rentáveis, usando subqueries. \n",
    "\n",
    "Temos um problema: o MySQL não suporta ``LIMIT`` em subqueries com o operador ``IN``. Vamos investigar isso mais de perto. \n",
    "\n",
    "Em primeiro lugar faça uma tradução direta da implementação da atividade anterior trocando tabela temporária por subquery."
   ]
  },
  {
   "cell_type": "code",
   "execution_count": 51,
   "metadata": {
    "scrolled": true
   },
   "outputs": [
    {
     "name": "stdout",
     "output_type": "stream",
     "text": [
      "Executando query:\n",
      "(28, 'WOODY', 'HOFFMAN')\n",
      "(47, 'JULIA', 'BARRYMORE')\n",
      "(52, 'CARMEN', 'HUNT')\n",
      "(107, 'GINA', 'DEGENERES')\n",
      "(111, 'CAMERON', 'ZELLWEGER')\n",
      "(138, 'LUCILLE', 'DEE')\n",
      "(155, 'IAN', 'TANDY')\n",
      "(157, 'GRETA', 'MALDEN')\n",
      "(158, 'VIVIEN', 'BASINGER')\n",
      "(166, 'NICK', 'DEGENERES')\n",
      "(174, 'MICHAEL', 'BENING')\n",
      "(178, 'LISA', 'MONROE')\n",
      "(185, 'MICHAEL', 'BOLGER')\n",
      "(200, 'THORA', 'TEMPLE')\n"
     ]
    }
   ],
   "source": [
    "try:\n",
    "    db('''\n",
    "    SELECT DISTINCT\n",
    "        actor_id, first_name, last_name\n",
    "    FROM\n",
    "        actor\n",
    "        INNER JOIN film_actor USING (actor_id)\n",
    "    WHERE\n",
    "        film_id IN (SELECT film_id FROM (\n",
    "            SELECT film_id, SUM(amount) AS total FROM\n",
    "                film\n",
    "                INNER JOIN inventory USING (film_id)\n",
    "                INNER JOIN rental USING (inventory_id)\n",
    "                INNER JOIN payment USING (rental_id)\n",
    "            GROUP BY\n",
    "                film_id\n",
    "            ORDER BY\n",
    "                total DESC\n",
    "            LIMIT 3\n",
    "        ) AS temp_pop_films)\n",
    "    ORDER BY\n",
    "        actor_id\n",
    "    ''')\n",
    "except mysql.connector.ProgrammingError as e:\n",
    "    print(f'ProgrammingError: {e}')"
   ]
  },
  {
   "attachments": {},
   "cell_type": "markdown",
   "metadata": {},
   "source": [
    "Ok, apareceu o problema. Mas considere que o problema original não precisava de IN desde o começo! Construa essa solução."
   ]
  },
  {
   "cell_type": "code",
   "execution_count": 52,
   "metadata": {},
   "outputs": [
    {
     "name": "stdout",
     "output_type": "stream",
     "text": [
      "Executando query:\n",
      "(28, 'WOODY', 'HOFFMAN')\n",
      "(47, 'JULIA', 'BARRYMORE')\n",
      "(52, 'CARMEN', 'HUNT')\n",
      "(107, 'GINA', 'DEGENERES')\n",
      "(111, 'CAMERON', 'ZELLWEGER')\n",
      "(138, 'LUCILLE', 'DEE')\n",
      "(155, 'IAN', 'TANDY')\n",
      "(157, 'GRETA', 'MALDEN')\n",
      "(158, 'VIVIEN', 'BASINGER')\n",
      "(166, 'NICK', 'DEGENERES')\n",
      "(174, 'MICHAEL', 'BENING')\n",
      "(178, 'LISA', 'MONROE')\n",
      "(185, 'MICHAEL', 'BOLGER')\n",
      "(200, 'THORA', 'TEMPLE')\n"
     ]
    }
   ],
   "source": [
    "sql_ex08 = '''\n",
    "SELECT DISTINCT\n",
    "    actor_id, first_name, last_name\n",
    "FROM\n",
    "    actor\n",
    "    INNER JOIN film_actor USING (actor_id)\n",
    "    INNER JOIN (\n",
    "        SELECT film_id, SUM(amount) AS total FROM\n",
    "            film\n",
    "            INNER JOIN inventory USING (film_id)\n",
    "            INNER JOIN rental USING (inventory_id)\n",
    "            INNER JOIN payment USING (rental_id)\n",
    "        GROUP BY\n",
    "            film_id\n",
    "        ORDER BY\n",
    "            total DESC\n",
    "        LIMIT 3\n",
    "    ) AS temp_pop_films USING (film_id)\n",
    "ORDER BY\n",
    "    actor_id\n",
    "'''\n",
    "\n",
    "db(sql_ex08)"
   ]
  },
  {
   "cell_type": "code",
   "execution_count": 53,
   "metadata": {},
   "outputs": [
    {
     "data": {
      "application/vnd.jupyter.widget-view+json": {
       "model_id": "5716449454ba47e1be182b4a6ddcf96c",
       "version_major": 2,
       "version_minor": 0
      },
      "text/plain": [
       "interactive(children=(Button(description='Enviar ex08', style=ButtonStyle()), Output()), _dom_classes=('widget…"
      ]
     },
     "execution_count": 53,
     "metadata": {},
     "output_type": "execute_result"
    }
   ],
   "source": [
    "ia.sender(answer='sql_ex08', task='views', question='ex08', answer_type='pyvar')"
   ]
  },
  {
   "attachments": {},
   "cell_type": "markdown",
   "metadata": {},
   "source": [
    "# `UNION`\n",
    "\n",
    "Quando duas tabelas tem **EXATAMENTE** as mesmas colunas, podemos concatená-las e formar uma grande tabela unificada usando o operador `UNION`. Por exemplo: suponha que desejamos montar uma lista dos nomes e sobrenomes de todos os clientes E de todos os funcionários. Eis uma solução possível:"
   ]
  },
  {
   "cell_type": "code",
   "execution_count": 54,
   "metadata": {},
   "outputs": [
    {
     "name": "stdout",
     "output_type": "stream",
     "text": [
      "Executando query:\n",
      "Executando query:\n"
     ]
    }
   ],
   "source": [
    "db('DROP TABLE IF EXISTS nomes_clientes')\n",
    "db('''\n",
    "CREATE TEMPORARY TABLE nomes_clientes \n",
    "    SELECT first_name, last_name FROM customer\n",
    "''')"
   ]
  },
  {
   "cell_type": "code",
   "execution_count": 55,
   "metadata": {},
   "outputs": [
    {
     "name": "stdout",
     "output_type": "stream",
     "text": [
      "Executando query:\n",
      "('first_name', 'varchar(45)', 'NO', '', None, 'NULL')\n",
      "('last_name', 'varchar(45)', 'NO', '', None, 'NULL')\n",
      "Executando query:\n",
      "('MARY', 'SMITH')\n",
      "('PATRICIA', 'JOHNSON')\n",
      "('LINDA', 'WILLIAMS')\n",
      "('BARBARA', 'JONES')\n",
      "('ELIZABETH', 'BROWN')\n"
     ]
    }
   ],
   "source": [
    "db('DESCRIBE nomes_clientes')\n",
    "db('SELECT * FROM nomes_clientes LIMIT 5')"
   ]
  },
  {
   "cell_type": "code",
   "execution_count": 56,
   "metadata": {},
   "outputs": [
    {
     "name": "stdout",
     "output_type": "stream",
     "text": [
      "Executando query:\n",
      "Executando query:\n"
     ]
    }
   ],
   "source": [
    "db('DROP TABLE IF EXISTS nomes_staff')\n",
    "db('''\n",
    "CREATE TEMPORARY TABLE nomes_staff \n",
    "    SELECT first_name, last_name FROM staff\n",
    "''')"
   ]
  },
  {
   "cell_type": "code",
   "execution_count": 57,
   "metadata": {},
   "outputs": [
    {
     "name": "stdout",
     "output_type": "stream",
     "text": [
      "Executando query:\n",
      "('first_name', 'varchar(45)', 'NO', '', None, 'NULL')\n",
      "('last_name', 'varchar(45)', 'NO', '', None, 'NULL')\n",
      "Executando query:\n",
      "('Mike', 'Hillyer')\n",
      "('Jon', 'Stephens')\n"
     ]
    }
   ],
   "source": [
    "db('DESCRIBE nomes_staff')\n",
    "db('SELECT * FROM nomes_staff LIMIT 5')"
   ]
  },
  {
   "cell_type": "code",
   "execution_count": 58,
   "metadata": {},
   "outputs": [
    {
     "name": "stdout",
     "output_type": "stream",
     "text": [
      "Executando query:\n",
      "Executando query:\n"
     ]
    }
   ],
   "source": [
    "db('DROP TABLE IF EXISTS nomes_all')\n",
    "db('''\n",
    "CREATE TEMPORARY TABLE nomes_all \n",
    "    (SELECT * FROM nomes_staff)\n",
    "    UNION \n",
    "    (SELECT * FROM nomes_clientes)\n",
    "''')"
   ]
  },
  {
   "cell_type": "code",
   "execution_count": 59,
   "metadata": {},
   "outputs": [
    {
     "name": "stdout",
     "output_type": "stream",
     "text": [
      "Executando query:\n",
      "('first_name', 'varchar(45)', 'NO', '', '', 'NULL')\n",
      "('last_name', 'varchar(45)', 'NO', '', '', 'NULL')\n",
      "Executando query:\n",
      "('Mike', 'Hillyer')\n",
      "('Jon', 'Stephens')\n",
      "('MARY', 'SMITH')\n",
      "('PATRICIA', 'JOHNSON')\n",
      "('LINDA', 'WILLIAMS')\n"
     ]
    }
   ],
   "source": [
    "db('DESCRIBE nomes_all')\n",
    "db('SELECT * FROM nomes_all LIMIT 5')"
   ]
  },
  {
   "cell_type": "code",
   "execution_count": 60,
   "metadata": {},
   "outputs": [
    {
     "name": "stdout",
     "output_type": "stream",
     "text": [
      "Executando query:\n",
      "Executando query:\n",
      "Executando query:\n"
     ]
    }
   ],
   "source": [
    "db('DROP TABLE IF EXISTS nomes_clientes')\n",
    "db('DROP TABLE IF EXISTS nomes_staff')\n",
    "db('DROP TABLE IF EXISTS nomes_all')"
   ]
  },
  {
   "attachments": {},
   "cell_type": "markdown",
   "metadata": {},
   "source": [
    "**Vamos praticar:** refaça o exemplo acima mas use *subqueries* ao invés de *temp tables*. Ordene de forma ascendente por first_name e last_name."
   ]
  },
  {
   "cell_type": "code",
   "execution_count": 61,
   "metadata": {},
   "outputs": [],
   "source": [
    "sql_ex09 = '''\n",
    "SELECT\n",
    "    first_name, last_name\n",
    "FROM (\n",
    "    SELECT first_name, last_name FROM staff\n",
    "    UNION\n",
    "    SELECT first_name, last_name FROM customer\n",
    ") AS nomes\n",
    "ORDER BY\n",
    "    first_name, last_name\n",
    "'''\n",
    "\n",
    "# db(sql_ex09)"
   ]
  },
  {
   "cell_type": "code",
   "execution_count": 62,
   "metadata": {},
   "outputs": [
    {
     "data": {
      "application/vnd.jupyter.widget-view+json": {
       "model_id": "a51007abd4fb496dbcddeb0b2f69d69d",
       "version_major": 2,
       "version_minor": 0
      },
      "text/plain": [
       "interactive(children=(Button(description='Enviar ex09', style=ButtonStyle()), Output()), _dom_classes=('widget…"
      ]
     },
     "execution_count": 62,
     "metadata": {},
     "output_type": "execute_result"
    }
   ],
   "source": [
    "ia.sender(answer='sql_ex09', task='views', question='ex09', answer_type='pyvar')"
   ]
  },
  {
   "attachments": {},
   "cell_type": "markdown",
   "metadata": {},
   "source": [
    "## Desafios!"
   ]
  },
  {
   "attachments": {},
   "cell_type": "markdown",
   "metadata": {},
   "source": [
    "Faça uma lista de filmes que tenham mais de dois atores cujo nome inicia com a mesma letra do título do filme! Apresente o nome e a quantidade de atores. Ordene pelo id do filme. Dica: Pesquie a função `LEFT`"
   ]
  },
  {
   "cell_type": "code",
   "execution_count": 63,
   "metadata": {},
   "outputs": [
    {
     "name": "stdout",
     "output_type": "stream",
     "text": [
      "Executando query:\n",
      "('CROW GREASE', 3)\n",
      "('JEDI BENEATH', 3)\n",
      "('SUBMARINE BED', 3)\n"
     ]
    }
   ],
   "source": [
    "sql_ex10 = '''\n",
    "SELECT\n",
    "    title, COUNT(actor_id) AS num_actors\n",
    "FROM\n",
    "    film\n",
    "    INNER JOIN film_actor USING (film_id)\n",
    "    INNER JOIN actor USING (actor_id)\n",
    "WHERE\n",
    "    LEFT(title, 1) = LEFT(first_name, 1)\n",
    "GROUP BY\n",
    "    film_id\n",
    "HAVING\n",
    "    num_actors > 2\n",
    "ORDER BY\n",
    "    film_id\n",
    "'''\n",
    "\n",
    "db(sql_ex10)"
   ]
  },
  {
   "cell_type": "code",
   "execution_count": 64,
   "metadata": {},
   "outputs": [
    {
     "data": {
      "application/vnd.jupyter.widget-view+json": {
       "model_id": "148756a5579a46a1ad9ef85d85eb4927",
       "version_major": 2,
       "version_minor": 0
      },
      "text/plain": [
       "interactive(children=(Button(description='Enviar ex10', style=ButtonStyle()), Output()), _dom_classes=('widget…"
      ]
     },
     "execution_count": 64,
     "metadata": {},
     "output_type": "execute_result"
    }
   ],
   "source": [
    "ia.sender(answer='sql_ex10', task='views', question='ex10', answer_type='pyvar')"
   ]
  },
  {
   "attachments": {},
   "cell_type": "markdown",
   "metadata": {},
   "source": [
    "Semana do \"DAN HARRIS\": liste os clientes (nome e sobrenome) que nunca assistiram um filme do ator \"DAN HARRIS\" ou que já assistiram mas a ultima vez em que assistiram um filme dele foi antes de '2005-06-01'. Ordene pelo nome e sobrenome do cliente."
   ]
  },
  {
   "cell_type": "code",
   "execution_count": 94,
   "metadata": {},
   "outputs": [
    {
     "name": "stdout",
     "output_type": "stream",
     "text": [
      "Executando query:\n",
      "('AARON', 'SELBY')\n",
      "('AGNES', 'BISHOP')\n",
      "('ALAN', 'KAHN')\n",
      "('ALBERT', 'CROUSE')\n",
      "('ALICIA', 'MILLS')\n",
      "('ALLAN', 'CORNISH')\n",
      "('ALLEN', 'BUTTERFIELD')\n",
      "('ALLISON', 'STANLEY')\n",
      "('AMANDA', 'CARTER')\n",
      "('AMY', 'LOPEZ')\n",
      "('ANA', 'BRADLEY')\n",
      "('ANDREA', 'HENDERSON')\n",
      "('ANDREW', 'PURDY')\n",
      "('ANGEL', 'BARCLAY')\n",
      "('ANITA', 'MORALES')\n",
      "('ANN', 'EVANS')\n",
      "('ANNA', 'HILL')\n",
      "('ANNE', 'POWELL')\n",
      "('ANNETTE', 'OLSON')\n",
      "('ANNIE', 'RUSSELL')\n",
      "('ANTHONY', 'SCHWAB')\n",
      "('ANTONIO', 'MEEK')\n",
      "('ARMANDO', 'GRUBER')\n",
      "('AUDREY', 'RAY')\n",
      "('AUSTIN', 'CINTRON')\n",
      "('BEATRICE', 'ARNOLD')\n",
      "('BECKY', 'MILES')\n",
      "('BEN', 'EASTER')\n",
      "('BERNARD', 'COLBY')\n",
      "('BESSIE', 'MORRISON')\n",
      "('BETH', 'FRANKLIN')\n",
      "('BILLIE', 'HORTON')\n",
      "('BILLY', 'POULIN')\n",
      "('BOB', 'PFEIFFER')\n",
      "('BRAD', 'MCCURDY')\n",
      "('BRANDY', 'GRAVES')\n",
      "('BRENT', 'HARKINS')\n",
      "('BRETT', 'CORNWELL')\n",
      "('BRIAN', 'WYMAN')\n",
      "('BRITTANY', 'RILEY')\n",
      "('BYRON', 'BOX')\n",
      "('CALVIN', 'MARTEL')\n",
      "('CARLA', 'GUTIERREZ')\n",
      "('CAROLE', 'BARNETT')\n",
      "('CARRIE', 'PORTER')\n",
      "('CASEY', 'MENA')\n",
      "('CATHY', 'SPENCER')\n",
      "('CECIL', 'VINES')\n",
      "('CHARLES', 'KOWALSKI')\n",
      "('CHARLOTTE', 'HUNTER')\n",
      "('CHERYL', 'MURPHY')\n",
      "('CHESTER', 'BENNER')\n",
      "('CHRISTIAN', 'JUNG')\n",
      "('CHRISTINA', 'RAMIREZ')\n",
      "('CHRISTINE', 'ROBERTS')\n",
      "('CHRISTOPHER', 'GRECO')\n",
      "('CLARA', 'SHAW')\n",
      "('CLARENCE', 'GAMEZ')\n",
      "('CLAUDIA', 'FULLER')\n",
      "('CODY', 'NOLEN')\n",
      "('CONSTANCE', 'REID')\n",
      "('COREY', 'HAUSER')\n",
      "('COURTNEY', 'DAY')\n",
      "('CRAIG', 'MORRELL')\n",
      "('CRYSTAL', 'FORD')\n",
      "('CURTIS', 'IRBY')\n",
      "('CYNTHIA', 'YOUNG')\n",
      "('DALE', 'RATCLIFF')\n",
      "('DAN', 'PAINE')\n",
      "('DANA', 'HART')\n",
      "('DANIEL', 'CABRAL')\n",
      "('DARREN', 'WINDHAM')\n",
      "('DAVE', 'GARDINER')\n",
      "('DAWN', 'SULLIVAN')\n",
      "('DEANNA', 'BYRD')\n",
      "('DEBBIE', 'REYES')\n",
      "('DELORES', 'HANSEN')\n",
      "('DEREK', 'BLAKELY')\n",
      "('DIANA', 'ALEXANDER')\n",
      "('DIANE', 'COLLINS')\n",
      "('DIANNE', 'SHELTON')\n",
      "('DON', 'BONE')\n",
      "('DONALD', 'MAHON')\n",
      "('DORA', 'MEDINA')\n",
      "('DUANE', 'TUBBS')\n",
      "('DUSTIN', 'GILLETTE')\n",
      "('DWIGHT', 'LOMBARDI')\n",
      "('EDDIE', 'TOMLIN')\n",
      "('EDITH', 'MCDONALD')\n",
      "('EDNA', 'WEST')\n",
      "('EDUARDO', 'HIATT')\n",
      "('EDWIN', 'BURK')\n",
      "('EILEEN', 'CARR')\n",
      "('ELEANOR', 'HUNT')\n",
      "('ELIZABETH', 'BROWN')\n",
      "('ELLA', 'OLIVER')\n",
      "('ELLEN', 'SIMPSON')\n",
      "('EMILY', 'DIAZ')\n",
      "('ERIC', 'ROBERT')\n",
      "('ERICA', 'MATTHEWS')\n",
      "('ERIK', 'GUILLEN')\n",
      "('ERIKA', 'PENA')\n",
      "('ERIN', 'DUNN')\n",
      "('ERNEST', 'STEPP')\n",
      "('ETHEL', 'WEBB')\n",
      "('EUGENE', 'CULPEPPER')\n",
      "('EVA', 'RAMOS')\n",
      "('EVELYN', 'MORGAN')\n",
      "('FELIX', 'GAFFNEY')\n",
      "('FLORENCE', 'WOODS')\n",
      "('FLOYD', 'GANDY')\n",
      "('FRANCISCO', 'SKIDMORE')\n",
      "('FRANKLIN', 'TROUTMAN')\n",
      "('GAIL', 'KNIGHT')\n",
      "('GARY', 'COY')\n",
      "('GENE', 'SANBORN')\n",
      "('GEORGE', 'LINTON')\n",
      "('GEORGIA', 'JACOBS')\n",
      "('GERALDINE', 'PERKINS')\n",
      "('GILBERT', 'SLEDGE')\n",
      "('GINA', 'WILLIAMSON')\n",
      "('GLEN', 'TALBERT')\n",
      "('GLENDA', 'FRAZIER')\n",
      "('GLORIA', 'COOK')\n",
      "('GREGORY', 'MAULDIN')\n",
      "('GWENDOLYN', 'MAY')\n",
      "('HAROLD', 'MARTINO')\n",
      "('HARRY', 'ARCE')\n",
      "('HARVEY', 'GUAJARDO')\n",
      "('HAZEL', 'WARREN')\n",
      "('HEIDI', 'LARSON')\n",
      "('HENRY', 'BILLINGSLEY')\n",
      "('HERMAN', 'DEVORE')\n",
      "('HUGH', 'WALDROP')\n",
      "('IAN', 'STILL')\n",
      "('IDA', 'ANDREWS')\n",
      "('IRMA', 'PEARSON')\n",
      "('JACK', 'FOUST')\n",
      "('JAMIE', 'WAUGH')\n",
      "('JANE', 'BENNETT')\n",
      "('JANICE', 'WARD')\n",
      "('JEAN', 'BELL')\n",
      "('JEANETTE', 'GREENE')\n",
      "('JEANNE', 'LAWSON')\n",
      "('JEFFREY', 'SPEAR')\n",
      "('JENNY', 'CASTRO')\n",
      "('JEREMY', 'HURTADO')\n",
      "('JEROME', 'KENYON')\n",
      "('JESSIE', 'BANKS')\n",
      "('JESUS', 'MCCARTNEY')\n",
      "('JILL', 'HAWKINS')\n",
      "('JIM', 'REA')\n",
      "('JO', 'FOWLER')\n",
      "('JOAN', 'COOPER')\n",
      "('JOE', 'GILLILAND')\n",
      "('JORDAN', 'ARCHULETA')\n",
      "('JOSEPHINE', 'GOMEZ')\n",
      "('JOYCE', 'EDWARDS')\n",
      "('JUANITA', 'MASON')\n",
      "('JUDITH', 'COX')\n",
      "('JULIE', 'SANCHEZ')\n",
      "('KAREN', 'JACKSON')\n",
      "('KARL', 'SEAL')\n",
      "('KATHERINE', 'RIVERA')\n",
      "('KATIE', 'ELLIOTT')\n",
      "('KAY', 'CALDWELL')\n",
      "('KELLY', 'TORRES')\n",
      "('KENNETH', 'GOODEN')\n",
      "('KIM', 'CRUZ')\n",
      "('KIMBERLY', 'LEE')\n",
      "('KIRK', 'STCLAIR')\n",
      "('KRISTEN', 'CHAVEZ')\n",
      "('KURT', 'EMMONS')\n",
      "('LANCE', 'PEMBERTON')\n",
      "('LAURA', 'RODRIGUEZ')\n",
      "('LAURIE', 'LAWRENCE')\n",
      "('LAWRENCE', 'LAWTON')\n",
      "('LEAH', 'CURTIS')\n",
      "('LENA', 'JENSEN')\n",
      "('LEO', 'EBERT')\n",
      "('LEONA', 'OBRIEN')\n",
      "('LEONARD', 'SCHOFIELD')\n",
      "('LESLIE', 'SEWARD')\n",
      "('LILLIAN', 'GRIFFIN')\n",
      "('LINDA', 'WILLIAMS')\n",
      "('LISA', 'ANDERSON')\n",
      "('LLOYD', 'DOWD')\n",
      "('LONNIE', 'TIRADO')\n",
      "('LORRAINE', 'STEPHENS')\n",
      "('LOUISE', 'JENKINS')\n",
      "('LUCILLE', 'HOLMES')\n",
      "('LUIS', 'YANEZ')\n",
      "('LYDIA', 'BURKE')\n",
      "('LYNN', 'PAYNE')\n",
      "('MARGARET', 'MOORE')\n",
      "('MARIE', 'TURNER')\n",
      "('MARION', 'SNYDER')\n",
      "('MARJORIE', 'TUCKER')\n",
      "('MARK', 'RINEHART')\n",
      "('MARTHA', 'GONZALEZ')\n",
      "('MARTIN', 'BALES')\n",
      "('MARVIN', 'YEE')\n",
      "('MARY', 'SMITH')\n",
      "('MATTHEW', 'MAHAN')\n",
      "('MAURICE', 'CRAWLEY')\n",
      "('MEGAN', 'PALMER')\n",
      "('MELANIE', 'ARMSTRONG')\n",
      "('MELVIN', 'ELLINGTON')\n",
      "('MICHELLE', 'CLARK')\n",
      "('MIKE', 'WAY')\n",
      "('MILDRED', 'BAILEY')\n",
      "('MILTON', 'HOWLAND')\n",
      "('MIRIAM', 'MCKINNEY')\n",
      "('MISTY', 'LAMBERT')\n",
      "('MITCHELL', 'WESTMORELAND')\n",
      "('NANCY', 'THOMAS')\n",
      "('NATALIE', 'MEYER')\n",
      "('NATHAN', 'RUNYON')\n",
      "('NATHANIEL', 'ADAM')\n",
      "('NELLIE', 'GARRETT')\n",
      "('NICHOLAS', 'BARFIELD')\n",
      "('NICOLE', 'PETERSON')\n",
      "('NORMA', 'GONZALES')\n",
      "('PAMELA', 'BAKER')\n",
      "('PATRICK', 'NEWSOM')\n",
      "('PAUL', 'TROUT')\n",
      "('PAULA', 'BRYANT')\n",
      "('PAULINE', 'HENRY')\n",
      "('PEGGY', 'MYERS')\n",
      "('PENNY', 'NEAL')\n",
      "('PETER', 'MENARD')\n",
      "('PHILIP', 'CAUSEY')\n",
      "('PHYLLIS', 'FOSTER')\n",
      "('PRISCILLA', 'LOWE')\n",
      "('RACHEL', 'BARNES')\n",
      "('RAFAEL', 'ABNEY')\n",
      "('RAMON', 'CHOATE')\n",
      "('RANDALL', 'NEUMANN')\n",
      "('RAUL', 'FORTIER')\n",
      "('REBECCA', 'SCOTT')\n",
      "('REGINA', 'BERRY')\n",
      "('RENE', 'MCALISTER')\n",
      "('RENEE', 'LANE')\n",
      "('RICARDO', 'MEADOR')\n",
      "('RICHARD', 'MCCRARY')\n",
      "('ROBERT', 'BAUGHMAN')\n",
      "('ROBERTA', 'HARPER')\n",
      "('ROLAND', 'SOUTH')\n",
      "('ROSA', 'REYNOLDS')\n",
      "('ROY', 'WHITING')\n",
      "('RUSSELL', 'BRINSON')\n",
      "('RYAN', 'SALISBURY')\n",
      "('SAM', 'MCDUFFIE')\n",
      "('SAMANTHA', 'DUNCAN')\n",
      "('SANDRA', 'MARTIN')\n",
      "('SARA', 'PERRY')\n",
      "('SHANE', 'MILLARD')\n",
      "('SHARON', 'ROBINSON')\n",
      "('SHERRI', 'RHODES')\n",
      "('STACEY', 'MONTGOMERY')\n",
      "('STEPHANIE', 'MITCHELL')\n",
      "('STEPHEN', 'QUALLS')\n",
      "('STEVE', 'MACKENZIE')\n",
      "('SYLVIA', 'ORTIZ')\n",
      "('TAMMY', 'SANDERS')\n",
      "('TARA', 'RYAN')\n",
      "('TED', 'BREAUX')\n",
      "('TERRENCE', 'GUNDERSON')\n",
      "('TERRY', 'CARLSON')\n",
      "('TERRY', 'GRISSOM')\n",
      "('THERESA', 'WATSON')\n",
      "('THOMAS', 'GRIGSBY')\n",
      "('TODD', 'TAN')\n",
      "('TONI', 'HOLT')\n",
      "('TONY', 'CARRANZA')\n",
      "('TONYA', 'CHAPMAN')\n",
      "('TRACY', 'COLE')\n",
      "('TROY', 'QUIGLEY')\n",
      "('VALERIE', 'BLACK')\n",
      "('VERA', 'MCCOY')\n",
      "('VERNON', 'CHAPA')\n",
      "('VICKI', 'FIELDS')\n",
      "('VICTORIA', 'GIBSON')\n",
      "('VIOLA', 'HANSON')\n",
      "('VIOLET', 'RODRIQUEZ')\n",
      "('VIRGINIA', 'GREEN')\n",
      "('WALTER', 'PERRYMAN')\n",
      "('WANDA', 'PATTERSON')\n",
      "('WARREN', 'SHERROD')\n",
      "('WAYNE', 'TRUONG')\n",
      "('WENDY', 'HARRISON')\n",
      "('WESLEY', 'BULL')\n",
      "('WILLARD', 'LUMPKIN')\n",
      "('WILLIAM', 'SATTERFIELD')\n",
      "('WILLIE', 'MARKHAM')\n",
      "('WILMA', 'RICHARDS')\n",
      "('YVONNE', 'WATKINS')\n"
     ]
    }
   ],
   "source": [
    "# returned in 2005-06-01 or later\n",
    "first_use_case = '''\n",
    "SELECT\n",
    "    customer.customer_id\n",
    "FROM\n",
    "    customer\n",
    "    INNER JOIN rental USING (customer_id)\n",
    "    INNER JOIN inventory USING (inventory_id)\n",
    "    INNER JOIN film USING (film_id)\n",
    "    INNER JOIN film_actor USING (film_id)\n",
    "    INNER JOIN actor USING (actor_id)\n",
    "WHERE\n",
    "    actor.first_name = 'DAN'\n",
    "    AND actor.last_name = 'HARRIS'\n",
    "    AND rental.return_date >= '2005-06-01'\n",
    "'''\n",
    "\n",
    "# rented in 2005-06-01 or later\n",
    "second_use_case = '''\n",
    "SELECT\n",
    "    customer.customer_id\n",
    "FROM\n",
    "    customer\n",
    "    INNER JOIN rental USING (customer_id)\n",
    "    INNER JOIN inventory USING (inventory_id)\n",
    "    INNER JOIN film USING (film_id)\n",
    "    INNER JOIN film_actor USING (film_id)\n",
    "    INNER JOIN actor USING (actor_id)\n",
    "WHERE\n",
    "    actor.first_name = 'DAN'\n",
    "    AND actor.last_name = 'HARRIS'\n",
    "    AND rental.rental_date >= '2005-06-01'\n",
    "'''\n",
    "\n",
    "# rented before 2005-06-01 and have not returned yet\n",
    "third_use_case = '''\n",
    "SELECT\n",
    "    customer.customer_id\n",
    "FROM\n",
    "    customer\n",
    "    INNER JOIN rental USING (customer_id)\n",
    "    INNER JOIN inventory USING (inventory_id)\n",
    "    INNER JOIN film USING (film_id)\n",
    "    INNER JOIN film_actor USING (film_id)\n",
    "    INNER JOIN actor USING (actor_id)\n",
    "WHERE\n",
    "    actor.first_name = 'DAN'\n",
    "    AND actor.last_name = 'HARRIS'\n",
    "    AND rental.rental_date < '2005-06-01'\n",
    "    AND rental.return_date IS NULL\n",
    "'''\n",
    "\n",
    "all_use_cases = f'''\n",
    "{first_use_case}\n",
    "UNION\n",
    "{second_use_case}\n",
    "UNION\n",
    "{third_use_case}\n",
    "'''\n",
    "\n",
    "sql_ex11 = f'''\n",
    "SELECT\n",
    "    first_name, last_name\n",
    "FROM\n",
    "    customer\n",
    "WHERE\n",
    "    customer_id NOT IN ({all_use_cases})\n",
    "ORDER BY\n",
    "    first_name, last_name\n",
    "'''\n",
    "\n",
    "db(sql_ex11)"
   ]
  },
  {
   "cell_type": "code",
   "execution_count": 95,
   "metadata": {},
   "outputs": [
    {
     "data": {
      "application/vnd.jupyter.widget-view+json": {
       "model_id": "3a9edeaacf84453fb1c53e64c97c1a8d",
       "version_major": 2,
       "version_minor": 0
      },
      "text/plain": [
       "interactive(children=(Button(description='Enviar ex11', style=ButtonStyle()), Output()), _dom_classes=('widget…"
      ]
     },
     "execution_count": 95,
     "metadata": {},
     "output_type": "execute_result"
    }
   ],
   "source": [
    "ia.sender(answer='sql_ex11', task='views', question='ex11', answer_type='pyvar')"
   ]
  },
  {
   "attachments": {},
   "cell_type": "markdown",
   "metadata": {},
   "source": [
    "- Faça uma consulta que retorne, para cada ator, a seguinte informação:\n",
    "\n",
    "| first_name | last_name | filmes por categoria |\n",
    "|--|--|--|\n",
    "| PENELOPE | GUINESS | Animation: ANACONDA CONFESSIONS; Children: LANGUAGE COWBOY; Classics: COLOR PHILADELPHIA, WESTWARD SEABISCUIT; Comedy: VERTIGO NORTHWEST; Documentary: ACADEMY DINOSAUR; Family: KING EVOLUTION, SPLASH GUMP; Foreign: MULHOLLAND BEAST; Games: BULWORTH COMMANDMENTS, HUMAN GRAFFITI; Horror: ELEPHANT TROJAN, LADY STAGE, RULES HUMAN; Music: WIZARD COLDBLOODED; New: ANGELS LIFE, OKLAHOMA JUMANJI; Sci-Fi: CHEAPER CLYDE; Sports: GLEAMING JAWBREAKER |\n",
    "| NICK | WAHLBERG | Action: BULL SHAWSHANK; Animation: FIGHT JAWBREAKER; Children: JERSEY SASSY; Classics: DRACULA CRYSTAL, GILBERT PELICAN; Comedy: MALLRATS UNITED, RUSHMORE MERMAID; Documentary: ADAPTATION HOLES; Drama: WARDROBE PHANTOM; Family: APACHE DIVINE, CHISUM BEHAVIOR, INDIAN LOVE, MAGUIRE APACHE; Foreign: BABY HALL, HAPPINESS UNITED; Games: ROOF CHAMPION; Music: LUCKY FLYING; New: DESTINY SATURDAY, FLASH WARS, JEKYLL FROGMEN, MASK PEACH; Sci-Fi: CHAINSAW UPTOWN, GOODFELLAS SALUTE; Travel: LIAISONS SWEET, SMILE EARRING |\n",
    "| etc | etc | etc |\n",
    "\n",
    "Ordene pelo nome e sobrenome do ator.\n",
    "\n",
    "Dica: use `GROUP_CONCAT` para agrupar todas as strings de uma coluna em uma string só, e `CONCAT` para unir strings particulares."
   ]
  },
  {
   "cell_type": "code",
   "execution_count": 68,
   "metadata": {},
   "outputs": [
    {
     "name": "stdout",
     "output_type": "stream",
     "text": [
      "Executando query:\n"
     ]
    }
   ],
   "source": [
    "sql_ex12 = '''\n",
    "-- SUA QUERY AQUI!\n",
    "'''\n",
    "\n",
    "db(sql_ex12)"
   ]
  },
  {
   "cell_type": "code",
   "execution_count": 69,
   "metadata": {},
   "outputs": [
    {
     "data": {
      "application/vnd.jupyter.widget-view+json": {
       "model_id": "119e2edad8ea4f0a95fcb439b0c93f1e",
       "version_major": 2,
       "version_minor": 0
      },
      "text/plain": [
       "interactive(children=(Button(description='Enviar ex12', style=ButtonStyle()), Output()), _dom_classes=('widget…"
      ]
     },
     "execution_count": 69,
     "metadata": {},
     "output_type": "execute_result"
    }
   ],
   "source": [
    "ia.sender(answer='sql_ex12', task='views', question='ex12', answer_type='pyvar')"
   ]
  },
  {
   "attachments": {},
   "cell_type": "markdown",
   "metadata": {},
   "source": [
    "## Conclusão"
   ]
  },
  {
   "attachments": {},
   "cell_type": "markdown",
   "metadata": {},
   "source": [
    "Façamos uma pausa para apreciar quão longe estamos: já conseguimos criar nossas tabelas, inserir informação, removê-la, atualizá-la, e consultar nossa base de maneiras bem sofisticadas! Vimos desde `SELECT` simples até buscas mais complexas envolvendo várias etapas de processamento para obter o dado desejado.\n",
    "\n",
    "Por hoje é só, feche sua conexão e bom descanso!"
   ]
  },
  {
   "cell_type": "code",
   "execution_count": 70,
   "metadata": {},
   "outputs": [],
   "source": [
    "# connection.close()"
   ]
  },
  {
   "attachments": {},
   "cell_type": "markdown",
   "metadata": {},
   "source": [
    "## Conferir Notas\n",
    "\n",
    "Confira se as notas na atividade são as esperadas!\n",
    "\n",
    "Primeiro na atividade atual!"
   ]
  },
  {
   "cell_type": "code",
   "execution_count": 71,
   "metadata": {},
   "outputs": [
    {
     "data": {
      "text/markdown": [
       "|    | Tarefa   |    Nota |\n",
       "|---:|:---------|--------:|\n",
       "|  0 | views    | 8.33333 |"
      ],
      "text/plain": [
       "<IPython.core.display.Markdown object>"
      ]
     },
     "metadata": {},
     "output_type": "display_data"
    }
   ],
   "source": [
    "ia.grades(by=\"task\", task=\"views\")"
   ]
  },
  {
   "cell_type": "code",
   "execution_count": 72,
   "metadata": {},
   "outputs": [
    {
     "data": {
      "text/markdown": [
       "|    | Atividade   | Exercício   |   Peso |   Nota |\n",
       "|---:|:------------|:------------|-------:|-------:|\n",
       "|  0 | views       | ex01        |      1 |     10 |\n",
       "|  1 | views       | ex02        |      1 |     10 |\n",
       "|  2 | views       | ex03        |      1 |     10 |\n",
       "|  3 | views       | ex04        |      1 |     10 |\n",
       "|  4 | views       | ex05        |      1 |     10 |\n",
       "|  5 | views       | ex06        |      1 |     10 |\n",
       "|  6 | views       | ex07        |      1 |     10 |\n",
       "|  7 | views       | ex08        |      1 |     10 |\n",
       "|  8 | views       | ex09        |      1 |     10 |\n",
       "|  9 | views       | ex10        |      1 |     10 |\n",
       "| 10 | views       | ex11        |      1 |      0 |\n",
       "| 11 | views       | ex12        |      1 |      0 |"
      ],
      "text/plain": [
       "<IPython.core.display.Markdown object>"
      ]
     },
     "metadata": {},
     "output_type": "display_data"
    }
   ],
   "source": [
    "ia.grades(task=\"views\")"
   ]
  },
  {
   "cell_type": "code",
   "execution_count": 73,
   "metadata": {},
   "outputs": [
    {
     "data": {
      "text/markdown": [
       "|    | Tarefa       |     Nota |\n",
       "|---:|:-------------|---------:|\n",
       "|  0 | agg_join     | 10       |\n",
       "|  1 | ddl          | 10       |\n",
       "|  2 | dml          | 10       |\n",
       "|  3 | group_having | 10       |\n",
       "|  4 | newborn      | 10       |\n",
       "|  5 | select01     | 10       |\n",
       "|  6 | sql_review1  |  0       |\n",
       "|  7 | views        |  8.33333 |"
      ],
      "text/plain": [
       "<IPython.core.display.Markdown object>"
      ]
     },
     "metadata": {},
     "output_type": "display_data"
    }
   ],
   "source": [
    "ia.grades(by=\"task\")"
   ]
  }
 ],
 "metadata": {
  "kernelspec": {
   "display_name": "Python 3 (ipykernel)",
   "language": "python",
   "name": "python3"
  },
  "language_info": {
   "codemirror_mode": {
    "name": "ipython",
    "version": 3
   },
   "file_extension": ".py",
   "mimetype": "text/x-python",
   "name": "python",
   "nbconvert_exporter": "python",
   "pygments_lexer": "ipython3",
   "version": "3.9.17"
  }
 },
 "nbformat": 4,
 "nbformat_minor": 4
}
