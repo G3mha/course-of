{
 "cells": [
  {
   "cell_type": "code",
   "execution_count": 1,
   "metadata": {},
   "outputs": [
    {
     "name": "stderr",
     "output_type": "stream",
     "text": [
      "/Users/enriccogemha/Developer/courses-at-Insper/social_networks/aps03/web_scrapper/venv/lib/python3.9/site-packages/urllib3/__init__.py:34: NotOpenSSLWarning: urllib3 v2.0 only supports OpenSSL 1.1.1+, currently the 'ssl' module is compiled with 'LibreSSL 2.8.3'. See: https://github.com/urllib3/urllib3/issues/3020\n",
      "  warnings.warn(\n"
     ]
    }
   ],
   "source": [
    "from selenium import webdriver\n",
    "from selenium.webdriver.common.by import By\n",
    "import time\n",
    "import pyperclip"
   ]
  },
  {
   "cell_type": "code",
   "execution_count": 2,
   "metadata": {},
   "outputs": [],
   "source": [
    "# set up the PATHs\n",
    "URL_WEBSITE = 'https://limitlesstcg.com/tournaments?time=12months&type=all&format=standard&region=all&show=100'\n",
    "URL_WEBSITE_TEST = 'https://limitlesstcg.com/tournaments?time=1months&type=all&format=standard&region=all&show=100'"
   ]
  },
  {
   "cell_type": "code",
   "execution_count": 3,
   "metadata": {},
   "outputs": [
    {
     "name": "stdout",
     "output_type": "stream",
     "text": [
      "52\n",
      "https://limitlesstcg.com/tournaments/385\n"
     ]
    }
   ],
   "source": [
    "# I need to use selenium to scrape the data from the website below\n",
    "# https://limitlesstcg.com/tournaments?time=12months&type=all&format=standard&region=all&show=100\n",
    "# And extract the decklists from the top 8 players of each tournament and save them in a csv file\n",
    "# The csv file should have the following columns:\n",
    "# Tournament Name, Date, Player Name, Deck Name, Card1, Card2, ..., Card60\n",
    "# The csv file should have a row for each decklist\n",
    "# begin now\n",
    "\n",
    "\n",
    "# Initialize the WebDriver (in this case, for Chrome)\n",
    "driver = webdriver.Chrome()\n",
    "\n",
    "# Go to the limitlesstcg website\n",
    "driver.get(URL_WEBSITE)\n",
    "\n",
    "# Get all the urls for the tournaments\n",
    "\n",
    "# all elements have a tag <a> and the href=\"/tournament/xxxxx\" where xxxxx is the tournament id\n",
    "# I can use the xpath to find all the elements with the tag <a> and then extract the href attribute\n",
    "# wait for the page to load\n",
    "time.sleep(1)\n",
    "\n",
    "elements = driver.find_elements(By.XPATH, '/html/body/main/div/table/tbody//td[3]/a')\n",
    "urls = []\n",
    "for element in elements:\n",
    "    urls.append(element.get_attribute('href'))\n",
    "\n",
    "print(len(urls))\n",
    "print(urls[0])"
   ]
  },
  {
   "cell_type": "code",
   "execution_count": 4,
   "metadata": {},
   "outputs": [
    {
     "name": "stdout",
     "output_type": "stream",
     "text": [
      "416\n",
      "['https://limitlesstcg.com/decks/264/cards', 'https://limitlesstcg.com/decks/240/cards?variant=1', 'https://limitlesstcg.com/decks/264/cards', 'https://limitlesstcg.com/decks/264/cards?variant=1', 'https://limitlesstcg.com/decks/212/cards?variant=38', 'https://limitlesstcg.com/decks/264/cards?variant=1', 'https://limitlesstcg.com/decks/255/cards', 'https://limitlesstcg.com/decks/264/cards', 'https://limitlesstcg.com/decks/224/cards?variant=2', 'https://limitlesstcg.com/decks/255/cards', 'https://limitlesstcg.com/decks/264/cards?variant=3', 'https://limitlesstcg.com/decks/247/cards', 'https://limitlesstcg.com/decks/255/cards', 'https://limitlesstcg.com/decks/241/cards', 'https://limitlesstcg.com/decks/241/cards', 'https://limitlesstcg.com/decks/241/cards', 'https://limitlesstcg.com/decks/241/cards', 'https://limitlesstcg.com/decks/257/cards?variant=2', 'https://limitlesstcg.com/decks/211/cards?variant=1', 'https://limitlesstcg.com/decks/247/cards', 'https://limitlesstcg.com/decks/240/cards?variant=1', 'https://limitlesstcg.com/decks/257/cards?variant=2', 'https://limitlesstcg.com/decks/261/cards', 'https://limitlesstcg.com/decks/247/cards', 'https://limitlesstcg.com/decks/211/cards?variant=1', 'https://limitlesstcg.com/decks/255/cards', 'https://limitlesstcg.com/decks/240/cards?variant=1', 'https://limitlesstcg.com/decks/211/cards?variant=1', 'https://limitlesstcg.com/decks/211/cards?variant=1', 'https://limitlesstcg.com/decks/255/cards', 'https://limitlesstcg.com/decks/241/cards', 'https://limitlesstcg.com/decks/240/cards?variant=1', 'https://limitlesstcg.com/decks/211/cards?variant=1', 'https://limitlesstcg.com/decks/247/cards', 'https://limitlesstcg.com/decks/253/cards?variant=1', 'https://limitlesstcg.com/decks/240/cards?variant=1', 'https://limitlesstcg.com/decks/241/cards?variant=4', 'https://limitlesstcg.com/decks/241/cards', 'https://limitlesstcg.com/decks/247/cards', 'https://limitlesstcg.com/decks/257/cards?variant=2', 'https://limitlesstcg.com/decks/224/cards?variant=2', 'https://limitlesstcg.com/decks/212/cards?variant=34', 'https://limitlesstcg.com/decks/255/cards', 'https://limitlesstcg.com/decks/255/cards', 'https://limitlesstcg.com/decks/241/cards', 'https://limitlesstcg.com/decks/212/cards?variant=38', 'https://limitlesstcg.com/decks/212/cards?variant=34', 'https://limitlesstcg.com/decks/247/cards', 'https://limitlesstcg.com/decks/241/cards', 'https://limitlesstcg.com/decks/241/cards', 'https://limitlesstcg.com/decks/241/cards?variant=4', 'https://limitlesstcg.com/decks/241/cards', 'https://limitlesstcg.com/decks/241/cards', 'https://limitlesstcg.com/decks/212/cards?variant=37', 'https://limitlesstcg.com/decks/255/cards', 'https://limitlesstcg.com/decks/255/cards', 'https://limitlesstcg.com/decks/211/cards?variant=1', 'https://limitlesstcg.com/decks/255/cards', 'https://limitlesstcg.com/decks/211/cards?variant=1', 'https://limitlesstcg.com/decks/247/cards', 'https://limitlesstcg.com/decks/255/cards', 'https://limitlesstcg.com/decks/241/cards', 'https://limitlesstcg.com/decks/247/cards', 'https://limitlesstcg.com/decks/241/cards', 'https://limitlesstcg.com/decks/211/cards', 'https://limitlesstcg.com/decks/212/cards?variant=27', 'https://limitlesstcg.com/decks/255/cards', 'https://limitlesstcg.com/decks/212/cards?variant=34', 'https://limitlesstcg.com/decks/247/cards', 'https://limitlesstcg.com/decks/211/cards', 'https://limitlesstcg.com/decks/247/cards', 'https://limitlesstcg.com/decks/241/cards', 'https://limitlesstcg.com/decks/247/cards', 'https://limitlesstcg.com/decks/241/cards', 'https://limitlesstcg.com/decks/211/cards', 'https://limitlesstcg.com/decks/255/cards', 'https://limitlesstcg.com/decks/233/cards', 'https://limitlesstcg.com/decks/247/cards', 'https://limitlesstcg.com/decks/212/cards?variant=35', 'https://limitlesstcg.com/decks/211/cards', 'https://limitlesstcg.com/decks/211/cards', 'https://limitlesstcg.com/decks/241/cards', 'https://limitlesstcg.com/decks/255/cards', 'https://limitlesstcg.com/decks/212/cards?variant=34', 'https://limitlesstcg.com/decks/212/cards?variant=27', 'https://limitlesstcg.com/decks/211/cards', 'https://limitlesstcg.com/decks/211/cards', 'https://limitlesstcg.com/decks/241/cards', 'https://limitlesstcg.com/decks/212/cards?variant=34', 'https://limitlesstcg.com/decks/241/cards?variant=4', 'https://limitlesstcg.com/decks/241/cards', 'https://limitlesstcg.com/decks/255/cards', 'https://limitlesstcg.com/decks/212/cards', 'https://limitlesstcg.com/decks/247/cards', 'https://limitlesstcg.com/decks/255/cards', 'https://limitlesstcg.com/decks/253/cards?variant=1', 'https://limitlesstcg.com/decks/247/cards', 'https://limitlesstcg.com/decks/211/cards', 'https://limitlesstcg.com/decks/241/cards', 'https://limitlesstcg.com/decks/211/cards?variant=1', 'https://limitlesstcg.com/decks/247/cards', 'https://limitlesstcg.com/decks/241/cards', 'https://limitlesstcg.com/decks/211/cards', 'https://limitlesstcg.com/decks/212/cards?variant=27', 'https://limitlesstcg.com/decks/255/cards?variant=1', 'https://limitlesstcg.com/decks/212/cards?variant=27', 'https://limitlesstcg.com/decks/241/cards', 'https://limitlesstcg.com/decks/212/cards?variant=34', 'https://limitlesstcg.com/decks/255/cards', 'https://limitlesstcg.com/decks/241/cards', 'https://limitlesstcg.com/decks/255/cards', 'https://limitlesstcg.com/decks/240/cards?variant=1', 'https://limitlesstcg.com/decks/255/cards', 'https://limitlesstcg.com/decks/241/cards', 'https://limitlesstcg.com/decks/212/cards?variant=27', 'https://limitlesstcg.com/decks/241/cards', 'https://limitlesstcg.com/decks/211/cards', 'https://limitlesstcg.com/decks/241/cards', 'https://limitlesstcg.com/decks/255/cards', 'https://limitlesstcg.com/decks/211/cards', 'https://limitlesstcg.com/decks/211/cards?variant=1', 'https://limitlesstcg.com/decks/247/cards', 'https://limitlesstcg.com/decks/212/cards?variant=27', 'https://limitlesstcg.com/decks/211/cards?variant=1', 'https://limitlesstcg.com/decks/211/cards', 'https://limitlesstcg.com/decks/224/cards?variant=2', 'https://limitlesstcg.com/decks/247/cards', 'https://limitlesstcg.com/decks/212/cards?variant=34', 'https://limitlesstcg.com/decks/211/cards?variant=1', 'https://limitlesstcg.com/decks/247/cards', 'https://limitlesstcg.com/decks/247/cards', 'https://limitlesstcg.com/decks/211/cards', 'https://limitlesstcg.com/decks/241/cards', 'https://limitlesstcg.com/decks/241/cards', 'https://limitlesstcg.com/decks/212/cards?variant=34', 'https://limitlesstcg.com/decks/211/cards', 'https://limitlesstcg.com/decks/241/cards', 'https://limitlesstcg.com/decks/255/cards', 'https://limitlesstcg.com/decks/241/cards', 'https://limitlesstcg.com/decks/247/cards', 'https://limitlesstcg.com/decks/253/cards?variant=1', 'https://limitlesstcg.com/decks/241/cards?variant=4', 'https://limitlesstcg.com/decks/212/cards?variant=34', 'https://limitlesstcg.com/decks/212/cards?variant=27', 'https://limitlesstcg.com/decks/211/cards?variant=1', 'https://limitlesstcg.com/decks/211/cards', 'https://limitlesstcg.com/decks/241/cards', 'https://limitlesstcg.com/decks/241/cards', 'https://limitlesstcg.com/decks/241/cards?variant=4', 'https://limitlesstcg.com/decks/255/cards', 'https://limitlesstcg.com/decks/211/cards', 'https://limitlesstcg.com/decks/211/cards', 'https://limitlesstcg.com/decks/241/cards', 'https://limitlesstcg.com/decks/240/cards?variant=1', 'https://limitlesstcg.com/decks/247/cards', 'https://limitlesstcg.com/decks/211/cards', 'https://limitlesstcg.com/decks/247/cards', 'https://limitlesstcg.com/decks/212/cards?variant=28', 'https://limitlesstcg.com/decks/241/cards', 'https://limitlesstcg.com/decks/255/cards', 'https://limitlesstcg.com/decks/211/cards', 'https://limitlesstcg.com/decks/241/cards', 'https://limitlesstcg.com/decks/211/cards', 'https://limitlesstcg.com/decks/247/cards', 'https://limitlesstcg.com/decks/211/cards', 'https://limitlesstcg.com/decks/241/cards?variant=4', 'https://limitlesstcg.com/decks/241/cards', 'https://limitlesstcg.com/decks/255/cards', 'https://limitlesstcg.com/decks/212/cards?variant=27', 'https://limitlesstcg.com/decks/255/cards', 'https://limitlesstcg.com/decks/247/cards', 'https://limitlesstcg.com/decks/253/cards?variant=1', 'https://limitlesstcg.com/decks/211/cards', 'https://limitlesstcg.com/decks/257/cards?variant=2', 'https://limitlesstcg.com/decks/255/cards', 'https://limitlesstcg.com/decks/212/cards?variant=2', 'https://limitlesstcg.com/decks/241/cards', 'https://limitlesstcg.com/decks/211/cards', 'https://limitlesstcg.com/decks/255/cards', 'https://limitlesstcg.com/decks/247/cards', 'https://limitlesstcg.com/decks/212/cards?variant=27', 'https://limitlesstcg.com/decks/241/cards', 'https://limitlesstcg.com/decks/211/cards', 'https://limitlesstcg.com/decks/241/cards?variant=4', 'https://limitlesstcg.com/decks/212/cards?variant=27', 'https://limitlesstcg.com/decks/247/cards', 'https://limitlesstcg.com/decks/241/cards', 'https://limitlesstcg.com/decks/241/cards', 'https://limitlesstcg.com/decks/241/cards', 'https://limitlesstcg.com/decks/211/cards', 'https://limitlesstcg.com/decks/257/cards?variant=2', 'https://limitlesstcg.com/decks/212/cards?variant=34', 'https://limitlesstcg.com/decks/247/cards', 'https://limitlesstcg.com/decks/247/cards', 'https://limitlesstcg.com/decks/240/cards?variant=1', 'https://limitlesstcg.com/decks/241/cards', 'https://limitlesstcg.com/decks/241/cards', 'https://limitlesstcg.com/decks/255/cards', 'https://limitlesstcg.com/decks/255/cards', 'https://limitlesstcg.com/decks/211/cards', 'https://limitlesstcg.com/decks/255/cards', 'https://limitlesstcg.com/decks/241/cards', 'https://limitlesstcg.com/decks/211/cards', 'https://limitlesstcg.com/decks/253/cards?variant=1', 'https://limitlesstcg.com/decks/253/cards?variant=1', 'https://limitlesstcg.com/decks/211/cards', 'https://limitlesstcg.com/decks/241/cards', 'https://limitlesstcg.com/decks/255/cards?variant=1', 'https://limitlesstcg.com/decks/212/cards?variant=2', 'https://limitlesstcg.com/decks/255/cards', 'https://limitlesstcg.com/decks/211/cards', 'https://limitlesstcg.com/decks/241/cards?variant=4', 'https://limitlesstcg.com/decks/253/cards?variant=1', 'https://limitlesstcg.com/decks/247/cards', 'https://limitlesstcg.com/decks/247/cards', 'https://limitlesstcg.com/decks/257/cards?variant=1', 'https://limitlesstcg.com/decks/236/cards?variant=1', 'https://limitlesstcg.com/decks/247/cards', 'https://limitlesstcg.com/decks/247/cards', 'https://limitlesstcg.com/decks/247/cards', 'https://limitlesstcg.com/decks/212/cards?variant=2', 'https://limitlesstcg.com/decks/241/cards?variant=1', 'https://limitlesstcg.com/decks/241/cards', 'https://limitlesstcg.com/decks/247/cards', 'https://limitlesstcg.com/decks/253/cards?variant=1', 'https://limitlesstcg.com/decks/247/cards', 'https://limitlesstcg.com/decks/247/cards', 'https://limitlesstcg.com/decks/211/cards', 'https://limitlesstcg.com/decks/228/cards', 'https://limitlesstcg.com/decks/253/cards?variant=1', 'https://limitlesstcg.com/decks/247/cards', 'https://limitlesstcg.com/decks/211/cards', 'https://limitlesstcg.com/decks/241/cards?variant=1', 'https://limitlesstcg.com/decks/241/cards', 'https://limitlesstcg.com/decks/241/cards', 'https://limitlesstcg.com/decks/247/cards', 'https://limitlesstcg.com/decks/241/cards?variant=1', 'https://limitlesstcg.com/decks/247/cards', 'https://limitlesstcg.com/decks/212/cards?variant=2', 'https://limitlesstcg.com/decks/188/cards', 'https://limitlesstcg.com/decks/185/cards?variant=1', 'https://limitlesstcg.com/decks/228/cards', 'https://limitlesstcg.com/decks/241/cards', 'https://limitlesstcg.com/decks/188/cards', 'https://limitlesstcg.com/decks/211/cards', 'https://limitlesstcg.com/decks/247/cards', 'https://limitlesstcg.com/decks/247/cards', 'https://limitlesstcg.com/decks/185/cards?variant=1', 'https://limitlesstcg.com/decks/212/cards?variant=2', 'https://limitlesstcg.com/decks/253/cards?variant=1', 'https://limitlesstcg.com/decks/253/cards?variant=1', 'https://limitlesstcg.com/decks/247/cards', 'https://limitlesstcg.com/decks/212/cards?variant=15', 'https://limitlesstcg.com/decks/253/cards?variant=1', 'https://limitlesstcg.com/decks/211/cards', 'https://limitlesstcg.com/decks/211/cards', 'https://limitlesstcg.com/decks/247/cards', 'https://limitlesstcg.com/decks/247/cards', 'https://limitlesstcg.com/decks/247/cards', 'https://limitlesstcg.com/decks/247/cards', 'https://limitlesstcg.com/decks/241/cards', 'https://limitlesstcg.com/decks/247/cards', 'https://limitlesstcg.com/decks/253/cards?variant=1', 'https://limitlesstcg.com/decks/247/cards', 'https://limitlesstcg.com/decks/247/cards', 'https://limitlesstcg.com/decks/253/cards?variant=1', 'https://limitlesstcg.com/decks/212/cards?variant=2', 'https://limitlesstcg.com/decks/247/cards', 'https://limitlesstcg.com/decks/247/cards', 'https://limitlesstcg.com/decks/247/cards', 'https://limitlesstcg.com/decks/247/cards', 'https://limitlesstcg.com/decks/247/cards', 'https://limitlesstcg.com/decks/241/cards', 'https://limitlesstcg.com/decks/241/cards', 'https://limitlesstcg.com/decks/247/cards', 'https://limitlesstcg.com/decks/212/cards?variant=2', 'https://limitlesstcg.com/decks/188/cards', 'https://limitlesstcg.com/decks/188/cards', 'https://limitlesstcg.com/decks/247/cards', 'https://limitlesstcg.com/decks/241/cards', 'https://limitlesstcg.com/decks/247/cards', 'https://limitlesstcg.com/decks/185/cards?variant=1', 'https://limitlesstcg.com/decks/228/cards', 'https://limitlesstcg.com/decks/241/cards?variant=1', 'https://limitlesstcg.com/decks/227/cards?variant=1', 'https://limitlesstcg.com/decks/212/cards?variant=2', 'https://limitlesstcg.com/decks/247/cards', 'https://limitlesstcg.com/decks/188/cards', 'https://limitlesstcg.com/decks/247/cards', 'https://limitlesstcg.com/decks/253/cards?variant=1', 'https://limitlesstcg.com/decks/247/cards', 'https://limitlesstcg.com/decks/212/cards?variant=2', 'https://limitlesstcg.com/decks/228/cards', 'https://limitlesstcg.com/decks/212/cards?variant=2', 'https://limitlesstcg.com/decks/247/cards', 'https://limitlesstcg.com/decks/247/cards', 'https://limitlesstcg.com/decks/241/cards', 'https://limitlesstcg.com/decks/247/cards', 'https://limitlesstcg.com/decks/211/cards', 'https://limitlesstcg.com/decks/228/cards', 'https://limitlesstcg.com/decks/247/cards', 'https://limitlesstcg.com/decks/241/cards', 'https://limitlesstcg.com/decks/247/cards', 'https://limitlesstcg.com/decks/247/cards', 'https://limitlesstcg.com/decks/247/cards', 'https://limitlesstcg.com/decks/247/cards', 'https://limitlesstcg.com/decks/241/cards?variant=1', 'https://limitlesstcg.com/decks/247/cards', 'https://limitlesstcg.com/decks/247/cards', 'https://limitlesstcg.com/decks/247/cards', 'https://limitlesstcg.com/decks/247/cards', 'https://limitlesstcg.com/decks/211/cards', 'https://limitlesstcg.com/decks/211/cards', 'https://limitlesstcg.com/decks/253/cards?variant=1', 'https://limitlesstcg.com/decks/241/cards?variant=1', 'https://limitlesstcg.com/decks/247/cards', 'https://limitlesstcg.com/decks/247/cards', 'https://limitlesstcg.com/decks/211/cards?variant=1', 'https://limitlesstcg.com/decks/253/cards?variant=1', 'https://limitlesstcg.com/decks/235/cards?variant=1', 'https://limitlesstcg.com/decks/188/cards', 'https://limitlesstcg.com/decks/211/cards', 'https://limitlesstcg.com/decks/212/cards?variant=2', 'https://limitlesstcg.com/decks/241/cards?variant=1', 'https://limitlesstcg.com/decks/212/cards', 'https://limitlesstcg.com/decks/228/cards', 'https://limitlesstcg.com/decks/247/cards', 'https://limitlesstcg.com/decks/241/cards?variant=1', 'https://limitlesstcg.com/decks/247/cards', 'https://limitlesstcg.com/decks/188/cards', 'https://limitlesstcg.com/decks/247/cards', 'https://limitlesstcg.com/decks/247/cards', 'https://limitlesstcg.com/decks/247/cards', 'https://limitlesstcg.com/decks/247/cards', 'https://limitlesstcg.com/decks/228/cards', 'https://limitlesstcg.com/decks/241/cards?variant=1', 'https://limitlesstcg.com/decks/241/cards?variant=1', 'https://limitlesstcg.com/decks/247/cards', 'https://limitlesstcg.com/decks/247/cards', 'https://limitlesstcg.com/decks/247/cards', 'https://limitlesstcg.com/decks/247/cards', 'https://limitlesstcg.com/decks/241/cards', 'https://limitlesstcg.com/decks/211/cards', 'https://limitlesstcg.com/decks/241/cards', 'https://limitlesstcg.com/decks/237/cards?variant=1', 'https://limitlesstcg.com/decks/212/cards?variant=2', 'https://limitlesstcg.com/decks/241/cards', 'https://limitlesstcg.com/decks/247/cards', 'https://limitlesstcg.com/decks/247/cards', 'https://limitlesstcg.com/decks/227/cards?variant=1', 'https://limitlesstcg.com/decks/241/cards', 'https://limitlesstcg.com/decks/248/cards?variant=1', 'https://limitlesstcg.com/decks/227/cards?variant=2', 'https://limitlesstcg.com/decks/211/cards?variant=1', 'https://limitlesstcg.com/decks/211/cards', 'https://limitlesstcg.com/decks/227/cards?variant=1', 'https://limitlesstcg.com/decks/247/cards', 'https://limitlesstcg.com/decks/237/cards?variant=2', 'https://limitlesstcg.com/decks/241/cards?variant=4', 'https://limitlesstcg.com/decks/211/cards?variant=1', 'https://limitlesstcg.com/decks/149/cards?variant=3', 'https://limitlesstcg.com/decks/236/cards?variant=1', 'https://limitlesstcg.com/decks/249/cards', 'https://limitlesstcg.com/decks/235/cards?variant=1', 'https://limitlesstcg.com/decks/247/cards', 'https://limitlesstcg.com/decks/211/cards?variant=1', 'https://limitlesstcg.com/decks/247/cards', 'https://limitlesstcg.com/decks/235/cards?variant=1', 'https://limitlesstcg.com/decks/247/cards', 'https://limitlesstcg.com/decks/247/cards', 'https://limitlesstcg.com/decks/241/cards', 'https://limitlesstcg.com/decks/247/cards', 'https://limitlesstcg.com/decks/235/cards?variant=1', 'https://limitlesstcg.com/decks/247/cards', 'https://limitlesstcg.com/decks/247/cards', 'https://limitlesstcg.com/decks/247/cards', 'https://limitlesstcg.com/decks/241/cards?variant=4', 'https://limitlesstcg.com/decks/240/cards?variant=1', 'https://limitlesstcg.com/decks/239/cards?variant=1', 'https://limitlesstcg.com/decks/227/cards?variant=1', 'https://limitlesstcg.com/decks/212/cards?variant=27', 'https://limitlesstcg.com/decks/212/cards?variant=27', 'https://limitlesstcg.com/decks/240/cards?variant=1', 'https://limitlesstcg.com/decks/227/cards?variant=2', 'https://limitlesstcg.com/decks/246/cards', 'https://limitlesstcg.com/decks/240/cards?variant=1', 'https://limitlesstcg.com/decks/227/cards?variant=1', 'https://limitlesstcg.com/decks/246/cards', 'https://limitlesstcg.com/decks/246/cards', 'https://limitlesstcg.com/decks/195/cards?variant=1', 'https://limitlesstcg.com/decks/227/cards?variant=1', 'https://limitlesstcg.com/decks/227/cards?variant=1', 'https://limitlesstcg.com/decks/239/cards?variant=1', 'https://limitlesstcg.com/decks/239/cards?variant=1', 'https://limitlesstcg.com/decks/211/cards?variant=1', 'https://limitlesstcg.com/decks/240/cards?variant=1', 'https://limitlesstcg.com/decks/211/cards', 'https://limitlesstcg.com/decks/211/cards', 'https://limitlesstcg.com/decks/239/cards?variant=1', 'https://limitlesstcg.com/decks/211/cards', 'https://limitlesstcg.com/decks/211/cards', 'https://limitlesstcg.com/decks/229/cards', 'https://limitlesstcg.com/decks/240/cards?variant=1', 'https://limitlesstcg.com/decks/227/cards?variant=1', 'https://limitlesstcg.com/decks/227/cards?variant=1', 'https://limitlesstcg.com/decks/240/cards?variant=1', 'https://limitlesstcg.com/decks/212/cards?variant=27', 'https://limitlesstcg.com/decks/239/cards?variant=1', 'https://limitlesstcg.com/decks/212/cards?variant=28', 'https://limitlesstcg.com/decks/212/cards?variant=21', 'https://limitlesstcg.com/decks/240/cards?variant=1', 'https://limitlesstcg.com/decks/228/cards', 'https://limitlesstcg.com/decks/228/cards', 'https://limitlesstcg.com/decks/228/cards', 'https://limitlesstcg.com/decks/228/cards', 'https://limitlesstcg.com/decks/227/cards?variant=1']\n"
     ]
    }
   ],
   "source": [
    "deck_urls = []\n",
    "\n",
    "for url in urls:\n",
    "    driver.get(url)\n",
    "    time.sleep(1)\n",
    "    # get the link for the decks of the top 8 players\n",
    "    elements = driver.find_elements(By.XPATH, '/html/body/main/div/table/tbody//td[4]/a')\n",
    "    i = 0\n",
    "    for element in elements:\n",
    "        deck_url = element.get_attribute('href') + '/cards'\n",
    "        if len(element.get_attribute('href').split('?')) == 2:\n",
    "            deck_url = (element.get_attribute('href').split('?')[0] + '/cards?' + element.get_attribute('href').split('?')[1])\n",
    "        deck_urls.append(deck_url)\n",
    "        i += 1\n",
    "        if i == 8:\n",
    "            break\n",
    "\n",
    "print(len(deck_urls))\n",
    "print(deck_urls)"
   ]
  },
  {
   "cell_type": "code",
   "execution_count": 5,
   "metadata": {},
   "outputs": [],
   "source": [
    "def get_set_codes_and_numbers():\n",
    "    # Getting the a full list of set codes and card amounts (numbers) ever printed\n",
    "    all_set_codes = []\n",
    "    all_set_numbers = []\n",
    "    driver.get('https://limitlesstcg.com/cards')\n",
    "    time.sleep(1)\n",
    "    set_codes = driver.find_elements(By.XPATH, '/html/body/main/div/table/tbody//td[1]/a/span')\n",
    "    set_numbers = driver.find_elements(By.XPATH, '/html/body/main/div/table/tbody//td[3]/a')\n",
    "\n",
    "    if len(set_codes) != len(set_numbers):\n",
    "        print('Error: the number of set codes and set numbers is different')\n",
    "        return None, None\n",
    "\n",
    "    # then get the content of the element\n",
    "    for i in range(len(set_codes)):\n",
    "        set_code, set_number = set_codes[i], set_numbers[i]\n",
    "        all_set_codes.append(set_code.text)\n",
    "        all_set_numbers.append(int(set_number.text.split('\\n')[0]))\n",
    "\n",
    "    return all_set_codes, all_set_numbers"
   ]
  },
  {
   "cell_type": "code",
   "execution_count": 6,
   "metadata": {},
   "outputs": [],
   "source": [
    "def get_clean_decklist(data):\n",
    "    # Split the decklist into Pokemon, Trainer and Energy. Then remove Energy.\n",
    "    card_list = data.split('\\n\\n')[:2]\n",
    "    # Remove the first element of each list and separates the cards.\n",
    "    card_list = [x.split('\\n')[1:] for x in card_list]\n",
    "    # join the both lists (append one into other)\n",
    "    card_list = card_list[0] + card_list[1]\n",
    "    # split each element by the ' '\n",
    "    card_list = [x.split(' ') for x in card_list]\n",
    "    # get the last two elements of each list\n",
    "    card_list = [x[-2:] for x in card_list]\n",
    "    # if the second element has just 2 characters, put a 0 in front of it\n",
    "    card_list = [[x[0], '0' + x[1]] if len(x[1]) == 2 else x for x in card_list]\n",
    "    # join the elements of each list (append one into other)\n",
    "    card_list = [x[0] + x[1] for x in card_list]\n",
    "    \n",
    "    return card_list"
   ]
  },
  {
   "cell_type": "code",
   "execution_count": 7,
   "metadata": {},
   "outputs": [],
   "source": [
    "i = 0\n",
    "with open(f'output/decks.csv', 'w') as f:\n",
    "    # write the header\n",
    "    f.write('deck_id,card_id\\n')\n",
    "\n",
    "for deck_url in deck_urls:\n",
    "    driver.get(deck_url)\n",
    "    time.sleep(1)\n",
    "    # get the button by class='export'\n",
    "    button = driver.find_element(By.CLASS_NAME, 'export')\n",
    "    button.click()\n",
    "    copied_text = pyperclip.paste()\n",
    "    # save the text in a file\n",
    "    with open(f'output/decks.csv', 'a') as f:\n",
    "        clean_decklist = get_clean_decklist(copied_text)\n",
    "        for card in clean_decklist:\n",
    "            f.write(f'{i},{card}\\n')\n",
    "    i += 1"
   ]
  },
  {
   "cell_type": "code",
   "execution_count": null,
   "metadata": {},
   "outputs": [],
   "source": [
    "driver.quit()"
   ]
  },
  {
   "cell_type": "code",
   "execution_count": null,
   "metadata": {},
   "outputs": [],
   "source": []
  }
 ],
 "metadata": {
  "kernelspec": {
   "display_name": "venv",
   "language": "python",
   "name": "python3"
  },
  "language_info": {
   "codemirror_mode": {
    "name": "ipython",
    "version": 3
   },
   "file_extension": ".py",
   "mimetype": "text/x-python",
   "name": "python",
   "nbconvert_exporter": "python",
   "pygments_lexer": "ipython3",
   "version": "3.9.6"
  },
  "orig_nbformat": 4
 },
 "nbformat": 4,
 "nbformat_minor": 2
}
