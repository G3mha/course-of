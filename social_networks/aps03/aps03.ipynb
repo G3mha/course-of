{
 "cells": [
  {
   "cell_type": "markdown",
   "metadata": {},
   "source": [
    "# Redes Sociais - APS 3\n",
    "\n",
    "### Alunos: Arthur Barreto, Enricco Gemha e Felipe Catapano\n"
   ]
  },
  {
   "cell_type": "markdown",
   "metadata": {},
   "source": [
    "Extraindo dados do maior marketplace de jogos da atualidade, *Steam* [$^1$](https://www.kaggle.com/datasets/nikdavis/steam-store-games), construímos uma rede de empresas desenvolvedoras de jogos que se conectam quando produzem jogos do mesmo subgênero, considerando mais de 27.033 jogos, de mais de 17.000 desenvolvedoras. Os vértices representam empresas desenvolvedoras de jogos e uma aresta não-direcionada indica um número de jogos a definir para cada subgênero que ambas produziram."
   ]
  },
  {
   "cell_type": "markdown",
   "metadata": {},
   "source": [
    "## Pré-requisitos"
   ]
  },
  {
   "cell_type": "code",
   "execution_count": 1,
   "metadata": {
    "execution": {
     "iopub.execute_input": "2023-10-01T20:32:52.011893Z",
     "iopub.status.busy": "2023-10-01T20:32:52.011752Z",
     "iopub.status.idle": "2023-10-01T20:32:54.030155Z",
     "shell.execute_reply": "2023-10-01T20:32:54.029544Z",
     "shell.execute_reply.started": "2023-10-01T20:32:52.011880Z"
    }
   },
   "outputs": [
    {
     "data": {
      "text/html": [
       "\n",
       "    <script src=\"/static/.hidden/netpixi.min.js\"></script>\n"
      ],
      "text/plain": [
       "<IPython.core.display.HTML object>"
      ]
     },
     "metadata": {},
     "output_type": "display_data"
    }
   ],
   "source": [
    "import graph_tool_extras as gte\n",
    "import netpixi\n",
    "from graph_tool import draw\n",
    "import distribution as dst\n",
    "import matplotlib.pyplot as plt\n",
    "%matplotlib inline"
   ]
  },
  {
   "cell_type": "code",
   "execution_count": 2,
   "metadata": {
    "execution": {
     "iopub.execute_input": "2023-10-01T20:32:54.033310Z",
     "iopub.status.busy": "2023-10-01T20:32:54.033164Z",
     "iopub.status.idle": "2023-10-01T20:32:54.037058Z",
     "shell.execute_reply": "2023-10-01T20:32:54.036398Z",
     "shell.execute_reply.started": "2023-10-01T20:32:54.033296Z"
    }
   },
   "outputs": [],
   "source": [
    "PATH = 'steam.csv'"
   ]
  },
  {
   "cell_type": "markdown",
   "metadata": {},
   "source": [
    "## Análise dos dados importados"
   ]
  },
  {
   "cell_type": "markdown",
   "metadata": {},
   "source": [
    "Primeiro, abrimos e lemos o arquivo `steam.csv` para entendermos como os dados estão estruturados. \n",
    "Isso nos dá um *insight* de como realizar o *parsing* do arquivo e como extrair as informações que precisamos.\n",
    "Com isso, definimos uma função `get_data` que realiza a subrotina de extração e limpeza de uma linha do arquivo `steam.csv`."
   ]
  },
  {
   "cell_type": "code",
   "execution_count": 3,
   "metadata": {
    "execution": {
     "iopub.execute_input": "2023-10-01T20:32:54.037901Z",
     "iopub.status.busy": "2023-10-01T20:32:54.037739Z",
     "iopub.status.idle": "2023-10-01T20:32:54.050747Z",
     "shell.execute_reply": "2023-10-01T20:32:54.049880Z",
     "shell.execute_reply.started": "2023-10-01T20:32:54.037887Z"
    }
   },
   "outputs": [],
   "source": [
    "def get_data(line):\n",
    "    # realiza o split somente nas vírgulas que não estão entre aspas\n",
    "    line_cleaned = [x.strip('\"') for x in line.split(',')]\n",
    "\n",
    "    # adquire o gênero do jogo (contido em `genres`)\n",
    "    genre = line_cleaned[9]\n",
    "\n",
    "    # adquire o gênero do jogo (contido em `owners`)\n",
    "    try:\n",
    "        owners = (int(line_cleaned[16].split('-')[1]) + int(line_cleaned[16].split('-')[0])) / 2\n",
    "    except:\n",
    "        # ignora a linha pois está fora do padrão\n",
    "        return 'error', 0, [], True # envia bool de `got_error`\n",
    "\n",
    "    # adquire o desenvolvedor do jogo (contido em `developer`)\n",
    "    developer = line_cleaned[4]\n",
    "\n",
    "    # adquire uma lista de sub-gêneros (todos as tags do `steamspy` separados por ';', exceto o contido em `genres`)\n",
    "    sub_genres = [x for x in line_cleaned[10].split(';') if x != genre]\n",
    "    \n",
    "    return developer, owners, sub_genres, False"
   ]
  },
  {
   "cell_type": "markdown",
   "metadata": {},
   "source": [
    "Com isso, espiamos a saída da função `get_data` para entendermos como os dados estão estruturados."
   ]
  },
  {
   "cell_type": "code",
   "execution_count": 4,
   "metadata": {
    "execution": {
     "iopub.execute_input": "2023-10-01T20:32:54.051786Z",
     "iopub.status.busy": "2023-10-01T20:32:54.051599Z",
     "iopub.status.idle": "2023-10-01T20:32:54.071059Z",
     "shell.execute_reply": "2023-10-01T20:32:54.070309Z",
     "shell.execute_reply.started": "2023-10-01T20:32:54.051770Z"
    },
    "scrolled": true
   },
   "outputs": [
    {
     "name": "stdout",
     "output_type": "stream",
     "text": [
      "Developer: Valve\n",
      "Subgenres: ['FPS', 'Multiplayer']\n",
      "Owners: 15000000.0\n",
      "\n",
      "Developer: Valve\n",
      "Subgenres: ['FPS', 'Multiplayer']\n",
      "Owners: 7500000.0\n",
      "\n",
      "Developer: Valve\n",
      "Subgenres: ['FPS', 'World War II', 'Multiplayer']\n",
      "Owners: 7500000.0\n",
      "\n",
      "Developer: Valve\n",
      "Subgenres: ['FPS', 'Multiplayer']\n",
      "Owners: 7500000.0\n",
      "\n",
      "Developer: Gearbox Software\n",
      "Subgenres: ['FPS', 'Sci-fi']\n",
      "Owners: 7500000.0\n",
      "\n"
     ]
    }
   ],
   "source": [
    "with open(PATH) as file:\n",
    "\n",
    "    # cria index de contagem para o loop abaixo.\n",
    "    i = 0\n",
    "    \n",
    "    # ignora o cabeçalho.\n",
    "    next(file)\n",
    "\n",
    "    # Para não sobrecarregar este notebook\n",
    "    # vamos espiar somente as 5 primeiras linhas.\n",
    "    for line in file:\n",
    "        dev, owners, sub_genres, got_error = get_data(line)\n",
    "        if got_error:\n",
    "            continue\n",
    "        print(f'Developer: {dev}\\nSubgenres: {sub_genres}\\nOwners: {owners}\\n')\n",
    "        \n",
    "        # Para não sobrecarregar este notebook, vamos usar um contador\n",
    "        # e um break para imprimir apenas as cinco primeiras linhas.\n",
    "        i += 1\n",
    "        if i == 5:\n",
    "            break"
   ]
  },
  {
   "cell_type": "markdown",
   "metadata": {},
   "source": [
    "## Obtendo o valor de `fator_concorrencia`"
   ]
  },
  {
   "cell_type": "markdown",
   "metadata": {},
   "source": [
    "Agora que possuímos as informações de `developer`, `owners` e `subgenres` de cada jogo, vamos calcular para cada `developer` o número de vendas (`owners`) somadas de todos os jogos que ela já produziu por `subgenre`. Isso nos ajudará a medir o impacto de cada `developer` em cada `subgenre` e, consequentemente, a concorrência entre `developers` em cada `subgenre`, escolhemos chamar isto de `fator_concorrencia`. "
   ]
  },
  {
   "cell_type": "code",
   "execution_count": 5,
   "metadata": {
    "execution": {
     "iopub.execute_input": "2023-10-01T20:32:54.072710Z",
     "iopub.status.busy": "2023-10-01T20:32:54.072507Z",
     "iopub.status.idle": "2023-10-01T20:32:54.466102Z",
     "shell.execute_reply": "2023-10-01T20:32:54.465437Z",
     "shell.execute_reply.started": "2023-10-01T20:32:54.072693Z"
    }
   },
   "outputs": [
    {
     "name": "stdout",
     "output_type": "stream",
     "text": [
      "Foram detectados 1242 erros de parsing (linhas ignoradas)!\n",
      "Temos 16388 empresas armazenadas.\n",
      "\n",
      "Por exemplo, vamos espiar a developer `Valve`:\n",
      "{'FPS': 218500000.0, 'Multiplayer': 140000000.0, 'World War II': 15000000.0, 'Classic': 7500000.0, 'Sci-fi': 33500000.0, 'Singleplayer': 30000000.0, 'Puzzle': 30000000.0, 'First-Person': 30000000.0, 'Free to Play': 190000000.0, 'Zombies': 22500000.0, 'Co-op': 41000000.0, 'MOBA': 150000000.0, 'Strategy': 150000000.0, 'Animation & Modeling': 1500000.0, 'Video Production': 1500000.0, 'VR': 750000.0, 'Action': 750000.0, 'Card Game': 1500000.0, 'Trading Card Game': 1500000.0}\n",
      "\n",
      "Temos 337 sub-gêneros únicos.\n"
     ]
    }
   ],
   "source": [
    "with open(PATH) as file:\n",
    "\n",
    "    # armazena quantidade de linhas ignoradas por input incorreto\n",
    "    parsing_errors = 0\n",
    "    \n",
    "    # ignora o cabeçalho.\n",
    "    next(file)\n",
    "\n",
    "    # criamos uma variável para armazenar o fator de concorrência de cada empresa.\n",
    "    game_industry = {}\n",
    "\n",
    "    for line in file:\n",
    "        \n",
    "        # adquire nome do desenvolvedor, quantidade de vendas e sub-gêneros em um jogo (linha).\n",
    "        dev, owners, sub_genres, got_error = get_data(line)\n",
    "        if got_error:\n",
    "            parsing_errors += 1\n",
    "            continue\n",
    "\n",
    "    \t# cria um dicionário para o developer, caso não exista.\n",
    "        if game_industry.get(dev) is None:\n",
    "            game_industry[dev] = {}\n",
    "\n",
    "        # altera o valor do fato de concorrência para cada sub-gênero, na developer atual.\n",
    "        for sub_genre in sub_genres:\n",
    "            game_industry[dev][sub_genre] = game_industry[dev].get(sub_genre, 0) + owners\n",
    "\n",
    "print(f'Foram detectados {parsing_errors} erros de parsing (linhas ignoradas)!')\n",
    "print(f'Temos {len(game_industry)} empresas armazenadas.')\n",
    "print(f'\\nPor exemplo, vamos espiar a developer `Valve`:\\n{game_industry[\"Valve\"]}')\n",
    "\n",
    "# imprime a quantidade de sub-gêneros únicos.\n",
    "all_sub_genres = [x for y in game_industry.values() for x in y.keys()]\n",
    "print(f'\\nTemos {len(set(all_sub_genres))} sub-gêneros únicos.')"
   ]
  },
  {
   "cell_type": "markdown",
   "metadata": {},
   "source": [
    "Agora que posuimos o `fator_concorrencia` de cada `developer` em cada `subgenre`, vamos montar a tabela de distribuição de arestas. Isso nos ajudará a entender qual threshold de `fator_concorrencia` devemos utilizar para definir se duas `developers` estão concorrendo em um `subgenre` ou não."
   ]
  },
  {
   "cell_type": "code",
   "execution_count": 6,
   "metadata": {
    "execution": {
     "iopub.execute_input": "2023-10-01T20:32:54.942420Z",
     "iopub.status.busy": "2023-10-01T20:32:54.941423Z",
     "iopub.status.idle": "2023-10-01T20:32:55.025489Z",
     "shell.execute_reply": "2023-10-01T20:32:55.024895Z",
     "shell.execute_reply.started": "2023-10-01T20:32:54.942388Z"
    }
   },
   "outputs": [
    {
     "name": "stdout",
     "output_type": "stream",
     "text": [
      "Por exemplo, vamos espiar a developer `Valve` sem threshold:\n",
      "{'FPS': 218500000.0, 'Multiplayer': 140000000.0, 'World War II': 15000000.0, 'Classic': 7500000.0, 'Sci-fi': 33500000.0, 'Singleplayer': 30000000.0, 'Puzzle': 30000000.0, 'First-Person': 30000000.0, 'Free to Play': 190000000.0, 'Zombies': 22500000.0, 'Co-op': 41000000.0, 'MOBA': 150000000.0, 'Strategy': 150000000.0, 'Animation & Modeling': 1500000.0, 'Video Production': 1500000.0, 'VR': 750000.0, 'Action': 750000.0, 'Card Game': 1500000.0, 'Trading Card Game': 1500000.0}\n",
      "\n",
      "Por exemplo, vamos espiar a developer `Valve` com threshold de 100 MIL:\n",
      "{'FPS': 218500000.0, 'Multiplayer': 140000000.0, 'World War II': 15000000.0, 'Classic': 7500000.0, 'Sci-fi': 33500000.0, 'Singleplayer': 30000000.0, 'Puzzle': 30000000.0, 'First-Person': 30000000.0, 'Free to Play': 190000000.0, 'Zombies': 22500000.0, 'Co-op': 41000000.0, 'MOBA': 150000000.0, 'Strategy': 150000000.0, 'Animation & Modeling': 1500000.0, 'Video Production': 1500000.0, 'VR': 750000.0, 'Action': 750000.0, 'Card Game': 1500000.0, 'Trading Card Game': 1500000.0}\n",
      "\n",
      "Por exemplo, vamos espiar a developer `Valve` com threshold de 250 MIL:\n",
      "{'FPS': 218500000.0, 'Multiplayer': 140000000.0, 'World War II': 15000000.0, 'Classic': 7500000.0, 'Sci-fi': 33500000.0, 'Singleplayer': 30000000.0, 'Puzzle': 30000000.0, 'First-Person': 30000000.0, 'Free to Play': 190000000.0, 'Zombies': 22500000.0, 'Co-op': 41000000.0, 'MOBA': 150000000.0, 'Strategy': 150000000.0, 'Animation & Modeling': 1500000.0, 'Video Production': 1500000.0, 'VR': 750000.0, 'Action': 750000.0, 'Card Game': 1500000.0, 'Trading Card Game': 1500000.0}\n",
      "\n",
      "Por exemplo, vamos espiar a developer `Valve` com threshold de 500 MIL:\n",
      "{'FPS': 218500000.0, 'Multiplayer': 140000000.0, 'World War II': 15000000.0, 'Classic': 7500000.0, 'Sci-fi': 33500000.0, 'Singleplayer': 30000000.0, 'Puzzle': 30000000.0, 'First-Person': 30000000.0, 'Free to Play': 190000000.0, 'Zombies': 22500000.0, 'Co-op': 41000000.0, 'MOBA': 150000000.0, 'Strategy': 150000000.0, 'Animation & Modeling': 1500000.0, 'Video Production': 1500000.0, 'VR': 750000.0, 'Action': 750000.0, 'Card Game': 1500000.0, 'Trading Card Game': 1500000.0}\n",
      "\n",
      "Por exemplo, vamos espiar a developer `Valve` com threshold de 1 MILHÃO:\n",
      "{'FPS': 218500000.0, 'Multiplayer': 140000000.0, 'World War II': 15000000.0, 'Classic': 7500000.0, 'Sci-fi': 33500000.0, 'Singleplayer': 30000000.0, 'Puzzle': 30000000.0, 'First-Person': 30000000.0, 'Free to Play': 190000000.0, 'Zombies': 22500000.0, 'Co-op': 41000000.0, 'MOBA': 150000000.0, 'Strategy': 150000000.0, 'Animation & Modeling': 1500000.0, 'Video Production': 1500000.0, 'Card Game': 1500000.0, 'Trading Card Game': 1500000.0}\n",
      "\n"
     ]
    }
   ],
   "source": [
    "# Agora que posuimos o `fator_concorrencia` de cada `developer` em cada `subgenre`, vamos montar a tabela de distribuição de arestas. Isso nos ajudará a entender qual threshold de `fator_concorrencia` devemos utilizar para definir se duas `developers` estão concorrendo em um `subgenre` ou não.\n",
    "\n",
    "# criamos uma lista contendo os cortes de threshold que queremos testar.\n",
    "# sem threshold | 100 mil | 250 mil | 500 mil | 1 milhão\n",
    "thresholds = [0, 100000, 250000, 500000, 1000000]\n",
    "\n",
    "# criamos uma lista para armazenar `game_industry` depois de aplicado o threshold.\n",
    "game_industry_thresholded = [{}, {}, {}, {}, {}]\n",
    "\n",
    "# varremos a `game_industry` e criamos uma versão dela para cada threshold.\n",
    "for i in range(len(thresholds)):\n",
    "    threshold = thresholds[i]\n",
    "    \n",
    "    for dev, sub_genres in game_industry.items():\n",
    "        for sub_genre, owners in sub_genres.items():\n",
    "            if owners > threshold:\n",
    "                game_industry_thresholded[i][dev] = game_industry_thresholded[i].get(dev, {})\n",
    "                game_industry_thresholded[i][dev][sub_genre] = owners\n",
    "\n",
    "print(f'Por exemplo, vamos espiar a developer `Valve` sem threshold:\\n{game_industry_thresholded[0][\"Valve\"]}\\n')\n",
    "print(f'Por exemplo, vamos espiar a developer `Valve` com threshold de 100 MIL:\\n{game_industry_thresholded[1][\"Valve\"]}\\n')\n",
    "print(f'Por exemplo, vamos espiar a developer `Valve` com threshold de 250 MIL:\\n{game_industry_thresholded[2][\"Valve\"]}\\n')\n",
    "print(f'Por exemplo, vamos espiar a developer `Valve` com threshold de 500 MIL:\\n{game_industry_thresholded[3][\"Valve\"]}\\n')\n",
    "print(f'Por exemplo, vamos espiar a developer `Valve` com threshold de 1 MILHÃO:\\n{game_industry_thresholded[4][\"Valve\"]}\\n')"
   ]
  },
  {
   "cell_type": "code",
   "execution_count": 7,
   "metadata": {
    "execution": {
     "iopub.execute_input": "2023-10-01T20:32:55.839079Z",
     "iopub.status.busy": "2023-10-01T20:32:55.838211Z",
     "iopub.status.idle": "2023-10-01T20:32:55.877263Z",
     "shell.execute_reply": "2023-10-01T20:32:55.876241Z",
     "shell.execute_reply.started": "2023-10-01T20:32:55.839052Z"
    }
   },
   "outputs": [
    {
     "name": "stdout",
     "output_type": "stream",
     "text": [
      "Por exemplo, vamos espiar a quantidade de empresas que estão concorrendo no sub-gênero `Action` sem threshold:\n",
      "7160\n",
      "Por exemplo, vamos espiar a quantidade de empresas que estão concorrendo no sub-gênero `Action` com threshold de 100 MIL:\n",
      "784\n",
      "Por exemplo, vamos espiar a quantidade de empresas que estão concorrendo no sub-gênero `Action` com threshold de 250 MIL:\n",
      "443\n",
      "Por exemplo, vamos espiar a quantidade de empresas que estão concorrendo no sub-gênero `Action` com threshold de 500 MIL:\n",
      "197\n",
      "Por exemplo, vamos espiar a quantidade de empresas que estão concorrendo no sub-gênero `Action` com threshold de 1 MILHÃO:\n",
      "95\n"
     ]
    }
   ],
   "source": [
    "# cria um dicionário que tem como chave o threshold e como valor um dicionário.\n",
    "# o dicionário interno tem como chave o sub-gênero e como valor uma lista com todas as empresas que estão concorrendo neste sub-gênero.\n",
    "edges_for_thresholds = [{}, {}, {}, {}, {}]\n",
    "for i in range(len(thresholds)):\n",
    "    for dev, sub_genres in game_industry_thresholded[i].items():\n",
    "        for sub_genre, owners in sub_genres.items():\n",
    "            edges_for_thresholds[i][sub_genre] = edges_for_thresholds[i].get(sub_genre, [])\n",
    "            edges_for_thresholds[i][sub_genre].append(dev)\n",
    "\n",
    "print(f'Por exemplo, vamos espiar a quantidade de empresas que estão concorrendo no sub-gênero `Action` sem threshold:\\n{len(edges_for_thresholds[0][\"Action\"])}')\n",
    "print(f'Por exemplo, vamos espiar a quantidade de empresas que estão concorrendo no sub-gênero `Action` com threshold de 100 MIL:\\n{len(edges_for_thresholds[1][\"Action\"])}')\n",
    "print(f'Por exemplo, vamos espiar a quantidade de empresas que estão concorrendo no sub-gênero `Action` com threshold de 250 MIL:\\n{len(edges_for_thresholds[2][\"Action\"])}')\n",
    "print(f'Por exemplo, vamos espiar a quantidade de empresas que estão concorrendo no sub-gênero `Action` com threshold de 500 MIL:\\n{len(edges_for_thresholds[3][\"Action\"])}')\n",
    "print(f'Por exemplo, vamos espiar a quantidade de empresas que estão concorrendo no sub-gênero `Action` com threshold de 1 MILHÃO:\\n{len(edges_for_thresholds[4][\"Action\"])}')"
   ]
  },
  {
   "cell_type": "markdown",
   "metadata": {},
   "source": [
    "Parece estar funcionando! Vamos agora trocar a lista de `developers` por um contador de arestas entre esses `developers`."
   ]
  },
  {
   "cell_type": "code",
   "execution_count": 8,
   "metadata": {
    "execution": {
     "iopub.execute_input": "2023-10-01T20:33:00.734752Z",
     "iopub.status.busy": "2023-10-01T20:33:00.734403Z",
     "iopub.status.idle": "2023-10-01T20:33:00.739454Z",
     "shell.execute_reply": "2023-10-01T20:33:00.738623Z",
     "shell.execute_reply.started": "2023-10-01T20:33:00.734724Z"
    }
   },
   "outputs": [],
   "source": [
    "# criamos uma função que conta todas as arestas possíveis para uma lista de empresas.\n",
    "def count_edges(developers):\n",
    "    edges = 0\n",
    "    for i in range(len(developers)):\n",
    "        for j in range(i + 1, len(developers)):\n",
    "            edges += 1\n",
    "    return edges"
   ]
  },
  {
   "cell_type": "code",
   "execution_count": 9,
   "metadata": {
    "execution": {
     "iopub.execute_input": "2023-10-01T20:33:01.306322Z",
     "iopub.status.busy": "2023-10-01T20:33:01.306019Z",
     "iopub.status.idle": "2023-10-01T20:33:04.823015Z",
     "shell.execute_reply": "2023-10-01T20:33:04.822260Z",
     "shell.execute_reply.started": "2023-10-01T20:33:01.306300Z"
    }
   },
   "outputs": [
    {
     "name": "stdout",
     "output_type": "stream",
     "text": [
      "Quantidade de arestas possíveis na rede sem threshold:\n",
      "120276307\n",
      "Quantidade de arestas possíveis na rede com threshold de 100 MIL:\n",
      "1485862\n",
      "Quantidade de arestas possíveis na rede com threshold de 250 MIL:\n",
      "464410\n",
      "Quantidade de arestas possíveis na rede com threshold de 500 MIL:\n",
      "94137\n",
      "Quantidade de arestas possíveis na rede com threshold de 1 MILHÃO:\n",
      "27766\n"
     ]
    }
   ],
   "source": [
    "for i in range(len(thresholds)):\n",
    "    for sub_genre, developers in edges_for_thresholds[i].items():\n",
    "        edges_for_thresholds[i][sub_genre] = count_edges(developers)\n",
    "\n",
    "# imprime a quantidade de arestas possíveis, somando todos os sub-gêneros.\n",
    "print(f'Quantidade de arestas possíveis na rede sem threshold:\\n{sum(edges_for_thresholds[0].values())}')\n",
    "print(f'Quantidade de arestas possíveis na rede com threshold de 100 MIL:\\n{sum(edges_for_thresholds[1].values())}')\n",
    "print(f'Quantidade de arestas possíveis na rede com threshold de 250 MIL:\\n{sum(edges_for_thresholds[2].values())}')\n",
    "print(f'Quantidade de arestas possíveis na rede com threshold de 500 MIL:\\n{sum(edges_for_thresholds[3].values())}')\n",
    "print(f'Quantidade de arestas possíveis na rede com threshold de 1 MILHÃO:\\n{sum(edges_for_thresholds[4].values())}')"
   ]
  },
  {
   "cell_type": "markdown",
   "metadata": {},
   "source": [
    "[Como empresas grandes veêm o sucesso de um jogo em vendas](https://www.capcom.co.jp/ir/english/business/million.html#:~:text=In%20the%20home%20video%20game,Street%20Fighter%20and%20Resident%20Evil.) - 1 milhão de cópias vendidas\n",
    "\n",
    "[Discussão em fórum sobre o sucesso de um jogo Indie em vendas](https://www.quora.com/How-many-sales-does-a-game-typically-need-to-make-to-be-considered-successful#:~:text=Other%20answers%20have%20mentioned%20that,the%201%2C000%20%2D%202%2C000%20unit%20range!) - 100 a 250 mil cópias vendidas"
   ]
  },
  {
   "cell_type": "code",
   "execution_count": null,
   "metadata": {},
   "outputs": [],
   "source": []
  },
  {
   "cell_type": "markdown",
   "metadata": {},
   "source": [
    "Determinar se uma empresa de desenvolvimento de jogos é atuante em um sub-gênero com base apenas em dados de jogos já lançados pode ser um desafio, mas estabeleceremos critérios matemáticos que levem em consideração a quantidade de lançamentos e a concentração em um sub-gênero específico. Mas primeiro, vamos entender quais são as *\"personas\"* de empresas de desenvolvimento de jogos.\n",
    "\n",
    "- **Indie**: Empresas pequenas, que desenvolvem poucos jogos e de nicho (sub-gêneros parecidos). Exemplos: *Yatch Club Games* (Platformers), *Team Cherry* (Metroidvania).\n",
    "\n",
    "- **AAA**: Empresas grandes, com muitos funcionários e que desenvolvem muitos jogos e de diferentes sub-gêneros. Exemplos: *Ubisoft*, *Electronic Arts*.\n",
    "\n",
    "- **Mid-size**: Empresas de tamanho médio, que desenvolvem muitos jogos e de sub-gêneros parecidos. Exemplos: *Square Enix* (RPGs).\n",
    "\n",
    "Por isso estabelecemos 2 critérios (escolhidos qualitativamente) que definem se determinada empresa de desenvolvimento de jogos é atuante em um sub-gênero:\n",
    "\n",
    "1. **Porcentagem de Jogos no Sub-Gênero**: Calculamos a porcentagem de jogos de um sub-gênero específico em relação ao número total de jogos lançados pela empresa. Se essa porcentagem for alta (acima de 67%), consideramos que a empresa é concorrente nesse sub-gênero. *Aqui captamos empresas de nicho*, como *Mid-size* e *Indie*.\n",
    "\n",
    "2. **Número de Jogos que a empresa lançou**: Se uma empresa possui um número muito alto de jogos lançados, ou seja está no quarto quartil em quantidade de jogos lançados, consideramos que ela é uma concorrente em todo sub-gênero que ela lançar jogos. *Aqui captamos empresas de grande porte*, as *AAA*."
   ]
  },
  {
   "cell_type": "markdown",
   "metadata": {},
   "source": [
    "Vamos observar como se dá a distribuição de jogos por desenvolvedoras, ignorando o subgênero."
   ]
  },
  {
   "cell_type": "code",
   "execution_count": 21,
   "metadata": {
    "execution": {
     "iopub.execute_input": "2023-10-01T00:58:17.535978Z",
     "iopub.status.busy": "2023-10-01T00:58:17.535512Z",
     "iopub.status.idle": "2023-10-01T00:58:18.018057Z",
     "shell.execute_reply": "2023-10-01T00:58:18.017411Z",
     "shell.execute_reply.started": "2023-10-01T00:58:17.535958Z"
    }
   },
   "outputs": [
    {
     "data": {
      "text/plain": [
       "(array([2.4600e+02, 4.6700e+02, 1.7270e+03, 1.0733e+04, 2.4300e+02,\n",
       "        3.5900e+02, 1.5470e+03, 9.4000e+01, 1.5500e+02, 5.1300e+02,\n",
       "        6.3000e+01, 6.6000e+01, 1.9700e+02, 3.1000e+01, 4.1000e+01,\n",
       "        1.0800e+02, 2.0000e+01, 2.7000e+01, 5.5000e+01, 1.4000e+01,\n",
       "        2.1000e+01, 3.9000e+01, 1.4000e+01, 1.4000e+01, 3.7000e+01,\n",
       "        6.0000e+00, 8.0000e+00, 1.6000e+01, 1.0000e+00, 9.0000e+00,\n",
       "        1.2000e+01, 4.0000e+00, 6.0000e+00, 1.2000e+01, 1.0000e+00,\n",
       "        3.0000e+00, 9.0000e+00, 3.0000e+00, 5.0000e+00, 7.0000e+00,\n",
       "        2.0000e+00, 5.0000e+00, 5.0000e+00, 0.0000e+00, 1.0000e+00,\n",
       "        3.0000e+00, 5.0000e+00, 0.0000e+00, 5.0000e+00, 0.0000e+00,\n",
       "        3.0000e+00, 1.0000e+00, 3.0000e+00, 2.0000e+00, 2.0000e+00,\n",
       "        0.0000e+00, 1.0000e+00, 7.0000e+00, 1.0000e+00, 0.0000e+00,\n",
       "        2.0000e+00, 2.0000e+00, 2.0000e+00, 2.0000e+00, 0.0000e+00,\n",
       "        2.0000e+00, 0.0000e+00, 0.0000e+00, 0.0000e+00, 0.0000e+00,\n",
       "        0.0000e+00, 0.0000e+00, 1.0000e+00, 1.0000e+00, 1.0000e+00,\n",
       "        1.0000e+00, 0.0000e+00, 0.0000e+00, 0.0000e+00, 1.0000e+00,\n",
       "        0.0000e+00, 0.0000e+00, 0.0000e+00, 0.0000e+00, 1.0000e+00,\n",
       "        0.0000e+00, 0.0000e+00, 0.0000e+00, 0.0000e+00, 1.0000e+00,\n",
       "        1.0000e+00, 0.0000e+00, 0.0000e+00, 1.0000e+00, 0.0000e+00,\n",
       "        0.0000e+00, 1.0000e+00, 1.0000e+00, 0.0000e+00]),\n",
       " array([ 0.,  1.,  2.,  3.,  4.,  5.,  6.,  7.,  8.,  9., 10., 11., 12.,\n",
       "        13., 14., 15., 16., 17., 18., 19., 20., 21., 22., 23., 24., 25.,\n",
       "        26., 27., 28., 29., 30., 31., 32., 33., 34., 35., 36., 37., 38.,\n",
       "        39., 40., 41., 42., 43., 44., 45., 46., 47., 48., 49., 50., 51.,\n",
       "        52., 53., 54., 55., 56., 57., 58., 59., 60., 61., 62., 63., 64.,\n",
       "        65., 66., 67., 68., 69., 70., 71., 72., 73., 74., 75., 76., 77.,\n",
       "        78., 79., 80., 81., 82., 83., 84., 85., 86., 87., 88., 89., 90.,\n",
       "        91., 92., 93., 94., 95., 96., 97., 98., 99.]),\n",
       " <BarContainer object of 99 artists>)"
      ]
     },
     "execution_count": 21,
     "metadata": {},
     "output_type": "execute_result"
    },
    {
     "data": {
      "image/png": "[encoded data removed]",
      "text/plain": [
       "<Figure size 640x480 with 1 Axes>"
      ]
     },
     "metadata": {},
     "output_type": "display_data"
    }
   ],
   "source": [
    "# cria lista para armazenar a quantidade de jogos por desenvolvedora.\n",
    "lista_jogos = []\n",
    "\n",
    "# preenche a lista com a quantidade de jogos por desenvolvedora.\n",
    "for dev, sub_genres in inventory.items():\n",
    "    lista_jogos.append(sum(sub_genres.values()))\n",
    "\n",
    "# cria um histograma com a quantidade de jogos por desenvolvedora, indo de 0 a 200.\n",
    "# limitando os eixos x e y.\n",
    "plt.hist(lista_jogos, edgecolor='white', bins=range(0, 100), log=True)"
   ]
  },
  {
   "cell_type": "code",
   "execution_count": 24,
   "metadata": {
    "execution": {
     "iopub.execute_input": "2023-10-01T01:00:04.516377Z",
     "iopub.status.busy": "2023-10-01T01:00:04.515938Z",
     "iopub.status.idle": "2023-10-01T01:00:04.686328Z",
     "shell.execute_reply": "2023-10-01T01:00:04.685615Z",
     "shell.execute_reply.started": "2023-10-01T01:00:04.516354Z"
    }
   },
   "outputs": [
    {
     "data": {
      "text/plain": [
       "((array([4.07493933e-05, 9.89151740e-05, 1.57710404e-04, ...,\n",
       "         8.75482895e+00, 9.22129736e+00, 1.01080900e+01]),\n",
       "  array([  0,   0,   0, ..., 239, 279, 386])),\n",
       " (4.868456388534919, -0.4814457239387355, 0.6993370574171812))"
      ]
     },
     "execution_count": 24,
     "metadata": {},
     "output_type": "execute_result"
    },
    {
     "data": {
      "image/png": "[encoded data removed]",
      "text/plain": [
       "<Figure size 640x480 with 1 Axes>"
      ]
     },
     "metadata": {},
     "output_type": "display_data"
    }
   ],
   "source": [
    "from scipy import stats\n",
    "lista_proxy_jogos = [x for x in lista_jogos if x < 1000]\n",
    "stats.probplot(lista_jogos, dist='expon', plot=plt)"
   ]
  },
  {
   "cell_type": "markdown",
   "metadata": {},
   "source": [
    "Com o gráfico acima podemos concluir que a grande maioria das empresas desenvolvedoras de jogos desenvolvem até 10 jogos, enquanto poucas empresas desenvolvedoras de jogos desenvolvem muitos jogos (30 ou mais)."
   ]
  },
  {
   "cell_type": "markdown",
   "metadata": {},
   "source": [
    "Vamos ver com quantos subgêneros diferentes as empresas desenvolvedoras de jogos trabalham."
   ]
  },
  {
   "cell_type": "code",
   "execution_count": 7,
   "metadata": {
    "execution": {
     "iopub.execute_input": "2023-09-30T20:20:15.188033Z",
     "iopub.status.busy": "2023-09-30T20:20:15.187695Z",
     "iopub.status.idle": "2023-09-30T20:20:15.239675Z",
     "shell.execute_reply": "2023-09-30T20:20:15.239053Z",
     "shell.execute_reply.started": "2023-09-30T20:20:15.188006Z"
    }
   },
   "outputs": [
    {
     "name": "stdout",
     "output_type": "stream",
     "text": [
      "Quantidade de subgêneros existentes: 370\n"
     ]
    }
   ],
   "source": [
    "# criamos uma lista para armazenar o nome de cada sub-gênero.\n",
    "lista_sub_genres = []\n",
    "\n",
    "# preenchemos a lista com os sub-gêneros.\n",
    "for dev, sub_genres in inventory.items():\n",
    "    for sub_genre in sub_genres.keys():\n",
    "        if sub_genre not in lista_sub_genres:\n",
    "            lista_sub_genres.append(sub_genre)\n",
    "\n",
    "print(f'Quantidade de subgêneros existentes: {len(lista_sub_genres)}')"
   ]
  },
  {
   "cell_type": "markdown",
   "metadata": {},
   "source": [
    "(TODO) Iremos analisar a distribuição dos pesos das arestas para definir um valor mínimo para que uma aresta seja considerada na rede.\n",
    "Por isso, plotaremos um histograma para cada sub-gênero."
   ]
  },
  {
   "cell_type": "code",
   "execution_count": null,
   "metadata": {},
   "outputs": [],
   "source": [
    "# criamos um dicionário para armazenar os sub-gêneros e suas frequências.\n",
    "dict_sub_genres = {}\n",
    "\n",
    "# preenchemos o dicionário, com chaves de sub-gêneros e valores de lista de empresas atuantes no sub-gênero.\n",
    "for sub_genre in lista_sub_genres:\n",
    "    dev_in_sub_genre = []\n",
    "    for dev, sub_genres in inventory.items():\n",
    "        if sub_genre in sub_genres.keys():\n",
    "            dev_in_sub_genre.append(dev)"
   ]
  },
  {
   "cell_type": "markdown",
   "metadata": {},
   "source": [
    "Com base no resultado da distribuição, decidimos que o peso mínimo para uma aresta ser considerada na rede será de 5 filmes."
   ]
  },
  {
   "cell_type": "markdown",
   "metadata": {},
   "source": [
    "## Criação do grafo"
   ]
  },
  {
   "cell_type": "markdown",
   "metadata": {},
   "source": [
    "Utilizaremos a biblioteca [graph-tool](https://graph-tool.skewed.de/) somente para criação e visualização básica dos grafos, sem suporte de nenhum método ou função que não seja essencial."
   ]
  },
  {
   "cell_type": "code",
   "execution_count": 4,
   "metadata": {
    "execution": {
     "iopub.execute_input": "2023-09-26T12:23:44.112043Z",
     "iopub.status.busy": "2023-09-26T12:23:44.111070Z",
     "iopub.status.idle": "2023-09-26T12:23:44.125754Z",
     "shell.execute_reply": "2023-09-26T12:23:44.123340Z",
     "shell.execute_reply.started": "2023-09-26T12:23:44.111925Z"
    }
   },
   "outputs": [],
   "source": [
    "g = gte.Graph(directed=False) # pois o grafo não é direcionado, como informado acima."
   ]
  },
  {
   "cell_type": "markdown",
   "metadata": {},
   "source": [
    "Antes, vamos definir duas funções auxiliares para facilitar a adição de novos nós e arestas, respectivamente."
   ]
  },
  {
   "cell_type": "code",
   "execution_count": 5,
   "metadata": {
    "execution": {
     "iopub.execute_input": "2023-09-26T12:23:46.938579Z",
     "iopub.status.busy": "2023-09-26T12:23:46.938046Z",
     "iopub.status.idle": "2023-09-26T12:23:46.945898Z",
     "shell.execute_reply": "2023-09-26T12:23:46.943648Z",
     "shell.execute_reply.started": "2023-09-26T12:23:46.938560Z"
    }
   },
   "outputs": [],
   "source": [
    "def get_or_add_vertex(g, id):\n",
    "    u = g.vertex_by_id(id)\n",
    "    if u is None:\n",
    "        u = g.add_vertex_by_id(id)\n",
    "    return u\n",
    "\n",
    "def get_or_add_edge(g, id1, id2):\n",
    "    e = g.edge_by_ids(id1, id2)\n",
    "    if e is None:\n",
    "        e = g.add_edge_by_ids(id1, id2)\n",
    "    return e"
   ]
  },
  {
   "cell_type": "markdown",
   "metadata": {},
   "source": [
    "Antes, vamos definir duas funções auxiliares para facilitar a adição de novos nós e arestas, respectivamente."
   ]
  },
  {
   "cell_type": "code",
   "execution_count": 7,
   "metadata": {
    "execution": {
     "iopub.execute_input": "2023-09-26T12:27:17.069415Z",
     "iopub.status.busy": "2023-09-26T12:27:17.068995Z",
     "iopub.status.idle": "2023-09-26T12:27:34.415431Z",
     "shell.execute_reply": "2023-09-26T12:27:34.414860Z",
     "shell.execute_reply.started": "2023-09-26T12:27:17.069380Z"
    }
   },
   "outputs": [
    {
     "name": "stdout",
     "output_type": "stream",
     "text": [
      "Foram lidas 45477 linhas.\n"
     ]
    }
   ],
   "source": [
    "with open(PATH) as file:\n",
    "\n",
    "    # cria index de contagem para o loop abaixo.\n",
    "    i = 1\n",
    "    \n",
    "    # ignora o cabeçalho.\n",
    "    next(file)\n",
    "\n",
    "    for line in file:\n",
    "\n",
    "        # os dados são armazenados em:\n",
    "        # a cada linha, separados por vírgula, temos:\n",
    "        # cast, crew, id\n",
    "\n",
    "        # seleciona todo o conteúdo da string entre '[' e ']'\n",
    "        cast = line.split('[')[1].split(']')[0]\n",
    "\n",
    "        # cast é uma lista de dicionários\n",
    "        # cada dicionário tem as chaves:\n",
    "        # cast_id, character, credit_id, gender, id, name, order, profile_path\n",
    "        # de cada dicionário, precisamos somente de name\n",
    "        # seleciona todo o conteúdo entre '{' e '}' e depois a chave 'name'\n",
    "        names = cast.split(\"'name': '\")\n",
    "        # seleciona somente com os indices ímpares\n",
    "        names = names[1::2]\n",
    "        # seleciona todo o conteúdo até a primeira aspas simples\n",
    "        names = [name.split(\"'\")[0] for name in names]\n",
    "\n",
    "        # adiciona os vértices\n",
    "        for name in names:\n",
    "            get_or_add_vertex(g, name)\n",
    "\n",
    "        # adiciona as arestas\n",
    "        for j in range(len(names)):\n",
    "            for k in range(j+1, len(names)):\n",
    "                get_or_add_edge(g, names[j], names[k])\n",
    "        \n",
    "        # incrementa contador\n",
    "        i += 1\n",
    "\n",
    "# Imprime a quantidade de linhas lidas.\n",
    "print(f'Foram lidas {i} linhas.') "
   ]
  },
  {
   "cell_type": "markdown",
   "metadata": {},
   "source": [
    "A seguir, devemos chamar `draw.sfdp_layout`, passando a rede, para rodar um algoritmo de posicionamento chamado SFDP [[1](#sfdp)].\n",
    "\n",
    "Esse algoritmo usa uma ideia conhecida como [force-directed graph drawing](https://en.wikipedia.org/wiki/Force-directed_graph_drawing) para posicionar os vértices de forma a evidenciar agrupamentos."
   ]
  },
  {
   "cell_type": "code",
   "execution_count": 8,
   "metadata": {
    "execution": {
     "iopub.execute_input": "2023-09-26T12:27:56.558207Z",
     "iopub.status.busy": "2023-09-26T12:27:56.557840Z",
     "iopub.status.idle": "2023-09-26T12:42:10.490681Z",
     "shell.execute_reply": "2023-09-26T12:42:10.489973Z",
     "shell.execute_reply.started": "2023-09-26T12:27:56.558180Z"
    }
   },
   "outputs": [],
   "source": [
    "layout = draw.sfdp_layout(g)"
   ]
  },
  {
   "cell_type": "code",
   "execution_count": 9,
   "metadata": {
    "execution": {
     "iopub.execute_input": "2023-09-26T12:42:10.493359Z",
     "iopub.status.busy": "2023-09-26T12:42:10.493149Z",
     "iopub.status.idle": "2023-09-26T12:42:13.151409Z",
     "shell.execute_reply": "2023-09-26T12:42:13.150801Z",
     "shell.execute_reply.started": "2023-09-26T12:42:10.493345Z"
    }
   },
   "outputs": [],
   "source": [
    "gte.move(g, layout)"
   ]
  },
  {
   "cell_type": "markdown",
   "metadata": {},
   "source": [
    "## Armazenamento da rede"
   ]
  },
  {
   "cell_type": "markdown",
   "metadata": {},
   "source": [
    "Para garantir a segurança da informação processada, devemos guardá-la em um arquivo na mesma pasta deste notebook."
   ]
  },
  {
   "cell_type": "code",
   "execution_count": 10,
   "metadata": {
    "execution": {
     "iopub.execute_input": "2023-09-26T12:42:13.152102Z",
     "iopub.status.busy": "2023-09-26T12:42:13.151974Z",
     "iopub.status.idle": "2023-09-26T12:43:21.911313Z",
     "shell.execute_reply": "2023-09-26T12:43:21.910213Z",
     "shell.execute_reply.started": "2023-09-26T12:42:13.152090Z"
    }
   },
   "outputs": [],
   "source": [
    "g = gte.clean(g)\n",
    "gte.save(g, 'spotify.net.gz')"
   ]
  },
  {
   "cell_type": "markdown",
   "metadata": {},
   "source": [
    "## Visualização da rede"
   ]
  },
  {
   "cell_type": "markdown",
   "metadata": {},
   "source": [
    "O próximo passo é a renderização da rede."
   ]
  },
  {
   "cell_type": "code",
   "execution_count": 11,
   "metadata": {
    "execution": {
     "iopub.execute_input": "2023-09-26T12:43:21.912460Z",
     "iopub.status.busy": "2023-09-26T12:43:21.912315Z",
     "iopub.status.idle": "2023-09-26T12:43:21.923179Z",
     "shell.execute_reply": "2023-09-26T12:43:21.922138Z",
     "shell.execute_reply.started": "2023-09-26T12:43:21.912448Z"
    }
   },
   "outputs": [
    {
     "data": {
      "text/html": [
       "\n",
       "        <div id=\"AMFG8ZLQZMb4Xc6DfzkUPZ\"></div>\n",
       "        <script>netpixi.render('AMFG8ZLQZMb4Xc6DfzkUPZ', '/static/__shared__/aps03/spotify.net.gz', 1.7777777777777777, true, true, false, true);</script>\n",
       "    "
      ],
      "text/plain": [
       "<IPython.core.display.HTML object>"
      ]
     },
     "metadata": {},
     "output_type": "display_data"
    }
   ],
   "source": [
    "r = netpixi.render('spotify.net.gz', infinite=True)"
   ]
  },
  {
   "cell_type": "markdown",
   "metadata": {},
   "source": [
    "Por fim, devemos ajustar a visualização da renderização."
   ]
  },
  {
   "cell_type": "code",
   "execution_count": 12,
   "metadata": {
    "execution": {
     "iopub.execute_input": "2023-09-26T12:43:21.923795Z",
     "iopub.status.busy": "2023-09-26T12:43:21.923654Z",
     "iopub.status.idle": "2023-09-26T12:43:21.939557Z",
     "shell.execute_reply": "2023-09-26T12:43:21.937694Z",
     "shell.execute_reply.started": "2023-09-26T12:43:21.923783Z"
    }
   },
   "outputs": [
    {
     "data": {
      "text/html": [
       "\n",
       "        <div id=\"BehLcgAE9ZQGTGAWQaMWZy\"></div>\n",
       "        <script>netpixi.call('BehLcgAE9ZQGTGAWQaMWZy', 'AMFG8ZLQZMb4Xc6DfzkUPZ', 'changeGraph', 'eyJ0eXBlIjogInNldHRpbmdzIiwgInByb3BzIjogeyJ2ZXJ0ZXgiOiB7InNpemUiOiA0LCAiYndpZHRoIjogMX19fQo=');</script>\n",
       "    "
      ],
      "text/plain": [
       "<IPython.core.display.HTML object>"
      ]
     },
     "metadata": {},
     "output_type": "display_data"
    }
   ],
   "source": [
    "r.vertex_default(size=4, bwidth=1)"
   ]
  },
  {
   "cell_type": "code",
   "execution_count": 13,
   "metadata": {
    "execution": {
     "iopub.execute_input": "2023-09-26T12:43:21.940673Z",
     "iopub.status.busy": "2023-09-26T12:43:21.940516Z",
     "iopub.status.idle": "2023-09-26T12:43:21.953634Z",
     "shell.execute_reply": "2023-09-26T12:43:21.951276Z",
     "shell.execute_reply.started": "2023-09-26T12:43:21.940660Z"
    }
   },
   "outputs": [
    {
     "data": {
      "text/html": [
       "\n",
       "        <div id=\"dqQphHnWU92yFK327epdPS\"></div>\n",
       "        <script>netpixi.call('dqQphHnWU92yFK327epdPS', 'AMFG8ZLQZMb4Xc6DfzkUPZ', 'changeGraph', 'eyJ0eXBlIjogInNldHRpbmdzIiwgInByb3BzIjogeyJlZGdlIjogeyJ3aWR0aCI6IDF9fX0K');</script>\n",
       "    "
      ],
      "text/plain": [
       "<IPython.core.display.HTML object>"
      ]
     },
     "metadata": {},
     "output_type": "display_data"
    }
   ],
   "source": [
    "r.edge_default(width=1)"
   ]
  },
  {
   "cell_type": "code",
   "execution_count": null,
   "metadata": {},
   "outputs": [],
   "source": []
  }
 ],
 "metadata": {
  "kernelspec": {
   "display_name": "Python 3 (ipykernel)",
   "language": "python",
   "name": "python3"
  },
  "language_info": {
   "codemirror_mode": {
    "name": "ipython",
    "version": 3
   },
   "file_extension": ".py",
   "mimetype": "text/x-python",
   "name": "python",
   "nbconvert_exporter": "python",
   "pygments_lexer": "ipython3",
   "version": "3.11.5"
  }
 },
 "nbformat": 4,
 "nbformat_minor": 4
}
